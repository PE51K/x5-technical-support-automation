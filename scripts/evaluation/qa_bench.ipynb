{
 "cells": [
  {
   "cell_type": "code",
   "execution_count": 7,
   "metadata": {},
   "outputs": [],
   "source": [
    "import sys\n",
    "import os\n",
    "\n",
    "sys.path.append(os.path.abspath(os.path.join(os.getcwd(), \"..\")))"
   ]
  },
  {
   "cell_type": "code",
   "execution_count": 8,
   "metadata": {},
   "outputs": [],
   "source": [
    "import os\n",
    "from os import getenv\n",
    "from langfuse import Langfuse\n",
    "from dotenv import find_dotenv, load_dotenv\n",
    "from src.workflow import AssistantFlow\n",
    "from deepeval import evaluate\n",
    "from deepeval.test_case import LLMTestCase\n",
    "from deepeval.metrics import AnswerRelevancyMetric"
   ]
  },
  {
   "cell_type": "code",
   "execution_count": null,
   "metadata": {},
   "outputs": [],
   "source": [
    "if not os.getenv(\"PROD\"):\n",
    "    load_dotenv(find_dotenv())\n",
    "\n",
    "\n",
    "os.environ[\"OPENAI_API_KEY\"] = \"\""
   ]
  },
  {
   "cell_type": "code",
   "execution_count": 10,
   "metadata": {},
   "outputs": [],
   "source": [
    "langfuse = Langfuse(\n",
    "    public_key=getenv(\"LANGFUSE_PUBLIC_KEY\"),\n",
    "    secret_key=getenv(\"LANGFUSE_SECRET_KEY\"),\n",
    "    host=getenv(\"LANGFUSE_HOST\"),\n",
    ")"
   ]
  },
  {
   "cell_type": "code",
   "execution_count": 11,
   "metadata": {},
   "outputs": [
    {
     "name": "stdout",
     "output_type": "stream",
     "text": [
      "MESSAGES\n",
      "[{'role': 'user', 'content': 'Твоя задача - определить, релевантны ли предоставленные документы запросу пользователя. Релевантым считай тот документ, в котором тема хотя бы смежно связана с запросом. Верни ровно один массив из строк \\'0\\' или \\'1\\', где \\'1\\' означает, что документ релевантен запросу, а \\'0\\' - что нерелевантен. Массив должен иметь ровно столько элементов, сколько документов в запросе.\\n\\nЗапрос: \\'сделать копию система электронного документооборота\\'\\n\\nДокументы:\\nДокумент 0:\\nВопрос: скачать копию доверенности через sed\\nОтвет: копию доверенности можно выгрузить через раздел отчеты в sed. также там можно посмотреть номер и срок действия доверенности.\\n\\nДокумент 1:\\nВопрос: получение электронная цифровая подпись\\nОтвет: прежде чем создавать заявку, пожалуйста попробуйте самостоятельно выпустить эцп на странице \"электронные подписи\" в личном разделе лк\\n\\nДокумент 2:\\nВопрос: как скачать скан доверенности?\\nОтвет: скан-копию доверенности можно выгрузить в личном кабинете в блоке профиль, раздел «доверенности», нажав кнопку отправить на почту.\\n\\nДокумент 3:\\nВопрос: как выпустить себе усиленную квалифицированную электронную подпись физического лица (укэп фл)?\\nОтвет: существует несколько сценариев выпуска укэп фл: сценарий 1: через sap hr\\u200b\\u200b применяется при необходимости использовать сертификат во внутренних информационных системах компании (sap, сэд и проч.) сценарий 2: через оператора уц применяется при необходимости использовать сертификат во внешних информационных системах (егаис, сбис, контур экстерн и пр.) и порталах (лк фсс, лк вэд,\\u200b росреестр, госуслуги, mos.ru, лк природопользователя и проч.) сценарий 3: через оператора уц (для cryptoedi) применяется при необходимости использования сертификата для подписания документов в sap erp (упд, каталог цен, расторжение договоров субаренды и проч.; ниже можно найти полный реестр процессов). подробная инструкция доступна по ссылке link\\n\\n\\n\\nОцени релевантность каждого документа к этому запросу и верни массив из 4 элементов, где каждый элемент - \\'0\\' или \\'1\\'.'}]\n",
      "MESSAGES\n",
      "[{'role': 'user', 'content': 'Ты помощник, который дает ответы в том же стиле, что и представленные примеры. Используй предоставленные вопросы и ответы как образец стиля и уровня детализации.\\n\\nПримеры вопросов и ответов:\\n\\nПример 1:\\nВопрос: скачать копию доверенности через sed\\nОтвет: копию доверенности можно выгрузить через раздел отчеты в sed. также там можно посмотреть номер и срок действия доверенности.\\n\\nПример 2:\\nВопрос: как скачать скан доверенности?\\nОтвет: скан-копию доверенности можно выгрузить в личном кабинете в блоке профиль, раздел «доверенности», нажав кнопку отправить на почту.\\n\\n\\n\\nЗапрос пользователя: сделать копию система электронного документооборота\\n\\nОтветь на запрос пользователя в том же стиле, что и приведенные примеры.'}]\n"
     ]
    },
    {
     "data": {
      "text/html": [
       "<pre style=\"white-space:pre;overflow-x:auto;line-height:normal;font-family:Menlo,'DejaVu Sans Mono',consolas,'Courier New',monospace\">✨ You're running DeepEval's latest <span style=\"color: #6a00ff; text-decoration-color: #6a00ff\">Answer Relevancy Metric</span>! <span style=\"color: #374151; text-decoration-color: #374151; font-weight: bold\">(</span><span style=\"color: #374151; text-decoration-color: #374151\">using gpt-4o, </span><span style=\"color: #374151; text-decoration-color: #374151\">strict</span><span style=\"color: #374151; text-decoration-color: #374151\">=</span><span style=\"color: #374151; text-decoration-color: #374151; font-style: italic\">False</span><span style=\"color: #374151; text-decoration-color: #374151\">, </span><span style=\"color: #374151; text-decoration-color: #374151\">async_mode</span><span style=\"color: #374151; text-decoration-color: #374151\">=</span><span style=\"color: #374151; text-decoration-color: #374151; font-style: italic\">True</span><span style=\"color: #374151; text-decoration-color: #374151; font-weight: bold\">)</span><span style=\"color: #374151; text-decoration-color: #374151\">...</span>\n",
       "</pre>\n"
      ],
      "text/plain": [
       "✨ You're running DeepEval's latest \u001b[38;2;106;0;255mAnswer Relevancy Metric\u001b[0m! \u001b[1;38;2;55;65;81m(\u001b[0m\u001b[38;2;55;65;81musing gpt-4o, \u001b[0m\u001b[38;2;55;65;81mstrict\u001b[0m\u001b[38;2;55;65;81m=\u001b[0m\u001b[3;38;2;55;65;81mFalse\u001b[0m\u001b[38;2;55;65;81m, \u001b[0m\u001b[38;2;55;65;81masync_mode\u001b[0m\u001b[38;2;55;65;81m=\u001b[0m\u001b[3;38;2;55;65;81mTrue\u001b[0m\u001b[1;38;2;55;65;81m)\u001b[0m\u001b[38;2;55;65;81m...\u001b[0m\n"
      ]
     },
     "metadata": {},
     "output_type": "display_data"
    },
    {
     "name": "stdout",
     "output_type": "stream",
     "text": [
      "Event loop is already running. Applying nest_asyncio patch to allow async execution...\n"
     ]
    },
    {
     "name": "stderr",
     "output_type": "stream",
     "text": [
      "Evaluating 1 test case(s) in parallel: |          |  0% (0/1) [Time Taken: 00:00, ?test case/s]WARNING: All log messages before absl::InitializeLog() is called are written to STDERR\n",
      "E0000 00:00:1742020618.371882  436442 ssl_transport_security_utils.cc:114] Corruption detected.\n",
      "E0000 00:00:1742020618.371976  436442 ssl_transport_security_utils.cc:71] error:1e000065:Cipher functions:OPENSSL_internal:BAD_DECRYPT\n",
      "E0000 00:00:1742020618.371987  436442 ssl_transport_security_utils.cc:71] error:1000008b:SSL routines:OPENSSL_internal:DECRYPTION_FAILED_OR_BAD_RECORD_MAC\n",
      "E0000 00:00:1742020618.377453  436442 secure_endpoint.cc:298] Decryption error: TSI_DATA_CORRUPTED\n",
      "E0000 00:00:1742020618.378042  436442 ssl_transport_security_utils.cc:88] SSL_write failed with error SSL_ERROR_SSL\n",
      "Evaluating 1 test case(s) in parallel: |██████████|100% (1/1) [Time Taken: 00:06,  6.25s/test case]\n"
     ]
    },
    {
     "data": {
      "text/html": [
       "<pre style=\"white-space:pre;overflow-x:auto;line-height:normal;font-family:Menlo,'DejaVu Sans Mono',consolas,'Courier New',monospace\">\n",
       "<span style=\"color: #05f58d; text-decoration-color: #05f58d\">✓</span> Tests finished 🎉! Run <span style=\"color: #008000; text-decoration-color: #008000; font-weight: bold\">'deepeval login'</span> to save and analyze evaluation results on Confident AI.\n",
       " \n",
       "✨👀 Looking for a place for your LLM test data to live 🏡❤️ ? Use <span style=\"color: #6a00ff; text-decoration-color: #6a00ff\">Confident AI</span> to get &amp; share testing reports, \n",
       "experiment with models/prompts, and catch regressions for your LLM system. Just run <span style=\"color: #008080; text-decoration-color: #008080\">'deepeval login'</span> in the CLI. \n",
       "\n",
       "</pre>\n"
      ],
      "text/plain": [
       "\n",
       "\u001b[38;2;5;245;141m✓\u001b[0m Tests finished 🎉! Run \u001b[1;32m'deepeval login'\u001b[0m to save and analyze evaluation results on Confident AI.\n",
       " \n",
       "✨👀 Looking for a place for your LLM test data to live 🏡❤️ ? Use \u001b[38;2;106;0;255mConfident AI\u001b[0m to get & share testing reports, \n",
       "experiment with models/prompts, and catch regressions for your LLM system. Just run \u001b[36m'deepeval login'\u001b[0m in the CLI. \n",
       "\n"
      ]
     },
     "metadata": {},
     "output_type": "display_data"
    },
    {
     "name": "stdout",
     "output_type": "stream",
     "text": [
      "MESSAGES\n",
      "[{'role': 'user', 'content': 'Твоя задача - определить, релевантны ли предоставленные документы запросу пользователя. Релевантым считай тот документ, в котором тема хотя бы смежно связана с запросом. Верни ровно один массив из строк \\'0\\' или \\'1\\', где \\'1\\' означает, что документ релевантен запросу, а \\'0\\' - что нерелевантен. Массив должен иметь ровно столько элементов, сколько документов в запросе.\\n\\nЗапрос: \\'позови человека\\'\\n\\nДокументы:\\nДокумент 0:\\nВопрос: сделать заявку\\nОтвет: создайте, пожалуйста, обращение в ит поддержку на портале support\\n\\nДокумент 1:\\nВопрос: запрос: как создать заявку на сотрудника\\nОтвет: для создания заявки на сотрудника вам необходимо перейти в раздел заявки (лк), выбрать создать новую заявку, далее на сотрудника.\\n\\nДокумент 2:\\nВопрос: взять сотрудника в штат\\nОтвет: для вывода сотрудника в штат создайте, пожалуйста, заявку в личном кабинете по теме «табель/график/рабочее время», далее «обнуление ставок» с подтемой «прекращение обнуления».\\n\\nДокумент 3:\\nВопрос: оформить апелляцию\\nОтвет: по вопросам, связанным с расчётом sla, необходимо обращатиться к руководителю, для создания заявки по процессу 4132-апелляции для расчета sla.\\n\\nДокумент 4:\\nВопрос: мне нужно создать заявку на прием офисного сотрудника\\nОтвет: для приема офисного сотрудника, пожалуйста, создайте в разделе \"прием\" выбрав тему \"1011о - прием на работу (офис)\". подробная информация о создании заявки размещена в \"базе знаний \".\\n\\nДокумент 5:\\nВопрос: как создать заявку\\nОтвет: первым делом, просьба очистить кэш/куки браузера (сочетание клавиш ctrl+shift+del, выбрать \"удалить: всё\", нажать ок). далее перезайти в лк. если это не помогло просьба подать заявку, нажав ниже кнопку \"создать заявку\" и выбрать соответствующую тему.\\n\\nДокумент 6:\\nВопрос: запросить поручение по исполнительному листу\\nОтвет: если вам требуется платежное поручение по перечислению, пожалуйста, обратитесь к вашему непосредственному руководителю, чтобы он создал заявку на вас по теме \"исполнительные листы\", в заявке необходимо оставить соответствующий комментарий.\\n\\n\\n\\nОцени релевантность каждого документа к этому запросу и верни массив из 7 элементов, где каждый элемент - \\'0\\' или \\'1\\'.'}]\n",
      "MESSAGES\n",
      "[{'role': 'user', 'content': 'Ты помощник, который дает ответы в том же стиле, что и представленные примеры. Используй предоставленные вопросы и ответы как образец стиля и уровня детализации.\\n\\nПримеры вопросов и ответов:\\n\\nПример 1:\\nВопрос: мне нужно создать заявку на прием офисного сотрудника\\nОтвет: для приема офисного сотрудника, пожалуйста, создайте в разделе \"прием\" выбрав тему \"1011о - прием на работу (офис)\". подробная информация о создании заявки размещена в \"базе знаний \".\\n\\nПример 2:\\nВопрос: как создать заявку\\nОтвет: первым делом, просьба очистить кэш/куки браузера (сочетание клавиш ctrl+shift+del, выбрать \"удалить: всё\", нажать ок). далее перезайти в лк. если это не помогло просьба подать заявку, нажав ниже кнопку \"создать заявку\" и выбрать соответствующую тему.\\n\\n\\n\\nЗапрос пользователя: позови человека\\n\\nОтветь на запрос пользователя в том же стиле, что и приведенные примеры.'}]\n"
     ]
    },
    {
     "data": {
      "text/html": [
       "<pre style=\"white-space:pre;overflow-x:auto;line-height:normal;font-family:Menlo,'DejaVu Sans Mono',consolas,'Courier New',monospace\">✨ You're running DeepEval's latest <span style=\"color: #6a00ff; text-decoration-color: #6a00ff\">Answer Relevancy Metric</span>! <span style=\"color: #374151; text-decoration-color: #374151; font-weight: bold\">(</span><span style=\"color: #374151; text-decoration-color: #374151\">using gpt-4o, </span><span style=\"color: #374151; text-decoration-color: #374151\">strict</span><span style=\"color: #374151; text-decoration-color: #374151\">=</span><span style=\"color: #374151; text-decoration-color: #374151; font-style: italic\">False</span><span style=\"color: #374151; text-decoration-color: #374151\">, </span><span style=\"color: #374151; text-decoration-color: #374151\">async_mode</span><span style=\"color: #374151; text-decoration-color: #374151\">=</span><span style=\"color: #374151; text-decoration-color: #374151; font-style: italic\">True</span><span style=\"color: #374151; text-decoration-color: #374151; font-weight: bold\">)</span><span style=\"color: #374151; text-decoration-color: #374151\">...</span>\n",
       "</pre>\n"
      ],
      "text/plain": [
       "✨ You're running DeepEval's latest \u001b[38;2;106;0;255mAnswer Relevancy Metric\u001b[0m! \u001b[1;38;2;55;65;81m(\u001b[0m\u001b[38;2;55;65;81musing gpt-4o, \u001b[0m\u001b[38;2;55;65;81mstrict\u001b[0m\u001b[38;2;55;65;81m=\u001b[0m\u001b[3;38;2;55;65;81mFalse\u001b[0m\u001b[38;2;55;65;81m, \u001b[0m\u001b[38;2;55;65;81masync_mode\u001b[0m\u001b[38;2;55;65;81m=\u001b[0m\u001b[3;38;2;55;65;81mTrue\u001b[0m\u001b[1;38;2;55;65;81m)\u001b[0m\u001b[38;2;55;65;81m...\u001b[0m\n"
      ]
     },
     "metadata": {},
     "output_type": "display_data"
    },
    {
     "name": "stdout",
     "output_type": "stream",
     "text": [
      "Event loop is already running. Applying nest_asyncio patch to allow async execution...\n"
     ]
    },
    {
     "name": "stderr",
     "output_type": "stream",
     "text": [
      "Evaluating 1 test case(s) in parallel: |██████████|100% (1/1) [Time Taken: 00:03,  3.72s/test case]\n"
     ]
    },
    {
     "data": {
      "text/html": [
       "<pre style=\"white-space:pre;overflow-x:auto;line-height:normal;font-family:Menlo,'DejaVu Sans Mono',consolas,'Courier New',monospace\">\n",
       "<span style=\"color: #05f58d; text-decoration-color: #05f58d\">✓</span> Tests finished 🎉! Run <span style=\"color: #008000; text-decoration-color: #008000; font-weight: bold\">'deepeval login'</span> to save and analyze evaluation results on Confident AI.\n",
       " \n",
       "✨👀 Looking for a place for your LLM test data to live 🏡❤️ ? Use <span style=\"color: #6a00ff; text-decoration-color: #6a00ff\">Confident AI</span> to get &amp; share testing reports, \n",
       "experiment with models/prompts, and catch regressions for your LLM system. Just run <span style=\"color: #008080; text-decoration-color: #008080\">'deepeval login'</span> in the CLI. \n",
       "\n",
       "</pre>\n"
      ],
      "text/plain": [
       "\n",
       "\u001b[38;2;5;245;141m✓\u001b[0m Tests finished 🎉! Run \u001b[1;32m'deepeval login'\u001b[0m to save and analyze evaluation results on Confident AI.\n",
       " \n",
       "✨👀 Looking for a place for your LLM test data to live 🏡❤️ ? Use \u001b[38;2;106;0;255mConfident AI\u001b[0m to get & share testing reports, \n",
       "experiment with models/prompts, and catch regressions for your LLM system. Just run \u001b[36m'deepeval login'\u001b[0m in the CLI. \n",
       "\n"
      ]
     },
     "metadata": {},
     "output_type": "display_data"
    },
    {
     "name": "stdout",
     "output_type": "stream",
     "text": [
      "MESSAGES\n",
      "[{'role': 'user', 'content': 'Твоя задача - определить, релевантны ли предоставленные документы запросу пользователя. Релевантым считай тот документ, в котором тема хотя бы смежно связана с запросом. Верни ровно один массив из строк \\'0\\' или \\'1\\', где \\'1\\' означает, что документ релевантен запросу, а \\'0\\' - что нерелевантен. Массив должен иметь ровно столько элементов, сколько документов в запросе.\\n\\nЗапрос: \\'убрать куки кеш\\'\\n\\nДокументы:\\nДокумент 0:\\nВопрос: как очистить кеш и куки\\nОтвет: просьба очистить кеш/куки с использованием клавиш ctrl + shift + delete. при появлении окошка с настройками в разделе \"за период\" выбрать \"за все время\". далее выйти с личного кабинета с использованием клавиши \"выход\" и авторизоваться повторно введя логин и пароль.\\n\\nДокумент 1:\\nВопрос: удалить заявку\\nОтвет: если заявка не актуальна просьба создать заявку по процессу 5206 - отмена заявки или 5342-закрытие задач\\n\\nДокумент 2:\\nВопрос: удалите согласованню заявку по ур\\nОтвет: вам необходимо обратиться в специалистам hr для того, чтобы они удалили мероприятие \"работа на дому\" и доп.соглашение, тогда статус текущей заявки станет «не актуально» и появится возможность создать новую.\\n\\n\\n\\nОцени релевантность каждого документа к этому запросу и верни массив из 3 элементов, где каждый элемент - \\'0\\' или \\'1\\'.'}]\n",
      "MESSAGES\n",
      "[{'role': 'user', 'content': 'Ты помощник, который дает ответы в том же стиле, что и представленные примеры. Используй предоставленные вопросы и ответы как образец стиля и уровня детализации.\\n\\nПримеры вопросов и ответов:\\n\\nПример 1:\\nВопрос: как очистить кеш и куки\\nОтвет: просьба очистить кеш/куки с использованием клавиш ctrl + shift + delete. при появлении окошка с настройками в разделе \"за период\" выбрать \"за все время\". далее выйти с личного кабинета с использованием клавиши \"выход\" и авторизоваться повторно введя логин и пароль.\\n\\n\\n\\nЗапрос пользователя: убрать куки кеш\\n\\nОтветь на запрос пользователя в том же стиле, что и приведенные примеры.'}]\n"
     ]
    },
    {
     "data": {
      "text/html": [
       "<pre style=\"white-space:pre;overflow-x:auto;line-height:normal;font-family:Menlo,'DejaVu Sans Mono',consolas,'Courier New',monospace\">✨ You're running DeepEval's latest <span style=\"color: #6a00ff; text-decoration-color: #6a00ff\">Answer Relevancy Metric</span>! <span style=\"color: #374151; text-decoration-color: #374151; font-weight: bold\">(</span><span style=\"color: #374151; text-decoration-color: #374151\">using gpt-4o, </span><span style=\"color: #374151; text-decoration-color: #374151\">strict</span><span style=\"color: #374151; text-decoration-color: #374151\">=</span><span style=\"color: #374151; text-decoration-color: #374151; font-style: italic\">False</span><span style=\"color: #374151; text-decoration-color: #374151\">, </span><span style=\"color: #374151; text-decoration-color: #374151\">async_mode</span><span style=\"color: #374151; text-decoration-color: #374151\">=</span><span style=\"color: #374151; text-decoration-color: #374151; font-style: italic\">True</span><span style=\"color: #374151; text-decoration-color: #374151; font-weight: bold\">)</span><span style=\"color: #374151; text-decoration-color: #374151\">...</span>\n",
       "</pre>\n"
      ],
      "text/plain": [
       "✨ You're running DeepEval's latest \u001b[38;2;106;0;255mAnswer Relevancy Metric\u001b[0m! \u001b[1;38;2;55;65;81m(\u001b[0m\u001b[38;2;55;65;81musing gpt-4o, \u001b[0m\u001b[38;2;55;65;81mstrict\u001b[0m\u001b[38;2;55;65;81m=\u001b[0m\u001b[3;38;2;55;65;81mFalse\u001b[0m\u001b[38;2;55;65;81m, \u001b[0m\u001b[38;2;55;65;81masync_mode\u001b[0m\u001b[38;2;55;65;81m=\u001b[0m\u001b[3;38;2;55;65;81mTrue\u001b[0m\u001b[1;38;2;55;65;81m)\u001b[0m\u001b[38;2;55;65;81m...\u001b[0m\n"
      ]
     },
     "metadata": {},
     "output_type": "display_data"
    },
    {
     "name": "stdout",
     "output_type": "stream",
     "text": [
      "Event loop is already running. Applying nest_asyncio patch to allow async execution...\n"
     ]
    },
    {
     "name": "stderr",
     "output_type": "stream",
     "text": [
      "Evaluating 1 test case(s) in parallel: |██████████|100% (1/1) [Time Taken: 00:05,  5.56s/test case]\n"
     ]
    },
    {
     "data": {
      "text/html": [
       "<pre style=\"white-space:pre;overflow-x:auto;line-height:normal;font-family:Menlo,'DejaVu Sans Mono',consolas,'Courier New',monospace\">\n",
       "<span style=\"color: #05f58d; text-decoration-color: #05f58d\">✓</span> Tests finished 🎉! Run <span style=\"color: #008000; text-decoration-color: #008000; font-weight: bold\">'deepeval login'</span> to save and analyze evaluation results on Confident AI.\n",
       " \n",
       "✨👀 Looking for a place for your LLM test data to live 🏡❤️ ? Use <span style=\"color: #6a00ff; text-decoration-color: #6a00ff\">Confident AI</span> to get &amp; share testing reports, \n",
       "experiment with models/prompts, and catch regressions for your LLM system. Just run <span style=\"color: #008080; text-decoration-color: #008080\">'deepeval login'</span> in the CLI. \n",
       "\n",
       "</pre>\n"
      ],
      "text/plain": [
       "\n",
       "\u001b[38;2;5;245;141m✓\u001b[0m Tests finished 🎉! Run \u001b[1;32m'deepeval login'\u001b[0m to save and analyze evaluation results on Confident AI.\n",
       " \n",
       "✨👀 Looking for a place for your LLM test data to live 🏡❤️ ? Use \u001b[38;2;106;0;255mConfident AI\u001b[0m to get & share testing reports, \n",
       "experiment with models/prompts, and catch regressions for your LLM system. Just run \u001b[36m'deepeval login'\u001b[0m in the CLI. \n",
       "\n"
      ]
     },
     "metadata": {},
     "output_type": "display_data"
    },
    {
     "name": "stdout",
     "output_type": "stream",
     "text": [
      "MESSAGES\n",
      "[{'role': 'user', 'content': 'Твоя задача - определить, релевантны ли предоставленные документы запросу пользователя. Релевантым считай тот документ, в котором тема хотя бы смежно связана с запросом. Верни ровно один массив из строк \\'0\\' или \\'1\\', где \\'1\\' означает, что документ релевантен запросу, а \\'0\\' - что нерелевантен. Массив должен иметь ровно столько элементов, сколько документов в запросе.\\n\\nЗапрос: \\'штрих код почему в документе ничего нет\\'\\n\\nДокументы:\\nДокумент 0:\\nВопрос: нет штрих-кода в документе\\nОтвет: если в документе отсутствует штрихкод, нечитаемые символы, документ не открывается итп, просьба создать заявку в поддержку на support: ит - компьютеры и программы - файлы, ярлыки ms office\\n\\nДокумент 1:\\nВопрос: не формируются документы\\nОтвет: создайте, пожалуйста, обращение в ит поддержку на портале support\\n\\nДокумент 2:\\nВопрос: в системе нет задачи на подписание графика\\nОтвет: чтобы дочерняя задача появилась на подписи у сотрудников, необходимо соблюдать все этапы работы с графиком сменности. с 1 по 3 число текущего месяца создаётся задача на актуализацию гс в вебтабеле. с 4 по 7 число задача переводится в статус “требуется подписать эцп”. задача висит в этом статусе до 8 числа. если дм подпишет задачу эцп - создаются задачи на сотрудников, если не задача не подписана - переводится на ручное подписание.\\n\\nДокумент 3:\\nВопрос: отсутствуют заявки\\nОтвет: первым делом, просьба очистить кэш/куки браузера (сочетание клавиш ctrl+shift+del, выбрать \"удалить: всё\", нажать ок). далее перезайти в лк. если это не помогло просьба подать заявку, нажав ниже кнопку \"создать заявку\" и выбрать соответствующую тему.\\n\\nДокумент 4:\\nВопрос: не выслали справку по заявке\\nОтвет: по данному вопросу вы можете обратиться в кадровую службу, создав заявку \"консультация по hr вопросам\"\\n\\n\\n\\nОцени релевантность каждого документа к этому запросу и верни массив из 5 элементов, где каждый элемент - \\'0\\' или \\'1\\'.'}]\n",
      "MESSAGES\n",
      "[{'role': 'user', 'content': 'Ты помощник, который дает ответы в том же стиле, что и представленные примеры. Используй предоставленные вопросы и ответы как образец стиля и уровня детализации.\\n\\nПримеры вопросов и ответов:\\n\\nПример 1:\\nВопрос: нет штрих-кода в документе\\nОтвет: если в документе отсутствует штрихкод, нечитаемые символы, документ не открывается итп, просьба создать заявку в поддержку на support: ит - компьютеры и программы - файлы, ярлыки ms office\\n\\n\\n\\nЗапрос пользователя: штрих код почему в документе ничего нет\\n\\nОтветь на запрос пользователя в том же стиле, что и приведенные примеры.'}]\n"
     ]
    },
    {
     "data": {
      "text/html": [
       "<pre style=\"white-space:pre;overflow-x:auto;line-height:normal;font-family:Menlo,'DejaVu Sans Mono',consolas,'Courier New',monospace\">✨ You're running DeepEval's latest <span style=\"color: #6a00ff; text-decoration-color: #6a00ff\">Answer Relevancy Metric</span>! <span style=\"color: #374151; text-decoration-color: #374151; font-weight: bold\">(</span><span style=\"color: #374151; text-decoration-color: #374151\">using gpt-4o, </span><span style=\"color: #374151; text-decoration-color: #374151\">strict</span><span style=\"color: #374151; text-decoration-color: #374151\">=</span><span style=\"color: #374151; text-decoration-color: #374151; font-style: italic\">False</span><span style=\"color: #374151; text-decoration-color: #374151\">, </span><span style=\"color: #374151; text-decoration-color: #374151\">async_mode</span><span style=\"color: #374151; text-decoration-color: #374151\">=</span><span style=\"color: #374151; text-decoration-color: #374151; font-style: italic\">True</span><span style=\"color: #374151; text-decoration-color: #374151; font-weight: bold\">)</span><span style=\"color: #374151; text-decoration-color: #374151\">...</span>\n",
       "</pre>\n"
      ],
      "text/plain": [
       "✨ You're running DeepEval's latest \u001b[38;2;106;0;255mAnswer Relevancy Metric\u001b[0m! \u001b[1;38;2;55;65;81m(\u001b[0m\u001b[38;2;55;65;81musing gpt-4o, \u001b[0m\u001b[38;2;55;65;81mstrict\u001b[0m\u001b[38;2;55;65;81m=\u001b[0m\u001b[3;38;2;55;65;81mFalse\u001b[0m\u001b[38;2;55;65;81m, \u001b[0m\u001b[38;2;55;65;81masync_mode\u001b[0m\u001b[38;2;55;65;81m=\u001b[0m\u001b[3;38;2;55;65;81mTrue\u001b[0m\u001b[1;38;2;55;65;81m)\u001b[0m\u001b[38;2;55;65;81m...\u001b[0m\n"
      ]
     },
     "metadata": {},
     "output_type": "display_data"
    },
    {
     "name": "stdout",
     "output_type": "stream",
     "text": [
      "Event loop is already running. Applying nest_asyncio patch to allow async execution...\n"
     ]
    },
    {
     "name": "stderr",
     "output_type": "stream",
     "text": [
      "Evaluating 1 test case(s) in parallel: |██████████|100% (1/1) [Time Taken: 00:05,  5.66s/test case]\n"
     ]
    },
    {
     "data": {
      "text/html": [
       "<pre style=\"white-space:pre;overflow-x:auto;line-height:normal;font-family:Menlo,'DejaVu Sans Mono',consolas,'Courier New',monospace\">\n",
       "<span style=\"color: #05f58d; text-decoration-color: #05f58d\">✓</span> Tests finished 🎉! Run <span style=\"color: #008000; text-decoration-color: #008000; font-weight: bold\">'deepeval login'</span> to save and analyze evaluation results on Confident AI.\n",
       " \n",
       "✨👀 Looking for a place for your LLM test data to live 🏡❤️ ? Use <span style=\"color: #6a00ff; text-decoration-color: #6a00ff\">Confident AI</span> to get &amp; share testing reports, \n",
       "experiment with models/prompts, and catch regressions for your LLM system. Just run <span style=\"color: #008080; text-decoration-color: #008080\">'deepeval login'</span> in the CLI. \n",
       "\n",
       "</pre>\n"
      ],
      "text/plain": [
       "\n",
       "\u001b[38;2;5;245;141m✓\u001b[0m Tests finished 🎉! Run \u001b[1;32m'deepeval login'\u001b[0m to save and analyze evaluation results on Confident AI.\n",
       " \n",
       "✨👀 Looking for a place for your LLM test data to live 🏡❤️ ? Use \u001b[38;2;106;0;255mConfident AI\u001b[0m to get & share testing reports, \n",
       "experiment with models/prompts, and catch regressions for your LLM system. Just run \u001b[36m'deepeval login'\u001b[0m in the CLI. \n",
       "\n"
      ]
     },
     "metadata": {},
     "output_type": "display_data"
    },
    {
     "name": "stdout",
     "output_type": "stream",
     "text": [
      "MESSAGES\n",
      "[{'role': 'user', 'content': 'Твоя задача - определить, релевантны ли предоставленные документы запросу пользователя. Релевантым считай тот документ, в котором тема хотя бы смежно связана с запросом. Верни ровно один массив из строк \\'0\\' или \\'1\\', где \\'1\\' означает, что документ релевантен запросу, а \\'0\\' - что нерелевантен. Массив должен иметь ровно столько элементов, сколько документов в запросе.\\n\\nЗапрос: \\'выручай карта номер\\'\\n\\nДокументы:\\nДокумент 0:\\nВопрос: номер выручай карты\\nОтвет: установите мобильное приложение \"пятерочка\"\\n\\nДокумент 1:\\nВопрос: внести реквизиты карты\\nОтвет: пожалуйста, создайте заявку в разделе \"зарплатная карта\", выбрав подтему \"изменение банковских реквизитов\"\\n\\nДокумент 2:\\nВопрос: привязать другой номер к карте лояльности\\nОтвет: для изменения привязанного номера к карте лояльности вам необходимо в личном кабинете перейти в раздел \"личные данные\", далее перейти в раздел \"карта лояльности\".\\n\\n\\n\\nОцени релевантность каждого документа к этому запросу и верни массив из 3 элементов, где каждый элемент - \\'0\\' или \\'1\\'.'}]\n",
      "MESSAGES\n",
      "[{'role': 'user', 'content': 'Ты помощник, который дает ответы в том же стиле, что и представленные примеры. Используй предоставленные вопросы и ответы как образец стиля и уровня детализации.\\n\\nПримеры вопросов и ответов:\\n\\nПример 1:\\nВопрос: номер выручай карты\\nОтвет: установите мобильное приложение \"пятерочка\"\\n\\nПример 2:\\nВопрос: привязать другой номер к карте лояльности\\nОтвет: для изменения привязанного номера к карте лояльности вам необходимо в личном кабинете перейти в раздел \"личные данные\", далее перейти в раздел \"карта лояльности\".\\n\\n\\n\\nЗапрос пользователя: выручай карта номер\\n\\nОтветь на запрос пользователя в том же стиле, что и приведенные примеры.'}]\n"
     ]
    },
    {
     "data": {
      "text/html": [
       "<pre style=\"white-space:pre;overflow-x:auto;line-height:normal;font-family:Menlo,'DejaVu Sans Mono',consolas,'Courier New',monospace\">✨ You're running DeepEval's latest <span style=\"color: #6a00ff; text-decoration-color: #6a00ff\">Answer Relevancy Metric</span>! <span style=\"color: #374151; text-decoration-color: #374151; font-weight: bold\">(</span><span style=\"color: #374151; text-decoration-color: #374151\">using gpt-4o, </span><span style=\"color: #374151; text-decoration-color: #374151\">strict</span><span style=\"color: #374151; text-decoration-color: #374151\">=</span><span style=\"color: #374151; text-decoration-color: #374151; font-style: italic\">False</span><span style=\"color: #374151; text-decoration-color: #374151\">, </span><span style=\"color: #374151; text-decoration-color: #374151\">async_mode</span><span style=\"color: #374151; text-decoration-color: #374151\">=</span><span style=\"color: #374151; text-decoration-color: #374151; font-style: italic\">True</span><span style=\"color: #374151; text-decoration-color: #374151; font-weight: bold\">)</span><span style=\"color: #374151; text-decoration-color: #374151\">...</span>\n",
       "</pre>\n"
      ],
      "text/plain": [
       "✨ You're running DeepEval's latest \u001b[38;2;106;0;255mAnswer Relevancy Metric\u001b[0m! \u001b[1;38;2;55;65;81m(\u001b[0m\u001b[38;2;55;65;81musing gpt-4o, \u001b[0m\u001b[38;2;55;65;81mstrict\u001b[0m\u001b[38;2;55;65;81m=\u001b[0m\u001b[3;38;2;55;65;81mFalse\u001b[0m\u001b[38;2;55;65;81m, \u001b[0m\u001b[38;2;55;65;81masync_mode\u001b[0m\u001b[38;2;55;65;81m=\u001b[0m\u001b[3;38;2;55;65;81mTrue\u001b[0m\u001b[1;38;2;55;65;81m)\u001b[0m\u001b[38;2;55;65;81m...\u001b[0m\n"
      ]
     },
     "metadata": {},
     "output_type": "display_data"
    },
    {
     "name": "stdout",
     "output_type": "stream",
     "text": [
      "Event loop is already running. Applying nest_asyncio patch to allow async execution...\n"
     ]
    },
    {
     "name": "stderr",
     "output_type": "stream",
     "text": [
      "Evaluating 1 test case(s) in parallel: |██████████|100% (1/1) [Time Taken: 00:02,  2.77s/test case]\n"
     ]
    },
    {
     "data": {
      "text/html": [
       "<pre style=\"white-space:pre;overflow-x:auto;line-height:normal;font-family:Menlo,'DejaVu Sans Mono',consolas,'Courier New',monospace\">\n",
       "<span style=\"color: #05f58d; text-decoration-color: #05f58d\">✓</span> Tests finished 🎉! Run <span style=\"color: #008000; text-decoration-color: #008000; font-weight: bold\">'deepeval login'</span> to save and analyze evaluation results on Confident AI.\n",
       " \n",
       "✨👀 Looking for a place for your LLM test data to live 🏡❤️ ? Use <span style=\"color: #6a00ff; text-decoration-color: #6a00ff\">Confident AI</span> to get &amp; share testing reports, \n",
       "experiment with models/prompts, and catch regressions for your LLM system. Just run <span style=\"color: #008080; text-decoration-color: #008080\">'deepeval login'</span> in the CLI. \n",
       "\n",
       "</pre>\n"
      ],
      "text/plain": [
       "\n",
       "\u001b[38;2;5;245;141m✓\u001b[0m Tests finished 🎉! Run \u001b[1;32m'deepeval login'\u001b[0m to save and analyze evaluation results on Confident AI.\n",
       " \n",
       "✨👀 Looking for a place for your LLM test data to live 🏡❤️ ? Use \u001b[38;2;106;0;255mConfident AI\u001b[0m to get & share testing reports, \n",
       "experiment with models/prompts, and catch regressions for your LLM system. Just run \u001b[36m'deepeval login'\u001b[0m in the CLI. \n",
       "\n"
      ]
     },
     "metadata": {},
     "output_type": "display_data"
    },
    {
     "name": "stdout",
     "output_type": "stream",
     "text": [
      "MESSAGES\n",
      "[{'role': 'user', 'content': 'Твоя задача - определить, релевантны ли предоставленные документы запросу пользователя. Релевантым считай тот документ, в котором тема хотя бы смежно связана с запросом. Верни ровно один массив из строк \\'0\\' или \\'1\\', где \\'1\\' означает, что документ релевантен запросу, а \\'0\\' - что нерелевантен. Массив должен иметь ровно столько элементов, сколько документов в запросе.\\n\\nЗапрос: \\'сотруднику в личный кабинет не приходит анкета социальная безопасность\\'\\n\\nДокументы:\\nДокумент 0:\\nВопрос: сотрудник не получает ссыличный кабинету на анкету безопасности в личном кабинете\\nОтвет: анкета сб приходит при первичном трудоустройстве\\n\\nДокумент 1:\\nВопрос: в личный кабинет не отображаются сотрудники.\\nОтвет: если в \"команде\" нет подчиненных сотрудников просьба обратиться в поддержку для корректировки\\n\\nДокумент 2:\\nВопрос: у сотрудника нет доступа к личный кабинет\\nОтвет: при проблемах со входом в личный кабинет, прежде чем создавать заявку в поддержку, убедитесь, что заходите в лк на сайте link указываете актуальные и верные логин и пароль. если вам неизвестен логин, обратитесь к руководителю (дм), он сможет посмотреть ваш логин и сбросить пароль в веб-табеле. для самостоятельного сброса пароля позвоните с вашего мобильного телефона на phone, наберите добавочный номер 10100, нажмите * и подтвердите сброс пароля, нажав #. обновленный пароль отправляется по sms.\\n\\n\\n\\nОцени релевантность каждого документа к этому запросу и верни массив из 3 элементов, где каждый элемент - \\'0\\' или \\'1\\'.'}]\n",
      "MESSAGES\n",
      "[{'role': 'user', 'content': 'Ты помощник, который дает ответы в том же стиле, что и представленные примеры. Используй предоставленные вопросы и ответы как образец стиля и уровня детализации.\\n\\nПримеры вопросов и ответов:\\n\\nПример 1:\\nВопрос: сотрудник не получает ссыличный кабинету на анкету безопасности в личном кабинете\\nОтвет: анкета сб приходит при первичном трудоустройстве\\n\\nПример 2:\\nВопрос: у сотрудника нет доступа к личный кабинет\\nОтвет: при проблемах со входом в личный кабинет, прежде чем создавать заявку в поддержку, убедитесь, что заходите в лк на сайте link указываете актуальные и верные логин и пароль. если вам неизвестен логин, обратитесь к руководителю (дм), он сможет посмотреть ваш логин и сбросить пароль в веб-табеле. для самостоятельного сброса пароля позвоните с вашего мобильного телефона на phone, наберите добавочный номер 10100, нажмите * и подтвердите сброс пароля, нажав #. обновленный пароль отправляется по sms.\\n\\n\\n\\nЗапрос пользователя: сотруднику в личный кабинет не приходит анкета социальная безопасность\\n\\nОтветь на запрос пользователя в том же стиле, что и приведенные примеры.'}]\n"
     ]
    },
    {
     "data": {
      "text/html": [
       "<pre style=\"white-space:pre;overflow-x:auto;line-height:normal;font-family:Menlo,'DejaVu Sans Mono',consolas,'Courier New',monospace\">✨ You're running DeepEval's latest <span style=\"color: #6a00ff; text-decoration-color: #6a00ff\">Answer Relevancy Metric</span>! <span style=\"color: #374151; text-decoration-color: #374151; font-weight: bold\">(</span><span style=\"color: #374151; text-decoration-color: #374151\">using gpt-4o, </span><span style=\"color: #374151; text-decoration-color: #374151\">strict</span><span style=\"color: #374151; text-decoration-color: #374151\">=</span><span style=\"color: #374151; text-decoration-color: #374151; font-style: italic\">False</span><span style=\"color: #374151; text-decoration-color: #374151\">, </span><span style=\"color: #374151; text-decoration-color: #374151\">async_mode</span><span style=\"color: #374151; text-decoration-color: #374151\">=</span><span style=\"color: #374151; text-decoration-color: #374151; font-style: italic\">True</span><span style=\"color: #374151; text-decoration-color: #374151; font-weight: bold\">)</span><span style=\"color: #374151; text-decoration-color: #374151\">...</span>\n",
       "</pre>\n"
      ],
      "text/plain": [
       "✨ You're running DeepEval's latest \u001b[38;2;106;0;255mAnswer Relevancy Metric\u001b[0m! \u001b[1;38;2;55;65;81m(\u001b[0m\u001b[38;2;55;65;81musing gpt-4o, \u001b[0m\u001b[38;2;55;65;81mstrict\u001b[0m\u001b[38;2;55;65;81m=\u001b[0m\u001b[3;38;2;55;65;81mFalse\u001b[0m\u001b[38;2;55;65;81m, \u001b[0m\u001b[38;2;55;65;81masync_mode\u001b[0m\u001b[38;2;55;65;81m=\u001b[0m\u001b[3;38;2;55;65;81mTrue\u001b[0m\u001b[1;38;2;55;65;81m)\u001b[0m\u001b[38;2;55;65;81m...\u001b[0m\n"
      ]
     },
     "metadata": {},
     "output_type": "display_data"
    },
    {
     "name": "stdout",
     "output_type": "stream",
     "text": [
      "Event loop is already running. Applying nest_asyncio patch to allow async execution...\n"
     ]
    },
    {
     "name": "stderr",
     "output_type": "stream",
     "text": [
      "Evaluating 1 test case(s) in parallel: |██████████|100% (1/1) [Time Taken: 00:03,  3.12s/test case]\n"
     ]
    },
    {
     "data": {
      "text/html": [
       "<pre style=\"white-space:pre;overflow-x:auto;line-height:normal;font-family:Menlo,'DejaVu Sans Mono',consolas,'Courier New',monospace\">\n",
       "<span style=\"color: #05f58d; text-decoration-color: #05f58d\">✓</span> Tests finished 🎉! Run <span style=\"color: #008000; text-decoration-color: #008000; font-weight: bold\">'deepeval login'</span> to save and analyze evaluation results on Confident AI.\n",
       " \n",
       "✨👀 Looking for a place for your LLM test data to live 🏡❤️ ? Use <span style=\"color: #6a00ff; text-decoration-color: #6a00ff\">Confident AI</span> to get &amp; share testing reports, \n",
       "experiment with models/prompts, and catch regressions for your LLM system. Just run <span style=\"color: #008080; text-decoration-color: #008080\">'deepeval login'</span> in the CLI. \n",
       "\n",
       "</pre>\n"
      ],
      "text/plain": [
       "\n",
       "\u001b[38;2;5;245;141m✓\u001b[0m Tests finished 🎉! Run \u001b[1;32m'deepeval login'\u001b[0m to save and analyze evaluation results on Confident AI.\n",
       " \n",
       "✨👀 Looking for a place for your LLM test data to live 🏡❤️ ? Use \u001b[38;2;106;0;255mConfident AI\u001b[0m to get & share testing reports, \n",
       "experiment with models/prompts, and catch regressions for your LLM system. Just run \u001b[36m'deepeval login'\u001b[0m in the CLI. \n",
       "\n"
      ]
     },
     "metadata": {},
     "output_type": "display_data"
    },
    {
     "name": "stdout",
     "output_type": "stream",
     "text": [
      "MESSAGES\n",
      "[{'role': 'user', 'content': 'Твоя задача - определить, релевантны ли предоставленные документы запросу пользователя. Релевантым считай тот документ, в котором тема хотя бы смежно связана с запросом. Верни ровно один массив из строк \\'0\\' или \\'1\\', где \\'1\\' означает, что документ релевантен запросу, а \\'0\\' - что нерелевантен. Массив должен иметь ровно столько элементов, сколько документов в запросе.\\n\\nЗапрос: \\'отпуск без оплаты\\'\\n\\nДокументы:\\nДокумент 0:\\nВопрос: отпуск без содержания\\nОтвет: вы можете создать заявку на отпуск без сохранения заработной платы в соответствующем блоке в лк\\n\\nДокумент 1:\\nВопрос: мне нужен отпуск без оплаты труда\\nОтвет: создайте, пожалуйста, заявку по теме «отпуск», далее «отпуска и прочие отсутствия», подтема «отпуск без сохранения заработной платы». приложите, пожалуйста, к заявке заявление, согласованное непосредственным руководителем. шаблон заявления доступен в разделе «база знаний».\\n\\nДокумент 2:\\nВопрос: как провести отпуск без сохранения заработной платы?\\nОтвет: оформление отпуска без сохранения заработной платы возможно 2 способами: 1. в разделе \"отпуска\" в левом меню личного кабинета сотрудника (link ); 2. в разделе \"заявки\", группа \"отпуск\", плитка \"отпуск без сохранения зп\". (link\\n\\nДокумент 3:\\nВопрос: нужна отмена отпуска без оплаты\\nОтвет: пожалуйста, обратитесь к непосредственному руководителю, чтобы он создал заявку в личном кабинете по теме «отмена/аннулирование мероприятия». после выполнения мероприятия вы сможете создать заявку в личном кабинете по теме «отпуска и прочие отсутствия», подтема «отгул за ранее отработанный выходной или праздничный день», указав новый период отсутствия.\\n\\nДокумент 4:\\nВопрос: как мне перенести отпуск без оплаты\\nОтвет: пожалуйста, обратитесь к непосредственному руководителю для коммуникации с бизнес-партнером по персоналу вашего подразделения, чтобы он создал заявку на вас в личном кабинете по теме «отзыв из отпуска»\\n\\n\\n\\nОцени релевантность каждого документа к этому запросу и верни массив из 5 элементов, где каждый элемент - \\'0\\' или \\'1\\'.'}]\n",
      "MESSAGES\n",
      "[{'role': 'user', 'content': 'Ты помощник, который дает ответы в том же стиле, что и представленные примеры. Используй предоставленные вопросы и ответы как образец стиля и уровня детализации.\\n\\nПримеры вопросов и ответов:\\n\\nПример 1:\\nВопрос: отпуск без содержания\\nОтвет: вы можете создать заявку на отпуск без сохранения заработной платы в соответствующем блоке в лк\\n\\nПример 2:\\nВопрос: мне нужен отпуск без оплаты труда\\nОтвет: создайте, пожалуйста, заявку по теме «отпуск», далее «отпуска и прочие отсутствия», подтема «отпуск без сохранения заработной платы». приложите, пожалуйста, к заявке заявление, согласованное непосредственным руководителем. шаблон заявления доступен в разделе «база знаний».\\n\\nПример 3:\\nВопрос: как провести отпуск без сохранения заработной платы?\\nОтвет: оформление отпуска без сохранения заработной платы возможно 2 способами: 1. в разделе \"отпуска\" в левом меню личного кабинета сотрудника (link ); 2. в разделе \"заявки\", группа \"отпуск\", плитка \"отпуск без сохранения зп\". (link\\n\\n\\n\\nЗапрос пользователя: отпуск без оплаты\\n\\nОтветь на запрос пользователя в том же стиле, что и приведенные примеры.'}]\n"
     ]
    },
    {
     "data": {
      "text/html": [
       "<pre style=\"white-space:pre;overflow-x:auto;line-height:normal;font-family:Menlo,'DejaVu Sans Mono',consolas,'Courier New',monospace\">✨ You're running DeepEval's latest <span style=\"color: #6a00ff; text-decoration-color: #6a00ff\">Answer Relevancy Metric</span>! <span style=\"color: #374151; text-decoration-color: #374151; font-weight: bold\">(</span><span style=\"color: #374151; text-decoration-color: #374151\">using gpt-4o, </span><span style=\"color: #374151; text-decoration-color: #374151\">strict</span><span style=\"color: #374151; text-decoration-color: #374151\">=</span><span style=\"color: #374151; text-decoration-color: #374151; font-style: italic\">False</span><span style=\"color: #374151; text-decoration-color: #374151\">, </span><span style=\"color: #374151; text-decoration-color: #374151\">async_mode</span><span style=\"color: #374151; text-decoration-color: #374151\">=</span><span style=\"color: #374151; text-decoration-color: #374151; font-style: italic\">True</span><span style=\"color: #374151; text-decoration-color: #374151; font-weight: bold\">)</span><span style=\"color: #374151; text-decoration-color: #374151\">...</span>\n",
       "</pre>\n"
      ],
      "text/plain": [
       "✨ You're running DeepEval's latest \u001b[38;2;106;0;255mAnswer Relevancy Metric\u001b[0m! \u001b[1;38;2;55;65;81m(\u001b[0m\u001b[38;2;55;65;81musing gpt-4o, \u001b[0m\u001b[38;2;55;65;81mstrict\u001b[0m\u001b[38;2;55;65;81m=\u001b[0m\u001b[3;38;2;55;65;81mFalse\u001b[0m\u001b[38;2;55;65;81m, \u001b[0m\u001b[38;2;55;65;81masync_mode\u001b[0m\u001b[38;2;55;65;81m=\u001b[0m\u001b[3;38;2;55;65;81mTrue\u001b[0m\u001b[1;38;2;55;65;81m)\u001b[0m\u001b[38;2;55;65;81m...\u001b[0m\n"
      ]
     },
     "metadata": {},
     "output_type": "display_data"
    },
    {
     "name": "stdout",
     "output_type": "stream",
     "text": [
      "Event loop is already running. Applying nest_asyncio patch to allow async execution...\n"
     ]
    },
    {
     "name": "stderr",
     "output_type": "stream",
     "text": [
      "Evaluating 1 test case(s) in parallel: |██████████|100% (1/1) [Time Taken: 00:03,  3.69s/test case]\n"
     ]
    },
    {
     "data": {
      "text/html": [
       "<pre style=\"white-space:pre;overflow-x:auto;line-height:normal;font-family:Menlo,'DejaVu Sans Mono',consolas,'Courier New',monospace\">\n",
       "<span style=\"color: #05f58d; text-decoration-color: #05f58d\">✓</span> Tests finished 🎉! Run <span style=\"color: #008000; text-decoration-color: #008000; font-weight: bold\">'deepeval login'</span> to save and analyze evaluation results on Confident AI.\n",
       " \n",
       "✨👀 Looking for a place for your LLM test data to live 🏡❤️ ? Use <span style=\"color: #6a00ff; text-decoration-color: #6a00ff\">Confident AI</span> to get &amp; share testing reports, \n",
       "experiment with models/prompts, and catch regressions for your LLM system. Just run <span style=\"color: #008080; text-decoration-color: #008080\">'deepeval login'</span> in the CLI. \n",
       "\n",
       "</pre>\n"
      ],
      "text/plain": [
       "\n",
       "\u001b[38;2;5;245;141m✓\u001b[0m Tests finished 🎉! Run \u001b[1;32m'deepeval login'\u001b[0m to save and analyze evaluation results on Confident AI.\n",
       " \n",
       "✨👀 Looking for a place for your LLM test data to live 🏡❤️ ? Use \u001b[38;2;106;0;255mConfident AI\u001b[0m to get & share testing reports, \n",
       "experiment with models/prompts, and catch regressions for your LLM system. Just run \u001b[36m'deepeval login'\u001b[0m in the CLI. \n",
       "\n"
      ]
     },
     "metadata": {},
     "output_type": "display_data"
    },
    {
     "name": "stdout",
     "output_type": "stream",
     "text": [
      "MESSAGES\n",
      "[{'role': 'user', 'content': 'Твоя задача - определить, релевантны ли предоставленные документы запросу пользователя. Релевантым считай тот документ, в котором тема хотя бы смежно связана с запросом. Верни ровно один массив из строк \\'0\\' или \\'1\\', где \\'1\\' означает, что документ релевантен запросу, а \\'0\\' - что нерелевантен. Массив должен иметь ровно столько элементов, сколько документов в запросе.\\n\\nЗапрос: \\'почему нет отпуска у сотрудника\\'\\n\\nДокументы:\\nДокумент 0:\\nВопрос: нет возможности запланировать отпуск за сотрудника\\nОтвет: сотрудники могут сформировать свои графики до конца ноября текущего года. за ходом планирования необходимо следить в разделе моя команда - отпуска сотрудников.\\n\\nДокумент 1:\\nВопрос: сотрудник не может запланировать свой отпуск\\nОтвет: есть причины, по которым сотрудник может не участвовать в планировании: 1) стоят неявки в промежутке от текущей даты до 01.09 следующего года. 2) есть мероприятие увольнение в будущем начиная от текущей даты. 3) имеется срочный трудовой договор, который оканчивается в середине следующего года 4) сотрудник является внутренним совместителем 5) сотрудник находится на 0% занятости от текущей даты и далее в будущем 6) работа по договору гпх для уточнения данного вопроса, а так же корректировки данных, вы можете обратиться в кадровую службу или же позвонить на горячую линию. *если процесс планирования отпусков на будущий год окончен, то возможности в лк запланировать отпуск нет ни самому сотруднику, ни руководителю за сотрудника. сотрудник сможет в следующем году оформить в лк \"отпуск по заявлению\".\\n\\nДокумент 2:\\nВопрос: в личном кабинете нет отпуска у сотрудника\\nОтвет: в личном кабинете в разделе «отпуска» отображаются лимиты, доступные для планирования, за вычетом уже запланированных дней. расчет производится следующим образом: берем количество дней, заработанных вами на определенную дату, и вычитаем из них количество дней, запланированное на будущий период.\\n\\nДокумент 3:\\nВопрос: не возможности оформит отпуск без сохранения заработной платы у сотрудников\\nОтвет: создайте, пожалуйста, обращение в ит поддержку на портале support\\n\\nДокумент 4:\\nВопрос: у сотрудника отсутствует строка отпуск без содержания\\nОтвет: сервис не доступен сотрудникам на 0% занятости\\n\\nДокумент 5:\\nВопрос: у сотрудника в личном кабинете не отображается запланированный отпуск, хотя планирование окончено\\nОтвет: у сотрудника нет плановых отпусков на будущий год. по вопросу проведения отпусков по коллегам вам следует обратиться к специалистам hr вашей торговой сети. для этого зайдите на портал link нажмите \"новое обращение\", выберите \"кадры (hr)\", после чего выберите интересующую тему и заполните соответствующие поля.\\n\\n\\n\\nОцени релевантность каждого документа к этому запросу и верни массив из 6 элементов, где каждый элемент - \\'0\\' или \\'1\\'.'}]\n",
      "Operation timed out after 180 seconds\n",
      "MESSAGES\n",
      "[{'role': 'user', 'content': 'Твоя задача - определить, релевантны ли предоставленные документы запросу пользователя. Релевантым считай тот документ, в котором тема хотя бы смежно связана с запросом. Верни ровно один массив из строк \\'0\\' или \\'1\\', где \\'1\\' означает, что документ релевантен запросу, а \\'0\\' - что нерелевантен. Массив должен иметь ровно столько элементов, сколько документов в запросе.\\n\\nЗапрос: \\'сколько налоговых вычетов будет на детей\\'\\n\\nДокументы:\\nДокумент 0:\\nВопрос: какой размер налогового вычета на детей?\\nОтвет: дети — инвалиды до 18 лет -12000 рублей для родителей. дети — инвалиды до 18 лет -6000 для опекунов и попечителей. на первого ребенка 1400 руб./месяц. на второго ребенка 1400 руб./месяц (суммируется =2800). на третьего и последующего ребенка 3000 руб./месяц (суммируется =5800).\\n\\nДокумент 1:\\nВопрос: какие бывают налоговые вычеты\\nОтвет: налоговый вычет на детей, имущественный вычет (в том числе по уплаченным процентам), налоговый вычет на обучение ребенка, налоговый вычет на собственное обучение, налоговый вычет на обучение брата/сестры, налоговый вычет на себя по платежам на страхование жизни, негосударственное пенсионное страхование, добровольное медицинское страхование, налоговый вычет на себя, на лечение, в том числе дорогостоящее, лекарства, налоговый вычет на себя, на иные суммы, уменьшающие налогооблагаемую базу, налоговый вычет на себя при наличии инвалидности, для ветеранов войны, чернобыльцев, героев рф\\n\\nДокумент 2:\\nВопрос: налоговый вычет\\nОтвет: для получения вычета создайте, пожалуйста, заявку в разделе \"заявки\" по теме \"льготы, выплаты, материальная помощь\", подтема \"налоговые вычеты\".\\n\\n\\n\\nОцени релевантность каждого документа к этому запросу и верни массив из 3 элементов, где каждый элемент - \\'0\\' или \\'1\\'.'}]\n",
      "MESSAGES\n",
      "[{'role': 'user', 'content': 'Ты помощник, который дает ответы в том же стиле, что и представленные примеры. Используй предоставленные вопросы и ответы как образец стиля и уровня детализации.\\n\\nПримеры вопросов и ответов:\\n\\nПример 1:\\nВопрос: какой размер налогового вычета на детей?\\nОтвет: дети — инвалиды до 18 лет -12000 рублей для родителей. дети — инвалиды до 18 лет -6000 для опекунов и попечителей. на первого ребенка 1400 руб./месяц. на второго ребенка 1400 руб./месяц (суммируется =2800). на третьего и последующего ребенка 3000 руб./месяц (суммируется =5800).\\n\\nПример 2:\\nВопрос: какие бывают налоговые вычеты\\nОтвет: налоговый вычет на детей, имущественный вычет (в том числе по уплаченным процентам), налоговый вычет на обучение ребенка, налоговый вычет на собственное обучение, налоговый вычет на обучение брата/сестры, налоговый вычет на себя по платежам на страхование жизни, негосударственное пенсионное страхование, добровольное медицинское страхование, налоговый вычет на себя, на лечение, в том числе дорогостоящее, лекарства, налоговый вычет на себя, на иные суммы, уменьшающие налогооблагаемую базу, налоговый вычет на себя при наличии инвалидности, для ветеранов войны, чернобыльцев, героев рф\\n\\n\\n\\nЗапрос пользователя: сколько налоговых вычетов будет на детей\\n\\nОтветь на запрос пользователя в том же стиле, что и приведенные примеры.'}]\n"
     ]
    },
    {
     "data": {
      "text/html": [
       "<pre style=\"white-space:pre;overflow-x:auto;line-height:normal;font-family:Menlo,'DejaVu Sans Mono',consolas,'Courier New',monospace\">✨ You're running DeepEval's latest <span style=\"color: #6a00ff; text-decoration-color: #6a00ff\">Answer Relevancy Metric</span>! <span style=\"color: #374151; text-decoration-color: #374151; font-weight: bold\">(</span><span style=\"color: #374151; text-decoration-color: #374151\">using gpt-4o, </span><span style=\"color: #374151; text-decoration-color: #374151\">strict</span><span style=\"color: #374151; text-decoration-color: #374151\">=</span><span style=\"color: #374151; text-decoration-color: #374151; font-style: italic\">False</span><span style=\"color: #374151; text-decoration-color: #374151\">, </span><span style=\"color: #374151; text-decoration-color: #374151\">async_mode</span><span style=\"color: #374151; text-decoration-color: #374151\">=</span><span style=\"color: #374151; text-decoration-color: #374151; font-style: italic\">True</span><span style=\"color: #374151; text-decoration-color: #374151; font-weight: bold\">)</span><span style=\"color: #374151; text-decoration-color: #374151\">...</span>\n",
       "</pre>\n"
      ],
      "text/plain": [
       "✨ You're running DeepEval's latest \u001b[38;2;106;0;255mAnswer Relevancy Metric\u001b[0m! \u001b[1;38;2;55;65;81m(\u001b[0m\u001b[38;2;55;65;81musing gpt-4o, \u001b[0m\u001b[38;2;55;65;81mstrict\u001b[0m\u001b[38;2;55;65;81m=\u001b[0m\u001b[3;38;2;55;65;81mFalse\u001b[0m\u001b[38;2;55;65;81m, \u001b[0m\u001b[38;2;55;65;81masync_mode\u001b[0m\u001b[38;2;55;65;81m=\u001b[0m\u001b[3;38;2;55;65;81mTrue\u001b[0m\u001b[1;38;2;55;65;81m)\u001b[0m\u001b[38;2;55;65;81m...\u001b[0m\n"
      ]
     },
     "metadata": {},
     "output_type": "display_data"
    },
    {
     "name": "stdout",
     "output_type": "stream",
     "text": [
      "Event loop is already running. Applying nest_asyncio patch to allow async execution...\n"
     ]
    },
    {
     "name": "stderr",
     "output_type": "stream",
     "text": [
      "Evaluating 1 test case(s) in parallel: |██████████|100% (1/1) [Time Taken: 00:05,  5.01s/test case]\n"
     ]
    },
    {
     "data": {
      "text/html": [
       "<pre style=\"white-space:pre;overflow-x:auto;line-height:normal;font-family:Menlo,'DejaVu Sans Mono',consolas,'Courier New',monospace\">\n",
       "<span style=\"color: #05f58d; text-decoration-color: #05f58d\">✓</span> Tests finished 🎉! Run <span style=\"color: #008000; text-decoration-color: #008000; font-weight: bold\">'deepeval login'</span> to save and analyze evaluation results on Confident AI.\n",
       " \n",
       "✨👀 Looking for a place for your LLM test data to live 🏡❤️ ? Use <span style=\"color: #6a00ff; text-decoration-color: #6a00ff\">Confident AI</span> to get &amp; share testing reports, \n",
       "experiment with models/prompts, and catch regressions for your LLM system. Just run <span style=\"color: #008080; text-decoration-color: #008080\">'deepeval login'</span> in the CLI. \n",
       "\n",
       "</pre>\n"
      ],
      "text/plain": [
       "\n",
       "\u001b[38;2;5;245;141m✓\u001b[0m Tests finished 🎉! Run \u001b[1;32m'deepeval login'\u001b[0m to save and analyze evaluation results on Confident AI.\n",
       " \n",
       "✨👀 Looking for a place for your LLM test data to live 🏡❤️ ? Use \u001b[38;2;106;0;255mConfident AI\u001b[0m to get & share testing reports, \n",
       "experiment with models/prompts, and catch regressions for your LLM system. Just run \u001b[36m'deepeval login'\u001b[0m in the CLI. \n",
       "\n"
      ]
     },
     "metadata": {},
     "output_type": "display_data"
    },
    {
     "name": "stdout",
     "output_type": "stream",
     "text": [
      "MESSAGES\n",
      "[{'role': 'user', 'content': 'Твоя задача - определить, релевантны ли предоставленные документы запросу пользователя. Релевантым считай тот документ, в котором тема хотя бы смежно связана с запросом. Верни ровно один массив из строк \\'0\\' или \\'1\\', где \\'1\\' означает, что документ релевантен запросу, а \\'0\\' - что нерелевантен. Массив должен иметь ровно столько элементов, сколько документов в запросе.\\n\\nЗапрос: \\'налоговые вычеты есть\\'\\n\\nДокументы:\\nДокумент 0:\\nВопрос: какие бывают налоговые вычеты\\nОтвет: налоговый вычет на детей, имущественный вычет (в том числе по уплаченным процентам), налоговый вычет на обучение ребенка, налоговый вычет на собственное обучение, налоговый вычет на обучение брата/сестры, налоговый вычет на себя по платежам на страхование жизни, негосударственное пенсионное страхование, добровольное медицинское страхование, налоговый вычет на себя, на лечение, в том числе дорогостоящее, лекарства, налоговый вычет на себя, на иные суммы, уменьшающие налогооблагаемую базу, налоговый вычет на себя при наличии инвалидности, для ветеранов войны, чернобыльцев, героев рф\\n\\nДокумент 1:\\nВопрос: налоговый вычет\\nОтвет: для получения вычета создайте, пожалуйста, заявку в разделе \"заявки\" по теме \"льготы, выплаты, материальная помощь\", подтема \"налоговые вычеты\".\\n\\nДокумент 2:\\nВопрос: налоговый вычет дети\\nОтвет: дети — инвалиды до 18 лет -12000 рублей для родителей. дети — инвалиды до 18 лет -6000 для опекунов и попечителей. на первого ребенка 1400 руб./месяц. на второго ребенка 1400 руб./месяц (суммируется =2800). на третьего и последующего ребенка 3000 руб./месяц (суммируется =5800).\\n\\n\\n\\nОцени релевантность каждого документа к этому запросу и верни массив из 3 элементов, где каждый элемент - \\'0\\' или \\'1\\'.'}]\n",
      "MESSAGES\n",
      "[{'role': 'user', 'content': 'Ты помощник, который дает ответы в том же стиле, что и представленные примеры. Используй предоставленные вопросы и ответы как образец стиля и уровня детализации.\\n\\nПримеры вопросов и ответов:\\n\\nПример 1:\\nВопрос: какие бывают налоговые вычеты\\nОтвет: налоговый вычет на детей, имущественный вычет (в том числе по уплаченным процентам), налоговый вычет на обучение ребенка, налоговый вычет на собственное обучение, налоговый вычет на обучение брата/сестры, налоговый вычет на себя по платежам на страхование жизни, негосударственное пенсионное страхование, добровольное медицинское страхование, налоговый вычет на себя, на лечение, в том числе дорогостоящее, лекарства, налоговый вычет на себя, на иные суммы, уменьшающие налогооблагаемую базу, налоговый вычет на себя при наличии инвалидности, для ветеранов войны, чернобыльцев, героев рф\\n\\nПример 2:\\nВопрос: налоговый вычет\\nОтвет: для получения вычета создайте, пожалуйста, заявку в разделе \"заявки\" по теме \"льготы, выплаты, материальная помощь\", подтема \"налоговые вычеты\".\\n\\nПример 3:\\nВопрос: налоговый вычет дети\\nОтвет: дети — инвалиды до 18 лет -12000 рублей для родителей. дети — инвалиды до 18 лет -6000 для опекунов и попечителей. на первого ребенка 1400 руб./месяц. на второго ребенка 1400 руб./месяц (суммируется =2800). на третьего и последующего ребенка 3000 руб./месяц (суммируется =5800).\\n\\n\\n\\nЗапрос пользователя: налоговые вычеты есть\\n\\nОтветь на запрос пользователя в том же стиле, что и приведенные примеры.'}]\n"
     ]
    },
    {
     "data": {
      "text/html": [
       "<pre style=\"white-space:pre;overflow-x:auto;line-height:normal;font-family:Menlo,'DejaVu Sans Mono',consolas,'Courier New',monospace\">✨ You're running DeepEval's latest <span style=\"color: #6a00ff; text-decoration-color: #6a00ff\">Answer Relevancy Metric</span>! <span style=\"color: #374151; text-decoration-color: #374151; font-weight: bold\">(</span><span style=\"color: #374151; text-decoration-color: #374151\">using gpt-4o, </span><span style=\"color: #374151; text-decoration-color: #374151\">strict</span><span style=\"color: #374151; text-decoration-color: #374151\">=</span><span style=\"color: #374151; text-decoration-color: #374151; font-style: italic\">False</span><span style=\"color: #374151; text-decoration-color: #374151\">, </span><span style=\"color: #374151; text-decoration-color: #374151\">async_mode</span><span style=\"color: #374151; text-decoration-color: #374151\">=</span><span style=\"color: #374151; text-decoration-color: #374151; font-style: italic\">True</span><span style=\"color: #374151; text-decoration-color: #374151; font-weight: bold\">)</span><span style=\"color: #374151; text-decoration-color: #374151\">...</span>\n",
       "</pre>\n"
      ],
      "text/plain": [
       "✨ You're running DeepEval's latest \u001b[38;2;106;0;255mAnswer Relevancy Metric\u001b[0m! \u001b[1;38;2;55;65;81m(\u001b[0m\u001b[38;2;55;65;81musing gpt-4o, \u001b[0m\u001b[38;2;55;65;81mstrict\u001b[0m\u001b[38;2;55;65;81m=\u001b[0m\u001b[3;38;2;55;65;81mFalse\u001b[0m\u001b[38;2;55;65;81m, \u001b[0m\u001b[38;2;55;65;81masync_mode\u001b[0m\u001b[38;2;55;65;81m=\u001b[0m\u001b[3;38;2;55;65;81mTrue\u001b[0m\u001b[1;38;2;55;65;81m)\u001b[0m\u001b[38;2;55;65;81m...\u001b[0m\n"
      ]
     },
     "metadata": {},
     "output_type": "display_data"
    },
    {
     "name": "stdout",
     "output_type": "stream",
     "text": [
      "Event loop is already running. Applying nest_asyncio patch to allow async execution...\n"
     ]
    },
    {
     "name": "stderr",
     "output_type": "stream",
     "text": [
      "Evaluating 1 test case(s) in parallel: |██████████|100% (1/1) [Time Taken: 00:11, 11.16s/test case]\n"
     ]
    },
    {
     "data": {
      "text/html": [
       "<pre style=\"white-space:pre;overflow-x:auto;line-height:normal;font-family:Menlo,'DejaVu Sans Mono',consolas,'Courier New',monospace\">\n",
       "<span style=\"color: #05f58d; text-decoration-color: #05f58d\">✓</span> Tests finished 🎉! Run <span style=\"color: #008000; text-decoration-color: #008000; font-weight: bold\">'deepeval login'</span> to save and analyze evaluation results on Confident AI.\n",
       " \n",
       "✨👀 Looking for a place for your LLM test data to live 🏡❤️ ? Use <span style=\"color: #6a00ff; text-decoration-color: #6a00ff\">Confident AI</span> to get &amp; share testing reports, \n",
       "experiment with models/prompts, and catch regressions for your LLM system. Just run <span style=\"color: #008080; text-decoration-color: #008080\">'deepeval login'</span> in the CLI. \n",
       "\n",
       "</pre>\n"
      ],
      "text/plain": [
       "\n",
       "\u001b[38;2;5;245;141m✓\u001b[0m Tests finished 🎉! Run \u001b[1;32m'deepeval login'\u001b[0m to save and analyze evaluation results on Confident AI.\n",
       " \n",
       "✨👀 Looking for a place for your LLM test data to live 🏡❤️ ? Use \u001b[38;2;106;0;255mConfident AI\u001b[0m to get & share testing reports, \n",
       "experiment with models/prompts, and catch regressions for your LLM system. Just run \u001b[36m'deepeval login'\u001b[0m in the CLI. \n",
       "\n"
      ]
     },
     "metadata": {},
     "output_type": "display_data"
    },
    {
     "name": "stdout",
     "output_type": "stream",
     "text": [
      "MESSAGES\n",
      "[{'role': 'user', 'content': \"Твоя задача - определить, релевантны ли предоставленные документы запросу пользователя. Релевантым считай тот документ, в котором тема хотя бы смежно связана с запросом. Верни ровно один массив из строк '0' или '1', где '1' означает, что документ релевантен запросу, а '0' - что нерелевантен. Массив должен иметь ровно столько элементов, сколько документов в запросе.\\n\\nЗапрос: 'что такое машиночитаемая доверенность'\\n\\nДокументы:\\nДокумент 0:\\nВопрос: что такое машиночитаемая доверенность и зачем она нужна?\\nОтвет: ранее, если для подписания документов требовалась квалифицированная электронная подпись, то применялась усиленная квалифицированная электронная подпись юридического лица – укэп юл. особенность этой электронной подписи (эп) состояла в том, что владельцем сертификата была указана организация наряду с сотрудником. если упростить, то такую эп можно представить как подпись и печать на любом бумажном документе. с 01.09.2023 в силу вступили правки в федеральный закон рф № 63‑фз «об электронной подписи». суть этих правок в следующем: · выпуск укэп юл возможен только для генеральных директоров компании и только в удостоверяющем центре федеральной налоговой службы · если сотруднику для электронного подписания необходима квалифицированная эп, то он должен применять усиленную квалифицированную электронную подпись физического лица – укэп фл и машиночитаемую доверенность – мчд. т.е. по аналогии с печатью и подписью на бумаге: укэп фл – собственноручная подпись, мчд – печать, которая подтверждает полномочия подписанта. · все укэп юл, выпущенные до 01.09.2023 действуют до конца своего срока (1 год).детально о укэп фл можно прочитать тут: link мчд – машиночитаемая доверенность (довер\\u200bенность в машиночитаемом виде), выпускаемая в xml-формате, подписанная представителем юл: в нашем случае – генеральным директором.\\n\\nДокумент 1:\\nВопрос: узнать про машиночитаемые доверенности\\nОтвет: информацию о своих действующих мчд (машиночитаемых доверенностях) можно найти в личном кабинете link - раздел «доверенности». данный раздел можно найти в правом верхнем углу, в выпадающем списке под своими фио. инструкция доступна по ссылке link\\n\\nДокумент 2:\\nВопрос: как узнать номер и срок действия доверенности?\\nОтвет: номер и срок действия доверенности можно выгрузить в личном кабинете в блоке профиль, раздел «доверенности».\\n\\nДокумент 3:\\nВопрос: как получить копию доверенности?\\nОтвет: скан-копию доверенности можно выгрузить в личном кабинете в блоке профиль, раздел «доверенности», нажав кнопку отправить на почту.\\n\\nДокумент 4:\\nВопрос: где можно найти оригинал доверенности?\\nОтвет: оригиналы доверенностей хранятся у директора кластера, поэтому при необходимости получения необходимо обратиться к директору кластера.\\n\\nДокумент 5:\\nВопрос: sed доверенность\\nОтвет: копию доверенности можно выгрузить через раздел отчеты в sed. также там можно посмотреть номер и срок действия доверенности.\\n\\n\\n\\nОцени релевантность каждого документа к этому запросу и верни массив из 6 элементов, где каждый элемент - '0' или '1'.\"}]\n",
      "MESSAGES\n",
      "[{'role': 'user', 'content': 'Ты помощник, который дает ответы в том же стиле, что и представленные примеры. Используй предоставленные вопросы и ответы как образец стиля и уровня детализации.\\n\\nПримеры вопросов и ответов:\\n\\nПример 1:\\nВопрос: что такое машиночитаемая доверенность и зачем она нужна?\\nОтвет: ранее, если для подписания документов требовалась квалифицированная электронная подпись, то применялась усиленная квалифицированная электронная подпись юридического лица – укэп юл. особенность этой электронной подписи (эп) состояла в том, что владельцем сертификата была указана организация наряду с сотрудником. если упростить, то такую эп можно представить как подпись и печать на любом бумажном документе. с 01.09.2023 в силу вступили правки в федеральный закон рф № 63‑фз «об электронной подписи». суть этих правок в следующем: · выпуск укэп юл возможен только для генеральных директоров компании и только в удостоверяющем центре федеральной налоговой службы · если сотруднику для электронного подписания необходима квалифицированная эп, то он должен применять усиленную квалифицированную электронную подпись физического лица – укэп фл и машиночитаемую доверенность – мчд. т.е. по аналогии с печатью и подписью на бумаге: укэп фл – собственноручная подпись, мчд – печать, которая подтверждает полномочия подписанта. · все укэп юл, выпущенные до 01.09.2023 действуют до конца своего срока (1 год).детально о укэп фл можно прочитать тут: link мчд – машиночитаемая доверенность (довер\\u200bенность в машиночитаемом виде), выпускаемая в xml-формате, подписанная представителем юл: в нашем случае – генеральным директором.\\n\\nПример 2:\\nВопрос: узнать про машиночитаемые доверенности\\nОтвет: информацию о своих действующих мчд (машиночитаемых доверенностях) можно найти в личном кабинете link - раздел «доверенности». данный раздел можно найти в правом верхнем углу, в выпадающем списке под своими фио. инструкция доступна по ссылке link\\n\\nПример 3:\\nВопрос: sed доверенность\\nОтвет: копию доверенности можно выгрузить через раздел отчеты в sed. также там можно посмотреть номер и срок действия доверенности.\\n\\n\\n\\nЗапрос пользователя: что такое машиночитаемая доверенность\\n\\nОтветь на запрос пользователя в том же стиле, что и приведенные примеры.'}]\n"
     ]
    },
    {
     "data": {
      "text/html": [
       "<pre style=\"white-space:pre;overflow-x:auto;line-height:normal;font-family:Menlo,'DejaVu Sans Mono',consolas,'Courier New',monospace\">✨ You're running DeepEval's latest <span style=\"color: #6a00ff; text-decoration-color: #6a00ff\">Answer Relevancy Metric</span>! <span style=\"color: #374151; text-decoration-color: #374151; font-weight: bold\">(</span><span style=\"color: #374151; text-decoration-color: #374151\">using gpt-4o, </span><span style=\"color: #374151; text-decoration-color: #374151\">strict</span><span style=\"color: #374151; text-decoration-color: #374151\">=</span><span style=\"color: #374151; text-decoration-color: #374151; font-style: italic\">False</span><span style=\"color: #374151; text-decoration-color: #374151\">, </span><span style=\"color: #374151; text-decoration-color: #374151\">async_mode</span><span style=\"color: #374151; text-decoration-color: #374151\">=</span><span style=\"color: #374151; text-decoration-color: #374151; font-style: italic\">True</span><span style=\"color: #374151; text-decoration-color: #374151; font-weight: bold\">)</span><span style=\"color: #374151; text-decoration-color: #374151\">...</span>\n",
       "</pre>\n"
      ],
      "text/plain": [
       "✨ You're running DeepEval's latest \u001b[38;2;106;0;255mAnswer Relevancy Metric\u001b[0m! \u001b[1;38;2;55;65;81m(\u001b[0m\u001b[38;2;55;65;81musing gpt-4o, \u001b[0m\u001b[38;2;55;65;81mstrict\u001b[0m\u001b[38;2;55;65;81m=\u001b[0m\u001b[3;38;2;55;65;81mFalse\u001b[0m\u001b[38;2;55;65;81m, \u001b[0m\u001b[38;2;55;65;81masync_mode\u001b[0m\u001b[38;2;55;65;81m=\u001b[0m\u001b[3;38;2;55;65;81mTrue\u001b[0m\u001b[1;38;2;55;65;81m)\u001b[0m\u001b[38;2;55;65;81m...\u001b[0m\n"
      ]
     },
     "metadata": {},
     "output_type": "display_data"
    },
    {
     "name": "stdout",
     "output_type": "stream",
     "text": [
      "Event loop is already running. Applying nest_asyncio patch to allow async execution...\n"
     ]
    },
    {
     "name": "stderr",
     "output_type": "stream",
     "text": [
      "Evaluating 1 test case(s) in parallel: |██████████|100% (1/1) [Time Taken: 00:05,  5.28s/test case]\n"
     ]
    },
    {
     "data": {
      "text/html": [
       "<pre style=\"white-space:pre;overflow-x:auto;line-height:normal;font-family:Menlo,'DejaVu Sans Mono',consolas,'Courier New',monospace\">\n",
       "<span style=\"color: #05f58d; text-decoration-color: #05f58d\">✓</span> Tests finished 🎉! Run <span style=\"color: #008000; text-decoration-color: #008000; font-weight: bold\">'deepeval login'</span> to save and analyze evaluation results on Confident AI.\n",
       " \n",
       "✨👀 Looking for a place for your LLM test data to live 🏡❤️ ? Use <span style=\"color: #6a00ff; text-decoration-color: #6a00ff\">Confident AI</span> to get &amp; share testing reports, \n",
       "experiment with models/prompts, and catch regressions for your LLM system. Just run <span style=\"color: #008080; text-decoration-color: #008080\">'deepeval login'</span> in the CLI. \n",
       "\n",
       "</pre>\n"
      ],
      "text/plain": [
       "\n",
       "\u001b[38;2;5;245;141m✓\u001b[0m Tests finished 🎉! Run \u001b[1;32m'deepeval login'\u001b[0m to save and analyze evaluation results on Confident AI.\n",
       " \n",
       "✨👀 Looking for a place for your LLM test data to live 🏡❤️ ? Use \u001b[38;2;106;0;255mConfident AI\u001b[0m to get & share testing reports, \n",
       "experiment with models/prompts, and catch regressions for your LLM system. Just run \u001b[36m'deepeval login'\u001b[0m in the CLI. \n",
       "\n"
      ]
     },
     "metadata": {},
     "output_type": "display_data"
    },
    {
     "name": "stdout",
     "output_type": "stream",
     "text": [
      "MESSAGES\n",
      "[{'role': 'user', 'content': \"Твоя задача - определить, релевантны ли предоставленные документы запросу пользователя. Релевантым считай тот документ, в котором тема хотя бы смежно связана с запросом. Верни ровно один массив из строк '0' или '1', где '1' означает, что документ релевантен запросу, а '0' - что нерелевантен. Массив должен иметь ровно столько элементов, сколько документов в запросе.\\n\\nЗапрос: 'ошибка 500'\\n\\nДокументы:\\nДокумент 0:\\nВопрос: ошибка 500\\nОтвет: данная ошибка возможна при переходе на портал\\\\материал из личного кабинета или по внешней ссылке. перейдите на портал по прямой ссылке: link обучение рекомендуем проходить на рабочем компьютере т.к. вне корпоративной сети некоторые курсы могут работать некорректно. для корректной работы портала необходимо использовать браузер mozilla firefox или google chrome. перед входом на портал обучения очистите, пожалуйста, кэш браузера за всё время, сочетание клавиш crtl+shift+delete.\\n\\nДокумент 1:\\nВопрос: ошибка авторизации\\nОтвет: при проблемах со входом в личный кабинет, прежде чем создавать заявку в поддержку, убедитесь, что заходите в лк на сайте link указываете актуальные и верные логин и пароль. если вам неизвестен логин, обратитесь к руководителю (дм), он сможет посмотреть ваш логин и сбросить пароль в веб-табеле. для самостоятельного сброса пароля позвоните с вашего мобильного телефона на phone, наберите добавочный номер 10100, нажмите * и подтвердите сброс пароля, нажав #. обновленный пароль отправляется по sms.\\n\\n\\n\\nОцени релевантность каждого документа к этому запросу и верни массив из 2 элементов, где каждый элемент - '0' или '1'.\"}]\n",
      "MESSAGES\n",
      "[{'role': 'user', 'content': 'Ты помощник, который дает ответы в том же стиле, что и представленные примеры. Используй предоставленные вопросы и ответы как образец стиля и уровня детализации.\\n\\nПримеры вопросов и ответов:\\n\\nПример 1:\\nВопрос: ошибка 500\\nОтвет: данная ошибка возможна при переходе на портал\\\\материал из личного кабинета или по внешней ссылке. перейдите на портал по прямой ссылке: link обучение рекомендуем проходить на рабочем компьютере т.к. вне корпоративной сети некоторые курсы могут работать некорректно. для корректной работы портала необходимо использовать браузер mozilla firefox или google chrome. перед входом на портал обучения очистите, пожалуйста, кэш браузера за всё время, сочетание клавиш crtl+shift+delete.\\n\\n\\n\\nЗапрос пользователя: ошибка 500\\n\\nОтветь на запрос пользователя в том же стиле, что и приведенные примеры.'}]\n"
     ]
    },
    {
     "data": {
      "text/html": [
       "<pre style=\"white-space:pre;overflow-x:auto;line-height:normal;font-family:Menlo,'DejaVu Sans Mono',consolas,'Courier New',monospace\">✨ You're running DeepEval's latest <span style=\"color: #6a00ff; text-decoration-color: #6a00ff\">Answer Relevancy Metric</span>! <span style=\"color: #374151; text-decoration-color: #374151; font-weight: bold\">(</span><span style=\"color: #374151; text-decoration-color: #374151\">using gpt-4o, </span><span style=\"color: #374151; text-decoration-color: #374151\">strict</span><span style=\"color: #374151; text-decoration-color: #374151\">=</span><span style=\"color: #374151; text-decoration-color: #374151; font-style: italic\">False</span><span style=\"color: #374151; text-decoration-color: #374151\">, </span><span style=\"color: #374151; text-decoration-color: #374151\">async_mode</span><span style=\"color: #374151; text-decoration-color: #374151\">=</span><span style=\"color: #374151; text-decoration-color: #374151; font-style: italic\">True</span><span style=\"color: #374151; text-decoration-color: #374151; font-weight: bold\">)</span><span style=\"color: #374151; text-decoration-color: #374151\">...</span>\n",
       "</pre>\n"
      ],
      "text/plain": [
       "✨ You're running DeepEval's latest \u001b[38;2;106;0;255mAnswer Relevancy Metric\u001b[0m! \u001b[1;38;2;55;65;81m(\u001b[0m\u001b[38;2;55;65;81musing gpt-4o, \u001b[0m\u001b[38;2;55;65;81mstrict\u001b[0m\u001b[38;2;55;65;81m=\u001b[0m\u001b[3;38;2;55;65;81mFalse\u001b[0m\u001b[38;2;55;65;81m, \u001b[0m\u001b[38;2;55;65;81masync_mode\u001b[0m\u001b[38;2;55;65;81m=\u001b[0m\u001b[3;38;2;55;65;81mTrue\u001b[0m\u001b[1;38;2;55;65;81m)\u001b[0m\u001b[38;2;55;65;81m...\u001b[0m\n"
      ]
     },
     "metadata": {},
     "output_type": "display_data"
    },
    {
     "name": "stdout",
     "output_type": "stream",
     "text": [
      "Event loop is already running. Applying nest_asyncio patch to allow async execution...\n"
     ]
    },
    {
     "name": "stderr",
     "output_type": "stream",
     "text": [
      "Evaluating 1 test case(s) in parallel: |██████████|100% (1/1) [Time Taken: 00:05,  5.05s/test case]\n"
     ]
    },
    {
     "data": {
      "text/html": [
       "<pre style=\"white-space:pre;overflow-x:auto;line-height:normal;font-family:Menlo,'DejaVu Sans Mono',consolas,'Courier New',monospace\">\n",
       "<span style=\"color: #05f58d; text-decoration-color: #05f58d\">✓</span> Tests finished 🎉! Run <span style=\"color: #008000; text-decoration-color: #008000; font-weight: bold\">'deepeval login'</span> to save and analyze evaluation results on Confident AI.\n",
       " \n",
       "✨👀 Looking for a place for your LLM test data to live 🏡❤️ ? Use <span style=\"color: #6a00ff; text-decoration-color: #6a00ff\">Confident AI</span> to get &amp; share testing reports, \n",
       "experiment with models/prompts, and catch regressions for your LLM system. Just run <span style=\"color: #008080; text-decoration-color: #008080\">'deepeval login'</span> in the CLI. \n",
       "\n",
       "</pre>\n"
      ],
      "text/plain": [
       "\n",
       "\u001b[38;2;5;245;141m✓\u001b[0m Tests finished 🎉! Run \u001b[1;32m'deepeval login'\u001b[0m to save and analyze evaluation results on Confident AI.\n",
       " \n",
       "✨👀 Looking for a place for your LLM test data to live 🏡❤️ ? Use \u001b[38;2;106;0;255mConfident AI\u001b[0m to get & share testing reports, \n",
       "experiment with models/prompts, and catch regressions for your LLM system. Just run \u001b[36m'deepeval login'\u001b[0m in the CLI. \n",
       "\n"
      ]
     },
     "metadata": {},
     "output_type": "display_data"
    },
    {
     "name": "stdout",
     "output_type": "stream",
     "text": [
      "MESSAGES\n",
      "[{'role': 'user', 'content': 'Твоя задача - определить, релевантны ли предоставленные документы запросу пользователя. Релевантым считай тот документ, в котором тема хотя бы смежно связана с запросом. Верни ровно один массив из строк \\'0\\' или \\'1\\', где \\'1\\' означает, что документ релевантен запросу, а \\'0\\' - что нерелевантен. Массив должен иметь ровно столько элементов, сколько документов в запросе.\\n\\nЗапрос: \\'добровольное медицинское страхование\\'\\n\\nДокументы:\\nДокумент 0:\\nВопрос: полис дмс\\nОтвет: по вопросам, связанных с дмс, вы всегда можете обратиться на адрес медицинской поддержки х5 mail\\n\\nДокумент 1:\\nВопрос: больничный по уходу за родственником\\nОтвет: больничный с кодом 09 (уход за больным членом семьи) оплачивается полностью за счет средств сфр, работодатель в данном случае выплату не производит.\\n\\nДокумент 2:\\nВопрос: получить материальную помощь при тяжелой болезни\\nОтвет: для оформления материальной помощи, пожалуйста, создайте заявку \" в разделе \"льготы, выплаты, материальная помощь\", выбрав тему \"материальная помощь\". инструкция размещена в \"базе знаний \" личного кабинета.\\n\\nДокумент 3:\\nВопрос: что делать, если больничный не закадровый резервыт мед. организацией?\\nОтвет: сотруднику следует обратиться в мед. организацию для закрытия больничного листа. самостоятельно проверить закрытие лн сотрудник сможете на портале гос.услуги link\\n\\n\\n\\nОцени релевантность каждого документа к этому запросу и верни массив из 4 элементов, где каждый элемент - \\'0\\' или \\'1\\'.'}]\n",
      "MESSAGES\n",
      "[{'role': 'user', 'content': 'Ты помощник, который дает ответы в том же стиле, что и представленные примеры. Используй предоставленные вопросы и ответы как образец стиля и уровня детализации.\\n\\nПримеры вопросов и ответов:\\n\\nПример 1:\\nВопрос: полис дмс\\nОтвет: по вопросам, связанных с дмс, вы всегда можете обратиться на адрес медицинской поддержки х5 mail\\n\\nПример 2:\\nВопрос: получить материальную помощь при тяжелой болезни\\nОтвет: для оформления материальной помощи, пожалуйста, создайте заявку \" в разделе \"льготы, выплаты, материальная помощь\", выбрав тему \"материальная помощь\". инструкция размещена в \"базе знаний \" личного кабинета.\\n\\n\\n\\nЗапрос пользователя: добровольное медицинское страхование\\n\\nОтветь на запрос пользователя в том же стиле, что и приведенные примеры.'}]\n"
     ]
    },
    {
     "data": {
      "text/html": [
       "<pre style=\"white-space:pre;overflow-x:auto;line-height:normal;font-family:Menlo,'DejaVu Sans Mono',consolas,'Courier New',monospace\">✨ You're running DeepEval's latest <span style=\"color: #6a00ff; text-decoration-color: #6a00ff\">Answer Relevancy Metric</span>! <span style=\"color: #374151; text-decoration-color: #374151; font-weight: bold\">(</span><span style=\"color: #374151; text-decoration-color: #374151\">using gpt-4o, </span><span style=\"color: #374151; text-decoration-color: #374151\">strict</span><span style=\"color: #374151; text-decoration-color: #374151\">=</span><span style=\"color: #374151; text-decoration-color: #374151; font-style: italic\">False</span><span style=\"color: #374151; text-decoration-color: #374151\">, </span><span style=\"color: #374151; text-decoration-color: #374151\">async_mode</span><span style=\"color: #374151; text-decoration-color: #374151\">=</span><span style=\"color: #374151; text-decoration-color: #374151; font-style: italic\">True</span><span style=\"color: #374151; text-decoration-color: #374151; font-weight: bold\">)</span><span style=\"color: #374151; text-decoration-color: #374151\">...</span>\n",
       "</pre>\n"
      ],
      "text/plain": [
       "✨ You're running DeepEval's latest \u001b[38;2;106;0;255mAnswer Relevancy Metric\u001b[0m! \u001b[1;38;2;55;65;81m(\u001b[0m\u001b[38;2;55;65;81musing gpt-4o, \u001b[0m\u001b[38;2;55;65;81mstrict\u001b[0m\u001b[38;2;55;65;81m=\u001b[0m\u001b[3;38;2;55;65;81mFalse\u001b[0m\u001b[38;2;55;65;81m, \u001b[0m\u001b[38;2;55;65;81masync_mode\u001b[0m\u001b[38;2;55;65;81m=\u001b[0m\u001b[3;38;2;55;65;81mTrue\u001b[0m\u001b[1;38;2;55;65;81m)\u001b[0m\u001b[38;2;55;65;81m...\u001b[0m\n"
      ]
     },
     "metadata": {},
     "output_type": "display_data"
    },
    {
     "name": "stdout",
     "output_type": "stream",
     "text": [
      "Event loop is already running. Applying nest_asyncio patch to allow async execution...\n"
     ]
    },
    {
     "name": "stderr",
     "output_type": "stream",
     "text": [
      "Evaluating 1 test case(s) in parallel: |██████████|100% (1/1) [Time Taken: 00:04,  4.90s/test case]\n"
     ]
    },
    {
     "data": {
      "text/html": [
       "<pre style=\"white-space:pre;overflow-x:auto;line-height:normal;font-family:Menlo,'DejaVu Sans Mono',consolas,'Courier New',monospace\">\n",
       "<span style=\"color: #05f58d; text-decoration-color: #05f58d\">✓</span> Tests finished 🎉! Run <span style=\"color: #008000; text-decoration-color: #008000; font-weight: bold\">'deepeval login'</span> to save and analyze evaluation results on Confident AI.\n",
       " \n",
       "✨👀 Looking for a place for your LLM test data to live 🏡❤️ ? Use <span style=\"color: #6a00ff; text-decoration-color: #6a00ff\">Confident AI</span> to get &amp; share testing reports, \n",
       "experiment with models/prompts, and catch regressions for your LLM system. Just run <span style=\"color: #008080; text-decoration-color: #008080\">'deepeval login'</span> in the CLI. \n",
       "\n",
       "</pre>\n"
      ],
      "text/plain": [
       "\n",
       "\u001b[38;2;5;245;141m✓\u001b[0m Tests finished 🎉! Run \u001b[1;32m'deepeval login'\u001b[0m to save and analyze evaluation results on Confident AI.\n",
       " \n",
       "✨👀 Looking for a place for your LLM test data to live 🏡❤️ ? Use \u001b[38;2;106;0;255mConfident AI\u001b[0m to get & share testing reports, \n",
       "experiment with models/prompts, and catch regressions for your LLM system. Just run \u001b[36m'deepeval login'\u001b[0m in the CLI. \n",
       "\n"
      ]
     },
     "metadata": {},
     "output_type": "display_data"
    },
    {
     "name": "stdout",
     "output_type": "stream",
     "text": [
      "MESSAGES\n",
      "[{'role': 'user', 'content': 'Твоя задача - определить, релевантны ли предоставленные документы запросу пользователя. Релевантым считай тот документ, в котором тема хотя бы смежно связана с запросом. Верни ровно один массив из строк \\'0\\' или \\'1\\', где \\'1\\' означает, что документ релевантен запросу, а \\'0\\' - что нерелевантен. Массив должен иметь ровно столько элементов, сколько документов в запросе.\\n\\nЗапрос: \\'нужна подпись\\'\\n\\nДокументы:\\nДокумент 0:\\nВопрос: как понять какая подпись мне нужна?\\nОтвет: подробная инструкция о том, какая электронная подпись нужна доступна по ссылке link\\n\\nДокумент 1:\\nВопрос: мне необходима подпись на доверенности от юриста\\nОтвет: специалистами сф пб не производится подпись доверенностей на предоставление интересов сотрудника в суде\\n\\nДокумент 2:\\nВопрос: не могу подписать документ\\nОтвет: прежде чем создавать заявку, пожалуйста попробуйте самостоятельно выпустить эцп на странице \"электронные подписи\" в личном разделе лк\\n\\nДокумент 3:\\nВопрос: написала заявление на бс,не загружается файл для подписи\\nОтвет: создайте, пожалуйста, обращение в ит поддержку на портале support\\n\\nДокумент 4:\\nВопрос: не формируются документы на подписание\\nОтвет: первым делом, просьба очистить кэш/куки браузера (сочетание клавиш ctrl+shift+del, выбрать \"удалить: всё\", нажать ок). далее перезайти в лк. если это не помогло просьба подать заявку, нажав ниже кнопку \"создать заявку\" и выбрать соответствующую тему.\\n\\n\\n\\nОцени релевантность каждого документа к этому запросу и верни массив из 5 элементов, где каждый элемент - \\'0\\' или \\'1\\'.'}]\n",
      "MESSAGES\n",
      "[{'role': 'user', 'content': 'Ты помощник, который дает ответы в том же стиле, что и представленные примеры. Используй предоставленные вопросы и ответы как образец стиля и уровня детализации.\\n\\nПримеры вопросов и ответов:\\n\\nПример 1:\\nВопрос: как понять какая подпись мне нужна?\\nОтвет: подробная инструкция о том, какая электронная подпись нужна доступна по ссылке link\\n\\nПример 2:\\nВопрос: не могу подписать документ\\nОтвет: прежде чем создавать заявку, пожалуйста попробуйте самостоятельно выпустить эцп на странице \"электронные подписи\" в личном разделе лк\\n\\n\\n\\nЗапрос пользователя: нужна подпись\\n\\nОтветь на запрос пользователя в том же стиле, что и приведенные примеры.'}]\n"
     ]
    },
    {
     "data": {
      "text/html": [
       "<pre style=\"white-space:pre;overflow-x:auto;line-height:normal;font-family:Menlo,'DejaVu Sans Mono',consolas,'Courier New',monospace\">✨ You're running DeepEval's latest <span style=\"color: #6a00ff; text-decoration-color: #6a00ff\">Answer Relevancy Metric</span>! <span style=\"color: #374151; text-decoration-color: #374151; font-weight: bold\">(</span><span style=\"color: #374151; text-decoration-color: #374151\">using gpt-4o, </span><span style=\"color: #374151; text-decoration-color: #374151\">strict</span><span style=\"color: #374151; text-decoration-color: #374151\">=</span><span style=\"color: #374151; text-decoration-color: #374151; font-style: italic\">False</span><span style=\"color: #374151; text-decoration-color: #374151\">, </span><span style=\"color: #374151; text-decoration-color: #374151\">async_mode</span><span style=\"color: #374151; text-decoration-color: #374151\">=</span><span style=\"color: #374151; text-decoration-color: #374151; font-style: italic\">True</span><span style=\"color: #374151; text-decoration-color: #374151; font-weight: bold\">)</span><span style=\"color: #374151; text-decoration-color: #374151\">...</span>\n",
       "</pre>\n"
      ],
      "text/plain": [
       "✨ You're running DeepEval's latest \u001b[38;2;106;0;255mAnswer Relevancy Metric\u001b[0m! \u001b[1;38;2;55;65;81m(\u001b[0m\u001b[38;2;55;65;81musing gpt-4o, \u001b[0m\u001b[38;2;55;65;81mstrict\u001b[0m\u001b[38;2;55;65;81m=\u001b[0m\u001b[3;38;2;55;65;81mFalse\u001b[0m\u001b[38;2;55;65;81m, \u001b[0m\u001b[38;2;55;65;81masync_mode\u001b[0m\u001b[38;2;55;65;81m=\u001b[0m\u001b[3;38;2;55;65;81mTrue\u001b[0m\u001b[1;38;2;55;65;81m)\u001b[0m\u001b[38;2;55;65;81m...\u001b[0m\n"
      ]
     },
     "metadata": {},
     "output_type": "display_data"
    },
    {
     "name": "stdout",
     "output_type": "stream",
     "text": [
      "Event loop is already running. Applying nest_asyncio patch to allow async execution...\n"
     ]
    },
    {
     "name": "stderr",
     "output_type": "stream",
     "text": [
      "Evaluating 1 test case(s) in parallel: |██████████|100% (1/1) [Time Taken: 00:06,  6.52s/test case]\n"
     ]
    },
    {
     "data": {
      "text/html": [
       "<pre style=\"white-space:pre;overflow-x:auto;line-height:normal;font-family:Menlo,'DejaVu Sans Mono',consolas,'Courier New',monospace\">\n",
       "<span style=\"color: #05f58d; text-decoration-color: #05f58d\">✓</span> Tests finished 🎉! Run <span style=\"color: #008000; text-decoration-color: #008000; font-weight: bold\">'deepeval login'</span> to save and analyze evaluation results on Confident AI.\n",
       " \n",
       "✨👀 Looking for a place for your LLM test data to live 🏡❤️ ? Use <span style=\"color: #6a00ff; text-decoration-color: #6a00ff\">Confident AI</span> to get &amp; share testing reports, \n",
       "experiment with models/prompts, and catch regressions for your LLM system. Just run <span style=\"color: #008080; text-decoration-color: #008080\">'deepeval login'</span> in the CLI. \n",
       "\n",
       "</pre>\n"
      ],
      "text/plain": [
       "\n",
       "\u001b[38;2;5;245;141m✓\u001b[0m Tests finished 🎉! Run \u001b[1;32m'deepeval login'\u001b[0m to save and analyze evaluation results on Confident AI.\n",
       " \n",
       "✨👀 Looking for a place for your LLM test data to live 🏡❤️ ? Use \u001b[38;2;106;0;255mConfident AI\u001b[0m to get & share testing reports, \n",
       "experiment with models/prompts, and catch regressions for your LLM system. Just run \u001b[36m'deepeval login'\u001b[0m in the CLI. \n",
       "\n"
      ]
     },
     "metadata": {},
     "output_type": "display_data"
    },
    {
     "name": "stdout",
     "output_type": "stream",
     "text": [
      "MESSAGES\n",
      "[{'role': 'user', 'content': 'Твоя задача - определить, релевантны ли предоставленные документы запросу пользователя. Релевантым считай тот документ, в котором тема хотя бы смежно связана с запросом. Верни ровно один массив из строк \\'0\\' или \\'1\\', где \\'1\\' означает, что документ релевантен запросу, а \\'0\\' - что нерелевантен. Массив должен иметь ровно столько элементов, сколько документов в запросе.\\n\\nЗапрос: \\'заболел родственник получить больничный\\'\\n\\nДокументы:\\nДокумент 0:\\nВопрос: больничный по уходу за родственником\\nОтвет: больничный с кодом 09 (уход за больным членом семьи) оплачивается полностью за счет средств сфр, работодатель в данном случае выплату не производит.\\n\\nДокумент 1:\\nВопрос: что делать, если больничный не закадровый резервыт мед. организацией?\\nОтвет: сотруднику следует обратиться в мед. организацию для закрытия больничного листа. самостоятельно проверить закрытие лн сотрудник сможете на портале гос.услуги link\\n\\nДокумент 2:\\nВопрос: получить материальную помощь при тяжелой болезни\\nОтвет: для оформления материальной помощи, пожалуйста, создайте заявку \" в разделе \"льготы, выплаты, материальная помощь\", выбрав тему \"материальная помощь\". инструкция размещена в \"базе знаний \" личного кабинета.\\n\\n\\n\\nОцени релевантность каждого документа к этому запросу и верни массив из 3 элементов, где каждый элемент - \\'0\\' или \\'1\\'.'}]\n",
      "MESSAGES\n",
      "[{'role': 'user', 'content': 'Ты помощник, который дает ответы в том же стиле, что и представленные примеры. Используй предоставленные вопросы и ответы как образец стиля и уровня детализации.\\n\\nПримеры вопросов и ответов:\\n\\nПример 1:\\nВопрос: больничный по уходу за родственником\\nОтвет: больничный с кодом 09 (уход за больным членом семьи) оплачивается полностью за счет средств сфр, работодатель в данном случае выплату не производит.\\n\\nПример 2:\\nВопрос: получить материальную помощь при тяжелой болезни\\nОтвет: для оформления материальной помощи, пожалуйста, создайте заявку \" в разделе \"льготы, выплаты, материальная помощь\", выбрав тему \"материальная помощь\". инструкция размещена в \"базе знаний \" личного кабинета.\\n\\n\\n\\nЗапрос пользователя: заболел родственник получить больничный\\n\\nОтветь на запрос пользователя в том же стиле, что и приведенные примеры.'}]\n"
     ]
    },
    {
     "data": {
      "text/html": [
       "<pre style=\"white-space:pre;overflow-x:auto;line-height:normal;font-family:Menlo,'DejaVu Sans Mono',consolas,'Courier New',monospace\">✨ You're running DeepEval's latest <span style=\"color: #6a00ff; text-decoration-color: #6a00ff\">Answer Relevancy Metric</span>! <span style=\"color: #374151; text-decoration-color: #374151; font-weight: bold\">(</span><span style=\"color: #374151; text-decoration-color: #374151\">using gpt-4o, </span><span style=\"color: #374151; text-decoration-color: #374151\">strict</span><span style=\"color: #374151; text-decoration-color: #374151\">=</span><span style=\"color: #374151; text-decoration-color: #374151; font-style: italic\">False</span><span style=\"color: #374151; text-decoration-color: #374151\">, </span><span style=\"color: #374151; text-decoration-color: #374151\">async_mode</span><span style=\"color: #374151; text-decoration-color: #374151\">=</span><span style=\"color: #374151; text-decoration-color: #374151; font-style: italic\">True</span><span style=\"color: #374151; text-decoration-color: #374151; font-weight: bold\">)</span><span style=\"color: #374151; text-decoration-color: #374151\">...</span>\n",
       "</pre>\n"
      ],
      "text/plain": [
       "✨ You're running DeepEval's latest \u001b[38;2;106;0;255mAnswer Relevancy Metric\u001b[0m! \u001b[1;38;2;55;65;81m(\u001b[0m\u001b[38;2;55;65;81musing gpt-4o, \u001b[0m\u001b[38;2;55;65;81mstrict\u001b[0m\u001b[38;2;55;65;81m=\u001b[0m\u001b[3;38;2;55;65;81mFalse\u001b[0m\u001b[38;2;55;65;81m, \u001b[0m\u001b[38;2;55;65;81masync_mode\u001b[0m\u001b[38;2;55;65;81m=\u001b[0m\u001b[3;38;2;55;65;81mTrue\u001b[0m\u001b[1;38;2;55;65;81m)\u001b[0m\u001b[38;2;55;65;81m...\u001b[0m\n"
      ]
     },
     "metadata": {},
     "output_type": "display_data"
    },
    {
     "name": "stdout",
     "output_type": "stream",
     "text": [
      "Event loop is already running. Applying nest_asyncio patch to allow async execution...\n"
     ]
    },
    {
     "name": "stderr",
     "output_type": "stream",
     "text": [
      "Evaluating 1 test case(s) in parallel: |██████████|100% (1/1) [Time Taken: 00:11, 11.04s/test case]\n"
     ]
    },
    {
     "data": {
      "text/html": [
       "<pre style=\"white-space:pre;overflow-x:auto;line-height:normal;font-family:Menlo,'DejaVu Sans Mono',consolas,'Courier New',monospace\">\n",
       "<span style=\"color: #05f58d; text-decoration-color: #05f58d\">✓</span> Tests finished 🎉! Run <span style=\"color: #008000; text-decoration-color: #008000; font-weight: bold\">'deepeval login'</span> to save and analyze evaluation results on Confident AI.\n",
       " \n",
       "✨👀 Looking for a place for your LLM test data to live 🏡❤️ ? Use <span style=\"color: #6a00ff; text-decoration-color: #6a00ff\">Confident AI</span> to get &amp; share testing reports, \n",
       "experiment with models/prompts, and catch regressions for your LLM system. Just run <span style=\"color: #008080; text-decoration-color: #008080\">'deepeval login'</span> in the CLI. \n",
       "\n",
       "</pre>\n"
      ],
      "text/plain": [
       "\n",
       "\u001b[38;2;5;245;141m✓\u001b[0m Tests finished 🎉! Run \u001b[1;32m'deepeval login'\u001b[0m to save and analyze evaluation results on Confident AI.\n",
       " \n",
       "✨👀 Looking for a place for your LLM test data to live 🏡❤️ ? Use \u001b[38;2;106;0;255mConfident AI\u001b[0m to get & share testing reports, \n",
       "experiment with models/prompts, and catch regressions for your LLM system. Just run \u001b[36m'deepeval login'\u001b[0m in the CLI. \n",
       "\n"
      ]
     },
     "metadata": {},
     "output_type": "display_data"
    },
    {
     "name": "stdout",
     "output_type": "stream",
     "text": [
      "MESSAGES\n",
      "[{'role': 'user', 'content': 'Твоя задача - определить, релевантны ли предоставленные документы запросу пользователя. Релевантым считай тот документ, в котором тема хотя бы смежно связана с запросом. Верни ровно один массив из строк \\'0\\' или \\'1\\', где \\'1\\' означает, что документ релевантен запросу, а \\'0\\' - что нерелевантен. Массив должен иметь ровно столько элементов, сколько документов в запросе.\\n\\nЗапрос: \\'увольте\\'\\n\\nДокументы:\\nДокумент 0:\\nВопрос: требуется увольнение\\nОтвет: напишите заявление на увольнение , шаблон есть в базе знаний личного кабинета и передайте его директору магазина. он подпишет заявление и передаст его в рамках заявки в личном кабинете по теме \"увольнение\". дату увольнения согласуйте, пожалуйста, с директором магазина. предупредить работодателя об увольнении необходимо за 14 дней до дня увольнения.\\n\\nДокумент 1:\\nВопрос: нужно провести увольнение\\nОтвет: сотрудник должен сам написать заявление на увольнение. шаблон есть в базе знаний личного кабинета. сотрудник передаст его директору магазина. он подпишет заявление и передаст его в рамках заявки в личном кабинете по теме \"увольнение\". дату увольнения необходимо согласовать с директором магазина. предупредить работодателя об увольнении необходимо за 14 дней до дня увольнения.\\n\\nДокумент 2:\\nВопрос: проблема с увольнением сотрудника\\nОтвет: создайте, пожалуйста, обращение в ит поддержку на портале support\\n\\nДокумент 3:\\nВопрос: как уволить осужденного?\\nОтвет: проведение увольнения по основанию, предусмотренному п. 4 ч. 1 ст. 83 тк рф (осуждение работника к наказанию), осуществляется, если дальнейшее продолжение работником работы невозможно (он лишен свободы) согласно решению суда, вступившего в законную силу (на решении суда должна быть проставлена отметка о вступлении данного решения в законную силу). для проведения увольнения необходимо создать заявку по теме \"5200 - увольнение в связи со смертью работника, выходом на пенсию, призывом на военную службу, осуждением к наказанию\" и вложить решение суда с отметкой о вступлении в законную силу. инструкция и шаблоны доступны по ссылке link\\n\\nДокумент 4:\\nВопрос: отменить трудоустройство\\nОтвет: если заявка не актуальна просьба создать заявку по процессу 5206 - отмена заявки или 5342-закрытие задач\\n\\n\\n\\nОцени релевантность каждого документа к этому запросу и верни массив из 5 элементов, где каждый элемент - \\'0\\' или \\'1\\'.'}]\n",
      "MESSAGES\n",
      "[{'role': 'user', 'content': 'Ты помощник, который дает ответы в том же стиле, что и представленные примеры. Используй предоставленные вопросы и ответы как образец стиля и уровня детализации.\\n\\nПримеры вопросов и ответов:\\n\\nПример 1:\\nВопрос: требуется увольнение\\nОтвет: напишите заявление на увольнение , шаблон есть в базе знаний личного кабинета и передайте его директору магазина. он подпишет заявление и передаст его в рамках заявки в личном кабинете по теме \"увольнение\". дату увольнения согласуйте, пожалуйста, с директором магазина. предупредить работодателя об увольнении необходимо за 14 дней до дня увольнения.\\n\\nПример 2:\\nВопрос: нужно провести увольнение\\nОтвет: сотрудник должен сам написать заявление на увольнение. шаблон есть в базе знаний личного кабинета. сотрудник передаст его директору магазина. он подпишет заявление и передаст его в рамках заявки в личном кабинете по теме \"увольнение\". дату увольнения необходимо согласовать с директором магазина. предупредить работодателя об увольнении необходимо за 14 дней до дня увольнения.\\n\\nПример 3:\\nВопрос: как уволить осужденного?\\nОтвет: проведение увольнения по основанию, предусмотренному п. 4 ч. 1 ст. 83 тк рф (осуждение работника к наказанию), осуществляется, если дальнейшее продолжение работником работы невозможно (он лишен свободы) согласно решению суда, вступившего в законную силу (на решении суда должна быть проставлена отметка о вступлении данного решения в законную силу). для проведения увольнения необходимо создать заявку по теме \"5200 - увольнение в связи со смертью работника, выходом на пенсию, призывом на военную службу, осуждением к наказанию\" и вложить решение суда с отметкой о вступлении в законную силу. инструкция и шаблоны доступны по ссылке link\\n\\n\\n\\nЗапрос пользователя: увольте\\n\\nОтветь на запрос пользователя в том же стиле, что и приведенные примеры.'}]\n"
     ]
    },
    {
     "data": {
      "text/html": [
       "<pre style=\"white-space:pre;overflow-x:auto;line-height:normal;font-family:Menlo,'DejaVu Sans Mono',consolas,'Courier New',monospace\">✨ You're running DeepEval's latest <span style=\"color: #6a00ff; text-decoration-color: #6a00ff\">Answer Relevancy Metric</span>! <span style=\"color: #374151; text-decoration-color: #374151; font-weight: bold\">(</span><span style=\"color: #374151; text-decoration-color: #374151\">using gpt-4o, </span><span style=\"color: #374151; text-decoration-color: #374151\">strict</span><span style=\"color: #374151; text-decoration-color: #374151\">=</span><span style=\"color: #374151; text-decoration-color: #374151; font-style: italic\">False</span><span style=\"color: #374151; text-decoration-color: #374151\">, </span><span style=\"color: #374151; text-decoration-color: #374151\">async_mode</span><span style=\"color: #374151; text-decoration-color: #374151\">=</span><span style=\"color: #374151; text-decoration-color: #374151; font-style: italic\">True</span><span style=\"color: #374151; text-decoration-color: #374151; font-weight: bold\">)</span><span style=\"color: #374151; text-decoration-color: #374151\">...</span>\n",
       "</pre>\n"
      ],
      "text/plain": [
       "✨ You're running DeepEval's latest \u001b[38;2;106;0;255mAnswer Relevancy Metric\u001b[0m! \u001b[1;38;2;55;65;81m(\u001b[0m\u001b[38;2;55;65;81musing gpt-4o, \u001b[0m\u001b[38;2;55;65;81mstrict\u001b[0m\u001b[38;2;55;65;81m=\u001b[0m\u001b[3;38;2;55;65;81mFalse\u001b[0m\u001b[38;2;55;65;81m, \u001b[0m\u001b[38;2;55;65;81masync_mode\u001b[0m\u001b[38;2;55;65;81m=\u001b[0m\u001b[3;38;2;55;65;81mTrue\u001b[0m\u001b[1;38;2;55;65;81m)\u001b[0m\u001b[38;2;55;65;81m...\u001b[0m\n"
      ]
     },
     "metadata": {},
     "output_type": "display_data"
    },
    {
     "name": "stdout",
     "output_type": "stream",
     "text": [
      "Event loop is already running. Applying nest_asyncio patch to allow async execution...\n"
     ]
    },
    {
     "name": "stderr",
     "output_type": "stream",
     "text": [
      "Evaluating 1 test case(s) in parallel: |██████████|100% (1/1) [Time Taken: 00:04,  4.25s/test case]\n"
     ]
    },
    {
     "data": {
      "text/html": [
       "<pre style=\"white-space:pre;overflow-x:auto;line-height:normal;font-family:Menlo,'DejaVu Sans Mono',consolas,'Courier New',monospace\">\n",
       "<span style=\"color: #05f58d; text-decoration-color: #05f58d\">✓</span> Tests finished 🎉! Run <span style=\"color: #008000; text-decoration-color: #008000; font-weight: bold\">'deepeval login'</span> to save and analyze evaluation results on Confident AI.\n",
       " \n",
       "✨👀 Looking for a place for your LLM test data to live 🏡❤️ ? Use <span style=\"color: #6a00ff; text-decoration-color: #6a00ff\">Confident AI</span> to get &amp; share testing reports, \n",
       "experiment with models/prompts, and catch regressions for your LLM system. Just run <span style=\"color: #008080; text-decoration-color: #008080\">'deepeval login'</span> in the CLI. \n",
       "\n",
       "</pre>\n"
      ],
      "text/plain": [
       "\n",
       "\u001b[38;2;5;245;141m✓\u001b[0m Tests finished 🎉! Run \u001b[1;32m'deepeval login'\u001b[0m to save and analyze evaluation results on Confident AI.\n",
       " \n",
       "✨👀 Looking for a place for your LLM test data to live 🏡❤️ ? Use \u001b[38;2;106;0;255mConfident AI\u001b[0m to get & share testing reports, \n",
       "experiment with models/prompts, and catch regressions for your LLM system. Just run \u001b[36m'deepeval login'\u001b[0m in the CLI. \n",
       "\n"
      ]
     },
     "metadata": {},
     "output_type": "display_data"
    },
    {
     "name": "stdout",
     "output_type": "stream",
     "text": [
      "MESSAGES\n",
      "[{'role': 'user', 'content': 'Твоя задача - определить, релевантны ли предоставленные документы запросу пользователя. Релевантым считай тот документ, в котором тема хотя бы смежно связана с запросом. Верни ровно один массив из строк \\'0\\' или \\'1\\', где \\'1\\' означает, что документ релевантен запросу, а \\'0\\' - что нерелевантен. Массив должен иметь ровно столько элементов, сколько документов в запросе.\\n\\nЗапрос: \\'открыть табельный договор\\'\\n\\nДокументы:\\nДокумент 0:\\nВопрос: табельный учет\\nОтвет: для внесения изменений в табель необходимо создать заявку в разделе \"заявки\" по теме \"табель/график/рабочее время\", выбрав подтему \"корректировка табеля в прошлом периоде\".\\n\\nДокумент 1:\\nВопрос: отрудовой договоррыть табель\\nОтвет: для открытия табеля создайте, пожалуйста, заявку в разделе \"заявки\" по теме \"табель/график/рабочее время\", выбрав подтему \"открытие табеля\".\\n\\nДокумент 2:\\nВопрос: получить роль табельщика\\nОтвет: для присвоения роли табельщика создайте, пожалуйста, заявку по теме «табельный учет. работа с табелем/графиком по собственному персоналу», подтема: «присвоение роли табельщика».\\n\\nДокумент 3:\\nВопрос: не могу создать заявки на сотрудника .отрудовой договоррыть табель\\nОтвет: если в \"команде\" нет подчиненных сотрудников просьба обратиться в поддержку для корректировки\\n\\nДокумент 4:\\nВопрос: нет возможности подписания табеля\\nОтвет: создайте, пожалуйста, обращение в ит поддержку на портале support\\n\\n\\n\\nОцени релевантность каждого документа к этому запросу и верни массив из 5 элементов, где каждый элемент - \\'0\\' или \\'1\\'.'}]\n",
      "MESSAGES\n",
      "[{'role': 'user', 'content': 'Ты помощник, который дает ответы в том же стиле, что и представленные примеры. Используй предоставленные вопросы и ответы как образец стиля и уровня детализации.\\n\\nПримеры вопросов и ответов:\\n\\nПример 1:\\nВопрос: отрудовой договоррыть табель\\nОтвет: для открытия табеля создайте, пожалуйста, заявку в разделе \"заявки\" по теме \"табель/график/рабочее время\", выбрав подтему \"открытие табеля\".\\n\\nПример 2:\\nВопрос: нет возможности подписания табеля\\nОтвет: создайте, пожалуйста, обращение в ит поддержку на портале support\\n\\n\\n\\nЗапрос пользователя: открыть табельный договор\\n\\nОтветь на запрос пользователя в том же стиле, что и приведенные примеры.'}]\n"
     ]
    },
    {
     "data": {
      "text/html": [
       "<pre style=\"white-space:pre;overflow-x:auto;line-height:normal;font-family:Menlo,'DejaVu Sans Mono',consolas,'Courier New',monospace\">✨ You're running DeepEval's latest <span style=\"color: #6a00ff; text-decoration-color: #6a00ff\">Answer Relevancy Metric</span>! <span style=\"color: #374151; text-decoration-color: #374151; font-weight: bold\">(</span><span style=\"color: #374151; text-decoration-color: #374151\">using gpt-4o, </span><span style=\"color: #374151; text-decoration-color: #374151\">strict</span><span style=\"color: #374151; text-decoration-color: #374151\">=</span><span style=\"color: #374151; text-decoration-color: #374151; font-style: italic\">False</span><span style=\"color: #374151; text-decoration-color: #374151\">, </span><span style=\"color: #374151; text-decoration-color: #374151\">async_mode</span><span style=\"color: #374151; text-decoration-color: #374151\">=</span><span style=\"color: #374151; text-decoration-color: #374151; font-style: italic\">True</span><span style=\"color: #374151; text-decoration-color: #374151; font-weight: bold\">)</span><span style=\"color: #374151; text-decoration-color: #374151\">...</span>\n",
       "</pre>\n"
      ],
      "text/plain": [
       "✨ You're running DeepEval's latest \u001b[38;2;106;0;255mAnswer Relevancy Metric\u001b[0m! \u001b[1;38;2;55;65;81m(\u001b[0m\u001b[38;2;55;65;81musing gpt-4o, \u001b[0m\u001b[38;2;55;65;81mstrict\u001b[0m\u001b[38;2;55;65;81m=\u001b[0m\u001b[3;38;2;55;65;81mFalse\u001b[0m\u001b[38;2;55;65;81m, \u001b[0m\u001b[38;2;55;65;81masync_mode\u001b[0m\u001b[38;2;55;65;81m=\u001b[0m\u001b[3;38;2;55;65;81mTrue\u001b[0m\u001b[1;38;2;55;65;81m)\u001b[0m\u001b[38;2;55;65;81m...\u001b[0m\n"
      ]
     },
     "metadata": {},
     "output_type": "display_data"
    },
    {
     "name": "stdout",
     "output_type": "stream",
     "text": [
      "Event loop is already running. Applying nest_asyncio patch to allow async execution...\n"
     ]
    },
    {
     "name": "stderr",
     "output_type": "stream",
     "text": [
      "Evaluating 1 test case(s) in parallel: |██████████|100% (1/1) [Time Taken: 00:03,  3.49s/test case]\n"
     ]
    },
    {
     "data": {
      "text/html": [
       "<pre style=\"white-space:pre;overflow-x:auto;line-height:normal;font-family:Menlo,'DejaVu Sans Mono',consolas,'Courier New',monospace\">\n",
       "<span style=\"color: #05f58d; text-decoration-color: #05f58d\">✓</span> Tests finished 🎉! Run <span style=\"color: #008000; text-decoration-color: #008000; font-weight: bold\">'deepeval login'</span> to save and analyze evaluation results on Confident AI.\n",
       " \n",
       "✨👀 Looking for a place for your LLM test data to live 🏡❤️ ? Use <span style=\"color: #6a00ff; text-decoration-color: #6a00ff\">Confident AI</span> to get &amp; share testing reports, \n",
       "experiment with models/prompts, and catch regressions for your LLM system. Just run <span style=\"color: #008080; text-decoration-color: #008080\">'deepeval login'</span> in the CLI. \n",
       "\n",
       "</pre>\n"
      ],
      "text/plain": [
       "\n",
       "\u001b[38;2;5;245;141m✓\u001b[0m Tests finished 🎉! Run \u001b[1;32m'deepeval login'\u001b[0m to save and analyze evaluation results on Confident AI.\n",
       " \n",
       "✨👀 Looking for a place for your LLM test data to live 🏡❤️ ? Use \u001b[38;2;106;0;255mConfident AI\u001b[0m to get & share testing reports, \n",
       "experiment with models/prompts, and catch regressions for your LLM system. Just run \u001b[36m'deepeval login'\u001b[0m in the CLI. \n",
       "\n"
      ]
     },
     "metadata": {},
     "output_type": "display_data"
    },
    {
     "name": "stdout",
     "output_type": "stream",
     "text": [
      "MESSAGES\n",
      "[{'role': 'user', 'content': 'Твоя задача - определить, релевантны ли предоставленные документы запросу пользователя. Релевантым считай тот документ, в котором тема хотя бы смежно связана с запросом. Верни ровно один массив из строк \\'0\\' или \\'1\\', где \\'1\\' означает, что документ релевантен запросу, а \\'0\\' - что нерелевантен. Массив должен иметь ровно столько элементов, сколько документов в запросе.\\n\\nЗапрос: \\'присвоить роль табельщика\\'\\n\\nДокументы:\\nДокумент 0:\\nВопрос: как присвоить роль табельщика?\\nОтвет: для присвоения роли табельщика создайте, пожалуйста, заявку по теме «табельный учет. работа с табелем/графиком по собственному персоналу», подтема: «присвоение роли табельщика».\\n\\nДокумент 1:\\nВопрос: табельный учет\\nОтвет: для внесения изменений в табель необходимо создать заявку в разделе \"заявки\" по теме \"табель/график/рабочее время\", выбрав подтему \"корректировка табеля в прошлом периоде\".\\n\\nДокумент 2:\\nВопрос: в табеле не верно указан мобильный телефон сотрудника\\nОтвет: кнопка \"изменить номер\" телефона находится в личном разделе в лк. если доступа к лк нет, для смены номера телефона, обратитесь в поддержку\\n\\n\\n\\nОцени релевантность каждого документа к этому запросу и верни массив из 3 элементов, где каждый элемент - \\'0\\' или \\'1\\'.'}]\n",
      "MESSAGES\n",
      "[{'role': 'user', 'content': 'Ты помощник, который дает ответы в том же стиле, что и представленные примеры. Используй предоставленные вопросы и ответы как образец стиля и уровня детализации.\\n\\nПримеры вопросов и ответов:\\n\\nПример 1:\\nВопрос: как присвоить роль табельщика?\\nОтвет: для присвоения роли табельщика создайте, пожалуйста, заявку по теме «табельный учет. работа с табелем/графиком по собственному персоналу», подтема: «присвоение роли табельщика».\\n\\n\\n\\nЗапрос пользователя: присвоить роль табельщика\\n\\nОтветь на запрос пользователя в том же стиле, что и приведенные примеры.'}]\n"
     ]
    },
    {
     "data": {
      "text/html": [
       "<pre style=\"white-space:pre;overflow-x:auto;line-height:normal;font-family:Menlo,'DejaVu Sans Mono',consolas,'Courier New',monospace\">✨ You're running DeepEval's latest <span style=\"color: #6a00ff; text-decoration-color: #6a00ff\">Answer Relevancy Metric</span>! <span style=\"color: #374151; text-decoration-color: #374151; font-weight: bold\">(</span><span style=\"color: #374151; text-decoration-color: #374151\">using gpt-4o, </span><span style=\"color: #374151; text-decoration-color: #374151\">strict</span><span style=\"color: #374151; text-decoration-color: #374151\">=</span><span style=\"color: #374151; text-decoration-color: #374151; font-style: italic\">False</span><span style=\"color: #374151; text-decoration-color: #374151\">, </span><span style=\"color: #374151; text-decoration-color: #374151\">async_mode</span><span style=\"color: #374151; text-decoration-color: #374151\">=</span><span style=\"color: #374151; text-decoration-color: #374151; font-style: italic\">True</span><span style=\"color: #374151; text-decoration-color: #374151; font-weight: bold\">)</span><span style=\"color: #374151; text-decoration-color: #374151\">...</span>\n",
       "</pre>\n"
      ],
      "text/plain": [
       "✨ You're running DeepEval's latest \u001b[38;2;106;0;255mAnswer Relevancy Metric\u001b[0m! \u001b[1;38;2;55;65;81m(\u001b[0m\u001b[38;2;55;65;81musing gpt-4o, \u001b[0m\u001b[38;2;55;65;81mstrict\u001b[0m\u001b[38;2;55;65;81m=\u001b[0m\u001b[3;38;2;55;65;81mFalse\u001b[0m\u001b[38;2;55;65;81m, \u001b[0m\u001b[38;2;55;65;81masync_mode\u001b[0m\u001b[38;2;55;65;81m=\u001b[0m\u001b[3;38;2;55;65;81mTrue\u001b[0m\u001b[1;38;2;55;65;81m)\u001b[0m\u001b[38;2;55;65;81m...\u001b[0m\n"
      ]
     },
     "metadata": {},
     "output_type": "display_data"
    },
    {
     "name": "stdout",
     "output_type": "stream",
     "text": [
      "Event loop is already running. Applying nest_asyncio patch to allow async execution...\n"
     ]
    },
    {
     "name": "stderr",
     "output_type": "stream",
     "text": [
      "Evaluating 1 test case(s) in parallel: |██████████|100% (1/1) [Time Taken: 00:05,  5.13s/test case]\n"
     ]
    },
    {
     "data": {
      "text/html": [
       "<pre style=\"white-space:pre;overflow-x:auto;line-height:normal;font-family:Menlo,'DejaVu Sans Mono',consolas,'Courier New',monospace\">\n",
       "<span style=\"color: #05f58d; text-decoration-color: #05f58d\">✓</span> Tests finished 🎉! Run <span style=\"color: #008000; text-decoration-color: #008000; font-weight: bold\">'deepeval login'</span> to save and analyze evaluation results on Confident AI.\n",
       " \n",
       "✨👀 Looking for a place for your LLM test data to live 🏡❤️ ? Use <span style=\"color: #6a00ff; text-decoration-color: #6a00ff\">Confident AI</span> to get &amp; share testing reports, \n",
       "experiment with models/prompts, and catch regressions for your LLM system. Just run <span style=\"color: #008080; text-decoration-color: #008080\">'deepeval login'</span> in the CLI. \n",
       "\n",
       "</pre>\n"
      ],
      "text/plain": [
       "\n",
       "\u001b[38;2;5;245;141m✓\u001b[0m Tests finished 🎉! Run \u001b[1;32m'deepeval login'\u001b[0m to save and analyze evaluation results on Confident AI.\n",
       " \n",
       "✨👀 Looking for a place for your LLM test data to live 🏡❤️ ? Use \u001b[38;2;106;0;255mConfident AI\u001b[0m to get & share testing reports, \n",
       "experiment with models/prompts, and catch regressions for your LLM system. Just run \u001b[36m'deepeval login'\u001b[0m in the CLI. \n",
       "\n"
      ]
     },
     "metadata": {},
     "output_type": "display_data"
    },
    {
     "name": "stdout",
     "output_type": "stream",
     "text": [
      "MESSAGES\n",
      "[{'role': 'user', 'content': 'Твоя задача - определить, релевантны ли предоставленные документы запросу пользователя. Релевантым считай тот документ, в котором тема хотя бы смежно связана с запросом. Верни ровно один массив из строк \\'0\\' или \\'1\\', где \\'1\\' означает, что документ релевантен запросу, а \\'0\\' - что нерелевантен. Массив должен иметь ровно столько элементов, сколько документов в запросе.\\n\\nЗапрос: \\'изменить команду в личном кабинете\\'\\n\\nДокументы:\\nДокумент 0:\\nВопрос: в личном кабинете скорректировать команду\\nОтвет: если в \"команде\" нет подчиненных сотрудников просьба обратиться в поддержку для корректировки\\n\\nДокумент 1:\\nВопрос: изменить фамилию в личный кабинет\\nОтвет: для изменения персональных данных (адрес/образование/дети/фио/снилс/семейный статус/инн) создается заявка в лк2 по теме изменение персональных данных link к заявке прикладывается документ, подтверждающий изменение. инструкция доступна по ссылке link\\n\\n\\n\\nОцени релевантность каждого документа к этому запросу и верни массив из 2 элементов, где каждый элемент - \\'0\\' или \\'1\\'.'}]\n",
      "MESSAGES\n",
      "[{'role': 'user', 'content': 'Ты помощник, который дает ответы в том же стиле, что и представленные примеры. Используй предоставленные вопросы и ответы как образец стиля и уровня детализации.\\n\\nПримеры вопросов и ответов:\\n\\nПример 1:\\nВопрос: в личном кабинете скорректировать команду\\nОтвет: если в \"команде\" нет подчиненных сотрудников просьба обратиться в поддержку для корректировки\\n\\n\\n\\nЗапрос пользователя: изменить команду в личном кабинете\\n\\nОтветь на запрос пользователя в том же стиле, что и приведенные примеры.'}]\n"
     ]
    },
    {
     "data": {
      "text/html": [
       "<pre style=\"white-space:pre;overflow-x:auto;line-height:normal;font-family:Menlo,'DejaVu Sans Mono',consolas,'Courier New',monospace\">✨ You're running DeepEval's latest <span style=\"color: #6a00ff; text-decoration-color: #6a00ff\">Answer Relevancy Metric</span>! <span style=\"color: #374151; text-decoration-color: #374151; font-weight: bold\">(</span><span style=\"color: #374151; text-decoration-color: #374151\">using gpt-4o, </span><span style=\"color: #374151; text-decoration-color: #374151\">strict</span><span style=\"color: #374151; text-decoration-color: #374151\">=</span><span style=\"color: #374151; text-decoration-color: #374151; font-style: italic\">False</span><span style=\"color: #374151; text-decoration-color: #374151\">, </span><span style=\"color: #374151; text-decoration-color: #374151\">async_mode</span><span style=\"color: #374151; text-decoration-color: #374151\">=</span><span style=\"color: #374151; text-decoration-color: #374151; font-style: italic\">True</span><span style=\"color: #374151; text-decoration-color: #374151; font-weight: bold\">)</span><span style=\"color: #374151; text-decoration-color: #374151\">...</span>\n",
       "</pre>\n"
      ],
      "text/plain": [
       "✨ You're running DeepEval's latest \u001b[38;2;106;0;255mAnswer Relevancy Metric\u001b[0m! \u001b[1;38;2;55;65;81m(\u001b[0m\u001b[38;2;55;65;81musing gpt-4o, \u001b[0m\u001b[38;2;55;65;81mstrict\u001b[0m\u001b[38;2;55;65;81m=\u001b[0m\u001b[3;38;2;55;65;81mFalse\u001b[0m\u001b[38;2;55;65;81m, \u001b[0m\u001b[38;2;55;65;81masync_mode\u001b[0m\u001b[38;2;55;65;81m=\u001b[0m\u001b[3;38;2;55;65;81mTrue\u001b[0m\u001b[1;38;2;55;65;81m)\u001b[0m\u001b[38;2;55;65;81m...\u001b[0m\n"
      ]
     },
     "metadata": {},
     "output_type": "display_data"
    },
    {
     "name": "stdout",
     "output_type": "stream",
     "text": [
      "Event loop is already running. Applying nest_asyncio patch to allow async execution...\n"
     ]
    },
    {
     "name": "stderr",
     "output_type": "stream",
     "text": [
      "Evaluating 1 test case(s) in parallel: |██████████|100% (1/1) [Time Taken: 00:03,  3.73s/test case]\n"
     ]
    },
    {
     "data": {
      "text/html": [
       "<pre style=\"white-space:pre;overflow-x:auto;line-height:normal;font-family:Menlo,'DejaVu Sans Mono',consolas,'Courier New',monospace\">\n",
       "<span style=\"color: #05f58d; text-decoration-color: #05f58d\">✓</span> Tests finished 🎉! Run <span style=\"color: #008000; text-decoration-color: #008000; font-weight: bold\">'deepeval login'</span> to save and analyze evaluation results on Confident AI.\n",
       " \n",
       "✨👀 Looking for a place for your LLM test data to live 🏡❤️ ? Use <span style=\"color: #6a00ff; text-decoration-color: #6a00ff\">Confident AI</span> to get &amp; share testing reports, \n",
       "experiment with models/prompts, and catch regressions for your LLM system. Just run <span style=\"color: #008080; text-decoration-color: #008080\">'deepeval login'</span> in the CLI. \n",
       "\n",
       "</pre>\n"
      ],
      "text/plain": [
       "\n",
       "\u001b[38;2;5;245;141m✓\u001b[0m Tests finished 🎉! Run \u001b[1;32m'deepeval login'\u001b[0m to save and analyze evaluation results on Confident AI.\n",
       " \n",
       "✨👀 Looking for a place for your LLM test data to live 🏡❤️ ? Use \u001b[38;2;106;0;255mConfident AI\u001b[0m to get & share testing reports, \n",
       "experiment with models/prompts, and catch regressions for your LLM system. Just run \u001b[36m'deepeval login'\u001b[0m in the CLI. \n",
       "\n"
      ]
     },
     "metadata": {},
     "output_type": "display_data"
    },
    {
     "name": "stdout",
     "output_type": "stream",
     "text": [
      "MESSAGES\n",
      "[{'role': 'user', 'content': 'Твоя задача - определить, релевантны ли предоставленные документы запросу пользователя. Релевантым считай тот документ, в котором тема хотя бы смежно связана с запросом. Верни ровно один массив из строк \\'0\\' или \\'1\\', где \\'1\\' означает, что документ релевантен запросу, а \\'0\\' - что нерелевантен. Массив должен иметь ровно столько элементов, сколько документов в запросе.\\n\\nЗапрос: \\'работа по совмещению\\'\\n\\nДокументы:\\nДокумент 0:\\nВопрос: хочу устроиться по совмещению\\nОтвет: для оформления по совместительству обратитесь, пожалуйста, к директору магазина, в который трудоустраиваетесь. при положительном решении он создаст заявку по теме \"прием совместителей\"\\n\\nДокумент 1:\\nВопрос: необходимо сформировать и согласовать график использования удаленной работы\\nОтвет: критерии доступности сервиса удаленная работа: 1.сотрудник не на нулевой занятости: процент соединения (ит 1001) между штатной должностью и табельным номером на текущую дату больше 0; 2.сотрудник на офисном графике работы: в ит 0007 нормативное рабочее время на текущую дату установлен график, который в соответствии с правилом грв (таблица t508a) является офисным – поле kkrkh принимает одно из значений: {1; 2; 3; 4; 6}; 3.у сотрудника есть руководитель: наличие на текущую дату соединения (ит 1001) b012 между ое сотрудника и шд руководителям или bz10 между шд сотрудника и шд руководителя; 4.уровень ceo- руководителя сотрудника позволяет принимать заявки на ур: на штатной должности руководителя сотрудника установленное на текущую дату значение атрибута (ит 1222) z_pm_ceo уровень подчиненности до сео по сценарию z_pm управление эффективностью должностей отсутствует в таблице zhrt_ess_remapp для формата сотрудника (на данный момент ограничение только на ceo и -1 5.сотруднику установлен признак «удаленный офис»: на шд сотрудника / на ое сотрудника / на вышестоящей ое (по пути анализа p-s-o-o) в ит 1010 комп/вспомсредства подтипе 9021 работа на дому установлено значение 002 удаленный офис. если какой-то из критериев не выполняется, вкладка «удаленная работа» в личном кабинете будет не доступна. для внесения изменений в систему sap, необходимо обратиться к специалистам по кадрам.\\n\\nДокумент 2:\\nВопрос: делегировать задачи\\nОтвет: создайте, пожалуйста, обращение в ит поддержку на портале support\\n\\n\\n\\nОцени релевантность каждого документа к этому запросу и верни массив из 3 элементов, где каждый элемент - \\'0\\' или \\'1\\'.'}]\n",
      "MESSAGES\n",
      "[{'role': 'user', 'content': 'Ты помощник, который дает ответы в том же стиле, что и представленные примеры. Используй предоставленные вопросы и ответы как образец стиля и уровня детализации.\\n\\nПримеры вопросов и ответов:\\n\\nПример 1:\\nВопрос: хочу устроиться по совмещению\\nОтвет: для оформления по совместительству обратитесь, пожалуйста, к директору магазина, в который трудоустраиваетесь. при положительном решении он создаст заявку по теме \"прием совместителей\"\\n\\n\\n\\nЗапрос пользователя: работа по совмещению\\n\\nОтветь на запрос пользователя в том же стиле, что и приведенные примеры.'}]\n"
     ]
    },
    {
     "data": {
      "text/html": [
       "<pre style=\"white-space:pre;overflow-x:auto;line-height:normal;font-family:Menlo,'DejaVu Sans Mono',consolas,'Courier New',monospace\">✨ You're running DeepEval's latest <span style=\"color: #6a00ff; text-decoration-color: #6a00ff\">Answer Relevancy Metric</span>! <span style=\"color: #374151; text-decoration-color: #374151; font-weight: bold\">(</span><span style=\"color: #374151; text-decoration-color: #374151\">using gpt-4o, </span><span style=\"color: #374151; text-decoration-color: #374151\">strict</span><span style=\"color: #374151; text-decoration-color: #374151\">=</span><span style=\"color: #374151; text-decoration-color: #374151; font-style: italic\">False</span><span style=\"color: #374151; text-decoration-color: #374151\">, </span><span style=\"color: #374151; text-decoration-color: #374151\">async_mode</span><span style=\"color: #374151; text-decoration-color: #374151\">=</span><span style=\"color: #374151; text-decoration-color: #374151; font-style: italic\">True</span><span style=\"color: #374151; text-decoration-color: #374151; font-weight: bold\">)</span><span style=\"color: #374151; text-decoration-color: #374151\">...</span>\n",
       "</pre>\n"
      ],
      "text/plain": [
       "✨ You're running DeepEval's latest \u001b[38;2;106;0;255mAnswer Relevancy Metric\u001b[0m! \u001b[1;38;2;55;65;81m(\u001b[0m\u001b[38;2;55;65;81musing gpt-4o, \u001b[0m\u001b[38;2;55;65;81mstrict\u001b[0m\u001b[38;2;55;65;81m=\u001b[0m\u001b[3;38;2;55;65;81mFalse\u001b[0m\u001b[38;2;55;65;81m, \u001b[0m\u001b[38;2;55;65;81masync_mode\u001b[0m\u001b[38;2;55;65;81m=\u001b[0m\u001b[3;38;2;55;65;81mTrue\u001b[0m\u001b[1;38;2;55;65;81m)\u001b[0m\u001b[38;2;55;65;81m...\u001b[0m\n"
      ]
     },
     "metadata": {},
     "output_type": "display_data"
    },
    {
     "name": "stdout",
     "output_type": "stream",
     "text": [
      "Event loop is already running. Applying nest_asyncio patch to allow async execution...\n"
     ]
    },
    {
     "name": "stderr",
     "output_type": "stream",
     "text": [
      "Evaluating 1 test case(s) in parallel: |██████████|100% (1/1) [Time Taken: 00:03,  3.74s/test case]\n"
     ]
    },
    {
     "data": {
      "text/html": [
       "<pre style=\"white-space:pre;overflow-x:auto;line-height:normal;font-family:Menlo,'DejaVu Sans Mono',consolas,'Courier New',monospace\">\n",
       "<span style=\"color: #05f58d; text-decoration-color: #05f58d\">✓</span> Tests finished 🎉! Run <span style=\"color: #008000; text-decoration-color: #008000; font-weight: bold\">'deepeval login'</span> to save and analyze evaluation results on Confident AI.\n",
       " \n",
       "✨👀 Looking for a place for your LLM test data to live 🏡❤️ ? Use <span style=\"color: #6a00ff; text-decoration-color: #6a00ff\">Confident AI</span> to get &amp; share testing reports, \n",
       "experiment with models/prompts, and catch regressions for your LLM system. Just run <span style=\"color: #008080; text-decoration-color: #008080\">'deepeval login'</span> in the CLI. \n",
       "\n",
       "</pre>\n"
      ],
      "text/plain": [
       "\n",
       "\u001b[38;2;5;245;141m✓\u001b[0m Tests finished 🎉! Run \u001b[1;32m'deepeval login'\u001b[0m to save and analyze evaluation results on Confident AI.\n",
       " \n",
       "✨👀 Looking for a place for your LLM test data to live 🏡❤️ ? Use \u001b[38;2;106;0;255mConfident AI\u001b[0m to get & share testing reports, \n",
       "experiment with models/prompts, and catch regressions for your LLM system. Just run \u001b[36m'deepeval login'\u001b[0m in the CLI. \n",
       "\n"
      ]
     },
     "metadata": {},
     "output_type": "display_data"
    },
    {
     "name": "stdout",
     "output_type": "stream",
     "text": [
      "MESSAGES\n",
      "[{'role': 'user', 'content': 'Твоя задача - определить, релевантны ли предоставленные документы запросу пользователя. Релевантым считай тот документ, в котором тема хотя бы смежно связана с запросом. Верни ровно один массив из строк \\'0\\' или \\'1\\', где \\'1\\' означает, что документ релевантен запросу, а \\'0\\' - что нерелевантен. Массив должен иметь ровно столько элементов, сколько документов в запросе.\\n\\nЗапрос: \\'устроиться в офис\\'\\n\\nДокументы:\\nДокумент 0:\\nВопрос: трудоустройство в офис\\nОтвет: для приема офисного сотрудника, пожалуйста, создайте в разделе \"прием\" выбрав тему \"1011о - прием на работу (офис)\". подробная информация о создании заявки размещена в \"базе знаний \".\\n\\nДокумент 1:\\nВопрос: принять на работу офис\\nОтвет: ог. развитие или планирование территории, для заведения заявки по процессу 5401 - изменение организационной структуры и штатного расписания.\\n\\nДокумент 2:\\nВопрос: взять сотрудника в штат\\nОтвет: для вывода сотрудника в штат создайте, пожалуйста, заявку в личном кабинете по теме «табель/график/рабочее время», далее «обнуление ставок» с подтемой «прекращение обнуления».\\n\\nДокумент 3:\\nВопрос: прием на работу\\nОтвет: для приема необходимо выбрать ставку администратора-стажера, директора-стажера, заместителя-стажера.\\n\\nДокумент 4:\\nВопрос: устраивается новый сотрудник, какие документы необходимы\\nОтвет: для корректного оформления приема кандидата необходимо вложить в заявку следующие документы: паспорт (все заполненные страницы) документы воинского учёта (для военнообязанных и лиц, подлежащих призыву на военную службу) копия 1-й и последней страницы трудовой книжки/вкладыша трудовой книжки (при наличии), либо заявление на заведение трудовой снилс, за исключением случаев, когда тд заключается впервые расписка об отсутствии/подтверждении наличия периодов государственной или муниципальной службы согласование кандидата службой безопасности – для процессов 1011р, 1011о документ об образовании (при необходимости подтвердить спец. знания, спец. подготовку) инн (при наличии) свидетельство о заключении/расторжении брака (при наличии) свидетельство о рождении ребенка (при наличии) свидетельство о перемене имени (при наличии) выписка из банка с указанием номера расчётного счёта, заявление на перечисление заработной платы на расчётный счёт/заявление на перевод заработной платы на карту альфа-банк.\\n\\n\\n\\nОцени релевантность каждого документа к этому запросу и верни массив из 5 элементов, где каждый элемент - \\'0\\' или \\'1\\'.'}]\n",
      "MESSAGES\n",
      "[{'role': 'user', 'content': 'Ты помощник, который дает ответы в том же стиле, что и представленные примеры. Используй предоставленные вопросы и ответы как образец стиля и уровня детализации.\\n\\nПримеры вопросов и ответов:\\n\\nПример 1:\\nВопрос: трудоустройство в офис\\nОтвет: для приема офисного сотрудника, пожалуйста, создайте в разделе \"прием\" выбрав тему \"1011о - прием на работу (офис)\". подробная информация о создании заявки размещена в \"базе знаний \".\\n\\nПример 2:\\nВопрос: принять на работу офис\\nОтвет: ог. развитие или планирование территории, для заведения заявки по процессу 5401 - изменение организационной структуры и штатного расписания.\\n\\nПример 3:\\nВопрос: взять сотрудника в штат\\nОтвет: для вывода сотрудника в штат создайте, пожалуйста, заявку в личном кабинете по теме «табель/график/рабочее время», далее «обнуление ставок» с подтемой «прекращение обнуления».\\n\\nПример 4:\\nВопрос: прием на работу\\nОтвет: для приема необходимо выбрать ставку администратора-стажера, директора-стажера, заместителя-стажера.\\n\\nПример 5:\\nВопрос: устраивается новый сотрудник, какие документы необходимы\\nОтвет: для корректного оформления приема кандидата необходимо вложить в заявку следующие документы: паспорт (все заполненные страницы) документы воинского учёта (для военнообязанных и лиц, подлежащих призыву на военную службу) копия 1-й и последней страницы трудовой книжки/вкладыша трудовой книжки (при наличии), либо заявление на заведение трудовой снилс, за исключением случаев, когда тд заключается впервые расписка об отсутствии/подтверждении наличия периодов государственной или муниципальной службы согласование кандидата службой безопасности – для процессов 1011р, 1011о документ об образовании (при необходимости подтвердить спец. знания, спец. подготовку) инн (при наличии) свидетельство о заключении/расторжении брака (при наличии) свидетельство о рождении ребенка (при наличии) свидетельство о перемене имени (при наличии) выписка из банка с указанием номера расчётного счёта, заявление на перечисление заработной платы на расчётный счёт/заявление на перевод заработной платы на карту альфа-банк.\\n\\n\\n\\nЗапрос пользователя: устроиться в офис\\n\\nОтветь на запрос пользователя в том же стиле, что и приведенные примеры.'}]\n"
     ]
    },
    {
     "data": {
      "text/html": [
       "<pre style=\"white-space:pre;overflow-x:auto;line-height:normal;font-family:Menlo,'DejaVu Sans Mono',consolas,'Courier New',monospace\">✨ You're running DeepEval's latest <span style=\"color: #6a00ff; text-decoration-color: #6a00ff\">Answer Relevancy Metric</span>! <span style=\"color: #374151; text-decoration-color: #374151; font-weight: bold\">(</span><span style=\"color: #374151; text-decoration-color: #374151\">using gpt-4o, </span><span style=\"color: #374151; text-decoration-color: #374151\">strict</span><span style=\"color: #374151; text-decoration-color: #374151\">=</span><span style=\"color: #374151; text-decoration-color: #374151; font-style: italic\">False</span><span style=\"color: #374151; text-decoration-color: #374151\">, </span><span style=\"color: #374151; text-decoration-color: #374151\">async_mode</span><span style=\"color: #374151; text-decoration-color: #374151\">=</span><span style=\"color: #374151; text-decoration-color: #374151; font-style: italic\">True</span><span style=\"color: #374151; text-decoration-color: #374151; font-weight: bold\">)</span><span style=\"color: #374151; text-decoration-color: #374151\">...</span>\n",
       "</pre>\n"
      ],
      "text/plain": [
       "✨ You're running DeepEval's latest \u001b[38;2;106;0;255mAnswer Relevancy Metric\u001b[0m! \u001b[1;38;2;55;65;81m(\u001b[0m\u001b[38;2;55;65;81musing gpt-4o, \u001b[0m\u001b[38;2;55;65;81mstrict\u001b[0m\u001b[38;2;55;65;81m=\u001b[0m\u001b[3;38;2;55;65;81mFalse\u001b[0m\u001b[38;2;55;65;81m, \u001b[0m\u001b[38;2;55;65;81masync_mode\u001b[0m\u001b[38;2;55;65;81m=\u001b[0m\u001b[3;38;2;55;65;81mTrue\u001b[0m\u001b[1;38;2;55;65;81m)\u001b[0m\u001b[38;2;55;65;81m...\u001b[0m\n"
      ]
     },
     "metadata": {},
     "output_type": "display_data"
    },
    {
     "name": "stdout",
     "output_type": "stream",
     "text": [
      "Event loop is already running. Applying nest_asyncio patch to allow async execution...\n"
     ]
    },
    {
     "name": "stderr",
     "output_type": "stream",
     "text": [
      "Evaluating 1 test case(s) in parallel: |██████████|100% (1/1) [Time Taken: 00:03,  3.27s/test case]\n"
     ]
    },
    {
     "data": {
      "text/html": [
       "<pre style=\"white-space:pre;overflow-x:auto;line-height:normal;font-family:Menlo,'DejaVu Sans Mono',consolas,'Courier New',monospace\">\n",
       "<span style=\"color: #05f58d; text-decoration-color: #05f58d\">✓</span> Tests finished 🎉! Run <span style=\"color: #008000; text-decoration-color: #008000; font-weight: bold\">'deepeval login'</span> to save and analyze evaluation results on Confident AI.\n",
       " \n",
       "✨👀 Looking for a place for your LLM test data to live 🏡❤️ ? Use <span style=\"color: #6a00ff; text-decoration-color: #6a00ff\">Confident AI</span> to get &amp; share testing reports, \n",
       "experiment with models/prompts, and catch regressions for your LLM system. Just run <span style=\"color: #008080; text-decoration-color: #008080\">'deepeval login'</span> in the CLI. \n",
       "\n",
       "</pre>\n"
      ],
      "text/plain": [
       "\n",
       "\u001b[38;2;5;245;141m✓\u001b[0m Tests finished 🎉! Run \u001b[1;32m'deepeval login'\u001b[0m to save and analyze evaluation results on Confident AI.\n",
       " \n",
       "✨👀 Looking for a place for your LLM test data to live 🏡❤️ ? Use \u001b[38;2;106;0;255mConfident AI\u001b[0m to get & share testing reports, \n",
       "experiment with models/prompts, and catch regressions for your LLM system. Just run \u001b[36m'deepeval login'\u001b[0m in the CLI. \n",
       "\n"
      ]
     },
     "metadata": {},
     "output_type": "display_data"
    },
    {
     "name": "stdout",
     "output_type": "stream",
     "text": [
      "MESSAGES\n",
      "[{'role': 'user', 'content': \"Твоя задача - определить, релевантны ли предоставленные документы запросу пользователя. Релевантым считай тот документ, в котором тема хотя бы смежно связана с запросом. Верни ровно один массив из строк '0' или '1', где '1' означает, что документ релевантен запросу, а '0' - что нерелевантен. Массив должен иметь ровно столько элементов, сколько документов в запросе.\\n\\nЗапрос: 'вернуть человека обратно в штат'\\n\\nДокументы:\\nДокумент 0:\\nВопрос: вернуть сотрудника в штат\\nОтвет: для вывода сотрудника в штат создайте, пожалуйста, заявку в личном кабинете по теме «табель/график/рабочее время», далее «обнуление ставок» с подтемой «прекращение обнуления».\\n\\nДокумент 1:\\nВопрос: восстановить доступ сотруднику\\nОтвет: при проблемах со входом в личный кабинет, прежде чем создавать заявку в поддержку, убедитесь, что заходите в лк на сайте link указываете актуальные и верные логин и пароль. если вам неизвестен логин, обратитесь к руководителю (дм), он сможет посмотреть ваш логин и сбросить пароль в веб-табеле. для самостоятельного сброса пароля позвоните с вашего мобильного телефона на phone, наберите добавочный номер 10100, нажмите * и подтвердите сброс пароля, нажав #. обновленный пароль отправляется по sms.\\n\\nДокумент 2:\\nВопрос: нужно вернуть заявку исполнителю\\nОтвет: создайте, пожалуйста, обращение в ит поддержку на портале support\\n\\n\\n\\nОцени релевантность каждого документа к этому запросу и верни массив из 3 элементов, где каждый элемент - '0' или '1'.\"}]\n",
      "MESSAGES\n",
      "[{'role': 'user', 'content': 'Ты помощник, который дает ответы в том же стиле, что и представленные примеры. Используй предоставленные вопросы и ответы как образец стиля и уровня детализации.\\n\\nПримеры вопросов и ответов:\\n\\nПример 1:\\nВопрос: вернуть сотрудника в штат\\nОтвет: для вывода сотрудника в штат создайте, пожалуйста, заявку в личном кабинете по теме «табель/график/рабочее время», далее «обнуление ставок» с подтемой «прекращение обнуления».\\n\\n\\n\\nЗапрос пользователя: вернуть человека обратно в штат\\n\\nОтветь на запрос пользователя в том же стиле, что и приведенные примеры.'}]\n"
     ]
    },
    {
     "data": {
      "text/html": [
       "<pre style=\"white-space:pre;overflow-x:auto;line-height:normal;font-family:Menlo,'DejaVu Sans Mono',consolas,'Courier New',monospace\">✨ You're running DeepEval's latest <span style=\"color: #6a00ff; text-decoration-color: #6a00ff\">Answer Relevancy Metric</span>! <span style=\"color: #374151; text-decoration-color: #374151; font-weight: bold\">(</span><span style=\"color: #374151; text-decoration-color: #374151\">using gpt-4o, </span><span style=\"color: #374151; text-decoration-color: #374151\">strict</span><span style=\"color: #374151; text-decoration-color: #374151\">=</span><span style=\"color: #374151; text-decoration-color: #374151; font-style: italic\">False</span><span style=\"color: #374151; text-decoration-color: #374151\">, </span><span style=\"color: #374151; text-decoration-color: #374151\">async_mode</span><span style=\"color: #374151; text-decoration-color: #374151\">=</span><span style=\"color: #374151; text-decoration-color: #374151; font-style: italic\">True</span><span style=\"color: #374151; text-decoration-color: #374151; font-weight: bold\">)</span><span style=\"color: #374151; text-decoration-color: #374151\">...</span>\n",
       "</pre>\n"
      ],
      "text/plain": [
       "✨ You're running DeepEval's latest \u001b[38;2;106;0;255mAnswer Relevancy Metric\u001b[0m! \u001b[1;38;2;55;65;81m(\u001b[0m\u001b[38;2;55;65;81musing gpt-4o, \u001b[0m\u001b[38;2;55;65;81mstrict\u001b[0m\u001b[38;2;55;65;81m=\u001b[0m\u001b[3;38;2;55;65;81mFalse\u001b[0m\u001b[38;2;55;65;81m, \u001b[0m\u001b[38;2;55;65;81masync_mode\u001b[0m\u001b[38;2;55;65;81m=\u001b[0m\u001b[3;38;2;55;65;81mTrue\u001b[0m\u001b[1;38;2;55;65;81m)\u001b[0m\u001b[38;2;55;65;81m...\u001b[0m\n"
      ]
     },
     "metadata": {},
     "output_type": "display_data"
    },
    {
     "name": "stdout",
     "output_type": "stream",
     "text": [
      "Event loop is already running. Applying nest_asyncio patch to allow async execution...\n"
     ]
    },
    {
     "name": "stderr",
     "output_type": "stream",
     "text": [
      "Evaluating 1 test case(s) in parallel: |██████████|100% (1/1) [Time Taken: 00:03,  3.56s/test case]\n"
     ]
    },
    {
     "data": {
      "text/html": [
       "<pre style=\"white-space:pre;overflow-x:auto;line-height:normal;font-family:Menlo,'DejaVu Sans Mono',consolas,'Courier New',monospace\">\n",
       "<span style=\"color: #05f58d; text-decoration-color: #05f58d\">✓</span> Tests finished 🎉! Run <span style=\"color: #008000; text-decoration-color: #008000; font-weight: bold\">'deepeval login'</span> to save and analyze evaluation results on Confident AI.\n",
       " \n",
       "✨👀 Looking for a place for your LLM test data to live 🏡❤️ ? Use <span style=\"color: #6a00ff; text-decoration-color: #6a00ff\">Confident AI</span> to get &amp; share testing reports, \n",
       "experiment with models/prompts, and catch regressions for your LLM system. Just run <span style=\"color: #008080; text-decoration-color: #008080\">'deepeval login'</span> in the CLI. \n",
       "\n",
       "</pre>\n"
      ],
      "text/plain": [
       "\n",
       "\u001b[38;2;5;245;141m✓\u001b[0m Tests finished 🎉! Run \u001b[1;32m'deepeval login'\u001b[0m to save and analyze evaluation results on Confident AI.\n",
       " \n",
       "✨👀 Looking for a place for your LLM test data to live 🏡❤️ ? Use \u001b[38;2;106;0;255mConfident AI\u001b[0m to get & share testing reports, \n",
       "experiment with models/prompts, and catch regressions for your LLM system. Just run \u001b[36m'deepeval login'\u001b[0m in the CLI. \n",
       "\n"
      ]
     },
     "metadata": {},
     "output_type": "display_data"
    },
    {
     "name": "stdout",
     "output_type": "stream",
     "text": [
      "MESSAGES\n",
      "[{'role': 'user', 'content': \"Твоя задача - определить, релевантны ли предоставленные документы запросу пользователя. Релевантым считай тот документ, в котором тема хотя бы смежно связана с запросом. Верни ровно один массив из строк '0' или '1', где '1' означает, что документ релевантен запросу, а '0' - что нерелевантен. Массив должен иметь ровно столько элементов, сколько документов в запросе.\\n\\nЗапрос: 'можно ли принять кондидата со справкой из ваенкамата'\\n\\nДокументы:\\nДокумент 0:\\nВопрос: можно ли быть принятым, если предоставлен документ из военкомата?\\nОтвет: прием возможен с документом воинского учета, а именно: военный билет рф, приписное свидетельство, временное удостоверение взамен военного билета. справки из военкомата рассматриваются индивидуально. инструкция и шаблоны доступны по ссылке link\\n\\nДокумент 1:\\nВопрос: какие документы нужно предоставить для приема на работу мужчине 60 лет, который должен предоставить справку в военкомат?\\nОтвет: в соответствии со ст. 65 тк рф работник должен представить, а работодатель обязан потребовать документы, необходимые для заключения трудового договора. военнообязанные и лица, подлежащие призыву на военную службу, при заключении трудового договора должны предъявить документы воинского учета. в силу положения о воинском учете, утвержденного постановлением правительства рф от 25 декабря 1998 г. n 1541, основными документами воинского учета являются: для граждан, пребывающих в запасе, - военный билет (временное удостоверение, выданное взамен военного билета). так как мужчины офицерских званий являются военнообязанными до 65-70 лет, считать кандидата невоеннообязанным, опираясь на данные возраста, нет возможности. кандидат обязан предоставить военный билет с отметкой о снятии с учета или справку из военного комиссариата с соответствующей информацией. инструкция и шаблоны доступны по ссылке link\\n\\nДокумент 2:\\nВопрос: возможен ли прием сотрудника по военному билету другой страны?\\nОтвет: воинскому учету подлежат только военнообязанные граждане россии (п. 14 положения, утвержденного постановлением правительства рф от 27 ноября 2006 г.). таким образом, требовать документы воинского учета, в том числе военный билет, у иностранных граждан при их трудоустройстве не нужно. инструкция и шаблоны доступны по ссылке link\\n\\nДокумент 3:\\nВопрос: перечень документов для приема кандидата\\nОтвет: для корректного оформления приема кандидата необходимо вложить в заявку следующие документы: паспорт (все заполненные страницы) документы воинского учёта (для военнообязанных и лиц, подлежащих призыву на военную службу) копия 1-й и последней страницы трудовой книжки/вкладыша трудовой книжки (при наличии), либо заявление на заведение трудовой снилс, за исключением случаев, когда тд заключается впервые расписка об отсутствии/подтверждении наличия периодов государственной или муниципальной службы согласование кандидата службой безопасности – для процессов 1011р, 1011о документ об образовании (при необходимости подтвердить спец. знания, спец. подготовку) инн (при наличии) свидетельство о заключении/расторжении брака (при наличии) свидетельство о рождении ребенка (при наличии) свидетельство о перемене имени (при наличии) выписка из банка с указанием номера расчётного счёта, заявление на перечисление заработной платы на расчётный счёт/заявление на перевод заработной платы на карту альфа-банк.\\n\\nДокумент 4:\\nВопрос: можно ли принять на работу человека, у которого временная прописка?\\nОтвет: прием по временной регистрации возможен.\\n\\n\\n\\nОцени релевантность каждого документа к этому запросу и верни массив из 5 элементов, где каждый элемент - '0' или '1'.\"}]\n",
      "MESSAGES\n",
      "[{'role': 'user', 'content': 'Ты помощник, который дает ответы в том же стиле, что и представленные примеры. Используй предоставленные вопросы и ответы как образец стиля и уровня детализации.\\n\\nПримеры вопросов и ответов:\\n\\nПример 1:\\nВопрос: можно ли быть принятым, если предоставлен документ из военкомата?\\nОтвет: прием возможен с документом воинского учета, а именно: военный билет рф, приписное свидетельство, временное удостоверение взамен военного билета. справки из военкомата рассматриваются индивидуально. инструкция и шаблоны доступны по ссылке link\\n\\nПример 2:\\nВопрос: какие документы нужно предоставить для приема на работу мужчине 60 лет, который должен предоставить справку в военкомат?\\nОтвет: в соответствии со ст. 65 тк рф работник должен представить, а работодатель обязан потребовать документы, необходимые для заключения трудового договора. военнообязанные и лица, подлежащие призыву на военную службу, при заключении трудового договора должны предъявить документы воинского учета. в силу положения о воинском учете, утвержденного постановлением правительства рф от 25 декабря 1998 г. n 1541, основными документами воинского учета являются: для граждан, пребывающих в запасе, - военный билет (временное удостоверение, выданное взамен военного билета). так как мужчины офицерских званий являются военнообязанными до 65-70 лет, считать кандидата невоеннообязанным, опираясь на данные возраста, нет возможности. кандидат обязан предоставить военный билет с отметкой о снятии с учета или справку из военного комиссариата с соответствующей информацией. инструкция и шаблоны доступны по ссылке link\\n\\nПример 3:\\nВопрос: перечень документов для приема кандидата\\nОтвет: для корректного оформления приема кандидата необходимо вложить в заявку следующие документы: паспорт (все заполненные страницы) документы воинского учёта (для военнообязанных и лиц, подлежащих призыву на военную службу) копия 1-й и последней страницы трудовой книжки/вкладыша трудовой книжки (при наличии), либо заявление на заведение трудовой снилс, за исключением случаев, когда тд заключается впервые расписка об отсутствии/подтверждении наличия периодов государственной или муниципальной службы согласование кандидата службой безопасности – для процессов 1011р, 1011о документ об образовании (при необходимости подтвердить спец. знания, спец. подготовку) инн (при наличии) свидетельство о заключении/расторжении брака (при наличии) свидетельство о рождении ребенка (при наличии) свидетельство о перемене имени (при наличии) выписка из банка с указанием номера расчётного счёта, заявление на перечисление заработной платы на расчётный счёт/заявление на перевод заработной платы на карту альфа-банк.\\n\\n\\n\\nЗапрос пользователя: можно ли принять кондидата со справкой из ваенкамата\\n\\nОтветь на запрос пользователя в том же стиле, что и приведенные примеры.'}]\n"
     ]
    },
    {
     "data": {
      "text/html": [
       "<pre style=\"white-space:pre;overflow-x:auto;line-height:normal;font-family:Menlo,'DejaVu Sans Mono',consolas,'Courier New',monospace\">✨ You're running DeepEval's latest <span style=\"color: #6a00ff; text-decoration-color: #6a00ff\">Answer Relevancy Metric</span>! <span style=\"color: #374151; text-decoration-color: #374151; font-weight: bold\">(</span><span style=\"color: #374151; text-decoration-color: #374151\">using gpt-4o, </span><span style=\"color: #374151; text-decoration-color: #374151\">strict</span><span style=\"color: #374151; text-decoration-color: #374151\">=</span><span style=\"color: #374151; text-decoration-color: #374151; font-style: italic\">False</span><span style=\"color: #374151; text-decoration-color: #374151\">, </span><span style=\"color: #374151; text-decoration-color: #374151\">async_mode</span><span style=\"color: #374151; text-decoration-color: #374151\">=</span><span style=\"color: #374151; text-decoration-color: #374151; font-style: italic\">True</span><span style=\"color: #374151; text-decoration-color: #374151; font-weight: bold\">)</span><span style=\"color: #374151; text-decoration-color: #374151\">...</span>\n",
       "</pre>\n"
      ],
      "text/plain": [
       "✨ You're running DeepEval's latest \u001b[38;2;106;0;255mAnswer Relevancy Metric\u001b[0m! \u001b[1;38;2;55;65;81m(\u001b[0m\u001b[38;2;55;65;81musing gpt-4o, \u001b[0m\u001b[38;2;55;65;81mstrict\u001b[0m\u001b[38;2;55;65;81m=\u001b[0m\u001b[3;38;2;55;65;81mFalse\u001b[0m\u001b[38;2;55;65;81m, \u001b[0m\u001b[38;2;55;65;81masync_mode\u001b[0m\u001b[38;2;55;65;81m=\u001b[0m\u001b[3;38;2;55;65;81mTrue\u001b[0m\u001b[1;38;2;55;65;81m)\u001b[0m\u001b[38;2;55;65;81m...\u001b[0m\n"
      ]
     },
     "metadata": {},
     "output_type": "display_data"
    },
    {
     "name": "stdout",
     "output_type": "stream",
     "text": [
      "Event loop is already running. Applying nest_asyncio patch to allow async execution...\n"
     ]
    },
    {
     "name": "stderr",
     "output_type": "stream",
     "text": [
      "Evaluating 1 test case(s) in parallel: |██████████|100% (1/1) [Time Taken: 00:06,  6.65s/test case]\n"
     ]
    },
    {
     "data": {
      "text/html": [
       "<pre style=\"white-space:pre;overflow-x:auto;line-height:normal;font-family:Menlo,'DejaVu Sans Mono',consolas,'Courier New',monospace\">\n",
       "<span style=\"color: #05f58d; text-decoration-color: #05f58d\">✓</span> Tests finished 🎉! Run <span style=\"color: #008000; text-decoration-color: #008000; font-weight: bold\">'deepeval login'</span> to save and analyze evaluation results on Confident AI.\n",
       " \n",
       "✨👀 Looking for a place for your LLM test data to live 🏡❤️ ? Use <span style=\"color: #6a00ff; text-decoration-color: #6a00ff\">Confident AI</span> to get &amp; share testing reports, \n",
       "experiment with models/prompts, and catch regressions for your LLM system. Just run <span style=\"color: #008080; text-decoration-color: #008080\">'deepeval login'</span> in the CLI. \n",
       "\n",
       "</pre>\n"
      ],
      "text/plain": [
       "\n",
       "\u001b[38;2;5;245;141m✓\u001b[0m Tests finished 🎉! Run \u001b[1;32m'deepeval login'\u001b[0m to save and analyze evaluation results on Confident AI.\n",
       " \n",
       "✨👀 Looking for a place for your LLM test data to live 🏡❤️ ? Use \u001b[38;2;106;0;255mConfident AI\u001b[0m to get & share testing reports, \n",
       "experiment with models/prompts, and catch regressions for your LLM system. Just run \u001b[36m'deepeval login'\u001b[0m in the CLI. \n",
       "\n"
      ]
     },
     "metadata": {},
     "output_type": "display_data"
    },
    {
     "name": "stdout",
     "output_type": "stream",
     "text": [
      "MESSAGES\n",
      "[{'role': 'user', 'content': \"Твоя задача - определить, релевантны ли предоставленные документы запросу пользователя. Релевантым считай тот документ, в котором тема хотя бы смежно связана с запросом. Верни ровно один массив из строк '0' или '1', где '1' означает, что документ релевантен запросу, а '0' - что нерелевантен. Массив должен иметь ровно столько элементов, сколько документов в запросе.\\n\\nЗапрос: 'документы нужны для приема человека на работу'\\n\\nДокументы:\\nДокумент 0:\\nВопрос: какие документы нужны для приема сотрудника?\\nОтвет: для корректного оформления приема кандидата необходимо вложить в заявку следующие документы: паспорт (все заполненные страницы) документы воинского учёта (для военнообязанных и лиц, подлежащих призыву на военную службу) копия 1-й и последней страницы трудовой книжки/вкладыша трудовой книжки (при наличии), либо заявление на заведение трудовой снилс, за исключением случаев, когда тд заключается впервые расписка об отсутствии/подтверждении наличия периодов государственной или муниципальной службы согласование кандидата службой безопасности – для процессов 1011р, 1011о документ об образовании (при необходимости подтвердить спец. знания, спец. подготовку) инн (при наличии) свидетельство о заключении/расторжении брака (при наличии) свидетельство о рождении ребенка (при наличии) свидетельство о перемене имени (при наличии) выписка из банка с указанием номера расчётного счёта, заявление на перечисление заработной платы на расчётный счёт/заявление на перевод заработной платы на карту альфа-банк.\\n\\nДокумент 1:\\nВопрос: какие бумаги нужно собрать для приема на работу беженцев?\\nОтвет: вариант 1: 1) действующее удостоверение беженца: документ, удостоверяющий личность на территории рф; 2) регистрация по месту пребывания; 3) снилс (при наличии); 4) трудовая книжка и/или сведения о трудовой деятельности (при наличии трудового стажа). вариант 2: 1) действующее свидетельство о предоставлении временного убежища: документ, удостоверяющий личность на территории рф; 2) может быть предоставлен паспорт, но основанием для трудоустройства будет именно свидетельство; 3) регистрация по месту пребывания; 4) снилс (при наличии); 5) трудовая книжка и/или сведения о трудовой деятельности (при наличии трудового стажа). вариант 3: 1) паспорт гражданина украины, донецкой народной республики или луганской народной республики; 2) документ, подтверждающий прохождение дактилоскопии и фотографирования. данные должны совпадать с данными в паспорте; 3) регистрация по месту пребывания; 4) снилс (при наличии); 5) трудовая книжка и/или сведения о трудовой деятельности (при наличии трудового стажа); 6) документ, подтверждающий время пребывания на территории рф*. вариант 4: 1) действующий паспорт гражданина украины/лнр/днр; 2) действующий патент (указанная в нем территория действия соответствует региону трудоустройства)/рвп/внж; 3) миграционная карта; 4) регистрация по месту пребывания; 5) снилс (при наличии); 6) трудовая книжка и/или сведения о трудовой деятельности (при наличии трудового стажа); 7) для иг с рвп или внж документ, подтверждающий время пребывания на территории рф*. вариант 5: при наличии у кандидата паспорта гражданина рф трудоустройство осуществляется по стандартной процедуре приема на работу граждан рф. инструкция и шаблоны доступны по ссылке link\\n\\nДокумент 2:\\nВопрос: какие документы необходимы для оформления иностранного гражданина на работу?\\nОтвет: для проведения приема необходимы документы: 1) нотариально заверенный перевод паспорта на русский язык + паспорт; 2) снилс или уведомление о регистрации в системе ади-рег, где указаны полные фио, номер снилс, дата рождения и место рождения кандидата (уведомление можно получить в мфц или территориальном органе пфр); 3) вид на жительство либо иностранный паспорт с разрешением на временное проживание; 4) миграционная карта ( при наличии) ; 5) расписка об отсутствии/подтверждении государственной/муниципальной службы; 6) копия тк или стд-р (если кандидат перешёл на электронную трудовую книжку у предыдущего работодателя). 7) реквизиты карты альфа-банк или реквизиты сбербанка. 8) актуальная прописка или свидетельство о временной регистрации по месту жительства (соответствующую субъекту трудоустройства). срок окончания действия документов должен быть не меньше 60 дней от даты приема. инструкция и шаблоны доступны по ссылке link\\n\\n\\n\\nОцени релевантность каждого документа к этому запросу и верни массив из 3 элементов, где каждый элемент - '0' или '1'.\"}]\n",
      "MESSAGES\n",
      "[{'role': 'user', 'content': 'Ты помощник, который дает ответы в том же стиле, что и представленные примеры. Используй предоставленные вопросы и ответы как образец стиля и уровня детализации.\\n\\nПримеры вопросов и ответов:\\n\\nПример 1:\\nВопрос: какие документы нужны для приема сотрудника?\\nОтвет: для корректного оформления приема кандидата необходимо вложить в заявку следующие документы: паспорт (все заполненные страницы) документы воинского учёта (для военнообязанных и лиц, подлежащих призыву на военную службу) копия 1-й и последней страницы трудовой книжки/вкладыша трудовой книжки (при наличии), либо заявление на заведение трудовой снилс, за исключением случаев, когда тд заключается впервые расписка об отсутствии/подтверждении наличия периодов государственной или муниципальной службы согласование кандидата службой безопасности – для процессов 1011р, 1011о документ об образовании (при необходимости подтвердить спец. знания, спец. подготовку) инн (при наличии) свидетельство о заключении/расторжении брака (при наличии) свидетельство о рождении ребенка (при наличии) свидетельство о перемене имени (при наличии) выписка из банка с указанием номера расчётного счёта, заявление на перечисление заработной платы на расчётный счёт/заявление на перевод заработной платы на карту альфа-банк.\\n\\nПример 2:\\nВопрос: какие бумаги нужно собрать для приема на работу беженцев?\\nОтвет: вариант 1: 1) действующее удостоверение беженца: документ, удостоверяющий личность на территории рф; 2) регистрация по месту пребывания; 3) снилс (при наличии); 4) трудовая книжка и/или сведения о трудовой деятельности (при наличии трудового стажа). вариант 2: 1) действующее свидетельство о предоставлении временного убежища: документ, удостоверяющий личность на территории рф; 2) может быть предоставлен паспорт, но основанием для трудоустройства будет именно свидетельство; 3) регистрация по месту пребывания; 4) снилс (при наличии); 5) трудовая книжка и/или сведения о трудовой деятельности (при наличии трудового стажа). вариант 3: 1) паспорт гражданина украины, донецкой народной республики или луганской народной республики; 2) документ, подтверждающий прохождение дактилоскопии и фотографирования. данные должны совпадать с данными в паспорте; 3) регистрация по месту пребывания; 4) снилс (при наличии); 5) трудовая книжка и/или сведения о трудовой деятельности (при наличии трудового стажа); 6) документ, подтверждающий время пребывания на территории рф*. вариант 4: 1) действующий паспорт гражданина украины/лнр/днр; 2) действующий патент (указанная в нем территория действия соответствует региону трудоустройства)/рвп/внж; 3) миграционная карта; 4) регистрация по месту пребывания; 5) снилс (при наличии); 6) трудовая книжка и/или сведения о трудовой деятельности (при наличии трудового стажа); 7) для иг с рвп или внж документ, подтверждающий время пребывания на территории рф*. вариант 5: при наличии у кандидата паспорта гражданина рф трудоустройство осуществляется по стандартной процедуре приема на работу граждан рф. инструкция и шаблоны доступны по ссылке link\\n\\nПример 3:\\nВопрос: какие документы необходимы для оформления иностранного гражданина на работу?\\nОтвет: для проведения приема необходимы документы: 1) нотариально заверенный перевод паспорта на русский язык + паспорт; 2) снилс или уведомление о регистрации в системе ади-рег, где указаны полные фио, номер снилс, дата рождения и место рождения кандидата (уведомление можно получить в мфц или территориальном органе пфр); 3) вид на жительство либо иностранный паспорт с разрешением на временное проживание; 4) миграционная карта ( при наличии) ; 5) расписка об отсутствии/подтверждении государственной/муниципальной службы; 6) копия тк или стд-р (если кандидат перешёл на электронную трудовую книжку у предыдущего работодателя). 7) реквизиты карты альфа-банк или реквизиты сбербанка. 8) актуальная прописка или свидетельство о временной регистрации по месту жительства (соответствующую субъекту трудоустройства). срок окончания действия документов должен быть не меньше 60 дней от даты приема. инструкция и шаблоны доступны по ссылке link\\n\\n\\n\\nЗапрос пользователя: документы нужны для приема человека на работу\\n\\nОтветь на запрос пользователя в том же стиле, что и приведенные примеры.'}]\n"
     ]
    },
    {
     "data": {
      "text/html": [
       "<pre style=\"white-space:pre;overflow-x:auto;line-height:normal;font-family:Menlo,'DejaVu Sans Mono',consolas,'Courier New',monospace\">✨ You're running DeepEval's latest <span style=\"color: #6a00ff; text-decoration-color: #6a00ff\">Answer Relevancy Metric</span>! <span style=\"color: #374151; text-decoration-color: #374151; font-weight: bold\">(</span><span style=\"color: #374151; text-decoration-color: #374151\">using gpt-4o, </span><span style=\"color: #374151; text-decoration-color: #374151\">strict</span><span style=\"color: #374151; text-decoration-color: #374151\">=</span><span style=\"color: #374151; text-decoration-color: #374151; font-style: italic\">False</span><span style=\"color: #374151; text-decoration-color: #374151\">, </span><span style=\"color: #374151; text-decoration-color: #374151\">async_mode</span><span style=\"color: #374151; text-decoration-color: #374151\">=</span><span style=\"color: #374151; text-decoration-color: #374151; font-style: italic\">True</span><span style=\"color: #374151; text-decoration-color: #374151; font-weight: bold\">)</span><span style=\"color: #374151; text-decoration-color: #374151\">...</span>\n",
       "</pre>\n"
      ],
      "text/plain": [
       "✨ You're running DeepEval's latest \u001b[38;2;106;0;255mAnswer Relevancy Metric\u001b[0m! \u001b[1;38;2;55;65;81m(\u001b[0m\u001b[38;2;55;65;81musing gpt-4o, \u001b[0m\u001b[38;2;55;65;81mstrict\u001b[0m\u001b[38;2;55;65;81m=\u001b[0m\u001b[3;38;2;55;65;81mFalse\u001b[0m\u001b[38;2;55;65;81m, \u001b[0m\u001b[38;2;55;65;81masync_mode\u001b[0m\u001b[38;2;55;65;81m=\u001b[0m\u001b[3;38;2;55;65;81mTrue\u001b[0m\u001b[1;38;2;55;65;81m)\u001b[0m\u001b[38;2;55;65;81m...\u001b[0m\n"
      ]
     },
     "metadata": {},
     "output_type": "display_data"
    },
    {
     "name": "stdout",
     "output_type": "stream",
     "text": [
      "Event loop is already running. Applying nest_asyncio patch to allow async execution...\n"
     ]
    },
    {
     "name": "stderr",
     "output_type": "stream",
     "text": [
      "Evaluating 1 test case(s) in parallel: |██████████|100% (1/1) [Time Taken: 00:07,  7.10s/test case]\n"
     ]
    },
    {
     "data": {
      "text/html": [
       "<pre style=\"white-space:pre;overflow-x:auto;line-height:normal;font-family:Menlo,'DejaVu Sans Mono',consolas,'Courier New',monospace\">\n",
       "<span style=\"color: #05f58d; text-decoration-color: #05f58d\">✓</span> Tests finished 🎉! Run <span style=\"color: #008000; text-decoration-color: #008000; font-weight: bold\">'deepeval login'</span> to save and analyze evaluation results on Confident AI.\n",
       " \n",
       "✨👀 Looking for a place for your LLM test data to live 🏡❤️ ? Use <span style=\"color: #6a00ff; text-decoration-color: #6a00ff\">Confident AI</span> to get &amp; share testing reports, \n",
       "experiment with models/prompts, and catch regressions for your LLM system. Just run <span style=\"color: #008080; text-decoration-color: #008080\">'deepeval login'</span> in the CLI. \n",
       "\n",
       "</pre>\n"
      ],
      "text/plain": [
       "\n",
       "\u001b[38;2;5;245;141m✓\u001b[0m Tests finished 🎉! Run \u001b[1;32m'deepeval login'\u001b[0m to save and analyze evaluation results on Confident AI.\n",
       " \n",
       "✨👀 Looking for a place for your LLM test data to live 🏡❤️ ? Use \u001b[38;2;106;0;255mConfident AI\u001b[0m to get & share testing reports, \n",
       "experiment with models/prompts, and catch regressions for your LLM system. Just run \u001b[36m'deepeval login'\u001b[0m in the CLI. \n",
       "\n"
      ]
     },
     "metadata": {},
     "output_type": "display_data"
    },
    {
     "name": "stdout",
     "output_type": "stream",
     "text": [
      "MESSAGES\n",
      "[{'role': 'user', 'content': 'Твоя задача - определить, релевантны ли предоставленные документы запросу пользователя. Релевантым считай тот документ, в котором тема хотя бы смежно связана с запросом. Верни ровно один массив из строк \\'0\\' или \\'1\\', где \\'1\\' означает, что документ релевантен запросу, а \\'0\\' - что нерелевантен. Массив должен иметь ровно столько элементов, сколько документов в запросе.\\n\\nЗапрос: \\'поставить электронную подпись деректора магазина\\'\\n\\nДокументы:\\nДокумент 0:\\nВопрос: нужно подписат электронная цифровая подпись директору магазина\\nОтвет: прежде чем создавать заявку, попробуйте самостоятельно выпустить эцп на странице \"электронные подписи\" в личном разделе лк. обратите внимание, что эпц перестает действовать за 3 дня до окончания ее срока действия. если вы проводите списание, то на этот период данный функционал будет недоступен. просьба учитывать при планировании работ.\\n\\nДокумент 1:\\nВопрос: электронная цифровая подпись\\nОтвет: прежде чем создавать заявку, пожалуйста попробуйте самостоятельно выпустить эцп на странице \"электронные подписи\" в личном разделе лк\\n\\nДокумент 2:\\nВопрос: не полный доступ в личном кабинете директора магазина\\nОтвет: если в \"команде\" нет подчиненных сотрудников просьба обратиться в поддержку для корректировки\\n\\nДокумент 3:\\nВопрос: сотруднику необходимо назначить обучение кадровый резерв на позицию \"директор магазина\"\\nОтвет: доступ к программе \"карьера\" появляется спустя 4 месяца после трудоутстройства в компанию. если по прошествии 4х месяцев раздел по-прежнему недоступен, обратитесь в поддержку\\n\\nДокумент 4:\\nВопрос: что такое электронная подпись?\\nОтвет: эп – электронная подпись, или эцп – электронная цифровая подпись - собственноручная подпись в электронном виде, которой можно подписывать документы.в торговой сети «пятерочка» мы применяем все три вида электронных подписей: простую, неквалифицированную и квалифицированную, определенных федеральным законом №63‑фз от 06.04.2011. у них разный уровень защиты и юридической значимости, так что применяются они в разных ситуациях. подробная информация доступна по ссылке link\\n\\n\\n\\nОцени релевантность каждого документа к этому запросу и верни массив из 5 элементов, где каждый элемент - \\'0\\' или \\'1\\'.'}]\n",
      "MESSAGES\n",
      "[{'role': 'user', 'content': 'Ты помощник, который дает ответы в том же стиле, что и представленные примеры. Используй предоставленные вопросы и ответы как образец стиля и уровня детализации.\\n\\nПримеры вопросов и ответов:\\n\\nПример 1:\\nВопрос: нужно подписат электронная цифровая подпись директору магазина\\nОтвет: прежде чем создавать заявку, попробуйте самостоятельно выпустить эцп на странице \"электронные подписи\" в личном разделе лк. обратите внимание, что эпц перестает действовать за 3 дня до окончания ее срока действия. если вы проводите списание, то на этот период данный функционал будет недоступен. просьба учитывать при планировании работ.\\n\\nПример 2:\\nВопрос: электронная цифровая подпись\\nОтвет: прежде чем создавать заявку, пожалуйста попробуйте самостоятельно выпустить эцп на странице \"электронные подписи\" в личном разделе лк\\n\\nПример 3:\\nВопрос: что такое электронная подпись?\\nОтвет: эп – электронная подпись, или эцп – электронная цифровая подпись - собственноручная подпись в электронном виде, которой можно подписывать документы.в торговой сети «пятерочка» мы применяем все три вида электронных подписей: простую, неквалифицированную и квалифицированную, определенных федеральным законом №63‑фз от 06.04.2011. у них разный уровень защиты и юридической значимости, так что применяются они в разных ситуациях. подробная информация доступна по ссылке link\\n\\n\\n\\nЗапрос пользователя: поставить электронную подпись деректора магазина\\n\\nОтветь на запрос пользователя в том же стиле, что и приведенные примеры.'}]\n"
     ]
    },
    {
     "data": {
      "text/html": [
       "<pre style=\"white-space:pre;overflow-x:auto;line-height:normal;font-family:Menlo,'DejaVu Sans Mono',consolas,'Courier New',monospace\">✨ You're running DeepEval's latest <span style=\"color: #6a00ff; text-decoration-color: #6a00ff\">Answer Relevancy Metric</span>! <span style=\"color: #374151; text-decoration-color: #374151; font-weight: bold\">(</span><span style=\"color: #374151; text-decoration-color: #374151\">using gpt-4o, </span><span style=\"color: #374151; text-decoration-color: #374151\">strict</span><span style=\"color: #374151; text-decoration-color: #374151\">=</span><span style=\"color: #374151; text-decoration-color: #374151; font-style: italic\">False</span><span style=\"color: #374151; text-decoration-color: #374151\">, </span><span style=\"color: #374151; text-decoration-color: #374151\">async_mode</span><span style=\"color: #374151; text-decoration-color: #374151\">=</span><span style=\"color: #374151; text-decoration-color: #374151; font-style: italic\">True</span><span style=\"color: #374151; text-decoration-color: #374151; font-weight: bold\">)</span><span style=\"color: #374151; text-decoration-color: #374151\">...</span>\n",
       "</pre>\n"
      ],
      "text/plain": [
       "✨ You're running DeepEval's latest \u001b[38;2;106;0;255mAnswer Relevancy Metric\u001b[0m! \u001b[1;38;2;55;65;81m(\u001b[0m\u001b[38;2;55;65;81musing gpt-4o, \u001b[0m\u001b[38;2;55;65;81mstrict\u001b[0m\u001b[38;2;55;65;81m=\u001b[0m\u001b[3;38;2;55;65;81mFalse\u001b[0m\u001b[38;2;55;65;81m, \u001b[0m\u001b[38;2;55;65;81masync_mode\u001b[0m\u001b[38;2;55;65;81m=\u001b[0m\u001b[3;38;2;55;65;81mTrue\u001b[0m\u001b[1;38;2;55;65;81m)\u001b[0m\u001b[38;2;55;65;81m...\u001b[0m\n"
      ]
     },
     "metadata": {},
     "output_type": "display_data"
    },
    {
     "name": "stdout",
     "output_type": "stream",
     "text": [
      "Event loop is already running. Applying nest_asyncio patch to allow async execution...\n"
     ]
    },
    {
     "name": "stderr",
     "output_type": "stream",
     "text": [
      "Evaluating 1 test case(s) in parallel: |██████████|100% (1/1) [Time Taken: 00:04,  4.31s/test case]\n"
     ]
    },
    {
     "data": {
      "text/html": [
       "<pre style=\"white-space:pre;overflow-x:auto;line-height:normal;font-family:Menlo,'DejaVu Sans Mono',consolas,'Courier New',monospace\">\n",
       "<span style=\"color: #05f58d; text-decoration-color: #05f58d\">✓</span> Tests finished 🎉! Run <span style=\"color: #008000; text-decoration-color: #008000; font-weight: bold\">'deepeval login'</span> to save and analyze evaluation results on Confident AI.\n",
       " \n",
       "✨👀 Looking for a place for your LLM test data to live 🏡❤️ ? Use <span style=\"color: #6a00ff; text-decoration-color: #6a00ff\">Confident AI</span> to get &amp; share testing reports, \n",
       "experiment with models/prompts, and catch regressions for your LLM system. Just run <span style=\"color: #008080; text-decoration-color: #008080\">'deepeval login'</span> in the CLI. \n",
       "\n",
       "</pre>\n"
      ],
      "text/plain": [
       "\n",
       "\u001b[38;2;5;245;141m✓\u001b[0m Tests finished 🎉! Run \u001b[1;32m'deepeval login'\u001b[0m to save and analyze evaluation results on Confident AI.\n",
       " \n",
       "✨👀 Looking for a place for your LLM test data to live 🏡❤️ ? Use \u001b[38;2;106;0;255mConfident AI\u001b[0m to get & share testing reports, \n",
       "experiment with models/prompts, and catch regressions for your LLM system. Just run \u001b[36m'deepeval login'\u001b[0m in the CLI. \n",
       "\n"
      ]
     },
     "metadata": {},
     "output_type": "display_data"
    },
    {
     "name": "stdout",
     "output_type": "stream",
     "text": [
      "MESSAGES\n",
      "[{'role': 'user', 'content': 'Твоя задача - определить, релевантны ли предоставленные документы запросу пользователя. Релевантым считай тот документ, в котором тема хотя бы смежно связана с запросом. Верни ровно один массив из строк \\'0\\' или \\'1\\', где \\'1\\' означает, что документ релевантен запросу, а \\'0\\' - что нерелевантен. Массив должен иметь ровно столько элементов, сколько документов в запросе.\\n\\nЗапрос: \\'удаленная работа график\\'\\n\\nДокументы:\\nДокумент 0:\\nВопрос: помогите создать график удаленной работы\\nОтвет: в системе стоит порог создания заявок по удаленной работе, 25 число. это дата, при наступлении которой, нельзя создавать или изменять график на следующий месяц.\\n\\nДокумент 1:\\nВопрос: как мне проставить график удалённой работы?\\nОтвет: по процессу, после согласования заявки на ур, необходимо подписать доп. соглашение. сотрудникам кц необходимо подписать дополнительное соглашение: - удаленно с помощью обмена скан-копий или фото документа, а при невозможности – подтверждением по электронной почте. как только доп. соглашение любым образом подписывается, работник отдела кадров снимает блокировку в sap hr с доп. соглашения и вам представляется возможность создать график работы в лк.\\n\\nДокумент 2:\\nВопрос: как согласовать удаленный график работы?\\nОтвет: по процессу, после создания заявки на ур/графика ур, заявка переходит на согласование к руководителю. для этого необходимо зайти в link в раздел \"задачи\", заявка отобразится в открытых задачах\\n\\nДокумент 3:\\nВопрос: необходимо сформировать и согласовать график использования удаленной работы\\nОтвет: критерии доступности сервиса удаленная работа: 1.сотрудник не на нулевой занятости: процент соединения (ит 1001) между штатной должностью и табельным номером на текущую дату больше 0; 2.сотрудник на офисном графике работы: в ит 0007 нормативное рабочее время на текущую дату установлен график, который в соответствии с правилом грв (таблица t508a) является офисным – поле kkrkh принимает одно из значений: {1; 2; 3; 4; 6}; 3.у сотрудника есть руководитель: наличие на текущую дату соединения (ит 1001) b012 между ое сотрудника и шд руководителям или bz10 между шд сотрудника и шд руководителя; 4.уровень ceo- руководителя сотрудника позволяет принимать заявки на ур: на штатной должности руководителя сотрудника установленное на текущую дату значение атрибута (ит 1222) z_pm_ceo уровень подчиненности до сео по сценарию z_pm управление эффективностью должностей отсутствует в таблице zhrt_ess_remapp для формата сотрудника (на данный момент ограничение только на ceo и -1 5.сотруднику установлен признак «удаленный офис»: на шд сотрудника / на ое сотрудника / на вышестоящей ое (по пути анализа p-s-o-o) в ит 1010 комп/вспомсредства подтипе 9021 работа на дому установлено значение 002 удаленный офис. если какой-то из критериев не выполняется, вкладка «удаленная работа» в личном кабинете будет не доступна. для внесения изменений в систему sap, необходимо обратиться к специалистам по кадрам.\\n\\n\\n\\nОцени релевантность каждого документа к этому запросу и верни массив из 4 элементов, где каждый элемент - \\'0\\' или \\'1\\'.'}]\n",
      "MESSAGES\n",
      "[{'role': 'user', 'content': 'Ты помощник, который дает ответы в том же стиле, что и представленные примеры. Используй предоставленные вопросы и ответы как образец стиля и уровня детализации.\\n\\nПримеры вопросов и ответов:\\n\\nПример 1:\\nВопрос: помогите создать график удаленной работы\\nОтвет: в системе стоит порог создания заявок по удаленной работе, 25 число. это дата, при наступлении которой, нельзя создавать или изменять график на следующий месяц.\\n\\nПример 2:\\nВопрос: как мне проставить график удалённой работы?\\nОтвет: по процессу, после согласования заявки на ур, необходимо подписать доп. соглашение. сотрудникам кц необходимо подписать дополнительное соглашение: - удаленно с помощью обмена скан-копий или фото документа, а при невозможности – подтверждением по электронной почте. как только доп. соглашение любым образом подписывается, работник отдела кадров снимает блокировку в sap hr с доп. соглашения и вам представляется возможность создать график работы в лк.\\n\\nПример 3:\\nВопрос: как согласовать удаленный график работы?\\nОтвет: по процессу, после создания заявки на ур/графика ур, заявка переходит на согласование к руководителю. для этого необходимо зайти в link в раздел \"задачи\", заявка отобразится в открытых задачах\\n\\n\\n\\nЗапрос пользователя: удаленная работа график\\n\\nОтветь на запрос пользователя в том же стиле, что и приведенные примеры.'}]\n"
     ]
    },
    {
     "data": {
      "text/html": [
       "<pre style=\"white-space:pre;overflow-x:auto;line-height:normal;font-family:Menlo,'DejaVu Sans Mono',consolas,'Courier New',monospace\">✨ You're running DeepEval's latest <span style=\"color: #6a00ff; text-decoration-color: #6a00ff\">Answer Relevancy Metric</span>! <span style=\"color: #374151; text-decoration-color: #374151; font-weight: bold\">(</span><span style=\"color: #374151; text-decoration-color: #374151\">using gpt-4o, </span><span style=\"color: #374151; text-decoration-color: #374151\">strict</span><span style=\"color: #374151; text-decoration-color: #374151\">=</span><span style=\"color: #374151; text-decoration-color: #374151; font-style: italic\">False</span><span style=\"color: #374151; text-decoration-color: #374151\">, </span><span style=\"color: #374151; text-decoration-color: #374151\">async_mode</span><span style=\"color: #374151; text-decoration-color: #374151\">=</span><span style=\"color: #374151; text-decoration-color: #374151; font-style: italic\">True</span><span style=\"color: #374151; text-decoration-color: #374151; font-weight: bold\">)</span><span style=\"color: #374151; text-decoration-color: #374151\">...</span>\n",
       "</pre>\n"
      ],
      "text/plain": [
       "✨ You're running DeepEval's latest \u001b[38;2;106;0;255mAnswer Relevancy Metric\u001b[0m! \u001b[1;38;2;55;65;81m(\u001b[0m\u001b[38;2;55;65;81musing gpt-4o, \u001b[0m\u001b[38;2;55;65;81mstrict\u001b[0m\u001b[38;2;55;65;81m=\u001b[0m\u001b[3;38;2;55;65;81mFalse\u001b[0m\u001b[38;2;55;65;81m, \u001b[0m\u001b[38;2;55;65;81masync_mode\u001b[0m\u001b[38;2;55;65;81m=\u001b[0m\u001b[3;38;2;55;65;81mTrue\u001b[0m\u001b[1;38;2;55;65;81m)\u001b[0m\u001b[38;2;55;65;81m...\u001b[0m\n"
      ]
     },
     "metadata": {},
     "output_type": "display_data"
    },
    {
     "name": "stdout",
     "output_type": "stream",
     "text": [
      "Event loop is already running. Applying nest_asyncio patch to allow async execution...\n"
     ]
    },
    {
     "name": "stderr",
     "output_type": "stream",
     "text": [
      "Evaluating 1 test case(s) in parallel: |██████████|100% (1/1) [Time Taken: 00:03,  3.47s/test case]\n"
     ]
    },
    {
     "data": {
      "text/html": [
       "<pre style=\"white-space:pre;overflow-x:auto;line-height:normal;font-family:Menlo,'DejaVu Sans Mono',consolas,'Courier New',monospace\">\n",
       "<span style=\"color: #05f58d; text-decoration-color: #05f58d\">✓</span> Tests finished 🎉! Run <span style=\"color: #008000; text-decoration-color: #008000; font-weight: bold\">'deepeval login'</span> to save and analyze evaluation results on Confident AI.\n",
       " \n",
       "✨👀 Looking for a place for your LLM test data to live 🏡❤️ ? Use <span style=\"color: #6a00ff; text-decoration-color: #6a00ff\">Confident AI</span> to get &amp; share testing reports, \n",
       "experiment with models/prompts, and catch regressions for your LLM system. Just run <span style=\"color: #008080; text-decoration-color: #008080\">'deepeval login'</span> in the CLI. \n",
       "\n",
       "</pre>\n"
      ],
      "text/plain": [
       "\n",
       "\u001b[38;2;5;245;141m✓\u001b[0m Tests finished 🎉! Run \u001b[1;32m'deepeval login'\u001b[0m to save and analyze evaluation results on Confident AI.\n",
       " \n",
       "✨👀 Looking for a place for your LLM test data to live 🏡❤️ ? Use \u001b[38;2;106;0;255mConfident AI\u001b[0m to get & share testing reports, \n",
       "experiment with models/prompts, and catch regressions for your LLM system. Just run \u001b[36m'deepeval login'\u001b[0m in the CLI. \n",
       "\n"
      ]
     },
     "metadata": {},
     "output_type": "display_data"
    },
    {
     "name": "stdout",
     "output_type": "stream",
     "text": [
      "MESSAGES\n",
      "[{'role': 'user', 'content': 'Твоя задача - определить, релевантны ли предоставленные документы запросу пользователя. Релевантым считай тот документ, в котором тема хотя бы смежно связана с запросом. Верни ровно один массив из строк \\'0\\' или \\'1\\', где \\'1\\' означает, что документ релевантен запросу, а \\'0\\' - что нерелевантен. Массив должен иметь ровно столько элементов, сколько документов в запросе.\\n\\nЗапрос: \\'почему нет надбавки за стаж\\'\\n\\nДокументы:\\nДокумент 0:\\nВопрос: не получаю надбавку\\nОтвет: доступ к программе \"карьера\" появляется спустя 4 месяца после трудоутстройства в компанию. если по прошествии 4х месяцев раздел по-прежнему недоступен, обратитесь в поддержку\\n\\nДокумент 1:\\nВопрос: не прогружена надбавка за стаж\\nОтвет: по данному вопросу вы можете обратиться в кадровую службу, создав заявку \"консультация по hr вопросам\"\\n\\nДокумент 2:\\nВопрос: отсутствует ярлык отпуск без сохранения з/п\\nОтвет: создайте, пожалуйста, обращение в ит поддержку на портале support\\n\\nДокумент 3:\\nВопрос: почему нет выплаты от работодателя по больничному листу по уходу за больным членом семьи?\\nОтвет: больничный с кодом 09 (уход за больным членом семьи) оплачивается полностью за счет средств сфр, работодатель в данном случае выплату не производит.\\n\\nДокумент 4:\\nВопрос: нет выплаты по авансовому отчету за командировку\\nОтвет: вам необходимо обратиться к бухгалтеру подотчетных средств, напишите данный вопрос на общий ящик авансовые отчеты ( mail ) с указанием номера заявки.\\n\\nДокумент 5:\\nВопрос: почему не оплачивают больничный по уходу за ребенком при пересечении с ежегодным отпуском?\\nОтвет: при пересечении ежегодного отпуска и больничного по уходу за ребенком, больничный в отпуске не оплачивается. согласно ст. 124 тк рф п. 41 порядка при заболевании ребенка в период, когда мать (иной член семьи, фактически осуществляющий уход за ребенком) не нуждается в освобождении от работы (ежегодных оплачиваемых отпусках, отпусках по беременности и родам, отпусках по уходу за ребенком до достижения им возраста 3 лет, отпусках без сохранения заработной платы), листок нетрудоспособности по уходу за ребенком (в случае, когда он продолжает нуждаться в уходе) выдается со дня, когда мать (иной член семьи, фактически осуществляющий уход за ребенком) должна приступить к работе. то есть больничный по уходу за ребенком в ежегодном отпуске не оплачивается.\\n\\nДокумент 6:\\nВопрос: в личном кабинете не отображается премия за март, у всех коллег обновилось, а у меня нет\\nОтвет: создайте заявку на консультацию по з/п и кадровым вопросам\\n\\n\\n\\nОцени релевантность каждого документа к этому запросу и верни массив из 7 элементов, где каждый элемент - \\'0\\' или \\'1\\'.'}]\n",
      "MESSAGES\n",
      "[{'role': 'user', 'content': 'Ты помощник, который дает ответы в том же стиле, что и представленные примеры. Используй предоставленные вопросы и ответы как образец стиля и уровня детализации.\\n\\nПримеры вопросов и ответов:\\n\\nПример 1:\\nВопрос: не получаю надбавку\\nОтвет: доступ к программе \"карьера\" появляется спустя 4 месяца после трудоутстройства в компанию. если по прошествии 4х месяцев раздел по-прежнему недоступен, обратитесь в поддержку\\n\\nПример 2:\\nВопрос: не прогружена надбавка за стаж\\nОтвет: по данному вопросу вы можете обратиться в кадровую службу, создав заявку \"консультация по hr вопросам\"\\n\\nПример 3:\\nВопрос: в личном кабинете не отображается премия за март, у всех коллег обновилось, а у меня нет\\nОтвет: создайте заявку на консультацию по з/п и кадровым вопросам\\n\\n\\n\\nЗапрос пользователя: почему нет надбавки за стаж\\n\\nОтветь на запрос пользователя в том же стиле, что и приведенные примеры.'}]\n"
     ]
    },
    {
     "data": {
      "text/html": [
       "<pre style=\"white-space:pre;overflow-x:auto;line-height:normal;font-family:Menlo,'DejaVu Sans Mono',consolas,'Courier New',monospace\">✨ You're running DeepEval's latest <span style=\"color: #6a00ff; text-decoration-color: #6a00ff\">Answer Relevancy Metric</span>! <span style=\"color: #374151; text-decoration-color: #374151; font-weight: bold\">(</span><span style=\"color: #374151; text-decoration-color: #374151\">using gpt-4o, </span><span style=\"color: #374151; text-decoration-color: #374151\">strict</span><span style=\"color: #374151; text-decoration-color: #374151\">=</span><span style=\"color: #374151; text-decoration-color: #374151; font-style: italic\">False</span><span style=\"color: #374151; text-decoration-color: #374151\">, </span><span style=\"color: #374151; text-decoration-color: #374151\">async_mode</span><span style=\"color: #374151; text-decoration-color: #374151\">=</span><span style=\"color: #374151; text-decoration-color: #374151; font-style: italic\">True</span><span style=\"color: #374151; text-decoration-color: #374151; font-weight: bold\">)</span><span style=\"color: #374151; text-decoration-color: #374151\">...</span>\n",
       "</pre>\n"
      ],
      "text/plain": [
       "✨ You're running DeepEval's latest \u001b[38;2;106;0;255mAnswer Relevancy Metric\u001b[0m! \u001b[1;38;2;55;65;81m(\u001b[0m\u001b[38;2;55;65;81musing gpt-4o, \u001b[0m\u001b[38;2;55;65;81mstrict\u001b[0m\u001b[38;2;55;65;81m=\u001b[0m\u001b[3;38;2;55;65;81mFalse\u001b[0m\u001b[38;2;55;65;81m, \u001b[0m\u001b[38;2;55;65;81masync_mode\u001b[0m\u001b[38;2;55;65;81m=\u001b[0m\u001b[3;38;2;55;65;81mTrue\u001b[0m\u001b[1;38;2;55;65;81m)\u001b[0m\u001b[38;2;55;65;81m...\u001b[0m\n"
      ]
     },
     "metadata": {},
     "output_type": "display_data"
    },
    {
     "name": "stdout",
     "output_type": "stream",
     "text": [
      "Event loop is already running. Applying nest_asyncio patch to allow async execution...\n"
     ]
    },
    {
     "name": "stderr",
     "output_type": "stream",
     "text": [
      "Evaluating 1 test case(s) in parallel: |██████████|100% (1/1) [Time Taken: 00:03,  3.83s/test case]\n"
     ]
    },
    {
     "data": {
      "text/html": [
       "<pre style=\"white-space:pre;overflow-x:auto;line-height:normal;font-family:Menlo,'DejaVu Sans Mono',consolas,'Courier New',monospace\">\n",
       "<span style=\"color: #05f58d; text-decoration-color: #05f58d\">✓</span> Tests finished 🎉! Run <span style=\"color: #008000; text-decoration-color: #008000; font-weight: bold\">'deepeval login'</span> to save and analyze evaluation results on Confident AI.\n",
       " \n",
       "✨👀 Looking for a place for your LLM test data to live 🏡❤️ ? Use <span style=\"color: #6a00ff; text-decoration-color: #6a00ff\">Confident AI</span> to get &amp; share testing reports, \n",
       "experiment with models/prompts, and catch regressions for your LLM system. Just run <span style=\"color: #008080; text-decoration-color: #008080\">'deepeval login'</span> in the CLI. \n",
       "\n",
       "</pre>\n"
      ],
      "text/plain": [
       "\n",
       "\u001b[38;2;5;245;141m✓\u001b[0m Tests finished 🎉! Run \u001b[1;32m'deepeval login'\u001b[0m to save and analyze evaluation results on Confident AI.\n",
       " \n",
       "✨👀 Looking for a place for your LLM test data to live 🏡❤️ ? Use \u001b[38;2;106;0;255mConfident AI\u001b[0m to get & share testing reports, \n",
       "experiment with models/prompts, and catch regressions for your LLM system. Just run \u001b[36m'deepeval login'\u001b[0m in the CLI. \n",
       "\n"
      ]
     },
     "metadata": {},
     "output_type": "display_data"
    },
    {
     "name": "stdout",
     "output_type": "stream",
     "text": [
      "MESSAGES\n",
      "[{'role': 'user', 'content': 'Твоя задача - определить, релевантны ли предоставленные документы запросу пользователя. Релевантым считай тот документ, в котором тема хотя бы смежно связана с запросом. Верни ровно один массив из строк \\'0\\' или \\'1\\', где \\'1\\' означает, что документ релевантен запросу, а \\'0\\' - что нерелевантен. Массив должен иметь ровно столько элементов, сколько документов в запросе.\\n\\nЗапрос: \\'создать заявку\\'\\n\\nДокументы:\\nДокумент 0:\\nВопрос: сделать заявку\\nОтвет: создайте, пожалуйста, обращение в ит поддержку на портале support\\n\\nДокумент 1:\\nВопрос: как создать заявку\\nОтвет: первым делом, просьба очистить кэш/куки браузера (сочетание клавиш ctrl+shift+del, выбрать \"удалить: всё\", нажать ок). далее перезайти в лк. если это не помогло просьба подать заявку, нажав ниже кнопку \"создать заявку\" и выбрать соответствующую тему.\\n\\nДокумент 2:\\nВопрос: создать заявку на сотрудника\\nОтвет: для создания заявки на сотрудника вам необходимо перейти в раздел заявки (лк), выбрать создать новую заявку, далее на сотрудника.\\n\\nДокумент 3:\\nВопрос: создать заявку на перевод\\nОтвет: для проведения перевода, пожалуйста, создайте заявку в разделе \"создать заявку на сотрудника\", выберите блок \"изменения по сотрудникам\", подтему \"перевод перемещение. подробная информация по созданию заявки размещена в \"базе знаний \".\\n\\nДокумент 4:\\nВопрос: удалить заявку\\nОтвет: если заявка не актуальна просьба создать заявку по процессу 5206 - отмена заявки или 5342-закрытие задач\\n\\n\\n\\nОцени релевантность каждого документа к этому запросу и верни массив из 5 элементов, где каждый элемент - \\'0\\' или \\'1\\'.'}]\n",
      "MESSAGES\n",
      "[{'role': 'user', 'content': 'Ты помощник, который дает ответы в том же стиле, что и представленные примеры. Используй предоставленные вопросы и ответы как образец стиля и уровня детализации.\\n\\nПримеры вопросов и ответов:\\n\\nПример 1:\\nВопрос: сделать заявку\\nОтвет: создайте, пожалуйста, обращение в ит поддержку на портале support\\n\\nПример 2:\\nВопрос: как создать заявку\\nОтвет: первым делом, просьба очистить кэш/куки браузера (сочетание клавиш ctrl+shift+del, выбрать \"удалить: всё\", нажать ок). далее перезайти в лк. если это не помогло просьба подать заявку, нажав ниже кнопку \"создать заявку\" и выбрать соответствующую тему.\\n\\nПример 3:\\nВопрос: создать заявку на сотрудника\\nОтвет: для создания заявки на сотрудника вам необходимо перейти в раздел заявки (лк), выбрать создать новую заявку, далее на сотрудника.\\n\\nПример 4:\\nВопрос: создать заявку на перевод\\nОтвет: для проведения перевода, пожалуйста, создайте заявку в разделе \"создать заявку на сотрудника\", выберите блок \"изменения по сотрудникам\", подтему \"перевод перемещение. подробная информация по созданию заявки размещена в \"базе знаний \".\\n\\n\\n\\nЗапрос пользователя: создать заявку\\n\\nОтветь на запрос пользователя в том же стиле, что и приведенные примеры.'}]\n"
     ]
    },
    {
     "data": {
      "text/html": [
       "<pre style=\"white-space:pre;overflow-x:auto;line-height:normal;font-family:Menlo,'DejaVu Sans Mono',consolas,'Courier New',monospace\">✨ You're running DeepEval's latest <span style=\"color: #6a00ff; text-decoration-color: #6a00ff\">Answer Relevancy Metric</span>! <span style=\"color: #374151; text-decoration-color: #374151; font-weight: bold\">(</span><span style=\"color: #374151; text-decoration-color: #374151\">using gpt-4o, </span><span style=\"color: #374151; text-decoration-color: #374151\">strict</span><span style=\"color: #374151; text-decoration-color: #374151\">=</span><span style=\"color: #374151; text-decoration-color: #374151; font-style: italic\">False</span><span style=\"color: #374151; text-decoration-color: #374151\">, </span><span style=\"color: #374151; text-decoration-color: #374151\">async_mode</span><span style=\"color: #374151; text-decoration-color: #374151\">=</span><span style=\"color: #374151; text-decoration-color: #374151; font-style: italic\">True</span><span style=\"color: #374151; text-decoration-color: #374151; font-weight: bold\">)</span><span style=\"color: #374151; text-decoration-color: #374151\">...</span>\n",
       "</pre>\n"
      ],
      "text/plain": [
       "✨ You're running DeepEval's latest \u001b[38;2;106;0;255mAnswer Relevancy Metric\u001b[0m! \u001b[1;38;2;55;65;81m(\u001b[0m\u001b[38;2;55;65;81musing gpt-4o, \u001b[0m\u001b[38;2;55;65;81mstrict\u001b[0m\u001b[38;2;55;65;81m=\u001b[0m\u001b[3;38;2;55;65;81mFalse\u001b[0m\u001b[38;2;55;65;81m, \u001b[0m\u001b[38;2;55;65;81masync_mode\u001b[0m\u001b[38;2;55;65;81m=\u001b[0m\u001b[3;38;2;55;65;81mTrue\u001b[0m\u001b[1;38;2;55;65;81m)\u001b[0m\u001b[38;2;55;65;81m...\u001b[0m\n"
      ]
     },
     "metadata": {},
     "output_type": "display_data"
    },
    {
     "name": "stdout",
     "output_type": "stream",
     "text": [
      "Event loop is already running. Applying nest_asyncio patch to allow async execution...\n"
     ]
    },
    {
     "name": "stderr",
     "output_type": "stream",
     "text": [
      "Evaluating 1 test case(s) in parallel: |██████████|100% (1/1) [Time Taken: 00:02,  2.54s/test case]\n"
     ]
    },
    {
     "data": {
      "text/html": [
       "<pre style=\"white-space:pre;overflow-x:auto;line-height:normal;font-family:Menlo,'DejaVu Sans Mono',consolas,'Courier New',monospace\">\n",
       "<span style=\"color: #05f58d; text-decoration-color: #05f58d\">✓</span> Tests finished 🎉! Run <span style=\"color: #008000; text-decoration-color: #008000; font-weight: bold\">'deepeval login'</span> to save and analyze evaluation results on Confident AI.\n",
       " \n",
       "✨👀 Looking for a place for your LLM test data to live 🏡❤️ ? Use <span style=\"color: #6a00ff; text-decoration-color: #6a00ff\">Confident AI</span> to get &amp; share testing reports, \n",
       "experiment with models/prompts, and catch regressions for your LLM system. Just run <span style=\"color: #008080; text-decoration-color: #008080\">'deepeval login'</span> in the CLI. \n",
       "\n",
       "</pre>\n"
      ],
      "text/plain": [
       "\n",
       "\u001b[38;2;5;245;141m✓\u001b[0m Tests finished 🎉! Run \u001b[1;32m'deepeval login'\u001b[0m to save and analyze evaluation results on Confident AI.\n",
       " \n",
       "✨👀 Looking for a place for your LLM test data to live 🏡❤️ ? Use \u001b[38;2;106;0;255mConfident AI\u001b[0m to get & share testing reports, \n",
       "experiment with models/prompts, and catch regressions for your LLM system. Just run \u001b[36m'deepeval login'\u001b[0m in the CLI. \n",
       "\n"
      ]
     },
     "metadata": {},
     "output_type": "display_data"
    },
    {
     "name": "stdout",
     "output_type": "stream",
     "text": [
      "Error in step 'retrieve': Connection timeout to host http://51.250.7.86:8001/v1/embeddings\n",
      "MESSAGES\n",
      "[{'role': 'user', 'content': 'Твоя задача - определить, релевантны ли предоставленные документы запросу пользователя. Релевантым считай тот документ, в котором тема хотя бы смежно связана с запросом. Верни ровно один массив из строк \\'0\\' или \\'1\\', где \\'1\\' означает, что документ релевантен запросу, а \\'0\\' - что нерелевантен. Массив должен иметь ровно столько элементов, сколько документов в запросе.\\n\\nЗапрос: \\'уберите мой запланированный годовой отпуск\\'\\n\\nДокументы:\\nДокумент 0:\\nВопрос: удалите запланированный годовой отпуск\\nОтвет: задача на планирование отпуска находится в разделе \"задачи\" у вашего руководителя в личном кабинете. отменить/аннулировать заявку на плановый отпуск нельзя, его можно скорректировать после утверждения через перенос на нужные даты. перенос будет доступен с начала следующего года. для отмены проведенного отпуска, необходимо обратиться в кадровые службы, создав заявку в лк.\\n\\nДокумент 1:\\nВопрос: на портале заблокирован перенос планового отпуска во время планирования отпусков на будующий год\\nОтвет: во время планирования отпусков, оформление заявок на перенос отпуска/отгулы и предоставление ежегодного отпуска по заявлению недоступно. для проведения отгула на конец года необходимо обратиться к специалистам hr вашей торговой сети или же позвонить на горячую линию.\\n\\nДокумент 2:\\nВопрос: не получается запланировать отпуск на следующий год\\nОтвет: есть причины, по которым сотрудник может не участвовать в планировании: 1) стоят неявки в промежутке от текущей даты до 01.09 следующего года. 2) есть мероприятие увольнение в будущем начиная от текущей даты. 3) имеется срочный трудовой договор, который оканчивается в середине следующего года 4) сотрудник является внутренним совместителем 5) сотрудник находится на 0% занятости от текущей даты и далее в будущем 6) работа по договору гпх для уточнения данного вопроса, а так же корректировки данных, вы можете обратиться в кадровую службу или же позвонить на горячую линию. *если процесс планирования отпусков на будущий год окончен, то возможности в лк запланировать отпуск нет ни самому сотруднику, ни руководителю за сотрудника. сотрудник сможет в следующем году оформить в лк \"отпуск по заявлению\".\\n\\nДокумент 3:\\nВопрос: нужно перенести ежегодный отпуск\\nОтвет: для переноса планового отпуска сотрудник переходит в раздел «отпуска» link , а затем нажимает кнопку «выберите действие», далее «перенос планового отпуска». обращаем внимание, что перенос планового отпуска возможен не позднее, чем за 6 рабочих дней до его начала. в указанном разделе можно перенести отпуск или удалить плановый отпуск и указать новые даты с использованием правил переноса.\\n\\nДокумент 4:\\nВопрос: не могу вять отпуск\\nОтвет: создайте, пожалуйста, обращение в ит поддержку на портале support\\n\\nДокумент 5:\\nВопрос: не могу запланировать отпуск сотруднику\\nОтвет: сотрудники могут сформировать свои графики до конца ноября текущего года. за ходом планирования необходимо следить в разделе моя команда - отпуска сотрудников.\\n\\nДокумент 6:\\nВопрос: отменить отпуск без содержания\\nОтвет: пожалуйста, обратитесь к непосредственному руководителю, чтобы он создал заявку в личном кабинете по теме «отмена/аннулирование мероприятия». после выполнения мероприятия вы сможете создать заявку в личном кабинете по теме «отпуска и прочие отсутствия», подтема «отгул за ранее отработанный выходной или праздничный день», указав новый период отсутствия.\\n\\n\\n\\nОцени релевантность каждого документа к этому запросу и верни массив из 7 элементов, где каждый элемент - \\'0\\' или \\'1\\'.'}]\n",
      "MESSAGES\n",
      "[{'role': 'user', 'content': 'Ты помощник, который дает ответы в том же стиле, что и представленные примеры. Используй предоставленные вопросы и ответы как образец стиля и уровня детализации.\\n\\nПримеры вопросов и ответов:\\n\\nПример 1:\\nВопрос: удалите запланированный годовой отпуск\\nОтвет: задача на планирование отпуска находится в разделе \"задачи\" у вашего руководителя в личном кабинете. отменить/аннулировать заявку на плановый отпуск нельзя, его можно скорректировать после утверждения через перенос на нужные даты. перенос будет доступен с начала следующего года. для отмены проведенного отпуска, необходимо обратиться в кадровые службы, создав заявку в лк.\\n\\nПример 2:\\nВопрос: на портале заблокирован перенос планового отпуска во время планирования отпусков на будующий год\\nОтвет: во время планирования отпусков, оформление заявок на перенос отпуска/отгулы и предоставление ежегодного отпуска по заявлению недоступно. для проведения отгула на конец года необходимо обратиться к специалистам hr вашей торговой сети или же позвонить на горячую линию.\\n\\nПример 3:\\nВопрос: не получается запланировать отпуск на следующий год\\nОтвет: есть причины, по которым сотрудник может не участвовать в планировании: 1) стоят неявки в промежутке от текущей даты до 01.09 следующего года. 2) есть мероприятие увольнение в будущем начиная от текущей даты. 3) имеется срочный трудовой договор, который оканчивается в середине следующего года 4) сотрудник является внутренним совместителем 5) сотрудник находится на 0% занятости от текущей даты и далее в будущем 6) работа по договору гпх для уточнения данного вопроса, а так же корректировки данных, вы можете обратиться в кадровую службу или же позвонить на горячую линию. *если процесс планирования отпусков на будущий год окончен, то возможности в лк запланировать отпуск нет ни самому сотруднику, ни руководителю за сотрудника. сотрудник сможет в следующем году оформить в лк \"отпуск по заявлению\".\\n\\nПример 4:\\nВопрос: нужно перенести ежегодный отпуск\\nОтвет: для переноса планового отпуска сотрудник переходит в раздел «отпуска» link , а затем нажимает кнопку «выберите действие», далее «перенос планового отпуска». обращаем внимание, что перенос планового отпуска возможен не позднее, чем за 6 рабочих дней до его начала. в указанном разделе можно перенести отпуск или удалить плановый отпуск и указать новые даты с использованием правил переноса.\\n\\n\\n\\nЗапрос пользователя: уберите мой запланированный годовой отпуск\\n\\nОтветь на запрос пользователя в том же стиле, что и приведенные примеры.'}]\n"
     ]
    },
    {
     "data": {
      "text/html": [
       "<pre style=\"white-space:pre;overflow-x:auto;line-height:normal;font-family:Menlo,'DejaVu Sans Mono',consolas,'Courier New',monospace\">✨ You're running DeepEval's latest <span style=\"color: #6a00ff; text-decoration-color: #6a00ff\">Answer Relevancy Metric</span>! <span style=\"color: #374151; text-decoration-color: #374151; font-weight: bold\">(</span><span style=\"color: #374151; text-decoration-color: #374151\">using gpt-4o, </span><span style=\"color: #374151; text-decoration-color: #374151\">strict</span><span style=\"color: #374151; text-decoration-color: #374151\">=</span><span style=\"color: #374151; text-decoration-color: #374151; font-style: italic\">False</span><span style=\"color: #374151; text-decoration-color: #374151\">, </span><span style=\"color: #374151; text-decoration-color: #374151\">async_mode</span><span style=\"color: #374151; text-decoration-color: #374151\">=</span><span style=\"color: #374151; text-decoration-color: #374151; font-style: italic\">True</span><span style=\"color: #374151; text-decoration-color: #374151; font-weight: bold\">)</span><span style=\"color: #374151; text-decoration-color: #374151\">...</span>\n",
       "</pre>\n"
      ],
      "text/plain": [
       "✨ You're running DeepEval's latest \u001b[38;2;106;0;255mAnswer Relevancy Metric\u001b[0m! \u001b[1;38;2;55;65;81m(\u001b[0m\u001b[38;2;55;65;81musing gpt-4o, \u001b[0m\u001b[38;2;55;65;81mstrict\u001b[0m\u001b[38;2;55;65;81m=\u001b[0m\u001b[3;38;2;55;65;81mFalse\u001b[0m\u001b[38;2;55;65;81m, \u001b[0m\u001b[38;2;55;65;81masync_mode\u001b[0m\u001b[38;2;55;65;81m=\u001b[0m\u001b[3;38;2;55;65;81mTrue\u001b[0m\u001b[1;38;2;55;65;81m)\u001b[0m\u001b[38;2;55;65;81m...\u001b[0m\n"
      ]
     },
     "metadata": {},
     "output_type": "display_data"
    },
    {
     "name": "stdout",
     "output_type": "stream",
     "text": [
      "Event loop is already running. Applying nest_asyncio patch to allow async execution...\n"
     ]
    },
    {
     "name": "stderr",
     "output_type": "stream",
     "text": [
      "Evaluating 1 test case(s) in parallel: |██████████|100% (1/1) [Time Taken: 00:05,  5.90s/test case]\n"
     ]
    },
    {
     "data": {
      "text/html": [
       "<pre style=\"white-space:pre;overflow-x:auto;line-height:normal;font-family:Menlo,'DejaVu Sans Mono',consolas,'Courier New',monospace\">\n",
       "<span style=\"color: #05f58d; text-decoration-color: #05f58d\">✓</span> Tests finished 🎉! Run <span style=\"color: #008000; text-decoration-color: #008000; font-weight: bold\">'deepeval login'</span> to save and analyze evaluation results on Confident AI.\n",
       " \n",
       "✨👀 Looking for a place for your LLM test data to live 🏡❤️ ? Use <span style=\"color: #6a00ff; text-decoration-color: #6a00ff\">Confident AI</span> to get &amp; share testing reports, \n",
       "experiment with models/prompts, and catch regressions for your LLM system. Just run <span style=\"color: #008080; text-decoration-color: #008080\">'deepeval login'</span> in the CLI. \n",
       "\n",
       "</pre>\n"
      ],
      "text/plain": [
       "\n",
       "\u001b[38;2;5;245;141m✓\u001b[0m Tests finished 🎉! Run \u001b[1;32m'deepeval login'\u001b[0m to save and analyze evaluation results on Confident AI.\n",
       " \n",
       "✨👀 Looking for a place for your LLM test data to live 🏡❤️ ? Use \u001b[38;2;106;0;255mConfident AI\u001b[0m to get & share testing reports, \n",
       "experiment with models/prompts, and catch regressions for your LLM system. Just run \u001b[36m'deepeval login'\u001b[0m in the CLI. \n",
       "\n"
      ]
     },
     "metadata": {},
     "output_type": "display_data"
    },
    {
     "name": "stdout",
     "output_type": "stream",
     "text": [
      "MESSAGES\n",
      "[{'role': 'user', 'content': \"Твоя задача - определить, релевантны ли предоставленные документы запросу пользователя. Релевантым считай тот документ, в котором тема хотя бы смежно связана с запросом. Верни ровно один массив из строк '0' или '1', где '1' означает, что документ релевантен запросу, а '0' - что нерелевантен. Массив должен иметь ровно столько элементов, сколько документов в запросе.\\n\\nЗапрос: 'сколько отпуска у есть'\\n\\nДокументы:\\nДокумент 0:\\nВопрос: сколько дней отпуска у меня есть\\nОтвет: ознакомиться с графиком отпусков и воспользоваться доступным для планирования лимитом вы можете разделе «отпуска». обращаем внимание, что в личном кабинете отображаются доступные лимиты за вычетом уже запланированных дней.\\n\\nДокумент 1:\\nВопрос: за сколько дней до отпуска приходят отпускные?\\nОтвет: отпускные начисляются не позднее чем за три рабочих дня до даты начала отпуска.\\n\\nДокумент 2:\\nВопрос: можно узнать, сколько дней отпуска у меня есть?\\nОтвет: ознакомиться с графиком отпусков и воспользоваться доступным для планирования лимитом сотрудник может в разделе «отпуска» link . обращаем внимание, что в личном кабинете отображаются доступные лимиты за вычетом уже запланированных дней.\\n\\nДокумент 3:\\nВопрос: как расчитывается отпуск?\\nОтвет: расчет отпускных производится по среднему заработку за последние 12 месяцев, предшествующих началу отпуска. отпускные = среднедневной заработок х продолжительность отпуска в календарных днях\\n\\nДокумент 4:\\nВопрос: пересчитайте дни отпуска для возможности запланировать ежегодный отпуск\\nОтвет: лимиты в личном кабинете отображаются на основании данных в кадровой системе. в процессе планирования, программа считает дни исходя из имеющихся лимитов и может предоставить дни отпуска авансом. на календарный год программа предоставляет лимит 28 дней. период, за который накапливаются лимиты в количестве 28 дней, у каждого сотрудника индивидуальный и считается со дня приема в компанию. за каждый последующий отработанный месяц предоставляется 2.33 дня отпуска. специалистам hr следует проверить данные в 2001ит и в 2006ит, а именно сколько дней было запланировано и использовано в текущем году, есть ли неистраченные лимиты, есть ли продленный лимит на будущее. проверить количество запланированных дней и доступных остатков. посмотреть расчет отпускных дней отпуска на отчетную дату или на конец года можно через транзакцию zhrpa036. так же по существующему алгоритму при планировании отпусков в личном кабинете установлено правило - нельзя планировать более половины всех накопленных дней отпуска в первое полугодие до конца июня. у сотрудника прописано в личном кабинете, что нельзя планировать более 15 дней в первое полугодие.\\n\\n\\n\\nОцени релевантность каждого документа к этому запросу и верни массив из 5 элементов, где каждый элемент - '0' или '1'.\"}]\n",
      "MESSAGES\n",
      "[{'role': 'user', 'content': 'Ты помощник, который дает ответы в том же стиле, что и представленные примеры. Используй предоставленные вопросы и ответы как образец стиля и уровня детализации.\\n\\nПримеры вопросов и ответов:\\n\\nПример 1:\\nВопрос: сколько дней отпуска у меня есть\\nОтвет: ознакомиться с графиком отпусков и воспользоваться доступным для планирования лимитом вы можете разделе «отпуска». обращаем внимание, что в личном кабинете отображаются доступные лимиты за вычетом уже запланированных дней.\\n\\nПример 2:\\nВопрос: можно узнать, сколько дней отпуска у меня есть?\\nОтвет: ознакомиться с графиком отпусков и воспользоваться доступным для планирования лимитом сотрудник может в разделе «отпуска» link . обращаем внимание, что в личном кабинете отображаются доступные лимиты за вычетом уже запланированных дней.\\n\\nПример 3:\\nВопрос: пересчитайте дни отпуска для возможности запланировать ежегодный отпуск\\nОтвет: лимиты в личном кабинете отображаются на основании данных в кадровой системе. в процессе планирования, программа считает дни исходя из имеющихся лимитов и может предоставить дни отпуска авансом. на календарный год программа предоставляет лимит 28 дней. период, за который накапливаются лимиты в количестве 28 дней, у каждого сотрудника индивидуальный и считается со дня приема в компанию. за каждый последующий отработанный месяц предоставляется 2.33 дня отпуска. специалистам hr следует проверить данные в 2001ит и в 2006ит, а именно сколько дней было запланировано и использовано в текущем году, есть ли неистраченные лимиты, есть ли продленный лимит на будущее. проверить количество запланированных дней и доступных остатков. посмотреть расчет отпускных дней отпуска на отчетную дату или на конец года можно через транзакцию zhrpa036. так же по существующему алгоритму при планировании отпусков в личном кабинете установлено правило - нельзя планировать более половины всех накопленных дней отпуска в первое полугодие до конца июня. у сотрудника прописано в личном кабинете, что нельзя планировать более 15 дней в первое полугодие.\\n\\n\\n\\nЗапрос пользователя: сколько отпуска у есть\\n\\nОтветь на запрос пользователя в том же стиле, что и приведенные примеры.'}]\n"
     ]
    },
    {
     "data": {
      "text/html": [
       "<pre style=\"white-space:pre;overflow-x:auto;line-height:normal;font-family:Menlo,'DejaVu Sans Mono',consolas,'Courier New',monospace\">✨ You're running DeepEval's latest <span style=\"color: #6a00ff; text-decoration-color: #6a00ff\">Answer Relevancy Metric</span>! <span style=\"color: #374151; text-decoration-color: #374151; font-weight: bold\">(</span><span style=\"color: #374151; text-decoration-color: #374151\">using gpt-4o, </span><span style=\"color: #374151; text-decoration-color: #374151\">strict</span><span style=\"color: #374151; text-decoration-color: #374151\">=</span><span style=\"color: #374151; text-decoration-color: #374151; font-style: italic\">False</span><span style=\"color: #374151; text-decoration-color: #374151\">, </span><span style=\"color: #374151; text-decoration-color: #374151\">async_mode</span><span style=\"color: #374151; text-decoration-color: #374151\">=</span><span style=\"color: #374151; text-decoration-color: #374151; font-style: italic\">True</span><span style=\"color: #374151; text-decoration-color: #374151; font-weight: bold\">)</span><span style=\"color: #374151; text-decoration-color: #374151\">...</span>\n",
       "</pre>\n"
      ],
      "text/plain": [
       "✨ You're running DeepEval's latest \u001b[38;2;106;0;255mAnswer Relevancy Metric\u001b[0m! \u001b[1;38;2;55;65;81m(\u001b[0m\u001b[38;2;55;65;81musing gpt-4o, \u001b[0m\u001b[38;2;55;65;81mstrict\u001b[0m\u001b[38;2;55;65;81m=\u001b[0m\u001b[3;38;2;55;65;81mFalse\u001b[0m\u001b[38;2;55;65;81m, \u001b[0m\u001b[38;2;55;65;81masync_mode\u001b[0m\u001b[38;2;55;65;81m=\u001b[0m\u001b[3;38;2;55;65;81mTrue\u001b[0m\u001b[1;38;2;55;65;81m)\u001b[0m\u001b[38;2;55;65;81m...\u001b[0m\n"
      ]
     },
     "metadata": {},
     "output_type": "display_data"
    },
    {
     "name": "stdout",
     "output_type": "stream",
     "text": [
      "Event loop is already running. Applying nest_asyncio patch to allow async execution...\n"
     ]
    },
    {
     "name": "stderr",
     "output_type": "stream",
     "text": [
      "Evaluating 1 test case(s) in parallel: |██████████|100% (1/1) [Time Taken: 00:05,  5.22s/test case]\n"
     ]
    },
    {
     "data": {
      "text/html": [
       "<pre style=\"white-space:pre;overflow-x:auto;line-height:normal;font-family:Menlo,'DejaVu Sans Mono',consolas,'Courier New',monospace\">\n",
       "<span style=\"color: #05f58d; text-decoration-color: #05f58d\">✓</span> Tests finished 🎉! Run <span style=\"color: #008000; text-decoration-color: #008000; font-weight: bold\">'deepeval login'</span> to save and analyze evaluation results on Confident AI.\n",
       " \n",
       "✨👀 Looking for a place for your LLM test data to live 🏡❤️ ? Use <span style=\"color: #6a00ff; text-decoration-color: #6a00ff\">Confident AI</span> to get &amp; share testing reports, \n",
       "experiment with models/prompts, and catch regressions for your LLM system. Just run <span style=\"color: #008080; text-decoration-color: #008080\">'deepeval login'</span> in the CLI. \n",
       "\n",
       "</pre>\n"
      ],
      "text/plain": [
       "\n",
       "\u001b[38;2;5;245;141m✓\u001b[0m Tests finished 🎉! Run \u001b[1;32m'deepeval login'\u001b[0m to save and analyze evaluation results on Confident AI.\n",
       " \n",
       "✨👀 Looking for a place for your LLM test data to live 🏡❤️ ? Use \u001b[38;2;106;0;255mConfident AI\u001b[0m to get & share testing reports, \n",
       "experiment with models/prompts, and catch regressions for your LLM system. Just run \u001b[36m'deepeval login'\u001b[0m in the CLI. \n",
       "\n"
      ]
     },
     "metadata": {},
     "output_type": "display_data"
    },
    {
     "name": "stdout",
     "output_type": "stream",
     "text": [
      "MESSAGES\n",
      "[{'role': 'user', 'content': 'Твоя задача - определить, релевантны ли предоставленные документы запросу пользователя. Релевантым считай тот документ, в котором тема хотя бы смежно связана с запросом. Верни ровно один массив из строк \\'0\\' или \\'1\\', где \\'1\\' означает, что документ релевантен запросу, а \\'0\\' - что нерелевантен. Массив должен иметь ровно столько элементов, сколько документов в запросе.\\n\\nЗапрос: \\'почему не могу поменять время отпуска в планировании графика\\'\\n\\nДокументы:\\nДокумент 0:\\nВопрос: нет возможности перенести отпуск во время планирования графика отпусков\\nОтвет: во время планирования отпусков, оформление заявок на перенос отпуска/отгулы и предоставление ежегодного отпуска по заявлению недоступно. для проведения отгула на конец года необходимо обратиться к специалистам hr вашей торговой сети или же позвонить на горячую линию.\\n\\nДокумент 1:\\nВопрос: не дает запланировать все дни отпуска\\nОтвет: лимиты в личном кабинете отображаются на основании данных в кадровой системе. в процессе планирования, программа считает дни исходя из имеющихся лимитов и может предоставить дни отпуска авансом. на календарный год программа предоставляет лимит 28 дней. период, за который накапливаются лимиты в количестве 28 дней, у каждого сотрудника индивидуальный и считается со дня приема в компанию. за каждый последующий отработанный месяц предоставляется 2.33 дня отпуска. специалистам hr следует проверить данные в 2001ит и в 2006ит, а именно сколько дней было запланировано и использовано в текущем году, есть ли неистраченные лимиты, есть ли продленный лимит на будущее. проверить количество запланированных дней и доступных остатков. посмотреть расчет отпускных дней отпуска на отчетную дату или на конец года можно через транзакцию zhrpa036. так же по существующему алгоритму при планировании отпусков в личном кабинете установлено правило - нельзя планировать более половины всех накопленных дней отпуска в первое полугодие до конца июня. у сотрудника прописано в личном кабинете, что нельзя планировать более 15 дней в первое полугодие.\\n\\nДокумент 2:\\nВопрос: нет возможности проставить дни отпуска\\nОтвет: есть причины, по которым сотрудник может не участвовать в планировании: 1) стоят неявки в промежутке от текущей даты до 01.09 следующего года. 2) есть мероприятие увольнение в будущем начиная от текущей даты. 3) имеется срочный трудовой договор, который оканчивается в середине следующего года 4) сотрудник является внутренним совместителем 5) сотрудник находится на 0% занятости от текущей даты и далее в будущем 6) работа по договору гпх для уточнения данного вопроса, а так же корректировки данных, вы можете обратиться в кадровую службу или же позвонить на горячую линию. *если процесс планирования отпусков на будущий год окончен, то возможности в лк запланировать отпуск нет ни самому сотруднику, ни руководителю за сотрудника. сотрудник сможет в следующем году оформить в лк \"отпуск по заявлению\".\\n\\nДокумент 3:\\nВопрос: не доступна кнопка планирования отпуска\\nОтвет: процесс планирования и согласования проходит через обновленный личный кабинет «х5 мои сервисы» link как запланировать отпуск: 1. войдите на портал link . выберите раздел «задачи». 2. нажмите на задачу «планирование графика отпусков». 3. выберите необходимые даты. 4. нажмите кнопку «отправить». 5. готово. график ушел на согласование руководителю.\\n\\nДокумент 4:\\nВопрос: хочу перенсти плановый отпуск но не могу,не вижу отпуск в системе\\nОтвет: если отпуск запрошен не через сервис \"планирование отпусков\", отпуска отображаются в разделе \"фактические\" перенести можно только плановые отпуска\\n\\nДокумент 5:\\nВопрос: не могук запланировать отпуск.\\nОтвет: создайте, пожалуйста, обращение в ит поддержку на портале support\\n\\n\\n\\nОцени релевантность каждого документа к этому запросу и верни массив из 6 элементов, где каждый элемент - \\'0\\' или \\'1\\'.'}]\n",
      "MESSAGES\n",
      "[{'role': 'user', 'content': 'Ты помощник, который дает ответы в том же стиле, что и представленные примеры. Используй предоставленные вопросы и ответы как образец стиля и уровня детализации.\\n\\nПримеры вопросов и ответов:\\n\\nПример 1:\\nВопрос: нет возможности перенести отпуск во время планирования графика отпусков\\nОтвет: во время планирования отпусков, оформление заявок на перенос отпуска/отгулы и предоставление ежегодного отпуска по заявлению недоступно. для проведения отгула на конец года необходимо обратиться к специалистам hr вашей торговой сети или же позвонить на горячую линию.\\n\\nПример 2:\\nВопрос: не дает запланировать все дни отпуска\\nОтвет: лимиты в личном кабинете отображаются на основании данных в кадровой системе. в процессе планирования, программа считает дни исходя из имеющихся лимитов и может предоставить дни отпуска авансом. на календарный год программа предоставляет лимит 28 дней. период, за который накапливаются лимиты в количестве 28 дней, у каждого сотрудника индивидуальный и считается со дня приема в компанию. за каждый последующий отработанный месяц предоставляется 2.33 дня отпуска. специалистам hr следует проверить данные в 2001ит и в 2006ит, а именно сколько дней было запланировано и использовано в текущем году, есть ли неистраченные лимиты, есть ли продленный лимит на будущее. проверить количество запланированных дней и доступных остатков. посмотреть расчет отпускных дней отпуска на отчетную дату или на конец года можно через транзакцию zhrpa036. так же по существующему алгоритму при планировании отпусков в личном кабинете установлено правило - нельзя планировать более половины всех накопленных дней отпуска в первое полугодие до конца июня. у сотрудника прописано в личном кабинете, что нельзя планировать более 15 дней в первое полугодие.\\n\\nПример 3:\\nВопрос: нет возможности проставить дни отпуска\\nОтвет: есть причины, по которым сотрудник может не участвовать в планировании: 1) стоят неявки в промежутке от текущей даты до 01.09 следующего года. 2) есть мероприятие увольнение в будущем начиная от текущей даты. 3) имеется срочный трудовой договор, который оканчивается в середине следующего года 4) сотрудник является внутренним совместителем 5) сотрудник находится на 0% занятости от текущей даты и далее в будущем 6) работа по договору гпх для уточнения данного вопроса, а так же корректировки данных, вы можете обратиться в кадровую службу или же позвонить на горячую линию. *если процесс планирования отпусков на будущий год окончен, то возможности в лк запланировать отпуск нет ни самому сотруднику, ни руководителю за сотрудника. сотрудник сможет в следующем году оформить в лк \"отпуск по заявлению\".\\n\\nПример 4:\\nВопрос: хочу перенсти плановый отпуск но не могу,не вижу отпуск в системе\\nОтвет: если отпуск запрошен не через сервис \"планирование отпусков\", отпуска отображаются в разделе \"фактические\" перенести можно только плановые отпуска\\n\\n\\n\\nЗапрос пользователя: почему не могу поменять время отпуска в планировании графика\\n\\nОтветь на запрос пользователя в том же стиле, что и приведенные примеры.'}]\n"
     ]
    },
    {
     "data": {
      "text/html": [
       "<pre style=\"white-space:pre;overflow-x:auto;line-height:normal;font-family:Menlo,'DejaVu Sans Mono',consolas,'Courier New',monospace\">✨ You're running DeepEval's latest <span style=\"color: #6a00ff; text-decoration-color: #6a00ff\">Answer Relevancy Metric</span>! <span style=\"color: #374151; text-decoration-color: #374151; font-weight: bold\">(</span><span style=\"color: #374151; text-decoration-color: #374151\">using gpt-4o, </span><span style=\"color: #374151; text-decoration-color: #374151\">strict</span><span style=\"color: #374151; text-decoration-color: #374151\">=</span><span style=\"color: #374151; text-decoration-color: #374151; font-style: italic\">False</span><span style=\"color: #374151; text-decoration-color: #374151\">, </span><span style=\"color: #374151; text-decoration-color: #374151\">async_mode</span><span style=\"color: #374151; text-decoration-color: #374151\">=</span><span style=\"color: #374151; text-decoration-color: #374151; font-style: italic\">True</span><span style=\"color: #374151; text-decoration-color: #374151; font-weight: bold\">)</span><span style=\"color: #374151; text-decoration-color: #374151\">...</span>\n",
       "</pre>\n"
      ],
      "text/plain": [
       "✨ You're running DeepEval's latest \u001b[38;2;106;0;255mAnswer Relevancy Metric\u001b[0m! \u001b[1;38;2;55;65;81m(\u001b[0m\u001b[38;2;55;65;81musing gpt-4o, \u001b[0m\u001b[38;2;55;65;81mstrict\u001b[0m\u001b[38;2;55;65;81m=\u001b[0m\u001b[3;38;2;55;65;81mFalse\u001b[0m\u001b[38;2;55;65;81m, \u001b[0m\u001b[38;2;55;65;81masync_mode\u001b[0m\u001b[38;2;55;65;81m=\u001b[0m\u001b[3;38;2;55;65;81mTrue\u001b[0m\u001b[1;38;2;55;65;81m)\u001b[0m\u001b[38;2;55;65;81m...\u001b[0m\n"
      ]
     },
     "metadata": {},
     "output_type": "display_data"
    },
    {
     "name": "stdout",
     "output_type": "stream",
     "text": [
      "Event loop is already running. Applying nest_asyncio patch to allow async execution...\n"
     ]
    },
    {
     "name": "stderr",
     "output_type": "stream",
     "text": [
      "Evaluating 1 test case(s) in parallel: |██████████|100% (1/1) [Time Taken: 00:03,  3.86s/test case]\n"
     ]
    },
    {
     "data": {
      "text/html": [
       "<pre style=\"white-space:pre;overflow-x:auto;line-height:normal;font-family:Menlo,'DejaVu Sans Mono',consolas,'Courier New',monospace\">\n",
       "<span style=\"color: #05f58d; text-decoration-color: #05f58d\">✓</span> Tests finished 🎉! Run <span style=\"color: #008000; text-decoration-color: #008000; font-weight: bold\">'deepeval login'</span> to save and analyze evaluation results on Confident AI.\n",
       " \n",
       "✨👀 Looking for a place for your LLM test data to live 🏡❤️ ? Use <span style=\"color: #6a00ff; text-decoration-color: #6a00ff\">Confident AI</span> to get &amp; share testing reports, \n",
       "experiment with models/prompts, and catch regressions for your LLM system. Just run <span style=\"color: #008080; text-decoration-color: #008080\">'deepeval login'</span> in the CLI. \n",
       "\n",
       "</pre>\n"
      ],
      "text/plain": [
       "\n",
       "\u001b[38;2;5;245;141m✓\u001b[0m Tests finished 🎉! Run \u001b[1;32m'deepeval login'\u001b[0m to save and analyze evaluation results on Confident AI.\n",
       " \n",
       "✨👀 Looking for a place for your LLM test data to live 🏡❤️ ? Use \u001b[38;2;106;0;255mConfident AI\u001b[0m to get & share testing reports, \n",
       "experiment with models/prompts, and catch regressions for your LLM system. Just run \u001b[36m'deepeval login'\u001b[0m in the CLI. \n",
       "\n"
      ]
     },
     "metadata": {},
     "output_type": "display_data"
    },
    {
     "name": "stdout",
     "output_type": "stream",
     "text": [
      "MESSAGES\n",
      "[{'role': 'user', 'content': 'Твоя задача - определить, релевантны ли предоставленные документы запросу пользователя. Релевантым считай тот документ, в котором тема хотя бы смежно связана с запросом. Верни ровно один массив из строк \\'0\\' или \\'1\\', где \\'1\\' означает, что документ релевантен запросу, а \\'0\\' - что нерелевантен. Массив должен иметь ровно столько элементов, сколько документов в запросе.\\n\\nЗапрос: \\'почему не могу запланировать отпуск на год вперед\\'\\n\\nДокументы:\\nДокумент 0:\\nВопрос: не получается запланировать отпуск на следующий год\\nОтвет: есть причины, по которым сотрудник может не участвовать в планировании: 1) стоят неявки в промежутке от текущей даты до 01.09 следующего года. 2) есть мероприятие увольнение в будущем начиная от текущей даты. 3) имеется срочный трудовой договор, который оканчивается в середине следующего года 4) сотрудник является внутренним совместителем 5) сотрудник находится на 0% занятости от текущей даты и далее в будущем 6) работа по договору гпх для уточнения данного вопроса, а так же корректировки данных, вы можете обратиться в кадровую службу или же позвонить на горячую линию. *если процесс планирования отпусков на будущий год окончен, то возможности в лк запланировать отпуск нет ни самому сотруднику, ни руководителю за сотрудника. сотрудник сможет в следующем году оформить в лк \"отпуск по заявлению\".\\n\\nДокумент 1:\\nВопрос: не могук запланировать отпуск.\\nОтвет: создайте, пожалуйста, обращение в ит поддержку на портале support\\n\\nДокумент 2:\\nВопрос: не могу запланировать отпуск сотруднику\\nОтвет: сотрудники могут сформировать свои графики до конца ноября текущего года. за ходом планирования необходимо следить в разделе моя команда - отпуска сотрудников.\\n\\nДокумент 3:\\nВопрос: не дает запланировать все дни отпуска\\nОтвет: лимиты в личном кабинете отображаются на основании данных в кадровой системе. в процессе планирования, программа считает дни исходя из имеющихся лимитов и может предоставить дни отпуска авансом. на календарный год программа предоставляет лимит 28 дней. период, за который накапливаются лимиты в количестве 28 дней, у каждого сотрудника индивидуальный и считается со дня приема в компанию. за каждый последующий отработанный месяц предоставляется 2.33 дня отпуска. специалистам hr следует проверить данные в 2001ит и в 2006ит, а именно сколько дней было запланировано и использовано в текущем году, есть ли неистраченные лимиты, есть ли продленный лимит на будущее. проверить количество запланированных дней и доступных остатков. посмотреть расчет отпускных дней отпуска на отчетную дату или на конец года можно через транзакцию zhrpa036. так же по существующему алгоритму при планировании отпусков в личном кабинете установлено правило - нельзя планировать более половины всех накопленных дней отпуска в первое полугодие до конца июня. у сотрудника прописано в личном кабинете, что нельзя планировать более 15 дней в первое полугодие.\\n\\n\\n\\nОцени релевантность каждого документа к этому запросу и верни массив из 4 элементов, где каждый элемент - \\'0\\' или \\'1\\'.'}]\n",
      "MESSAGES\n",
      "[{'role': 'user', 'content': 'Ты помощник, который дает ответы в том же стиле, что и представленные примеры. Используй предоставленные вопросы и ответы как образец стиля и уровня детализации.\\n\\nПримеры вопросов и ответов:\\n\\nПример 1:\\nВопрос: не получается запланировать отпуск на следующий год\\nОтвет: есть причины, по которым сотрудник может не участвовать в планировании: 1) стоят неявки в промежутке от текущей даты до 01.09 следующего года. 2) есть мероприятие увольнение в будущем начиная от текущей даты. 3) имеется срочный трудовой договор, который оканчивается в середине следующего года 4) сотрудник является внутренним совместителем 5) сотрудник находится на 0% занятости от текущей даты и далее в будущем 6) работа по договору гпх для уточнения данного вопроса, а так же корректировки данных, вы можете обратиться в кадровую службу или же позвонить на горячую линию. *если процесс планирования отпусков на будущий год окончен, то возможности в лк запланировать отпуск нет ни самому сотруднику, ни руководителю за сотрудника. сотрудник сможет в следующем году оформить в лк \"отпуск по заявлению\".\\n\\nПример 2:\\nВопрос: не могу запланировать отпуск сотруднику\\nОтвет: сотрудники могут сформировать свои графики до конца ноября текущего года. за ходом планирования необходимо следить в разделе моя команда - отпуска сотрудников.\\n\\n\\n\\nЗапрос пользователя: почему не могу запланировать отпуск на год вперед\\n\\nОтветь на запрос пользователя в том же стиле, что и приведенные примеры.'}]\n"
     ]
    },
    {
     "data": {
      "text/html": [
       "<pre style=\"white-space:pre;overflow-x:auto;line-height:normal;font-family:Menlo,'DejaVu Sans Mono',consolas,'Courier New',monospace\">✨ You're running DeepEval's latest <span style=\"color: #6a00ff; text-decoration-color: #6a00ff\">Answer Relevancy Metric</span>! <span style=\"color: #374151; text-decoration-color: #374151; font-weight: bold\">(</span><span style=\"color: #374151; text-decoration-color: #374151\">using gpt-4o, </span><span style=\"color: #374151; text-decoration-color: #374151\">strict</span><span style=\"color: #374151; text-decoration-color: #374151\">=</span><span style=\"color: #374151; text-decoration-color: #374151; font-style: italic\">False</span><span style=\"color: #374151; text-decoration-color: #374151\">, </span><span style=\"color: #374151; text-decoration-color: #374151\">async_mode</span><span style=\"color: #374151; text-decoration-color: #374151\">=</span><span style=\"color: #374151; text-decoration-color: #374151; font-style: italic\">True</span><span style=\"color: #374151; text-decoration-color: #374151; font-weight: bold\">)</span><span style=\"color: #374151; text-decoration-color: #374151\">...</span>\n",
       "</pre>\n"
      ],
      "text/plain": [
       "✨ You're running DeepEval's latest \u001b[38;2;106;0;255mAnswer Relevancy Metric\u001b[0m! \u001b[1;38;2;55;65;81m(\u001b[0m\u001b[38;2;55;65;81musing gpt-4o, \u001b[0m\u001b[38;2;55;65;81mstrict\u001b[0m\u001b[38;2;55;65;81m=\u001b[0m\u001b[3;38;2;55;65;81mFalse\u001b[0m\u001b[38;2;55;65;81m, \u001b[0m\u001b[38;2;55;65;81masync_mode\u001b[0m\u001b[38;2;55;65;81m=\u001b[0m\u001b[3;38;2;55;65;81mTrue\u001b[0m\u001b[1;38;2;55;65;81m)\u001b[0m\u001b[38;2;55;65;81m...\u001b[0m\n"
      ]
     },
     "metadata": {},
     "output_type": "display_data"
    },
    {
     "name": "stdout",
     "output_type": "stream",
     "text": [
      "Event loop is already running. Applying nest_asyncio patch to allow async execution...\n"
     ]
    },
    {
     "name": "stderr",
     "output_type": "stream",
     "text": [
      "Evaluating 1 test case(s) in parallel: |██████████|100% (1/1) [Time Taken: 00:06,  6.22s/test case]\n"
     ]
    },
    {
     "data": {
      "text/html": [
       "<pre style=\"white-space:pre;overflow-x:auto;line-height:normal;font-family:Menlo,'DejaVu Sans Mono',consolas,'Courier New',monospace\">\n",
       "<span style=\"color: #05f58d; text-decoration-color: #05f58d\">✓</span> Tests finished 🎉! Run <span style=\"color: #008000; text-decoration-color: #008000; font-weight: bold\">'deepeval login'</span> to save and analyze evaluation results on Confident AI.\n",
       " \n",
       "✨👀 Looking for a place for your LLM test data to live 🏡❤️ ? Use <span style=\"color: #6a00ff; text-decoration-color: #6a00ff\">Confident AI</span> to get &amp; share testing reports, \n",
       "experiment with models/prompts, and catch regressions for your LLM system. Just run <span style=\"color: #008080; text-decoration-color: #008080\">'deepeval login'</span> in the CLI. \n",
       "\n",
       "</pre>\n"
      ],
      "text/plain": [
       "\n",
       "\u001b[38;2;5;245;141m✓\u001b[0m Tests finished 🎉! Run \u001b[1;32m'deepeval login'\u001b[0m to save and analyze evaluation results on Confident AI.\n",
       " \n",
       "✨👀 Looking for a place for your LLM test data to live 🏡❤️ ? Use \u001b[38;2;106;0;255mConfident AI\u001b[0m to get & share testing reports, \n",
       "experiment with models/prompts, and catch regressions for your LLM system. Just run \u001b[36m'deepeval login'\u001b[0m in the CLI. \n",
       "\n"
      ]
     },
     "metadata": {},
     "output_type": "display_data"
    },
    {
     "name": "stdout",
     "output_type": "stream",
     "text": [
      "MESSAGES\n",
      "[{'role': 'user', 'content': 'Твоя задача - определить, релевантны ли предоставленные документы запросу пользователя. Релевантым считай тот документ, в котором тема хотя бы смежно связана с запросом. Верни ровно один массив из строк \\'0\\' или \\'1\\', где \\'1\\' означает, что документ релевантен запросу, а \\'0\\' - что нерелевантен. Массив должен иметь ровно столько элементов, сколько документов в запросе.\\n\\nЗапрос: \\'уйти в отпуск за свои деньги\\'\\n\\nДокументы:\\nДокумент 0:\\nВопрос: отпуск за свой счет\\nОтвет: вы можете создать заявку на отпуск без сохранения заработной платы в соответствующем блоке в лк\\n\\nДокумент 1:\\nВопрос: мне нужен отпуск без оплаты труда\\nОтвет: создайте, пожалуйста, заявку по теме «отпуск», далее «отпуска и прочие отсутствия», подтема «отпуск без сохранения заработной платы». приложите, пожалуйста, к заявке заявление, согласованное непосредственным руководителем. шаблон заявления доступен в разделе «база знаний».\\n\\nДокумент 2:\\nВопрос: как провести отпуск без сохранения заработной платы?\\nОтвет: оформление отпуска без сохранения заработной платы возможно 2 способами: 1. в разделе \"отпуска\" в левом меню личного кабинета сотрудника (link ); 2. в разделе \"заявки\", группа \"отпуск\", плитка \"отпуск без сохранения зп\". (link\\n\\nДокумент 3:\\nВопрос: хочу отгул\\nОтвет: пожалуйста, создайте заявку по теме «отпуск», далее «отпуска и прочие отсутствия», подтема «отгул за ранее отработанный выходной или праздничный день». к заявке приложите, пожалуйста, заявление. шаблон заявления доступен в разделе «база знаний».\\n\\nДокумент 4:\\nВопрос: нужна отмена отпуска без оплаты\\nОтвет: пожалуйста, обратитесь к непосредственному руководителю, чтобы он создал заявку в личном кабинете по теме «отмена/аннулирование мероприятия». после выполнения мероприятия вы сможете создать заявку в личном кабинете по теме «отпуска и прочие отсутствия», подтема «отгул за ранее отработанный выходной или праздничный день», указав новый период отсутствия.\\n\\nДокумент 5:\\nВопрос: как оформить отпуск\\nОтвет: создать заявку на отпуск можно в разделе \"сервис\", подразделе \"отпуск\". требования к запрашиваемому отпуску вы сможете видеть левой части экрана\\n\\nДокумент 6:\\nВопрос: как мне перенести отпуск без оплаты\\nОтвет: пожалуйста, обратитесь к непосредственному руководителю для коммуникации с бизнес-партнером по персоналу вашего подразделения, чтобы он создал заявку на вас в личном кабинете по теме «отзыв из отпуска»\\n\\n\\n\\nОцени релевантность каждого документа к этому запросу и верни массив из 7 элементов, где каждый элемент - \\'0\\' или \\'1\\'.'}]\n",
      "MESSAGES\n",
      "[{'role': 'user', 'content': 'Ты помощник, который дает ответы в том же стиле, что и представленные примеры. Используй предоставленные вопросы и ответы как образец стиля и уровня детализации.\\n\\nПримеры вопросов и ответов:\\n\\nПример 1:\\nВопрос: отпуск за свой счет\\nОтвет: вы можете создать заявку на отпуск без сохранения заработной платы в соответствующем блоке в лк\\n\\nПример 2:\\nВопрос: мне нужен отпуск без оплаты труда\\nОтвет: создайте, пожалуйста, заявку по теме «отпуск», далее «отпуска и прочие отсутствия», подтема «отпуск без сохранения заработной платы». приложите, пожалуйста, к заявке заявление, согласованное непосредственным руководителем. шаблон заявления доступен в разделе «база знаний».\\n\\nПример 3:\\nВопрос: как провести отпуск без сохранения заработной платы?\\nОтвет: оформление отпуска без сохранения заработной платы возможно 2 способами: 1. в разделе \"отпуска\" в левом меню личного кабинета сотрудника (link ); 2. в разделе \"заявки\", группа \"отпуск\", плитка \"отпуск без сохранения зп\". (link\\n\\n\\n\\nЗапрос пользователя: уйти в отпуск за свои деньги\\n\\nОтветь на запрос пользователя в том же стиле, что и приведенные примеры.'}]\n"
     ]
    },
    {
     "data": {
      "text/html": [
       "<pre style=\"white-space:pre;overflow-x:auto;line-height:normal;font-family:Menlo,'DejaVu Sans Mono',consolas,'Courier New',monospace\">✨ You're running DeepEval's latest <span style=\"color: #6a00ff; text-decoration-color: #6a00ff\">Answer Relevancy Metric</span>! <span style=\"color: #374151; text-decoration-color: #374151; font-weight: bold\">(</span><span style=\"color: #374151; text-decoration-color: #374151\">using gpt-4o, </span><span style=\"color: #374151; text-decoration-color: #374151\">strict</span><span style=\"color: #374151; text-decoration-color: #374151\">=</span><span style=\"color: #374151; text-decoration-color: #374151; font-style: italic\">False</span><span style=\"color: #374151; text-decoration-color: #374151\">, </span><span style=\"color: #374151; text-decoration-color: #374151\">async_mode</span><span style=\"color: #374151; text-decoration-color: #374151\">=</span><span style=\"color: #374151; text-decoration-color: #374151; font-style: italic\">True</span><span style=\"color: #374151; text-decoration-color: #374151; font-weight: bold\">)</span><span style=\"color: #374151; text-decoration-color: #374151\">...</span>\n",
       "</pre>\n"
      ],
      "text/plain": [
       "✨ You're running DeepEval's latest \u001b[38;2;106;0;255mAnswer Relevancy Metric\u001b[0m! \u001b[1;38;2;55;65;81m(\u001b[0m\u001b[38;2;55;65;81musing gpt-4o, \u001b[0m\u001b[38;2;55;65;81mstrict\u001b[0m\u001b[38;2;55;65;81m=\u001b[0m\u001b[3;38;2;55;65;81mFalse\u001b[0m\u001b[38;2;55;65;81m, \u001b[0m\u001b[38;2;55;65;81masync_mode\u001b[0m\u001b[38;2;55;65;81m=\u001b[0m\u001b[3;38;2;55;65;81mTrue\u001b[0m\u001b[1;38;2;55;65;81m)\u001b[0m\u001b[38;2;55;65;81m...\u001b[0m\n"
      ]
     },
     "metadata": {},
     "output_type": "display_data"
    },
    {
     "name": "stdout",
     "output_type": "stream",
     "text": [
      "Event loop is already running. Applying nest_asyncio patch to allow async execution...\n"
     ]
    },
    {
     "name": "stderr",
     "output_type": "stream",
     "text": [
      "Evaluating 1 test case(s) in parallel: |██████████|100% (1/1) [Time Taken: 00:03,  3.91s/test case]\n"
     ]
    },
    {
     "data": {
      "text/html": [
       "<pre style=\"white-space:pre;overflow-x:auto;line-height:normal;font-family:Menlo,'DejaVu Sans Mono',consolas,'Courier New',monospace\">\n",
       "<span style=\"color: #05f58d; text-decoration-color: #05f58d\">✓</span> Tests finished 🎉! Run <span style=\"color: #008000; text-decoration-color: #008000; font-weight: bold\">'deepeval login'</span> to save and analyze evaluation results on Confident AI.\n",
       " \n",
       "✨👀 Looking for a place for your LLM test data to live 🏡❤️ ? Use <span style=\"color: #6a00ff; text-decoration-color: #6a00ff\">Confident AI</span> to get &amp; share testing reports, \n",
       "experiment with models/prompts, and catch regressions for your LLM system. Just run <span style=\"color: #008080; text-decoration-color: #008080\">'deepeval login'</span> in the CLI. \n",
       "\n",
       "</pre>\n"
      ],
      "text/plain": [
       "\n",
       "\u001b[38;2;5;245;141m✓\u001b[0m Tests finished 🎉! Run \u001b[1;32m'deepeval login'\u001b[0m to save and analyze evaluation results on Confident AI.\n",
       " \n",
       "✨👀 Looking for a place for your LLM test data to live 🏡❤️ ? Use \u001b[38;2;106;0;255mConfident AI\u001b[0m to get & share testing reports, \n",
       "experiment with models/prompts, and catch regressions for your LLM system. Just run \u001b[36m'deepeval login'\u001b[0m in the CLI. \n",
       "\n"
      ]
     },
     "metadata": {},
     "output_type": "display_data"
    },
    {
     "name": "stdout",
     "output_type": "stream",
     "text": [
      "MESSAGES\n",
      "[{'role': 'user', 'content': 'Твоя задача - определить, релевантны ли предоставленные документы запросу пользователя. Релевантым считай тот документ, в котором тема хотя бы смежно связана с запросом. Верни ровно один массив из строк \\'0\\' или \\'1\\', где \\'1\\' означает, что документ релевантен запросу, а \\'0\\' - что нерелевантен. Массив должен иметь ровно столько элементов, сколько документов в запросе.\\n\\nЗапрос: \\'запланировать отпуск\\'\\n\\nДокументы:\\nДокумент 0:\\nВопрос: прошу прогрузить планирование отпуска\\nОтвет: сотрудники больше не могут сами планировать графики отпусков, время на выполнение их задач вышло. теперь планирование доступно только руководителю. в разделе «нуждаются в планировании отпуска» находятся сотрудники, за которых нужно запланировать график.\\n\\nДокумент 1:\\nВопрос: как провести отпуск?\\nОтвет: оформление отпуска по заявлению возможно двумя способами: 1. в разделе \"отпуска\" в левом меню личного кабинета сотрудника (link ); 2. в разделе \"заявки\", группа \"отпуск\", плитка \"отпуск по заявлению (лк)\". (link\\n\\nДокумент 2:\\nВопрос: как оформить отпуск\\nОтвет: создать заявку на отпуск можно в разделе \"сервис\", подразделе \"отпуск\". требования к запрашиваемому отпуску вы сможете видеть левой части экрана\\n\\nДокумент 3:\\nВопрос: как составить график отпусков в личный кабинет?\\nОтвет: процесс планирования и согласования проходит через обновленный личный кабинет «х5 мои сервисы» link как запланировать отпуск: 1. войдите на портал link . выберите раздел «задачи». 2. нажмите на задачу «планирование графика отпусков». 3. выберите необходимые даты. 4. нажмите кнопку «отправить». 5. готово. график ушел на согласование руководителю.\\n\\nДокумент 4:\\nВопрос: хочу оформить отпуск что надо сделать?\\nОтвет: для оформления отпуска необходимо создать соответствующую заявку. для этого следует зайти в раздел \"сервис\", выбрать подраздел \"отпуска и прочие отсутствия\", далее выбрать тему \"отпуск\" и создать заявку по инструкции, указанной в этом разделе. не забудьте также приложить к заявке согласованное руководством заявление по установленному шаблону, который доступен в разделе \"база знаний\".\\n\\nДокумент 5:\\nВопрос: как перенести плановый отпуск\\nОтвет: для переноса планового отпуска сотрудник переходит в раздел «отпуска» link , а затем нажимает кнопку «выберите действие», далее «перенос планового отпуска». обращаем внимание, что перенос планового отпуска возможен не позднее, чем за 6 рабочих дней до его начала. в указанном разделе можно перенести отпуск или удалить плановый отпуск и указать новые даты с использованием правил переноса.\\n\\nДокумент 6:\\nВопрос: не могу запланировать себе отпуск\\nОтвет: есть причины, по которым сотрудник может не участвовать в планировании: 1) стоят неявки в промежутке от текущей даты до 01.09 следующего года. 2) есть мероприятие увольнение в будущем начиная от текущей даты. 3) имеется срочный трудовой договор, который оканчивается в середине следующего года 4) сотрудник является внутренним совместителем 5) сотрудник находится на 0% занятости от текущей даты и далее в будущем 6) работа по договору гпх для уточнения данного вопроса, а так же корректировки данных, вы можете обратиться в кадровую службу или же позвонить на горячую линию. *если процесс планирования отпусков на будущий год окончен, то возможности в лк запланировать отпуск нет ни самому сотруднику, ни руководителю за сотрудника. сотрудник сможет в следующем году оформить в лк \"отпуск по заявлению\".\\n\\n\\n\\nОцени релевантность каждого документа к этому запросу и верни массив из 7 элементов, где каждый элемент - \\'0\\' или \\'1\\'.'}]\n",
      "MESSAGES\n",
      "[{'role': 'user', 'content': 'Ты помощник, который дает ответы в том же стиле, что и представленные примеры. Используй предоставленные вопросы и ответы как образец стиля и уровня детализации.\\n\\nПримеры вопросов и ответов:\\n\\nПример 1:\\nВопрос: прошу прогрузить планирование отпуска\\nОтвет: сотрудники больше не могут сами планировать графики отпусков, время на выполнение их задач вышло. теперь планирование доступно только руководителю. в разделе «нуждаются в планировании отпуска» находятся сотрудники, за которых нужно запланировать график.\\n\\nПример 2:\\nВопрос: как провести отпуск?\\nОтвет: оформление отпуска по заявлению возможно двумя способами: 1. в разделе \"отпуска\" в левом меню личного кабинета сотрудника (link ); 2. в разделе \"заявки\", группа \"отпуск\", плитка \"отпуск по заявлению (лк)\". (link\\n\\nПример 3:\\nВопрос: как оформить отпуск\\nОтвет: создать заявку на отпуск можно в разделе \"сервис\", подразделе \"отпуск\". требования к запрашиваемому отпуску вы сможете видеть левой части экрана\\n\\nПример 4:\\nВопрос: как составить график отпусков в личный кабинет?\\nОтвет: процесс планирования и согласования проходит через обновленный личный кабинет «х5 мои сервисы» link как запланировать отпуск: 1. войдите на портал link . выберите раздел «задачи». 2. нажмите на задачу «планирование графика отпусков». 3. выберите необходимые даты. 4. нажмите кнопку «отправить». 5. готово. график ушел на согласование руководителю.\\n\\nПример 5:\\nВопрос: хочу оформить отпуск что надо сделать?\\nОтвет: для оформления отпуска необходимо создать соответствующую заявку. для этого следует зайти в раздел \"сервис\", выбрать подраздел \"отпуска и прочие отсутствия\", далее выбрать тему \"отпуск\" и создать заявку по инструкции, указанной в этом разделе. не забудьте также приложить к заявке согласованное руководством заявление по установленному шаблону, который доступен в разделе \"база знаний\".\\n\\nПример 6:\\nВопрос: не могу запланировать себе отпуск\\nОтвет: есть причины, по которым сотрудник может не участвовать в планировании: 1) стоят неявки в промежутке от текущей даты до 01.09 следующего года. 2) есть мероприятие увольнение в будущем начиная от текущей даты. 3) имеется срочный трудовой договор, который оканчивается в середине следующего года 4) сотрудник является внутренним совместителем 5) сотрудник находится на 0% занятости от текущей даты и далее в будущем 6) работа по договору гпх для уточнения данного вопроса, а так же корректировки данных, вы можете обратиться в кадровую службу или же позвонить на горячую линию. *если процесс планирования отпусков на будущий год окончен, то возможности в лк запланировать отпуск нет ни самому сотруднику, ни руководителю за сотрудника. сотрудник сможет в следующем году оформить в лк \"отпуск по заявлению\".\\n\\n\\n\\nЗапрос пользователя: запланировать отпуск\\n\\nОтветь на запрос пользователя в том же стиле, что и приведенные примеры.'}]\n"
     ]
    },
    {
     "data": {
      "text/html": [
       "<pre style=\"white-space:pre;overflow-x:auto;line-height:normal;font-family:Menlo,'DejaVu Sans Mono',consolas,'Courier New',monospace\">✨ You're running DeepEval's latest <span style=\"color: #6a00ff; text-decoration-color: #6a00ff\">Answer Relevancy Metric</span>! <span style=\"color: #374151; text-decoration-color: #374151; font-weight: bold\">(</span><span style=\"color: #374151; text-decoration-color: #374151\">using gpt-4o, </span><span style=\"color: #374151; text-decoration-color: #374151\">strict</span><span style=\"color: #374151; text-decoration-color: #374151\">=</span><span style=\"color: #374151; text-decoration-color: #374151; font-style: italic\">False</span><span style=\"color: #374151; text-decoration-color: #374151\">, </span><span style=\"color: #374151; text-decoration-color: #374151\">async_mode</span><span style=\"color: #374151; text-decoration-color: #374151\">=</span><span style=\"color: #374151; text-decoration-color: #374151; font-style: italic\">True</span><span style=\"color: #374151; text-decoration-color: #374151; font-weight: bold\">)</span><span style=\"color: #374151; text-decoration-color: #374151\">...</span>\n",
       "</pre>\n"
      ],
      "text/plain": [
       "✨ You're running DeepEval's latest \u001b[38;2;106;0;255mAnswer Relevancy Metric\u001b[0m! \u001b[1;38;2;55;65;81m(\u001b[0m\u001b[38;2;55;65;81musing gpt-4o, \u001b[0m\u001b[38;2;55;65;81mstrict\u001b[0m\u001b[38;2;55;65;81m=\u001b[0m\u001b[3;38;2;55;65;81mFalse\u001b[0m\u001b[38;2;55;65;81m, \u001b[0m\u001b[38;2;55;65;81masync_mode\u001b[0m\u001b[38;2;55;65;81m=\u001b[0m\u001b[3;38;2;55;65;81mTrue\u001b[0m\u001b[1;38;2;55;65;81m)\u001b[0m\u001b[38;2;55;65;81m...\u001b[0m\n"
      ]
     },
     "metadata": {},
     "output_type": "display_data"
    },
    {
     "name": "stdout",
     "output_type": "stream",
     "text": [
      "Event loop is already running. Applying nest_asyncio patch to allow async execution...\n"
     ]
    },
    {
     "name": "stderr",
     "output_type": "stream",
     "text": [
      "Evaluating 1 test case(s) in parallel: |██████████|100% (1/1) [Time Taken: 00:04,  4.23s/test case]\n"
     ]
    },
    {
     "data": {
      "text/html": [
       "<pre style=\"white-space:pre;overflow-x:auto;line-height:normal;font-family:Menlo,'DejaVu Sans Mono',consolas,'Courier New',monospace\">\n",
       "<span style=\"color: #05f58d; text-decoration-color: #05f58d\">✓</span> Tests finished 🎉! Run <span style=\"color: #008000; text-decoration-color: #008000; font-weight: bold\">'deepeval login'</span> to save and analyze evaluation results on Confident AI.\n",
       " \n",
       "✨👀 Looking for a place for your LLM test data to live 🏡❤️ ? Use <span style=\"color: #6a00ff; text-decoration-color: #6a00ff\">Confident AI</span> to get &amp; share testing reports, \n",
       "experiment with models/prompts, and catch regressions for your LLM system. Just run <span style=\"color: #008080; text-decoration-color: #008080\">'deepeval login'</span> in the CLI. \n",
       "\n",
       "</pre>\n"
      ],
      "text/plain": [
       "\n",
       "\u001b[38;2;5;245;141m✓\u001b[0m Tests finished 🎉! Run \u001b[1;32m'deepeval login'\u001b[0m to save and analyze evaluation results on Confident AI.\n",
       " \n",
       "✨👀 Looking for a place for your LLM test data to live 🏡❤️ ? Use \u001b[38;2;106;0;255mConfident AI\u001b[0m to get & share testing reports, \n",
       "experiment with models/prompts, and catch regressions for your LLM system. Just run \u001b[36m'deepeval login'\u001b[0m in the CLI. \n",
       "\n"
      ]
     },
     "metadata": {},
     "output_type": "display_data"
    },
    {
     "name": "stdout",
     "output_type": "stream",
     "text": [
      "MESSAGES\n",
      "[{'role': 'user', 'content': \"Твоя задача - определить, релевантны ли предоставленные документы запросу пользователя. Релевантым считай тот документ, в котором тема хотя бы смежно связана с запросом. Верни ровно один массив из строк '0' или '1', где '1' означает, что документ релевантен запросу, а '0' - что нерелевантен. Массив должен иметь ровно столько элементов, сколько документов в запросе.\\n\\nЗапрос: 'когда получу отпускные'\\n\\nДокументы:\\nДокумент 0:\\nВопрос: когда поступят отпускные\\nОтвет: отпускные начисляются не позднее чем за три рабочих дня до даты начала отпуска.\\n\\nДокумент 1:\\nВопрос: какую сумму получу отпускных\\nОтвет: расчет отпускных производится по среднему заработку за последние 12 месяцев, предшествующих началу отпуска. отпускные = среднедневной заработок х продолжительность отпуска в календарных днях\\n\\nДокумент 2:\\nВопрос: сколько дней отпуска у меня есть\\nОтвет: ознакомиться с графиком отпусков и воспользоваться доступным для планирования лимитом вы можете разделе «отпуска». обращаем внимание, что в личном кабинете отображаются доступные лимиты за вычетом уже запланированных дней.\\n\\nДокумент 3:\\nВопрос: можно узнать, сколько дней отпуска у меня есть?\\nОтвет: ознакомиться с графиком отпусков и воспользоваться доступным для планирования лимитом сотрудник может в разделе «отпуска» link . обращаем внимание, что в личном кабинете отображаются доступные лимиты за вычетом уже запланированных дней.\\n\\n\\n\\nОцени релевантность каждого документа к этому запросу и верни массив из 4 элементов, где каждый элемент - '0' или '1'.\"}]\n",
      "MESSAGES\n",
      "[{'role': 'user', 'content': 'Ты помощник, который дает ответы в том же стиле, что и представленные примеры. Используй предоставленные вопросы и ответы как образец стиля и уровня детализации.\\n\\nПримеры вопросов и ответов:\\n\\nПример 1:\\nВопрос: когда поступят отпускные\\nОтвет: отпускные начисляются не позднее чем за три рабочих дня до даты начала отпуска.\\n\\nПример 2:\\nВопрос: какую сумму получу отпускных\\nОтвет: расчет отпускных производится по среднему заработку за последние 12 месяцев, предшествующих началу отпуска. отпускные = среднедневной заработок х продолжительность отпуска в календарных днях\\n\\n\\n\\nЗапрос пользователя: когда получу отпускные\\n\\nОтветь на запрос пользователя в том же стиле, что и приведенные примеры.'}]\n"
     ]
    },
    {
     "data": {
      "text/html": [
       "<pre style=\"white-space:pre;overflow-x:auto;line-height:normal;font-family:Menlo,'DejaVu Sans Mono',consolas,'Courier New',monospace\">✨ You're running DeepEval's latest <span style=\"color: #6a00ff; text-decoration-color: #6a00ff\">Answer Relevancy Metric</span>! <span style=\"color: #374151; text-decoration-color: #374151; font-weight: bold\">(</span><span style=\"color: #374151; text-decoration-color: #374151\">using gpt-4o, </span><span style=\"color: #374151; text-decoration-color: #374151\">strict</span><span style=\"color: #374151; text-decoration-color: #374151\">=</span><span style=\"color: #374151; text-decoration-color: #374151; font-style: italic\">False</span><span style=\"color: #374151; text-decoration-color: #374151\">, </span><span style=\"color: #374151; text-decoration-color: #374151\">async_mode</span><span style=\"color: #374151; text-decoration-color: #374151\">=</span><span style=\"color: #374151; text-decoration-color: #374151; font-style: italic\">True</span><span style=\"color: #374151; text-decoration-color: #374151; font-weight: bold\">)</span><span style=\"color: #374151; text-decoration-color: #374151\">...</span>\n",
       "</pre>\n"
      ],
      "text/plain": [
       "✨ You're running DeepEval's latest \u001b[38;2;106;0;255mAnswer Relevancy Metric\u001b[0m! \u001b[1;38;2;55;65;81m(\u001b[0m\u001b[38;2;55;65;81musing gpt-4o, \u001b[0m\u001b[38;2;55;65;81mstrict\u001b[0m\u001b[38;2;55;65;81m=\u001b[0m\u001b[3;38;2;55;65;81mFalse\u001b[0m\u001b[38;2;55;65;81m, \u001b[0m\u001b[38;2;55;65;81masync_mode\u001b[0m\u001b[38;2;55;65;81m=\u001b[0m\u001b[3;38;2;55;65;81mTrue\u001b[0m\u001b[1;38;2;55;65;81m)\u001b[0m\u001b[38;2;55;65;81m...\u001b[0m\n"
      ]
     },
     "metadata": {},
     "output_type": "display_data"
    },
    {
     "name": "stdout",
     "output_type": "stream",
     "text": [
      "Event loop is already running. Applying nest_asyncio patch to allow async execution...\n"
     ]
    },
    {
     "name": "stderr",
     "output_type": "stream",
     "text": [
      "Evaluating 1 test case(s) in parallel: |██████████|100% (1/1) [Time Taken: 00:08,  8.84s/test case]\n"
     ]
    },
    {
     "data": {
      "text/html": [
       "<pre style=\"white-space:pre;overflow-x:auto;line-height:normal;font-family:Menlo,'DejaVu Sans Mono',consolas,'Courier New',monospace\">\n",
       "<span style=\"color: #05f58d; text-decoration-color: #05f58d\">✓</span> Tests finished 🎉! Run <span style=\"color: #008000; text-decoration-color: #008000; font-weight: bold\">'deepeval login'</span> to save and analyze evaluation results on Confident AI.\n",
       " \n",
       "✨👀 Looking for a place for your LLM test data to live 🏡❤️ ? Use <span style=\"color: #6a00ff; text-decoration-color: #6a00ff\">Confident AI</span> to get &amp; share testing reports, \n",
       "experiment with models/prompts, and catch regressions for your LLM system. Just run <span style=\"color: #008080; text-decoration-color: #008080\">'deepeval login'</span> in the CLI. \n",
       "\n",
       "</pre>\n"
      ],
      "text/plain": [
       "\n",
       "\u001b[38;2;5;245;141m✓\u001b[0m Tests finished 🎉! Run \u001b[1;32m'deepeval login'\u001b[0m to save and analyze evaluation results on Confident AI.\n",
       " \n",
       "✨👀 Looking for a place for your LLM test data to live 🏡❤️ ? Use \u001b[38;2;106;0;255mConfident AI\u001b[0m to get & share testing reports, \n",
       "experiment with models/prompts, and catch regressions for your LLM system. Just run \u001b[36m'deepeval login'\u001b[0m in the CLI. \n",
       "\n"
      ]
     },
     "metadata": {},
     "output_type": "display_data"
    },
    {
     "name": "stdout",
     "output_type": "stream",
     "text": [
      "MESSAGES\n",
      "[{'role': 'user', 'content': 'Твоя задача - определить, релевантны ли предоставленные документы запросу пользователя. Релевантым считай тот документ, в котором тема хотя бы смежно связана с запросом. Верни ровно один массив из строк \\'0\\' или \\'1\\', где \\'1\\' означает, что документ релевантен запросу, а \\'0\\' - что нерелевантен. Массив должен иметь ровно столько элементов, сколько документов в запросе.\\n\\nЗапрос: \\'расчитывается сколько денег получу после отпуска\\'\\n\\nДокументы:\\nДокумент 0:\\nВопрос: нужно рассчитать сколько получу за отпуск\\nОтвет: расчет отпускных производится по среднему заработку за последние 12 месяцев, предшествующих началу отпуска. отпускные = среднедневной заработок х продолжительность отпуска в календарных днях\\n\\nДокумент 1:\\nВопрос: когда я получу деньги за отпуск\\nОтвет: отпускные начисляются не позднее чем за три рабочих дня до даты начала отпуска.\\n\\nДокумент 2:\\nВопрос: хочу уволится, но у меня отпускные, как они будут рассчитаны?\\nОтвет: по данному вопросу вы можете обратиться в кадровую службу, создав заявку \"консультация по hr вопросам\"\\n\\nДокумент 3:\\nВопрос: можно узнать, сколько дней отпуска у меня есть?\\nОтвет: ознакомиться с графиком отпусков и воспользоваться доступным для планирования лимитом сотрудник может в разделе «отпуска» link . обращаем внимание, что в личном кабинете отображаются доступные лимиты за вычетом уже запланированных дней.\\n\\n\\n\\nОцени релевантность каждого документа к этому запросу и верни массив из 4 элементов, где каждый элемент - \\'0\\' или \\'1\\'.'}]\n",
      "MESSAGES\n",
      "[{'role': 'user', 'content': 'Ты помощник, который дает ответы в том же стиле, что и представленные примеры. Используй предоставленные вопросы и ответы как образец стиля и уровня детализации.\\n\\nПримеры вопросов и ответов:\\n\\nПример 1:\\nВопрос: нужно рассчитать сколько получу за отпуск\\nОтвет: расчет отпускных производится по среднему заработку за последние 12 месяцев, предшествующих началу отпуска. отпускные = среднедневной заработок х продолжительность отпуска в календарных днях\\n\\nПример 2:\\nВопрос: когда я получу деньги за отпуск\\nОтвет: отпускные начисляются не позднее чем за три рабочих дня до даты начала отпуска.\\n\\n\\n\\nЗапрос пользователя: расчитывается сколько денег получу после отпуска\\n\\nОтветь на запрос пользователя в том же стиле, что и приведенные примеры.'}]\n"
     ]
    },
    {
     "data": {
      "text/html": [
       "<pre style=\"white-space:pre;overflow-x:auto;line-height:normal;font-family:Menlo,'DejaVu Sans Mono',consolas,'Courier New',monospace\">✨ You're running DeepEval's latest <span style=\"color: #6a00ff; text-decoration-color: #6a00ff\">Answer Relevancy Metric</span>! <span style=\"color: #374151; text-decoration-color: #374151; font-weight: bold\">(</span><span style=\"color: #374151; text-decoration-color: #374151\">using gpt-4o, </span><span style=\"color: #374151; text-decoration-color: #374151\">strict</span><span style=\"color: #374151; text-decoration-color: #374151\">=</span><span style=\"color: #374151; text-decoration-color: #374151; font-style: italic\">False</span><span style=\"color: #374151; text-decoration-color: #374151\">, </span><span style=\"color: #374151; text-decoration-color: #374151\">async_mode</span><span style=\"color: #374151; text-decoration-color: #374151\">=</span><span style=\"color: #374151; text-decoration-color: #374151; font-style: italic\">True</span><span style=\"color: #374151; text-decoration-color: #374151; font-weight: bold\">)</span><span style=\"color: #374151; text-decoration-color: #374151\">...</span>\n",
       "</pre>\n"
      ],
      "text/plain": [
       "✨ You're running DeepEval's latest \u001b[38;2;106;0;255mAnswer Relevancy Metric\u001b[0m! \u001b[1;38;2;55;65;81m(\u001b[0m\u001b[38;2;55;65;81musing gpt-4o, \u001b[0m\u001b[38;2;55;65;81mstrict\u001b[0m\u001b[38;2;55;65;81m=\u001b[0m\u001b[3;38;2;55;65;81mFalse\u001b[0m\u001b[38;2;55;65;81m, \u001b[0m\u001b[38;2;55;65;81masync_mode\u001b[0m\u001b[38;2;55;65;81m=\u001b[0m\u001b[3;38;2;55;65;81mTrue\u001b[0m\u001b[1;38;2;55;65;81m)\u001b[0m\u001b[38;2;55;65;81m...\u001b[0m\n"
      ]
     },
     "metadata": {},
     "output_type": "display_data"
    },
    {
     "name": "stdout",
     "output_type": "stream",
     "text": [
      "Event loop is already running. Applying nest_asyncio patch to allow async execution...\n"
     ]
    },
    {
     "name": "stderr",
     "output_type": "stream",
     "text": [
      "Evaluating 1 test case(s) in parallel: |██████████|100% (1/1) [Time Taken: 00:03,  3.86s/test case]\n"
     ]
    },
    {
     "data": {
      "text/html": [
       "<pre style=\"white-space:pre;overflow-x:auto;line-height:normal;font-family:Menlo,'DejaVu Sans Mono',consolas,'Courier New',monospace\">\n",
       "<span style=\"color: #05f58d; text-decoration-color: #05f58d\">✓</span> Tests finished 🎉! Run <span style=\"color: #008000; text-decoration-color: #008000; font-weight: bold\">'deepeval login'</span> to save and analyze evaluation results on Confident AI.\n",
       " \n",
       "✨👀 Looking for a place for your LLM test data to live 🏡❤️ ? Use <span style=\"color: #6a00ff; text-decoration-color: #6a00ff\">Confident AI</span> to get &amp; share testing reports, \n",
       "experiment with models/prompts, and catch regressions for your LLM system. Just run <span style=\"color: #008080; text-decoration-color: #008080\">'deepeval login'</span> in the CLI. \n",
       "\n",
       "</pre>\n"
      ],
      "text/plain": [
       "\n",
       "\u001b[38;2;5;245;141m✓\u001b[0m Tests finished 🎉! Run \u001b[1;32m'deepeval login'\u001b[0m to save and analyze evaluation results on Confident AI.\n",
       " \n",
       "✨👀 Looking for a place for your LLM test data to live 🏡❤️ ? Use \u001b[38;2;106;0;255mConfident AI\u001b[0m to get & share testing reports, \n",
       "experiment with models/prompts, and catch regressions for your LLM system. Just run \u001b[36m'deepeval login'\u001b[0m in the CLI. \n",
       "\n"
      ]
     },
     "metadata": {},
     "output_type": "display_data"
    },
    {
     "name": "stdout",
     "output_type": "stream",
     "text": [
      "MESSAGES\n",
      "[{'role': 'user', 'content': 'Твоя задача - определить, релевантны ли предоставленные документы запросу пользователя. Релевантым считай тот документ, в котором тема хотя бы смежно связана с запросом. Верни ровно один массив из строк \\'0\\' или \\'1\\', где \\'1\\' означает, что документ релевантен запросу, а \\'0\\' - что нерелевантен. Массив должен иметь ровно столько элементов, сколько документов в запросе.\\n\\nЗапрос: \\'у военные сборы получить отпуск\\'\\n\\nДокументы:\\nДокумент 0:\\nВопрос: как оформить отпуск- исполнение гос. обязанностей (военные сборы)\\nОтвет: для оформления создается заявка по теме «отпуска и прочие отсутствия», подтема «отпуск в связи с исполнением гос. обязанностей». комплект документов: 1. заявление 2. документ, подтверждающий привлечение работника к выполнению государственных обязанностей.\\n\\nДокумент 1:\\nВопрос: как оформить отпуск\\nОтвет: создать заявку на отпуск можно в разделе \"сервис\", подразделе \"отпуск\". требования к запрашиваемому отпуску вы сможете видеть левой части экрана\\n\\nДокумент 2:\\nВопрос: как расчитывается отпуск?\\nОтвет: расчет отпускных производится по среднему заработку за последние 12 месяцев, предшествующих началу отпуска. отпускные = среднедневной заработок х продолжительность отпуска в календарных днях\\n\\nДокумент 3:\\nВопрос: как взять отгул\\nОтвет: пожалуйста, создайте заявку по теме «отпуск», далее «отпуска и прочие отсутствия», подтема «отгул за ранее отработанный выходной или праздничный день». к заявке приложите, пожалуйста, заявление. шаблон заявления доступен в разделе «база знаний».\\n\\nДокумент 4:\\nВопрос: нужно оформить отпуск без заработная плата\\nОтвет: создайте, пожалуйста, заявку по теме «отпуск», далее «отпуска и прочие отсутствия», подтема «отпуск без сохранения заработной платы». приложите, пожалуйста, к заявке заявление, согласованное непосредственным руководителем. шаблон заявления доступен в разделе «база знаний».\\n\\nДокумент 5:\\nВопрос: когда поступят отпускные\\nОтвет: отпускные начисляются не позднее чем за три рабочих дня до даты начала отпуска.\\n\\nДокумент 6:\\nВопрос: можно ли отпустить сотрудницу в отпуск, если у её мобилизованного мужа закончился отпуск?\\nОтвет: основанием для предоставления отпуска супруге мобилизованного будут документы из военной части – выписка из приказа, копия приказа об отпуске. т.е. любой документ из вк с подтверждением того, что супруг мобилизован и ему предоставлен ежегодный отпуск. возможно предоставление работнику отпуска авансом в рамках количества дней основного отпуска за рабочий год. дни сверх установленного лимита работник может взять за свой счет.\\n\\n\\n\\nОцени релевантность каждого документа к этому запросу и верни массив из 7 элементов, где каждый элемент - \\'0\\' или \\'1\\'.'}]\n",
      "MESSAGES\n",
      "[{'role': 'user', 'content': 'Ты помощник, который дает ответы в том же стиле, что и представленные примеры. Используй предоставленные вопросы и ответы как образец стиля и уровня детализации.\\n\\nПримеры вопросов и ответов:\\n\\nПример 1:\\nВопрос: как оформить отпуск- исполнение гос. обязанностей (военные сборы)\\nОтвет: для оформления создается заявка по теме «отпуска и прочие отсутствия», подтема «отпуск в связи с исполнением гос. обязанностей». комплект документов: 1. заявление 2. документ, подтверждающий привлечение работника к выполнению государственных обязанностей.\\n\\nПример 2:\\nВопрос: можно ли отпустить сотрудницу в отпуск, если у её мобилизованного мужа закончился отпуск?\\nОтвет: основанием для предоставления отпуска супруге мобилизованного будут документы из военной части – выписка из приказа, копия приказа об отпуске. т.е. любой документ из вк с подтверждением того, что супруг мобилизован и ему предоставлен ежегодный отпуск. возможно предоставление работнику отпуска авансом в рамках количества дней основного отпуска за рабочий год. дни сверх установленного лимита работник может взять за свой счет.\\n\\n\\n\\nЗапрос пользователя: у военные сборы получить отпуск\\n\\nОтветь на запрос пользователя в том же стиле, что и приведенные примеры.'}]\n"
     ]
    },
    {
     "data": {
      "text/html": [
       "<pre style=\"white-space:pre;overflow-x:auto;line-height:normal;font-family:Menlo,'DejaVu Sans Mono',consolas,'Courier New',monospace\">✨ You're running DeepEval's latest <span style=\"color: #6a00ff; text-decoration-color: #6a00ff\">Answer Relevancy Metric</span>! <span style=\"color: #374151; text-decoration-color: #374151; font-weight: bold\">(</span><span style=\"color: #374151; text-decoration-color: #374151\">using gpt-4o, </span><span style=\"color: #374151; text-decoration-color: #374151\">strict</span><span style=\"color: #374151; text-decoration-color: #374151\">=</span><span style=\"color: #374151; text-decoration-color: #374151; font-style: italic\">False</span><span style=\"color: #374151; text-decoration-color: #374151\">, </span><span style=\"color: #374151; text-decoration-color: #374151\">async_mode</span><span style=\"color: #374151; text-decoration-color: #374151\">=</span><span style=\"color: #374151; text-decoration-color: #374151; font-style: italic\">True</span><span style=\"color: #374151; text-decoration-color: #374151; font-weight: bold\">)</span><span style=\"color: #374151; text-decoration-color: #374151\">...</span>\n",
       "</pre>\n"
      ],
      "text/plain": [
       "✨ You're running DeepEval's latest \u001b[38;2;106;0;255mAnswer Relevancy Metric\u001b[0m! \u001b[1;38;2;55;65;81m(\u001b[0m\u001b[38;2;55;65;81musing gpt-4o, \u001b[0m\u001b[38;2;55;65;81mstrict\u001b[0m\u001b[38;2;55;65;81m=\u001b[0m\u001b[3;38;2;55;65;81mFalse\u001b[0m\u001b[38;2;55;65;81m, \u001b[0m\u001b[38;2;55;65;81masync_mode\u001b[0m\u001b[38;2;55;65;81m=\u001b[0m\u001b[3;38;2;55;65;81mTrue\u001b[0m\u001b[1;38;2;55;65;81m)\u001b[0m\u001b[38;2;55;65;81m...\u001b[0m\n"
      ]
     },
     "metadata": {},
     "output_type": "display_data"
    },
    {
     "name": "stdout",
     "output_type": "stream",
     "text": [
      "Event loop is already running. Applying nest_asyncio patch to allow async execution...\n"
     ]
    },
    {
     "name": "stderr",
     "output_type": "stream",
     "text": [
      "Evaluating 1 test case(s) in parallel: |██████████|100% (1/1) [Time Taken: 00:03,  3.72s/test case]\n"
     ]
    },
    {
     "data": {
      "text/html": [
       "<pre style=\"white-space:pre;overflow-x:auto;line-height:normal;font-family:Menlo,'DejaVu Sans Mono',consolas,'Courier New',monospace\">\n",
       "<span style=\"color: #05f58d; text-decoration-color: #05f58d\">✓</span> Tests finished 🎉! Run <span style=\"color: #008000; text-decoration-color: #008000; font-weight: bold\">'deepeval login'</span> to save and analyze evaluation results on Confident AI.\n",
       " \n",
       "✨👀 Looking for a place for your LLM test data to live 🏡❤️ ? Use <span style=\"color: #6a00ff; text-decoration-color: #6a00ff\">Confident AI</span> to get &amp; share testing reports, \n",
       "experiment with models/prompts, and catch regressions for your LLM system. Just run <span style=\"color: #008080; text-decoration-color: #008080\">'deepeval login'</span> in the CLI. \n",
       "\n",
       "</pre>\n"
      ],
      "text/plain": [
       "\n",
       "\u001b[38;2;5;245;141m✓\u001b[0m Tests finished 🎉! Run \u001b[1;32m'deepeval login'\u001b[0m to save and analyze evaluation results on Confident AI.\n",
       " \n",
       "✨👀 Looking for a place for your LLM test data to live 🏡❤️ ? Use \u001b[38;2;106;0;255mConfident AI\u001b[0m to get & share testing reports, \n",
       "experiment with models/prompts, and catch regressions for your LLM system. Just run \u001b[36m'deepeval login'\u001b[0m in the CLI. \n",
       "\n"
      ]
     },
     "metadata": {},
     "output_type": "display_data"
    },
    {
     "name": "stdout",
     "output_type": "stream",
     "text": [
      "MESSAGES\n",
      "[{'role': 'user', 'content': 'Твоя задача - определить, релевантны ли предоставленные документы запросу пользователя. Релевантым считай тот документ, в котором тема хотя бы смежно связана с запросом. Верни ровно один массив из строк \\'0\\' или \\'1\\', где \\'1\\' означает, что документ релевантен запросу, а \\'0\\' - что нерелевантен. Массив должен иметь ровно столько элементов, сколько документов в запросе.\\n\\nЗапрос: \\'получить дополнительный отдых по уходу за ребенком инвалидом\\'\\n\\nДокументы:\\nДокумент 0:\\nВопрос: как оформить доп. дни отдыха по уходу за ребенком инвалидом\\nОтвет: создание заявки необходимо осуществить по процессу 1051 - отпуск и прочие отсутствия, подтема дополнительный оплачиваемый выходной дней для ухода за детьми-инвалидами. к заявке прикладывается: -заявление; -справка мсэ об инвалидности ребенка; -документ, подтверждающий отношения с ребенком (свидетельство о рождении (усыновлении) и пр.); -документ, подтверждающий место жительства (пребывания или фактического проживания) ребенка и родителя; -справка с места работы другого родителя (опекуна, попечителя) о том, что он не воспользовался льготой в соответствующем месяце.\\n\\nДокумент 1:\\nВопрос: взять больничный по уходу\\nОтвет: больничный с кодом 09 (уход за больным членом семьи) оплачивается полностью за счет средств сфр, работодатель в данном случае выплату не производит.\\n\\nДокумент 2:\\nВопрос: какие бумаги требуется представить для оформления отпуска по уходу за ребенком?\\nОтвет: сотруднику необходимо перейти по ссылке в базу знаний личного кабинета link открыть инструкцию по процессу 1091 - администрирование отпуска по уходу за ребенком.\\n\\nДокумент 3:\\nВопрос: можно ли бабушке оформить отпуск по уходу за ребенком\\nОтвет: для оформления отпуска по уходу за ребенком (внучкой/внуком) сотруднику необходимо предоставить следующие документы: 1. заявление на отпуск до 3 лет; 2. заявление на пособие до 1,5 лет; 3. копия св-ва о браке родителей; 4. копии св-ва о рождении всех детей; 5. документ, подтверждающий степень родства бабушки и внучки (св-во о рождении сына или дочери, в зависимости от того, чья мама родителей оформляет отпуск); 6. справки от родителей: 1.1 если работают: справка с места работы отца и матери ребенка - в справке прописать корректно вид пособия и вид отпуска. (пример оформления справки – «выдана_____, в том, что работает с___по настоящее время в_____. отпуск по уходу за ребенком (фио, дата рождения ребенка) не оформлял. ежемесячное пособие по уходу за ребенком до 1,5 лет не назначалось и не выплачивалось. если у ребенка возраст до 3 месяцев – дополнительно справку с места работы мамы с указанием периода нахождения в отпуске по беременности и родам. 1.2 если родители не трудоустроены: 1. копии тк 2. справка с пенсионного фонда рф о неполучении ежемесячного пособия по уходу за ребенком 3. приложение к заявлению о назначении пособия до 1,5 лет. заявку следует создать по процессу 1091 – администрирование отпуска по уходу за ребенком.\\n\\nДокумент 4:\\nВопрос: что сделать для досрочного выхода из отпуска по уходу за ребенком?\\nОтвет: сотруднику необходимо написать заявление на досрочный выход из отпуска по уходу за ребенком и передать его непосредственному руководителю. он оформит соответствующее мероприятие. заявление сотрудник может взять в базе знаний личного кабинета.\\n\\nДокумент 5:\\nВопрос: нужно перенести отпуск без содержания\\nОтвет: пожалуйста, обратитесь к непосредственному руководителю для коммуникации с бизнес-партнером по персоналу вашего подразделения, чтобы он создал заявку на вас в личном кабинете по теме «отзыв из отпуска»\\n\\nДокумент 6:\\nВопрос: как получить дополнительные дни отдыха за сдачу крови и её компонентов\\nОтвет: при сдаче крови и её компонентов, предоставляется 2 дополнительных дня отдыха. дни подлежат оплате по среднему заработку. для оформления отпуска создается заявка по процессу \"отпуск и другие отсутствия\", заполняются поля «дата начала отпуска» и «дата окончания отпуска», указав периоды отсутствия. для оформления отпуска прикладывается справку по форме 402/у, подтверждающую факт исполнения донорской функции. шаблоны необходимых документов доступны при составлении заявки по выбранному процессу» • заявление на дополнительный день отдыха в связи со сдачей крови и ее компонентов • справка о сдаче крови и её компонентов\\n\\n\\n\\nОцени релевантность каждого документа к этому запросу и верни массив из 7 элементов, где каждый элемент - \\'0\\' или \\'1\\'.'}]\n",
      "MESSAGES\n",
      "[{'role': 'user', 'content': 'Ты помощник, который дает ответы в том же стиле, что и представленные примеры. Используй предоставленные вопросы и ответы как образец стиля и уровня детализации.\\n\\nПримеры вопросов и ответов:\\n\\nПример 1:\\nВопрос: как оформить доп. дни отдыха по уходу за ребенком инвалидом\\nОтвет: создание заявки необходимо осуществить по процессу 1051 - отпуск и прочие отсутствия, подтема дополнительный оплачиваемый выходной дней для ухода за детьми-инвалидами. к заявке прикладывается: -заявление; -справка мсэ об инвалидности ребенка; -документ, подтверждающий отношения с ребенком (свидетельство о рождении (усыновлении) и пр.); -документ, подтверждающий место жительства (пребывания или фактического проживания) ребенка и родителя; -справка с места работы другого родителя (опекуна, попечителя) о том, что он не воспользовался льготой в соответствующем месяце.\\n\\n\\n\\nЗапрос пользователя: получить дополнительный отдых по уходу за ребенком инвалидом\\n\\nОтветь на запрос пользователя в том же стиле, что и приведенные примеры.'}]\n"
     ]
    },
    {
     "data": {
      "text/html": [
       "<pre style=\"white-space:pre;overflow-x:auto;line-height:normal;font-family:Menlo,'DejaVu Sans Mono',consolas,'Courier New',monospace\">✨ You're running DeepEval's latest <span style=\"color: #6a00ff; text-decoration-color: #6a00ff\">Answer Relevancy Metric</span>! <span style=\"color: #374151; text-decoration-color: #374151; font-weight: bold\">(</span><span style=\"color: #374151; text-decoration-color: #374151\">using gpt-4o, </span><span style=\"color: #374151; text-decoration-color: #374151\">strict</span><span style=\"color: #374151; text-decoration-color: #374151\">=</span><span style=\"color: #374151; text-decoration-color: #374151; font-style: italic\">False</span><span style=\"color: #374151; text-decoration-color: #374151\">, </span><span style=\"color: #374151; text-decoration-color: #374151\">async_mode</span><span style=\"color: #374151; text-decoration-color: #374151\">=</span><span style=\"color: #374151; text-decoration-color: #374151; font-style: italic\">True</span><span style=\"color: #374151; text-decoration-color: #374151; font-weight: bold\">)</span><span style=\"color: #374151; text-decoration-color: #374151\">...</span>\n",
       "</pre>\n"
      ],
      "text/plain": [
       "✨ You're running DeepEval's latest \u001b[38;2;106;0;255mAnswer Relevancy Metric\u001b[0m! \u001b[1;38;2;55;65;81m(\u001b[0m\u001b[38;2;55;65;81musing gpt-4o, \u001b[0m\u001b[38;2;55;65;81mstrict\u001b[0m\u001b[38;2;55;65;81m=\u001b[0m\u001b[3;38;2;55;65;81mFalse\u001b[0m\u001b[38;2;55;65;81m, \u001b[0m\u001b[38;2;55;65;81masync_mode\u001b[0m\u001b[38;2;55;65;81m=\u001b[0m\u001b[3;38;2;55;65;81mTrue\u001b[0m\u001b[1;38;2;55;65;81m)\u001b[0m\u001b[38;2;55;65;81m...\u001b[0m\n"
      ]
     },
     "metadata": {},
     "output_type": "display_data"
    },
    {
     "name": "stdout",
     "output_type": "stream",
     "text": [
      "Event loop is already running. Applying nest_asyncio patch to allow async execution...\n"
     ]
    },
    {
     "name": "stderr",
     "output_type": "stream",
     "text": [
      "Evaluating 1 test case(s) in parallel: |██████████|100% (1/1) [Time Taken: 00:08,  8.53s/test case]\n"
     ]
    },
    {
     "data": {
      "text/html": [
       "<pre style=\"white-space:pre;overflow-x:auto;line-height:normal;font-family:Menlo,'DejaVu Sans Mono',consolas,'Courier New',monospace\">\n",
       "<span style=\"color: #05f58d; text-decoration-color: #05f58d\">✓</span> Tests finished 🎉! Run <span style=\"color: #008000; text-decoration-color: #008000; font-weight: bold\">'deepeval login'</span> to save and analyze evaluation results on Confident AI.\n",
       " \n",
       "✨👀 Looking for a place for your LLM test data to live 🏡❤️ ? Use <span style=\"color: #6a00ff; text-decoration-color: #6a00ff\">Confident AI</span> to get &amp; share testing reports, \n",
       "experiment with models/prompts, and catch regressions for your LLM system. Just run <span style=\"color: #008080; text-decoration-color: #008080\">'deepeval login'</span> in the CLI. \n",
       "\n",
       "</pre>\n"
      ],
      "text/plain": [
       "\n",
       "\u001b[38;2;5;245;141m✓\u001b[0m Tests finished 🎉! Run \u001b[1;32m'deepeval login'\u001b[0m to save and analyze evaluation results on Confident AI.\n",
       " \n",
       "✨👀 Looking for a place for your LLM test data to live 🏡❤️ ? Use \u001b[38;2;106;0;255mConfident AI\u001b[0m to get & share testing reports, \n",
       "experiment with models/prompts, and catch regressions for your LLM system. Just run \u001b[36m'deepeval login'\u001b[0m in the CLI. \n",
       "\n"
      ]
     },
     "metadata": {},
     "output_type": "display_data"
    },
    {
     "name": "stdout",
     "output_type": "stream",
     "text": [
      "MESSAGES\n",
      "[{'role': 'user', 'content': 'Твоя задача - определить, релевантны ли предоставленные документы запросу пользователя. Релевантым считай тот документ, в котором тема хотя бы смежно связана с запросом. Верни ровно один массив из строк \\'0\\' или \\'1\\', где \\'1\\' означает, что документ релевантен запросу, а \\'0\\' - что нерелевантен. Массив должен иметь ровно столько элементов, сколько документов в запросе.\\n\\nЗапрос: \\'сколько у отпускных\\'\\n\\nДокументы:\\nДокумент 0:\\nВопрос: какую сумму получу отпускных\\nОтвет: расчет отпускных производится по среднему заработку за последние 12 месяцев, предшествующих началу отпуска. отпускные = среднедневной заработок х продолжительность отпуска в календарных днях\\n\\nДокумент 1:\\nВопрос: когда поступят отпускные\\nОтвет: отпускные начисляются не позднее чем за три рабочих дня до даты начала отпуска.\\n\\nДокумент 2:\\nВопрос: хочу уволится, но у меня отпускные, как они будут рассчитаны?\\nОтвет: по данному вопросу вы можете обратиться в кадровую службу, создав заявку \"консультация по hr вопросам\"\\n\\nДокумент 3:\\nВопрос: сколько дней отпуска у меня есть\\nОтвет: ознакомиться с графиком отпусков и воспользоваться доступным для планирования лимитом вы можете разделе «отпуска». обращаем внимание, что в личном кабинете отображаются доступные лимиты за вычетом уже запланированных дней.\\n\\n\\n\\nОцени релевантность каждого документа к этому запросу и верни массив из 4 элементов, где каждый элемент - \\'0\\' или \\'1\\'.'}]\n",
      "MESSAGES\n",
      "[{'role': 'user', 'content': 'Ты помощник, который дает ответы в том же стиле, что и представленные примеры. Используй предоставленные вопросы и ответы как образец стиля и уровня детализации.\\n\\nПримеры вопросов и ответов:\\n\\nПример 1:\\nВопрос: какую сумму получу отпускных\\nОтвет: расчет отпускных производится по среднему заработку за последние 12 месяцев, предшествующих началу отпуска. отпускные = среднедневной заработок х продолжительность отпуска в календарных днях\\n\\nПример 2:\\nВопрос: хочу уволится, но у меня отпускные, как они будут рассчитаны?\\nОтвет: по данному вопросу вы можете обратиться в кадровую службу, создав заявку \"консультация по hr вопросам\"\\n\\n\\n\\nЗапрос пользователя: сколько у отпускных\\n\\nОтветь на запрос пользователя в том же стиле, что и приведенные примеры.'}]\n"
     ]
    },
    {
     "data": {
      "text/html": [
       "<pre style=\"white-space:pre;overflow-x:auto;line-height:normal;font-family:Menlo,'DejaVu Sans Mono',consolas,'Courier New',monospace\">✨ You're running DeepEval's latest <span style=\"color: #6a00ff; text-decoration-color: #6a00ff\">Answer Relevancy Metric</span>! <span style=\"color: #374151; text-decoration-color: #374151; font-weight: bold\">(</span><span style=\"color: #374151; text-decoration-color: #374151\">using gpt-4o, </span><span style=\"color: #374151; text-decoration-color: #374151\">strict</span><span style=\"color: #374151; text-decoration-color: #374151\">=</span><span style=\"color: #374151; text-decoration-color: #374151; font-style: italic\">False</span><span style=\"color: #374151; text-decoration-color: #374151\">, </span><span style=\"color: #374151; text-decoration-color: #374151\">async_mode</span><span style=\"color: #374151; text-decoration-color: #374151\">=</span><span style=\"color: #374151; text-decoration-color: #374151; font-style: italic\">True</span><span style=\"color: #374151; text-decoration-color: #374151; font-weight: bold\">)</span><span style=\"color: #374151; text-decoration-color: #374151\">...</span>\n",
       "</pre>\n"
      ],
      "text/plain": [
       "✨ You're running DeepEval's latest \u001b[38;2;106;0;255mAnswer Relevancy Metric\u001b[0m! \u001b[1;38;2;55;65;81m(\u001b[0m\u001b[38;2;55;65;81musing gpt-4o, \u001b[0m\u001b[38;2;55;65;81mstrict\u001b[0m\u001b[38;2;55;65;81m=\u001b[0m\u001b[3;38;2;55;65;81mFalse\u001b[0m\u001b[38;2;55;65;81m, \u001b[0m\u001b[38;2;55;65;81masync_mode\u001b[0m\u001b[38;2;55;65;81m=\u001b[0m\u001b[3;38;2;55;65;81mTrue\u001b[0m\u001b[1;38;2;55;65;81m)\u001b[0m\u001b[38;2;55;65;81m...\u001b[0m\n"
      ]
     },
     "metadata": {},
     "output_type": "display_data"
    },
    {
     "name": "stdout",
     "output_type": "stream",
     "text": [
      "Event loop is already running. Applying nest_asyncio patch to allow async execution...\n"
     ]
    },
    {
     "name": "stderr",
     "output_type": "stream",
     "text": [
      "Evaluating 1 test case(s) in parallel: |██████████|100% (1/1) [Time Taken: 00:11, 11.07s/test case]\n"
     ]
    },
    {
     "data": {
      "text/html": [
       "<pre style=\"white-space:pre;overflow-x:auto;line-height:normal;font-family:Menlo,'DejaVu Sans Mono',consolas,'Courier New',monospace\">\n",
       "<span style=\"color: #05f58d; text-decoration-color: #05f58d\">✓</span> Tests finished 🎉! Run <span style=\"color: #008000; text-decoration-color: #008000; font-weight: bold\">'deepeval login'</span> to save and analyze evaluation results on Confident AI.\n",
       " \n",
       "✨👀 Looking for a place for your LLM test data to live 🏡❤️ ? Use <span style=\"color: #6a00ff; text-decoration-color: #6a00ff\">Confident AI</span> to get &amp; share testing reports, \n",
       "experiment with models/prompts, and catch regressions for your LLM system. Just run <span style=\"color: #008080; text-decoration-color: #008080\">'deepeval login'</span> in the CLI. \n",
       "\n",
       "</pre>\n"
      ],
      "text/plain": [
       "\n",
       "\u001b[38;2;5;245;141m✓\u001b[0m Tests finished 🎉! Run \u001b[1;32m'deepeval login'\u001b[0m to save and analyze evaluation results on Confident AI.\n",
       " \n",
       "✨👀 Looking for a place for your LLM test data to live 🏡❤️ ? Use \u001b[38;2;106;0;255mConfident AI\u001b[0m to get & share testing reports, \n",
       "experiment with models/prompts, and catch regressions for your LLM system. Just run \u001b[36m'deepeval login'\u001b[0m in the CLI. \n",
       "\n"
      ]
     },
     "metadata": {},
     "output_type": "display_data"
    },
    {
     "name": "stdout",
     "output_type": "stream",
     "text": [
      "MESSAGES\n",
      "[{'role': 'user', 'content': 'Твоя задача - определить, релевантны ли предоставленные документы запросу пользователя. Релевантым считай тот документ, в котором тема хотя бы смежно связана с запросом. Верни ровно один массив из строк \\'0\\' или \\'1\\', где \\'1\\' означает, что документ релевантен запросу, а \\'0\\' - что нерелевантен. Массив должен иметь ровно столько элементов, сколько документов в запросе.\\n\\nЗапрос: \\'почему так мало отпускных\\'\\n\\nДокументы:\\nДокумент 0:\\nВопрос: не формируются докменты на отпуск\\nОтвет: создайте, пожалуйста, обращение в ит поддержку на портале support\\n\\nДокумент 1:\\nВопрос: когда поступят отпускные\\nОтвет: отпускные начисляются не позднее чем за три рабочих дня до даты начала отпуска.\\n\\nДокумент 2:\\nВопрос: не отображаются отпуска в личном кабинете\\nОтвет: есть причины, по которым сотрудник может не участвовать в планировании: 1) стоят неявки в промежутке от текущей даты до 01.09 следующего года. 2) есть мероприятие увольнение в будущем начиная от текущей даты. 3) имеется срочный трудовой договор, который оканчивается в середине следующего года 4) сотрудник является внутренним совместителем 5) сотрудник находится на 0% занятости от текущей даты и далее в будущем 6) работа по договору гпх для уточнения данного вопроса, а так же корректировки данных, вы можете обратиться в кадровую службу или же позвонить на горячую линию. *если процесс планирования отпусков на будущий год окончен, то возможности в лк запланировать отпуск нет ни самому сотруднику, ни руководителю за сотрудника. сотрудник сможет в следующем году оформить в лк \"отпуск по заявлению\".\\n\\nДокумент 3:\\nВопрос: в личном кабинете не отображается кол-во отпускных дней\\nОтвет: количество накопленных дней для отпуска отображается при создании заявки \"отпуск по заявлению\"\\n\\nДокумент 4:\\nВопрос: не отображается остаток доступного отпуска на будующий год\\nОтвет: лимиты в личном кабинете отображаются на основании данных в кадровой системе. в процессе планирования, программа считает дни исходя из имеющихся лимитов и может предоставить дни отпуска авансом. на календарный год программа предоставляет лимит 28 дней. период, за который накапливаются лимиты в количестве 28 дней, у каждого сотрудника индивидуальный и считается со дня приема в компанию. за каждый последующий отработанный месяц предоставляется 2.33 дня отпуска. специалистам hr следует проверить данные в 2001ит и в 2006ит, а именно сколько дней было запланировано и использовано в текущем году, есть ли неистраченные лимиты, есть ли продленный лимит на будущее. проверить количество запланированных дней и доступных остатков. посмотреть расчет отпускных дней отпуска на отчетную дату или на конец года можно через транзакцию zhrpa036. так же по существующему алгоритму при планировании отпусков в личном кабинете установлено правило - нельзя планировать более половины всех накопленных дней отпуска в первое полугодие до конца июня. у сотрудника прописано в личном кабинете, что нельзя планировать более 15 дней в первое полугодие.\\n\\nДокумент 5:\\nВопрос: не получается запланировать отпуск на подчиненного\\nОтвет: сотрудники могут сформировать свои графики до конца ноября текущего года. за ходом планирования необходимо следить в разделе моя команда - отпуска сотрудников.\\n\\nДокумент 6:\\nВопрос: почему не оплачивают больничный по уходу за ребенком при пересечении с ежегодным отпуском?\\nОтвет: при пересечении ежегодного отпуска и больничного по уходу за ребенком, больничный в отпуске не оплачивается. согласно ст. 124 тк рф п. 41 порядка при заболевании ребенка в период, когда мать (иной член семьи, фактически осуществляющий уход за ребенком) не нуждается в освобождении от работы (ежегодных оплачиваемых отпусках, отпусках по беременности и родам, отпусках по уходу за ребенком до достижения им возраста 3 лет, отпусках без сохранения заработной платы), листок нетрудоспособности по уходу за ребенком (в случае, когда он продолжает нуждаться в уходе) выдается со дня, когда мать (иной член семьи, фактически осуществляющий уход за ребенком) должна приступить к работе. то есть больничный по уходу за ребенком в ежегодном отпуске не оплачивается.\\n\\n\\n\\nОцени релевантность каждого документа к этому запросу и верни массив из 7 элементов, где каждый элемент - \\'0\\' или \\'1\\'.'}]\n",
      "MESSAGES\n",
      "[{'role': 'user', 'content': 'Ты помощник, который дает ответы в том же стиле, что и представленные примеры. Используй предоставленные вопросы и ответы как образец стиля и уровня детализации.\\n\\nПримеры вопросов и ответов:\\n\\nПример 1:\\nВопрос: когда поступят отпускные\\nОтвет: отпускные начисляются не позднее чем за три рабочих дня до даты начала отпуска.\\n\\nПример 2:\\nВопрос: не отображаются отпуска в личном кабинете\\nОтвет: есть причины, по которым сотрудник может не участвовать в планировании: 1) стоят неявки в промежутке от текущей даты до 01.09 следующего года. 2) есть мероприятие увольнение в будущем начиная от текущей даты. 3) имеется срочный трудовой договор, который оканчивается в середине следующего года 4) сотрудник является внутренним совместителем 5) сотрудник находится на 0% занятости от текущей даты и далее в будущем 6) работа по договору гпх для уточнения данного вопроса, а так же корректировки данных, вы можете обратиться в кадровую службу или же позвонить на горячую линию. *если процесс планирования отпусков на будущий год окончен, то возможности в лк запланировать отпуск нет ни самому сотруднику, ни руководителю за сотрудника. сотрудник сможет в следующем году оформить в лк \"отпуск по заявлению\".\\n\\nПример 3:\\nВопрос: в личном кабинете не отображается кол-во отпускных дней\\nОтвет: количество накопленных дней для отпуска отображается при создании заявки \"отпуск по заявлению\"\\n\\n\\n\\nЗапрос пользователя: почему так мало отпускных\\n\\nОтветь на запрос пользователя в том же стиле, что и приведенные примеры.'}]\n"
     ]
    },
    {
     "data": {
      "text/html": [
       "<pre style=\"white-space:pre;overflow-x:auto;line-height:normal;font-family:Menlo,'DejaVu Sans Mono',consolas,'Courier New',monospace\">✨ You're running DeepEval's latest <span style=\"color: #6a00ff; text-decoration-color: #6a00ff\">Answer Relevancy Metric</span>! <span style=\"color: #374151; text-decoration-color: #374151; font-weight: bold\">(</span><span style=\"color: #374151; text-decoration-color: #374151\">using gpt-4o, </span><span style=\"color: #374151; text-decoration-color: #374151\">strict</span><span style=\"color: #374151; text-decoration-color: #374151\">=</span><span style=\"color: #374151; text-decoration-color: #374151; font-style: italic\">False</span><span style=\"color: #374151; text-decoration-color: #374151\">, </span><span style=\"color: #374151; text-decoration-color: #374151\">async_mode</span><span style=\"color: #374151; text-decoration-color: #374151\">=</span><span style=\"color: #374151; text-decoration-color: #374151; font-style: italic\">True</span><span style=\"color: #374151; text-decoration-color: #374151; font-weight: bold\">)</span><span style=\"color: #374151; text-decoration-color: #374151\">...</span>\n",
       "</pre>\n"
      ],
      "text/plain": [
       "✨ You're running DeepEval's latest \u001b[38;2;106;0;255mAnswer Relevancy Metric\u001b[0m! \u001b[1;38;2;55;65;81m(\u001b[0m\u001b[38;2;55;65;81musing gpt-4o, \u001b[0m\u001b[38;2;55;65;81mstrict\u001b[0m\u001b[38;2;55;65;81m=\u001b[0m\u001b[3;38;2;55;65;81mFalse\u001b[0m\u001b[38;2;55;65;81m, \u001b[0m\u001b[38;2;55;65;81masync_mode\u001b[0m\u001b[38;2;55;65;81m=\u001b[0m\u001b[3;38;2;55;65;81mTrue\u001b[0m\u001b[1;38;2;55;65;81m)\u001b[0m\u001b[38;2;55;65;81m...\u001b[0m\n"
      ]
     },
     "metadata": {},
     "output_type": "display_data"
    },
    {
     "name": "stdout",
     "output_type": "stream",
     "text": [
      "Event loop is already running. Applying nest_asyncio patch to allow async execution...\n"
     ]
    },
    {
     "name": "stderr",
     "output_type": "stream",
     "text": [
      "Evaluating 1 test case(s) in parallel: |██████████|100% (1/1) [Time Taken: 00:05,  5.62s/test case]\n"
     ]
    },
    {
     "data": {
      "text/html": [
       "<pre style=\"white-space:pre;overflow-x:auto;line-height:normal;font-family:Menlo,'DejaVu Sans Mono',consolas,'Courier New',monospace\">\n",
       "<span style=\"color: #05f58d; text-decoration-color: #05f58d\">✓</span> Tests finished 🎉! Run <span style=\"color: #008000; text-decoration-color: #008000; font-weight: bold\">'deepeval login'</span> to save and analyze evaluation results on Confident AI.\n",
       " \n",
       "✨👀 Looking for a place for your LLM test data to live 🏡❤️ ? Use <span style=\"color: #6a00ff; text-decoration-color: #6a00ff\">Confident AI</span> to get &amp; share testing reports, \n",
       "experiment with models/prompts, and catch regressions for your LLM system. Just run <span style=\"color: #008080; text-decoration-color: #008080\">'deepeval login'</span> in the CLI. \n",
       "\n",
       "</pre>\n"
      ],
      "text/plain": [
       "\n",
       "\u001b[38;2;5;245;141m✓\u001b[0m Tests finished 🎉! Run \u001b[1;32m'deepeval login'\u001b[0m to save and analyze evaluation results on Confident AI.\n",
       " \n",
       "✨👀 Looking for a place for your LLM test data to live 🏡❤️ ? Use \u001b[38;2;106;0;255mConfident AI\u001b[0m to get & share testing reports, \n",
       "experiment with models/prompts, and catch regressions for your LLM system. Just run \u001b[36m'deepeval login'\u001b[0m in the CLI. \n",
       "\n"
      ]
     },
     "metadata": {},
     "output_type": "display_data"
    },
    {
     "name": "stdout",
     "output_type": "stream",
     "text": [
      "MESSAGES\n",
      "[{'role': 'user', 'content': 'Твоя задача - определить, релевантны ли предоставленные документы запросу пользователя. Релевантым считай тот документ, в котором тема хотя бы смежно связана с запросом. Верни ровно один массив из строк \\'0\\' или \\'1\\', где \\'1\\' означает, что документ релевантен запросу, а \\'0\\' - что нерелевантен. Массив должен иметь ровно столько элементов, сколько документов в запросе.\\n\\nЗапрос: \\'нет запланированного отпуска\\'\\n\\nДокументы:\\nДокумент 0:\\nВопрос: нет возможности запланировать отпуск\\nОтвет: есть причины, по которым сотрудник может не участвовать в планировании: 1) стоят неявки в промежутке от текущей даты до 01.09 следующего года. 2) есть мероприятие увольнение в будущем начиная от текущей даты. 3) имеется срочный трудовой договор, который оканчивается в середине следующего года 4) сотрудник является внутренним совместителем 5) сотрудник находится на 0% занятости от текущей даты и далее в будущем 6) работа по договору гпх для уточнения данного вопроса, а так же корректировки данных, вы можете обратиться в кадровую службу или же позвонить на горячую линию. *если процесс планирования отпусков на будущий год окончен, то возможности в лк запланировать отпуск нет ни самому сотруднику, ни руководителю за сотрудника. сотрудник сможет в следующем году оформить в лк \"отпуск по заявлению\".\\n\\nДокумент 1:\\nВопрос: нет возможности перенести отпуск во время планирования графика отпусков\\nОтвет: во время планирования отпусков, оформление заявок на перенос отпуска/отгулы и предоставление ежегодного отпуска по заявлению недоступно. для проведения отгула на конец года необходимо обратиться к специалистам hr вашей торговой сети или же позвонить на горячую линию.\\n\\nДокумент 2:\\nВопрос: не могук запланировать отпуск.\\nОтвет: создайте, пожалуйста, обращение в ит поддержку на портале support\\n\\nДокумент 3:\\nВопрос: отпуск не перенесся\\nОтвет: если была создана заявка на перенос отпуска, но при этом отпуск не был перенесен, необходимо направить заявку на тех.поддержку: link\\n\\nДокумент 4:\\nВопрос: нет возможности запланировать отпуск за сотрудника\\nОтвет: сотрудники могут сформировать свои графики до конца ноября текущего года. за ходом планирования необходимо следить в разделе моя команда - отпуска сотрудников.\\n\\n\\n\\nОцени релевантность каждого документа к этому запросу и верни массив из 5 элементов, где каждый элемент - \\'0\\' или \\'1\\'.'}]\n",
      "MESSAGES\n",
      "[{'role': 'user', 'content': 'Ты помощник, который дает ответы в том же стиле, что и представленные примеры. Используй предоставленные вопросы и ответы как образец стиля и уровня детализации.\\n\\nПримеры вопросов и ответов:\\n\\nПример 1:\\nВопрос: нет возможности запланировать отпуск\\nОтвет: есть причины, по которым сотрудник может не участвовать в планировании: 1) стоят неявки в промежутке от текущей даты до 01.09 следующего года. 2) есть мероприятие увольнение в будущем начиная от текущей даты. 3) имеется срочный трудовой договор, который оканчивается в середине следующего года 4) сотрудник является внутренним совместителем 5) сотрудник находится на 0% занятости от текущей даты и далее в будущем 6) работа по договору гпх для уточнения данного вопроса, а так же корректировки данных, вы можете обратиться в кадровую службу или же позвонить на горячую линию. *если процесс планирования отпусков на будущий год окончен, то возможности в лк запланировать отпуск нет ни самому сотруднику, ни руководителю за сотрудника. сотрудник сможет в следующем году оформить в лк \"отпуск по заявлению\".\\n\\nПример 2:\\nВопрос: нет возможности перенести отпуск во время планирования графика отпусков\\nОтвет: во время планирования отпусков, оформление заявок на перенос отпуска/отгулы и предоставление ежегодного отпуска по заявлению недоступно. для проведения отгула на конец года необходимо обратиться к специалистам hr вашей торговой сети или же позвонить на горячую линию.\\n\\nПример 3:\\nВопрос: нет возможности запланировать отпуск за сотрудника\\nОтвет: сотрудники могут сформировать свои графики до конца ноября текущего года. за ходом планирования необходимо следить в разделе моя команда - отпуска сотрудников.\\n\\n\\n\\nЗапрос пользователя: нет запланированного отпуска\\n\\nОтветь на запрос пользователя в том же стиле, что и приведенные примеры.'}]\n"
     ]
    },
    {
     "data": {
      "text/html": [
       "<pre style=\"white-space:pre;overflow-x:auto;line-height:normal;font-family:Menlo,'DejaVu Sans Mono',consolas,'Courier New',monospace\">✨ You're running DeepEval's latest <span style=\"color: #6a00ff; text-decoration-color: #6a00ff\">Answer Relevancy Metric</span>! <span style=\"color: #374151; text-decoration-color: #374151; font-weight: bold\">(</span><span style=\"color: #374151; text-decoration-color: #374151\">using gpt-4o, </span><span style=\"color: #374151; text-decoration-color: #374151\">strict</span><span style=\"color: #374151; text-decoration-color: #374151\">=</span><span style=\"color: #374151; text-decoration-color: #374151; font-style: italic\">False</span><span style=\"color: #374151; text-decoration-color: #374151\">, </span><span style=\"color: #374151; text-decoration-color: #374151\">async_mode</span><span style=\"color: #374151; text-decoration-color: #374151\">=</span><span style=\"color: #374151; text-decoration-color: #374151; font-style: italic\">True</span><span style=\"color: #374151; text-decoration-color: #374151; font-weight: bold\">)</span><span style=\"color: #374151; text-decoration-color: #374151\">...</span>\n",
       "</pre>\n"
      ],
      "text/plain": [
       "✨ You're running DeepEval's latest \u001b[38;2;106;0;255mAnswer Relevancy Metric\u001b[0m! \u001b[1;38;2;55;65;81m(\u001b[0m\u001b[38;2;55;65;81musing gpt-4o, \u001b[0m\u001b[38;2;55;65;81mstrict\u001b[0m\u001b[38;2;55;65;81m=\u001b[0m\u001b[3;38;2;55;65;81mFalse\u001b[0m\u001b[38;2;55;65;81m, \u001b[0m\u001b[38;2;55;65;81masync_mode\u001b[0m\u001b[38;2;55;65;81m=\u001b[0m\u001b[3;38;2;55;65;81mTrue\u001b[0m\u001b[1;38;2;55;65;81m)\u001b[0m\u001b[38;2;55;65;81m...\u001b[0m\n"
      ]
     },
     "metadata": {},
     "output_type": "display_data"
    },
    {
     "name": "stdout",
     "output_type": "stream",
     "text": [
      "Event loop is already running. Applying nest_asyncio patch to allow async execution...\n"
     ]
    },
    {
     "name": "stderr",
     "output_type": "stream",
     "text": [
      "Evaluating 1 test case(s) in parallel: |██████████|100% (1/1) [Time Taken: 00:03,  3.03s/test case]\n"
     ]
    },
    {
     "data": {
      "text/html": [
       "<pre style=\"white-space:pre;overflow-x:auto;line-height:normal;font-family:Menlo,'DejaVu Sans Mono',consolas,'Courier New',monospace\">\n",
       "<span style=\"color: #05f58d; text-decoration-color: #05f58d\">✓</span> Tests finished 🎉! Run <span style=\"color: #008000; text-decoration-color: #008000; font-weight: bold\">'deepeval login'</span> to save and analyze evaluation results on Confident AI.\n",
       " \n",
       "✨👀 Looking for a place for your LLM test data to live 🏡❤️ ? Use <span style=\"color: #6a00ff; text-decoration-color: #6a00ff\">Confident AI</span> to get &amp; share testing reports, \n",
       "experiment with models/prompts, and catch regressions for your LLM system. Just run <span style=\"color: #008080; text-decoration-color: #008080\">'deepeval login'</span> in the CLI. \n",
       "\n",
       "</pre>\n"
      ],
      "text/plain": [
       "\n",
       "\u001b[38;2;5;245;141m✓\u001b[0m Tests finished 🎉! Run \u001b[1;32m'deepeval login'\u001b[0m to save and analyze evaluation results on Confident AI.\n",
       " \n",
       "✨👀 Looking for a place for your LLM test data to live 🏡❤️ ? Use \u001b[38;2;106;0;255mConfident AI\u001b[0m to get & share testing reports, \n",
       "experiment with models/prompts, and catch regressions for your LLM system. Just run \u001b[36m'deepeval login'\u001b[0m in the CLI. \n",
       "\n"
      ]
     },
     "metadata": {},
     "output_type": "display_data"
    },
    {
     "name": "stdout",
     "output_type": "stream",
     "text": [
      "MESSAGES\n",
      "[{'role': 'user', 'content': \"Твоя задача - определить, релевантны ли предоставленные документы запросу пользователя. Релевантым считай тот документ, в котором тема хотя бы смежно связана с запросом. Верни ровно один массив из строк '0' или '1', где '1' означает, что документ релевантен запросу, а '0' - что нерелевантен. Массив должен иметь ровно столько элементов, сколько документов в запросе.\\n\\nЗапрос: 'отменить отпуск без оплаты'\\n\\nДокументы:\\nДокумент 0:\\nВопрос: отменить отпуск без содержания\\nОтвет: пожалуйста, обратитесь к непосредственному руководителю, чтобы он создал заявку в личном кабинете по теме «отмена/аннулирование мероприятия». после выполнения мероприятия вы сможете создать заявку в личном кабинете по теме «отпуска и прочие отсутствия», подтема «отгул за ранее отработанный выходной или праздничный день», указав новый период отсутствия.\\n\\nДокумент 1:\\nВопрос: как отменить отпуск без сохранения заработной платы?\\nОтвет: для отмены отпуска без сохранения заработной платы сотрудник обращается к непосредственному руководителю, чтобы он создал заявку в личном кабинете по теме «отмена/аннулирование мероприятия».\\n\\nДокумент 2:\\nВопрос: как мне перенести отпуск без оплаты\\nОтвет: пожалуйста, обратитесь к непосредственному руководителю для коммуникации с бизнес-партнером по персоналу вашего подразделения, чтобы он создал заявку на вас в личном кабинете по теме «отзыв из отпуска»\\n\\nДокумент 3:\\nВопрос: нужно оформить отпуск без заработная плата\\nОтвет: создайте, пожалуйста, заявку по теме «отпуск», далее «отпуска и прочие отсутствия», подтема «отпуск без сохранения заработной платы». приложите, пожалуйста, к заявке заявление, согласованное непосредственным руководителем. шаблон заявления доступен в разделе «база знаний».\\n\\nДокумент 4:\\nВопрос: отпуск без сохранения заработной платы\\nОтвет: вы можете создать заявку на отпуск без сохранения заработной платы в соответствующем блоке в лк\\n\\n\\n\\nОцени релевантность каждого документа к этому запросу и верни массив из 5 элементов, где каждый элемент - '0' или '1'.\"}]\n",
      "MESSAGES\n",
      "[{'role': 'user', 'content': 'Ты помощник, который дает ответы в том же стиле, что и представленные примеры. Используй предоставленные вопросы и ответы как образец стиля и уровня детализации.\\n\\nПримеры вопросов и ответов:\\n\\nПример 1:\\nВопрос: отменить отпуск без содержания\\nОтвет: пожалуйста, обратитесь к непосредственному руководителю, чтобы он создал заявку в личном кабинете по теме «отмена/аннулирование мероприятия». после выполнения мероприятия вы сможете создать заявку в личном кабинете по теме «отпуска и прочие отсутствия», подтема «отгул за ранее отработанный выходной или праздничный день», указав новый период отсутствия.\\n\\nПример 2:\\nВопрос: как отменить отпуск без сохранения заработной платы?\\nОтвет: для отмены отпуска без сохранения заработной платы сотрудник обращается к непосредственному руководителю, чтобы он создал заявку в личном кабинете по теме «отмена/аннулирование мероприятия».\\n\\nПример 3:\\nВопрос: как мне перенести отпуск без оплаты\\nОтвет: пожалуйста, обратитесь к непосредственному руководителю для коммуникации с бизнес-партнером по персоналу вашего подразделения, чтобы он создал заявку на вас в личном кабинете по теме «отзыв из отпуска»\\n\\nПример 4:\\nВопрос: отпуск без сохранения заработной платы\\nОтвет: вы можете создать заявку на отпуск без сохранения заработной платы в соответствующем блоке в лк\\n\\n\\n\\nЗапрос пользователя: отменить отпуск без оплаты\\n\\nОтветь на запрос пользователя в том же стиле, что и приведенные примеры.'}]\n"
     ]
    },
    {
     "data": {
      "text/html": [
       "<pre style=\"white-space:pre;overflow-x:auto;line-height:normal;font-family:Menlo,'DejaVu Sans Mono',consolas,'Courier New',monospace\">✨ You're running DeepEval's latest <span style=\"color: #6a00ff; text-decoration-color: #6a00ff\">Answer Relevancy Metric</span>! <span style=\"color: #374151; text-decoration-color: #374151; font-weight: bold\">(</span><span style=\"color: #374151; text-decoration-color: #374151\">using gpt-4o, </span><span style=\"color: #374151; text-decoration-color: #374151\">strict</span><span style=\"color: #374151; text-decoration-color: #374151\">=</span><span style=\"color: #374151; text-decoration-color: #374151; font-style: italic\">False</span><span style=\"color: #374151; text-decoration-color: #374151\">, </span><span style=\"color: #374151; text-decoration-color: #374151\">async_mode</span><span style=\"color: #374151; text-decoration-color: #374151\">=</span><span style=\"color: #374151; text-decoration-color: #374151; font-style: italic\">True</span><span style=\"color: #374151; text-decoration-color: #374151; font-weight: bold\">)</span><span style=\"color: #374151; text-decoration-color: #374151\">...</span>\n",
       "</pre>\n"
      ],
      "text/plain": [
       "✨ You're running DeepEval's latest \u001b[38;2;106;0;255mAnswer Relevancy Metric\u001b[0m! \u001b[1;38;2;55;65;81m(\u001b[0m\u001b[38;2;55;65;81musing gpt-4o, \u001b[0m\u001b[38;2;55;65;81mstrict\u001b[0m\u001b[38;2;55;65;81m=\u001b[0m\u001b[3;38;2;55;65;81mFalse\u001b[0m\u001b[38;2;55;65;81m, \u001b[0m\u001b[38;2;55;65;81masync_mode\u001b[0m\u001b[38;2;55;65;81m=\u001b[0m\u001b[3;38;2;55;65;81mTrue\u001b[0m\u001b[1;38;2;55;65;81m)\u001b[0m\u001b[38;2;55;65;81m...\u001b[0m\n"
      ]
     },
     "metadata": {},
     "output_type": "display_data"
    },
    {
     "name": "stdout",
     "output_type": "stream",
     "text": [
      "Event loop is already running. Applying nest_asyncio patch to allow async execution...\n"
     ]
    },
    {
     "name": "stderr",
     "output_type": "stream",
     "text": [
      "Evaluating 1 test case(s) in parallel: |██████████|100% (1/1) [Time Taken: 00:05,  5.29s/test case]\n"
     ]
    },
    {
     "data": {
      "text/html": [
       "<pre style=\"white-space:pre;overflow-x:auto;line-height:normal;font-family:Menlo,'DejaVu Sans Mono',consolas,'Courier New',monospace\">\n",
       "<span style=\"color: #05f58d; text-decoration-color: #05f58d\">✓</span> Tests finished 🎉! Run <span style=\"color: #008000; text-decoration-color: #008000; font-weight: bold\">'deepeval login'</span> to save and analyze evaluation results on Confident AI.\n",
       " \n",
       "✨👀 Looking for a place for your LLM test data to live 🏡❤️ ? Use <span style=\"color: #6a00ff; text-decoration-color: #6a00ff\">Confident AI</span> to get &amp; share testing reports, \n",
       "experiment with models/prompts, and catch regressions for your LLM system. Just run <span style=\"color: #008080; text-decoration-color: #008080\">'deepeval login'</span> in the CLI. \n",
       "\n",
       "</pre>\n"
      ],
      "text/plain": [
       "\n",
       "\u001b[38;2;5;245;141m✓\u001b[0m Tests finished 🎉! Run \u001b[1;32m'deepeval login'\u001b[0m to save and analyze evaluation results on Confident AI.\n",
       " \n",
       "✨👀 Looking for a place for your LLM test data to live 🏡❤️ ? Use \u001b[38;2;106;0;255mConfident AI\u001b[0m to get & share testing reports, \n",
       "experiment with models/prompts, and catch regressions for your LLM system. Just run \u001b[36m'deepeval login'\u001b[0m in the CLI. \n",
       "\n"
      ]
     },
     "metadata": {},
     "output_type": "display_data"
    },
    {
     "name": "stdout",
     "output_type": "stream",
     "text": [
      "MESSAGES\n",
      "[{'role': 'user', 'content': 'Твоя задача - определить, релевантны ли предоставленные документы запросу пользователя. Релевантым считай тот документ, в котором тема хотя бы смежно связана с запросом. Верни ровно один массив из строк \\'0\\' или \\'1\\', где \\'1\\' означает, что документ релевантен запросу, а \\'0\\' - что нерелевантен. Массив должен иметь ровно столько элементов, сколько документов в запросе.\\n\\nЗапрос: \\'атгул\\'\\n\\nДокументы:\\nДокумент 0:\\nВопрос: как делается оформление отгула\\nОтвет: пожалуйста, создайте заявку по теме «отпуск», далее «отпуска и прочие отсутствия», подтема «отгул за ранее отработанный выходной или праздничный день». к заявке приложите, пожалуйста, заявление. шаблон заявления доступен в разделе «база знаний».\\n\\nДокумент 1:\\nВопрос: перенести отгул\\nОтвет: пожалуйста, обратитесь к непосредственному руководителю, чтобы он создал заявку в личном кабинете по теме «отмена/аннулирование мероприятия». после выполнения мероприятия вы сможете создать заявку в личном кабинете по теме «отпуска и прочие отсутствия», подтема «отгул за ранее отработанный выходной или праздничный день», указав новый период отсутствия.\\n\\nДокумент 2:\\nВопрос: уйди\\nОтвет: для оформления обращения в техническую поддержку вам необходимо нажать на кнопку \"выйти из чата\" или позвонить по номеру доб.10-100, прямой phone.\\n\\nДокумент 3:\\nВопрос: как провести отгул?\\nОтвет: оформление отгула возможно 2 способами: 1. в разделе \"отпуска\" в левом меню личного кабинета сотрудника (link ); 2. в разделе \"заявки\", группа \"отпуск\", плитка \"отгул (лк)\". (link\\n\\nДокумент 4:\\nВопрос: как перенести отгул?\\nОтвет: для проведения отгула сотрудник обращается к непосредственному руководителю, чтобы он создал заявку в личном кабинете по теме «отмена/аннулирование мероприятия». после выполнения мероприятия необходимо создать заявку в личном кабинете в разделе «отпуска» (link ), указав новый период отсутствия.\\n\\n\\n\\nОцени релевантность каждого документа к этому запросу и верни массив из 5 элементов, где каждый элемент - \\'0\\' или \\'1\\'.'}]\n",
      "MESSAGES\n",
      "[{'role': 'user', 'content': 'Ты помощник, который дает ответы в том же стиле, что и представленные примеры. Используй предоставленные вопросы и ответы как образец стиля и уровня детализации.\\n\\nПримеры вопросов и ответов:\\n\\nПример 1:\\nВопрос: как делается оформление отгула\\nОтвет: пожалуйста, создайте заявку по теме «отпуск», далее «отпуска и прочие отсутствия», подтема «отгул за ранее отработанный выходной или праздничный день». к заявке приложите, пожалуйста, заявление. шаблон заявления доступен в разделе «база знаний».\\n\\nПример 2:\\nВопрос: перенести отгул\\nОтвет: пожалуйста, обратитесь к непосредственному руководителю, чтобы он создал заявку в личном кабинете по теме «отмена/аннулирование мероприятия». после выполнения мероприятия вы сможете создать заявку в личном кабинете по теме «отпуска и прочие отсутствия», подтема «отгул за ранее отработанный выходной или праздничный день», указав новый период отсутствия.\\n\\nПример 3:\\nВопрос: как провести отгул?\\nОтвет: оформление отгула возможно 2 способами: 1. в разделе \"отпуска\" в левом меню личного кабинета сотрудника (link ); 2. в разделе \"заявки\", группа \"отпуск\", плитка \"отгул (лк)\". (link\\n\\nПример 4:\\nВопрос: как перенести отгул?\\nОтвет: для проведения отгула сотрудник обращается к непосредственному руководителю, чтобы он создал заявку в личном кабинете по теме «отмена/аннулирование мероприятия». после выполнения мероприятия необходимо создать заявку в личном кабинете в разделе «отпуска» (link ), указав новый период отсутствия.\\n\\n\\n\\nЗапрос пользователя: атгул\\n\\nОтветь на запрос пользователя в том же стиле, что и приведенные примеры.'}]\n"
     ]
    },
    {
     "data": {
      "text/html": [
       "<pre style=\"white-space:pre;overflow-x:auto;line-height:normal;font-family:Menlo,'DejaVu Sans Mono',consolas,'Courier New',monospace\">✨ You're running DeepEval's latest <span style=\"color: #6a00ff; text-decoration-color: #6a00ff\">Answer Relevancy Metric</span>! <span style=\"color: #374151; text-decoration-color: #374151; font-weight: bold\">(</span><span style=\"color: #374151; text-decoration-color: #374151\">using gpt-4o, </span><span style=\"color: #374151; text-decoration-color: #374151\">strict</span><span style=\"color: #374151; text-decoration-color: #374151\">=</span><span style=\"color: #374151; text-decoration-color: #374151; font-style: italic\">False</span><span style=\"color: #374151; text-decoration-color: #374151\">, </span><span style=\"color: #374151; text-decoration-color: #374151\">async_mode</span><span style=\"color: #374151; text-decoration-color: #374151\">=</span><span style=\"color: #374151; text-decoration-color: #374151; font-style: italic\">True</span><span style=\"color: #374151; text-decoration-color: #374151; font-weight: bold\">)</span><span style=\"color: #374151; text-decoration-color: #374151\">...</span>\n",
       "</pre>\n"
      ],
      "text/plain": [
       "✨ You're running DeepEval's latest \u001b[38;2;106;0;255mAnswer Relevancy Metric\u001b[0m! \u001b[1;38;2;55;65;81m(\u001b[0m\u001b[38;2;55;65;81musing gpt-4o, \u001b[0m\u001b[38;2;55;65;81mstrict\u001b[0m\u001b[38;2;55;65;81m=\u001b[0m\u001b[3;38;2;55;65;81mFalse\u001b[0m\u001b[38;2;55;65;81m, \u001b[0m\u001b[38;2;55;65;81masync_mode\u001b[0m\u001b[38;2;55;65;81m=\u001b[0m\u001b[3;38;2;55;65;81mTrue\u001b[0m\u001b[1;38;2;55;65;81m)\u001b[0m\u001b[38;2;55;65;81m...\u001b[0m\n"
      ]
     },
     "metadata": {},
     "output_type": "display_data"
    },
    {
     "name": "stdout",
     "output_type": "stream",
     "text": [
      "Event loop is already running. Applying nest_asyncio patch to allow async execution...\n"
     ]
    },
    {
     "name": "stderr",
     "output_type": "stream",
     "text": [
      "Evaluating 1 test case(s) in parallel: |██████████|100% (1/1) [Time Taken: 00:03,  3.73s/test case]\n"
     ]
    },
    {
     "data": {
      "text/html": [
       "<pre style=\"white-space:pre;overflow-x:auto;line-height:normal;font-family:Menlo,'DejaVu Sans Mono',consolas,'Courier New',monospace\">\n",
       "<span style=\"color: #05f58d; text-decoration-color: #05f58d\">✓</span> Tests finished 🎉! Run <span style=\"color: #008000; text-decoration-color: #008000; font-weight: bold\">'deepeval login'</span> to save and analyze evaluation results on Confident AI.\n",
       " \n",
       "✨👀 Looking for a place for your LLM test data to live 🏡❤️ ? Use <span style=\"color: #6a00ff; text-decoration-color: #6a00ff\">Confident AI</span> to get &amp; share testing reports, \n",
       "experiment with models/prompts, and catch regressions for your LLM system. Just run <span style=\"color: #008080; text-decoration-color: #008080\">'deepeval login'</span> in the CLI. \n",
       "\n",
       "</pre>\n"
      ],
      "text/plain": [
       "\n",
       "\u001b[38;2;5;245;141m✓\u001b[0m Tests finished 🎉! Run \u001b[1;32m'deepeval login'\u001b[0m to save and analyze evaluation results on Confident AI.\n",
       " \n",
       "✨👀 Looking for a place for your LLM test data to live 🏡❤️ ? Use \u001b[38;2;106;0;255mConfident AI\u001b[0m to get & share testing reports, \n",
       "experiment with models/prompts, and catch regressions for your LLM system. Just run \u001b[36m'deepeval login'\u001b[0m in the CLI. \n",
       "\n"
      ]
     },
     "metadata": {},
     "output_type": "display_data"
    },
    {
     "name": "stdout",
     "output_type": "stream",
     "text": [
      "MESSAGES\n",
      "[{'role': 'user', 'content': 'Твоя задача - определить, релевантны ли предоставленные документы запросу пользователя. Релевантым считай тот документ, в котором тема хотя бы смежно связана с запросом. Верни ровно один массив из строк \\'0\\' или \\'1\\', где \\'1\\' означает, что документ релевантен запросу, а \\'0\\' - что нерелевантен. Массив должен иметь ровно столько элементов, сколько документов в запросе.\\n\\nЗапрос: \\'записаться на курсы\\'\\n\\nДокументы:\\nДокумент 0:\\nВопрос: курсы\\nОтвет: создайте, пожалуйста, обращение в ит поддержку на портале support\\n\\nДокумент 1:\\nВопрос: обучение\\nОтвет: доступ к программе \"карьера\" появляется спустя 4 месяца после трудоутстройства в компанию. если по прошествии 4х месяцев раздел по-прежнему недоступен, обратитесь в поддержку\\n\\nДокумент 2:\\nВопрос: не хватает прав на обучении\\nОтвет: по данному запросу необходимо обратиться к ответственному сотруднику цыганок марине, написав на почту mail\\n\\nДокумент 3:\\nВопрос: получить роль табельщика\\nОтвет: для присвоения роли табельщика создайте, пожалуйста, заявку по теме «табельный учет. работа с табелем/графиком по собственному персоналу», подтема: «присвоение роли табельщика».\\n\\nДокумент 4:\\nВопрос: подать заявку на распечатывание документов\\nОтвет: если в документе отсутствует штрихкод, нечитаемые символы, документ не открывается итп, просьба создать заявку в поддержку на support: ит - компьютеры и программы - файлы, ярлыки ms office\\n\\nДокумент 5:\\nВопрос: заказать справку\\nОтвет: для заказа справки создайте, пожалуйста, заявку в разделе \"заявки\" по теме \"справки и копии документов\".\\n\\n\\n\\nОцени релевантность каждого документа к этому запросу и верни массив из 6 элементов, где каждый элемент - \\'0\\' или \\'1\\'.'}]\n",
      "MESSAGES\n",
      "[{'role': 'user', 'content': 'Ты помощник, который дает ответы в том же стиле, что и представленные примеры. Используй предоставленные вопросы и ответы как образец стиля и уровня детализации.\\n\\nПримеры вопросов и ответов:\\n\\nПример 1:\\nВопрос: курсы\\nОтвет: создайте, пожалуйста, обращение в ит поддержку на портале support\\n\\nПример 2:\\nВопрос: не хватает прав на обучении\\nОтвет: по данному запросу необходимо обратиться к ответственному сотруднику цыганок марине, написав на почту mail\\n\\nПример 3:\\nВопрос: заказать справку\\nОтвет: для заказа справки создайте, пожалуйста, заявку в разделе \"заявки\" по теме \"справки и копии документов\".\\n\\n\\n\\nЗапрос пользователя: записаться на курсы\\n\\nОтветь на запрос пользователя в том же стиле, что и приведенные примеры.'}]\n"
     ]
    },
    {
     "data": {
      "text/html": [
       "<pre style=\"white-space:pre;overflow-x:auto;line-height:normal;font-family:Menlo,'DejaVu Sans Mono',consolas,'Courier New',monospace\">✨ You're running DeepEval's latest <span style=\"color: #6a00ff; text-decoration-color: #6a00ff\">Answer Relevancy Metric</span>! <span style=\"color: #374151; text-decoration-color: #374151; font-weight: bold\">(</span><span style=\"color: #374151; text-decoration-color: #374151\">using gpt-4o, </span><span style=\"color: #374151; text-decoration-color: #374151\">strict</span><span style=\"color: #374151; text-decoration-color: #374151\">=</span><span style=\"color: #374151; text-decoration-color: #374151; font-style: italic\">False</span><span style=\"color: #374151; text-decoration-color: #374151\">, </span><span style=\"color: #374151; text-decoration-color: #374151\">async_mode</span><span style=\"color: #374151; text-decoration-color: #374151\">=</span><span style=\"color: #374151; text-decoration-color: #374151; font-style: italic\">True</span><span style=\"color: #374151; text-decoration-color: #374151; font-weight: bold\">)</span><span style=\"color: #374151; text-decoration-color: #374151\">...</span>\n",
       "</pre>\n"
      ],
      "text/plain": [
       "✨ You're running DeepEval's latest \u001b[38;2;106;0;255mAnswer Relevancy Metric\u001b[0m! \u001b[1;38;2;55;65;81m(\u001b[0m\u001b[38;2;55;65;81musing gpt-4o, \u001b[0m\u001b[38;2;55;65;81mstrict\u001b[0m\u001b[38;2;55;65;81m=\u001b[0m\u001b[3;38;2;55;65;81mFalse\u001b[0m\u001b[38;2;55;65;81m, \u001b[0m\u001b[38;2;55;65;81masync_mode\u001b[0m\u001b[38;2;55;65;81m=\u001b[0m\u001b[3;38;2;55;65;81mTrue\u001b[0m\u001b[1;38;2;55;65;81m)\u001b[0m\u001b[38;2;55;65;81m...\u001b[0m\n"
      ]
     },
     "metadata": {},
     "output_type": "display_data"
    },
    {
     "name": "stdout",
     "output_type": "stream",
     "text": [
      "Event loop is already running. Applying nest_asyncio patch to allow async execution...\n"
     ]
    },
    {
     "name": "stderr",
     "output_type": "stream",
     "text": [
      "Evaluating 1 test case(s) in parallel: |██████████|100% (1/1) [Time Taken: 00:05,  5.55s/test case]\n"
     ]
    },
    {
     "data": {
      "text/html": [
       "<pre style=\"white-space:pre;overflow-x:auto;line-height:normal;font-family:Menlo,'DejaVu Sans Mono',consolas,'Courier New',monospace\">\n",
       "<span style=\"color: #05f58d; text-decoration-color: #05f58d\">✓</span> Tests finished 🎉! Run <span style=\"color: #008000; text-decoration-color: #008000; font-weight: bold\">'deepeval login'</span> to save and analyze evaluation results on Confident AI.\n",
       " \n",
       "✨👀 Looking for a place for your LLM test data to live 🏡❤️ ? Use <span style=\"color: #6a00ff; text-decoration-color: #6a00ff\">Confident AI</span> to get &amp; share testing reports, \n",
       "experiment with models/prompts, and catch regressions for your LLM system. Just run <span style=\"color: #008080; text-decoration-color: #008080\">'deepeval login'</span> in the CLI. \n",
       "\n",
       "</pre>\n"
      ],
      "text/plain": [
       "\n",
       "\u001b[38;2;5;245;141m✓\u001b[0m Tests finished 🎉! Run \u001b[1;32m'deepeval login'\u001b[0m to save and analyze evaluation results on Confident AI.\n",
       " \n",
       "✨👀 Looking for a place for your LLM test data to live 🏡❤️ ? Use \u001b[38;2;106;0;255mConfident AI\u001b[0m to get & share testing reports, \n",
       "experiment with models/prompts, and catch regressions for your LLM system. Just run \u001b[36m'deepeval login'\u001b[0m in the CLI. \n",
       "\n"
      ]
     },
     "metadata": {},
     "output_type": "display_data"
    },
    {
     "name": "stdout",
     "output_type": "stream",
     "text": [
      "MESSAGES\n",
      "[{'role': 'user', 'content': 'Твоя задача - определить, релевантны ли предоставленные документы запросу пользователя. Релевантым считай тот документ, в котором тема хотя бы смежно связана с запросом. Верни ровно один массив из строк \\'0\\' или \\'1\\', где \\'1\\' означает, что документ релевантен запросу, а \\'0\\' - что нерелевантен. Массив должен иметь ровно столько элементов, сколько документов в запросе.\\n\\nЗапрос: \\'получить доступ к карьере\\'\\n\\nДокументы:\\nДокумент 0:\\nВопрос: взять сотрудника в штат\\nОтвет: для вывода сотрудника в штат создайте, пожалуйста, заявку в личном кабинете по теме «табель/график/рабочее время», далее «обнуление ставок» с подтемой «прекращение обнуления».\\n\\nДокумент 1:\\nВопрос: прием на работу\\nОтвет: для приема необходимо выбрать ставку администратора-стажера, директора-стажера, заместителя-стажера.\\n\\nДокумент 2:\\nВопрос: назначить участи в моя карьера\\nОтвет: доступ к программе \"карьера\" появляется спустя 4 месяца после трудоутстройства в компанию. если по прошествии 4х месяцев раздел по-прежнему недоступен, обратитесь в поддержку\\n\\nДокумент 3:\\nВопрос: трудоустройство в офис\\nОтвет: для приема офисного сотрудника, пожалуйста, создайте в разделе \"прием\" выбрав тему \"1011о - прием на работу (офис)\". подробная информация о создании заявки размещена в \"базе знаний \".\\n\\nДокумент 4:\\nВопрос: получить роль табельщика\\nОтвет: для присвоения роли табельщика создайте, пожалуйста, заявку по теме «табельный учет. работа с табелем/графиком по собственному персоналу», подтема: «присвоение роли табельщика».\\n\\nДокумент 5:\\nВопрос: присвоить квалификацию\\nОтвет: создайте, пожалуйста, обращение в ит поддержку на портале support\\n\\nДокумент 6:\\nВопрос: принять на работу офис\\nОтвет: ог. развитие или планирование территории, для заведения заявки по процессу 5401 - изменение организационной структуры и штатного расписания.\\n\\n\\n\\nОцени релевантность каждого документа к этому запросу и верни массив из 7 элементов, где каждый элемент - \\'0\\' или \\'1\\'.'}]\n",
      "MESSAGES\n",
      "[{'role': 'user', 'content': 'Ты помощник, который дает ответы в том же стиле, что и представленные примеры. Используй предоставленные вопросы и ответы как образец стиля и уровня детализации.\\n\\nПримеры вопросов и ответов:\\n\\nПример 1:\\nВопрос: назначить участи в моя карьера\\nОтвет: доступ к программе \"карьера\" появляется спустя 4 месяца после трудоутстройства в компанию. если по прошествии 4х месяцев раздел по-прежнему недоступен, обратитесь в поддержку\\n\\n\\n\\nЗапрос пользователя: получить доступ к карьере\\n\\nОтветь на запрос пользователя в том же стиле, что и приведенные примеры.'}]\n"
     ]
    },
    {
     "data": {
      "text/html": [
       "<pre style=\"white-space:pre;overflow-x:auto;line-height:normal;font-family:Menlo,'DejaVu Sans Mono',consolas,'Courier New',monospace\">✨ You're running DeepEval's latest <span style=\"color: #6a00ff; text-decoration-color: #6a00ff\">Answer Relevancy Metric</span>! <span style=\"color: #374151; text-decoration-color: #374151; font-weight: bold\">(</span><span style=\"color: #374151; text-decoration-color: #374151\">using gpt-4o, </span><span style=\"color: #374151; text-decoration-color: #374151\">strict</span><span style=\"color: #374151; text-decoration-color: #374151\">=</span><span style=\"color: #374151; text-decoration-color: #374151; font-style: italic\">False</span><span style=\"color: #374151; text-decoration-color: #374151\">, </span><span style=\"color: #374151; text-decoration-color: #374151\">async_mode</span><span style=\"color: #374151; text-decoration-color: #374151\">=</span><span style=\"color: #374151; text-decoration-color: #374151; font-style: italic\">True</span><span style=\"color: #374151; text-decoration-color: #374151; font-weight: bold\">)</span><span style=\"color: #374151; text-decoration-color: #374151\">...</span>\n",
       "</pre>\n"
      ],
      "text/plain": [
       "✨ You're running DeepEval's latest \u001b[38;2;106;0;255mAnswer Relevancy Metric\u001b[0m! \u001b[1;38;2;55;65;81m(\u001b[0m\u001b[38;2;55;65;81musing gpt-4o, \u001b[0m\u001b[38;2;55;65;81mstrict\u001b[0m\u001b[38;2;55;65;81m=\u001b[0m\u001b[3;38;2;55;65;81mFalse\u001b[0m\u001b[38;2;55;65;81m, \u001b[0m\u001b[38;2;55;65;81masync_mode\u001b[0m\u001b[38;2;55;65;81m=\u001b[0m\u001b[3;38;2;55;65;81mTrue\u001b[0m\u001b[1;38;2;55;65;81m)\u001b[0m\u001b[38;2;55;65;81m...\u001b[0m\n"
      ]
     },
     "metadata": {},
     "output_type": "display_data"
    },
    {
     "name": "stdout",
     "output_type": "stream",
     "text": [
      "Event loop is already running. Applying nest_asyncio patch to allow async execution...\n"
     ]
    },
    {
     "name": "stderr",
     "output_type": "stream",
     "text": [
      "Evaluating 1 test case(s) in parallel: |██████████|100% (1/1) [Time Taken: 00:03,  3.63s/test case]\n"
     ]
    },
    {
     "data": {
      "text/html": [
       "<pre style=\"white-space:pre;overflow-x:auto;line-height:normal;font-family:Menlo,'DejaVu Sans Mono',consolas,'Courier New',monospace\">\n",
       "<span style=\"color: #05f58d; text-decoration-color: #05f58d\">✓</span> Tests finished 🎉! Run <span style=\"color: #008000; text-decoration-color: #008000; font-weight: bold\">'deepeval login'</span> to save and analyze evaluation results on Confident AI.\n",
       " \n",
       "✨👀 Looking for a place for your LLM test data to live 🏡❤️ ? Use <span style=\"color: #6a00ff; text-decoration-color: #6a00ff\">Confident AI</span> to get &amp; share testing reports, \n",
       "experiment with models/prompts, and catch regressions for your LLM system. Just run <span style=\"color: #008080; text-decoration-color: #008080\">'deepeval login'</span> in the CLI. \n",
       "\n",
       "</pre>\n"
      ],
      "text/plain": [
       "\n",
       "\u001b[38;2;5;245;141m✓\u001b[0m Tests finished 🎉! Run \u001b[1;32m'deepeval login'\u001b[0m to save and analyze evaluation results on Confident AI.\n",
       " \n",
       "✨👀 Looking for a place for your LLM test data to live 🏡❤️ ? Use \u001b[38;2;106;0;255mConfident AI\u001b[0m to get & share testing reports, \n",
       "experiment with models/prompts, and catch regressions for your LLM system. Just run \u001b[36m'deepeval login'\u001b[0m in the CLI. \n",
       "\n"
      ]
     },
     "metadata": {},
     "output_type": "display_data"
    },
    {
     "name": "stdout",
     "output_type": "stream",
     "text": [
      "MESSAGES\n",
      "[{'role': 'user', 'content': 'Твоя задача - определить, релевантны ли предоставленные документы запросу пользователя. Релевантым считай тот документ, в котором тема хотя бы смежно связана с запросом. Верни ровно один массив из строк \\'0\\' или \\'1\\', где \\'1\\' означает, что документ релевантен запросу, а \\'0\\' - что нерелевантен. Массив должен иметь ровно столько элементов, сколько документов в запросе.\\n\\nЗапрос: \\'бывает материальная помощь\\'\\n\\nДокументы:\\nДокумент 0:\\nВопрос: виды материальной помощи\\nОтвет: материальная помощь по смерти близкого родственника работника компании, тяжелая болезнь работника компании, причинение ущерба имуществу работнику компании, смерть работника компании.\\n\\nДокумент 1:\\nВопрос: тяжелая болезнь получить материальную помощь\\nОтвет: для оформления материальной помощи, пожалуйста, создайте заявку \" в разделе \"льготы, выплаты, материальная помощь\", выбрав тему \"материальная помощь\". инструкция размещена в \"базе знаний \" личного кабинета.\\n\\nДокумент 2:\\nВопрос: когда выплачивается материальная помощь при ущербе имуществу?\\nОтвет: выплата производится в случае утраты или повреждения жизненно необходимого недвижимого имущества работника, вследствие стихийных бедствий, пожара, кражи и т.д.;\\n\\nДокумент 3:\\nВопрос: хочу оформить единовременную выплату\\nОтвет: если ребенок зарегистрирован в загс 11.10.2023 или после 11.10.2023, и получателем пособия является мама ребенка, создавать заявку не нужно, необходимые данные работодателю будет направлять социальный фонд россии. если ребенок зарегистрирован в загс до 11.10.2023 или получателем пособия является отец ребенка (независимо от даты регистрации), требуется создать заявку для передачи сведений в социальный фонд россии в личном кабинете link или приложении \"моя работа\" в разделе \"декрет\", тема \"выплата единовременного пособия по рождению ребенка\".\\n\\nДокумент 4:\\nВопрос: какие документы нужны для получения материальной поддержки при кончине родственника?\\nОтвет: заявление на оказание материальной помощи; справка или свидетельство о смерти; документы, подтверждающие родство.\\n\\nДокумент 5:\\nВопрос: номер поддержки подскажите пожалуйста\\nОтвет: для оформления обращения в техническую поддержку вам необходимо нажать на кнопку \"выйти из чата\" или позвонить по номеру доб.10-100, прямой phone.\\n\\nДокумент 6:\\nВопрос: нужна справка\\nОтвет: для заказа справки создайте, пожалуйста, заявку в разделе \"заявки\" по теме \"справки и копии документов\".\\n\\n\\n\\nОцени релевантность каждого документа к этому запросу и верни массив из 7 элементов, где каждый элемент - \\'0\\' или \\'1\\'.'}]\n",
      "MESSAGES\n",
      "[{'role': 'user', 'content': 'Ты помощник, который дает ответы в том же стиле, что и представленные примеры. Используй предоставленные вопросы и ответы как образец стиля и уровня детализации.\\n\\nПримеры вопросов и ответов:\\n\\nПример 1:\\nВопрос: виды материальной помощи\\nОтвет: материальная помощь по смерти близкого родственника работника компании, тяжелая болезнь работника компании, причинение ущерба имуществу работнику компании, смерть работника компании.\\n\\nПример 2:\\nВопрос: тяжелая болезнь получить материальную помощь\\nОтвет: для оформления материальной помощи, пожалуйста, создайте заявку \" в разделе \"льготы, выплаты, материальная помощь\", выбрав тему \"материальная помощь\". инструкция размещена в \"базе знаний \" личного кабинета.\\n\\nПример 3:\\nВопрос: когда выплачивается материальная помощь при ущербе имуществу?\\nОтвет: выплата производится в случае утраты или повреждения жизненно необходимого недвижимого имущества работника, вследствие стихийных бедствий, пожара, кражи и т.д.;\\n\\nПример 4:\\nВопрос: какие документы нужны для получения материальной поддержки при кончине родственника?\\nОтвет: заявление на оказание материальной помощи; справка или свидетельство о смерти; документы, подтверждающие родство.\\n\\n\\n\\nЗапрос пользователя: бывает материальная помощь\\n\\nОтветь на запрос пользователя в том же стиле, что и приведенные примеры.'}]\n"
     ]
    },
    {
     "data": {
      "text/html": [
       "<pre style=\"white-space:pre;overflow-x:auto;line-height:normal;font-family:Menlo,'DejaVu Sans Mono',consolas,'Courier New',monospace\">✨ You're running DeepEval's latest <span style=\"color: #6a00ff; text-decoration-color: #6a00ff\">Answer Relevancy Metric</span>! <span style=\"color: #374151; text-decoration-color: #374151; font-weight: bold\">(</span><span style=\"color: #374151; text-decoration-color: #374151\">using gpt-4o, </span><span style=\"color: #374151; text-decoration-color: #374151\">strict</span><span style=\"color: #374151; text-decoration-color: #374151\">=</span><span style=\"color: #374151; text-decoration-color: #374151; font-style: italic\">False</span><span style=\"color: #374151; text-decoration-color: #374151\">, </span><span style=\"color: #374151; text-decoration-color: #374151\">async_mode</span><span style=\"color: #374151; text-decoration-color: #374151\">=</span><span style=\"color: #374151; text-decoration-color: #374151; font-style: italic\">True</span><span style=\"color: #374151; text-decoration-color: #374151; font-weight: bold\">)</span><span style=\"color: #374151; text-decoration-color: #374151\">...</span>\n",
       "</pre>\n"
      ],
      "text/plain": [
       "✨ You're running DeepEval's latest \u001b[38;2;106;0;255mAnswer Relevancy Metric\u001b[0m! \u001b[1;38;2;55;65;81m(\u001b[0m\u001b[38;2;55;65;81musing gpt-4o, \u001b[0m\u001b[38;2;55;65;81mstrict\u001b[0m\u001b[38;2;55;65;81m=\u001b[0m\u001b[3;38;2;55;65;81mFalse\u001b[0m\u001b[38;2;55;65;81m, \u001b[0m\u001b[38;2;55;65;81masync_mode\u001b[0m\u001b[38;2;55;65;81m=\u001b[0m\u001b[3;38;2;55;65;81mTrue\u001b[0m\u001b[1;38;2;55;65;81m)\u001b[0m\u001b[38;2;55;65;81m...\u001b[0m\n"
      ]
     },
     "metadata": {},
     "output_type": "display_data"
    },
    {
     "name": "stdout",
     "output_type": "stream",
     "text": [
      "Event loop is already running. Applying nest_asyncio patch to allow async execution...\n"
     ]
    },
    {
     "name": "stderr",
     "output_type": "stream",
     "text": [
      "Evaluating 1 test case(s) in parallel: |██████████|100% (1/1) [Time Taken: 00:05,  5.93s/test case]\n"
     ]
    },
    {
     "data": {
      "text/html": [
       "<pre style=\"white-space:pre;overflow-x:auto;line-height:normal;font-family:Menlo,'DejaVu Sans Mono',consolas,'Courier New',monospace\">\n",
       "<span style=\"color: #05f58d; text-decoration-color: #05f58d\">✓</span> Tests finished 🎉! Run <span style=\"color: #008000; text-decoration-color: #008000; font-weight: bold\">'deepeval login'</span> to save and analyze evaluation results on Confident AI.\n",
       " \n",
       "✨👀 Looking for a place for your LLM test data to live 🏡❤️ ? Use <span style=\"color: #6a00ff; text-decoration-color: #6a00ff\">Confident AI</span> to get &amp; share testing reports, \n",
       "experiment with models/prompts, and catch regressions for your LLM system. Just run <span style=\"color: #008080; text-decoration-color: #008080\">'deepeval login'</span> in the CLI. \n",
       "\n",
       "</pre>\n"
      ],
      "text/plain": [
       "\n",
       "\u001b[38;2;5;245;141m✓\u001b[0m Tests finished 🎉! Run \u001b[1;32m'deepeval login'\u001b[0m to save and analyze evaluation results on Confident AI.\n",
       " \n",
       "✨👀 Looking for a place for your LLM test data to live 🏡❤️ ? Use \u001b[38;2;106;0;255mConfident AI\u001b[0m to get & share testing reports, \n",
       "experiment with models/prompts, and catch regressions for your LLM system. Just run \u001b[36m'deepeval login'\u001b[0m in the CLI. \n",
       "\n"
      ]
     },
     "metadata": {},
     "output_type": "display_data"
    },
    {
     "name": "stdout",
     "output_type": "stream",
     "text": [
      "MESSAGES\n",
      "[{'role': 'user', 'content': \"Твоя задача - определить, релевантны ли предоставленные документы запросу пользователя. Релевантым считай тот документ, в котором тема хотя бы смежно связана с запросом. Верни ровно один массив из строк '0' или '1', где '1' означает, что документ релевантен запросу, а '0' - что нерелевантен. Массив должен иметь ровно столько элементов, сколько документов в запросе.\\n\\nЗапрос: 'близкие родственники'\\n\\nДокументы:\\nДокумент 0:\\nВопрос: кто относится к категории близких родственников\\nОтвет: к близким родственникам относятся: родители, дети супруги.\\n\\nДокумент 1:\\nВопрос: получать зарплату на карту родственника\\nОтвет: в трудовом договоре не предусматривается возможность зачисления заработной платы на реквизиты иных лиц. владельцем расчетного счета может выступать только сам сотрудник компании. если вы укажете реквизиты иного лица, то банк произведет возврат выплаты работодателю.\\n\\nДокумент 2:\\nВопрос: больничный по уходу за родственником\\nОтвет: больничный с кодом 09 (уход за больным членом семьи) оплачивается полностью за счет средств сфр, работодатель в данном случае выплату не производит.\\n\\nДокумент 3:\\nВопрос: проставить семейное положение\\nОтвет: для изменения персональных данных (адрес/образование/дети/фио/снилс/семейный статус/инн) создается заявка в лк2 по теме изменение персональных данных link к заявке прикладывается документ, подтверждающий изменение. инструкция доступна по ссылке link\\n\\nДокумент 4:\\nВопрос: какие документы нужны для получения материальной поддержки при кончине родственника?\\nОтвет: заявление на оказание материальной помощи; справка или свидетельство о смерти; документы, подтверждающие родство.\\n\\n\\n\\nОцени релевантность каждого документа к этому запросу и верни массив из 5 элементов, где каждый элемент - '0' или '1'.\"}]\n",
      "MESSAGES\n",
      "[{'role': 'user', 'content': 'Ты помощник, который дает ответы в том же стиле, что и представленные примеры. Используй предоставленные вопросы и ответы как образец стиля и уровня детализации.\\n\\nПримеры вопросов и ответов:\\n\\nПример 1:\\nВопрос: кто относится к категории близких родственников\\nОтвет: к близким родственникам относятся: родители, дети супруги.\\n\\nПример 2:\\nВопрос: больничный по уходу за родственником\\nОтвет: больничный с кодом 09 (уход за больным членом семьи) оплачивается полностью за счет средств сфр, работодатель в данном случае выплату не производит.\\n\\nПример 3:\\nВопрос: какие документы нужны для получения материальной поддержки при кончине родственника?\\nОтвет: заявление на оказание материальной помощи; справка или свидетельство о смерти; документы, подтверждающие родство.\\n\\n\\n\\nЗапрос пользователя: близкие родственники\\n\\nОтветь на запрос пользователя в том же стиле, что и приведенные примеры.'}]\n"
     ]
    },
    {
     "data": {
      "text/html": [
       "<pre style=\"white-space:pre;overflow-x:auto;line-height:normal;font-family:Menlo,'DejaVu Sans Mono',consolas,'Courier New',monospace\">✨ You're running DeepEval's latest <span style=\"color: #6a00ff; text-decoration-color: #6a00ff\">Answer Relevancy Metric</span>! <span style=\"color: #374151; text-decoration-color: #374151; font-weight: bold\">(</span><span style=\"color: #374151; text-decoration-color: #374151\">using gpt-4o, </span><span style=\"color: #374151; text-decoration-color: #374151\">strict</span><span style=\"color: #374151; text-decoration-color: #374151\">=</span><span style=\"color: #374151; text-decoration-color: #374151; font-style: italic\">False</span><span style=\"color: #374151; text-decoration-color: #374151\">, </span><span style=\"color: #374151; text-decoration-color: #374151\">async_mode</span><span style=\"color: #374151; text-decoration-color: #374151\">=</span><span style=\"color: #374151; text-decoration-color: #374151; font-style: italic\">True</span><span style=\"color: #374151; text-decoration-color: #374151; font-weight: bold\">)</span><span style=\"color: #374151; text-decoration-color: #374151\">...</span>\n",
       "</pre>\n"
      ],
      "text/plain": [
       "✨ You're running DeepEval's latest \u001b[38;2;106;0;255mAnswer Relevancy Metric\u001b[0m! \u001b[1;38;2;55;65;81m(\u001b[0m\u001b[38;2;55;65;81musing gpt-4o, \u001b[0m\u001b[38;2;55;65;81mstrict\u001b[0m\u001b[38;2;55;65;81m=\u001b[0m\u001b[3;38;2;55;65;81mFalse\u001b[0m\u001b[38;2;55;65;81m, \u001b[0m\u001b[38;2;55;65;81masync_mode\u001b[0m\u001b[38;2;55;65;81m=\u001b[0m\u001b[3;38;2;55;65;81mTrue\u001b[0m\u001b[1;38;2;55;65;81m)\u001b[0m\u001b[38;2;55;65;81m...\u001b[0m\n"
      ]
     },
     "metadata": {},
     "output_type": "display_data"
    },
    {
     "name": "stdout",
     "output_type": "stream",
     "text": [
      "Event loop is already running. Applying nest_asyncio patch to allow async execution...\n"
     ]
    },
    {
     "name": "stderr",
     "output_type": "stream",
     "text": [
      "Evaluating 1 test case(s) in parallel: |██████████|100% (1/1) [Time Taken: 00:04,  4.79s/test case]\n"
     ]
    },
    {
     "data": {
      "text/html": [
       "<pre style=\"white-space:pre;overflow-x:auto;line-height:normal;font-family:Menlo,'DejaVu Sans Mono',consolas,'Courier New',monospace\">\n",
       "<span style=\"color: #05f58d; text-decoration-color: #05f58d\">✓</span> Tests finished 🎉! Run <span style=\"color: #008000; text-decoration-color: #008000; font-weight: bold\">'deepeval login'</span> to save and analyze evaluation results on Confident AI.\n",
       " \n",
       "✨👀 Looking for a place for your LLM test data to live 🏡❤️ ? Use <span style=\"color: #6a00ff; text-decoration-color: #6a00ff\">Confident AI</span> to get &amp; share testing reports, \n",
       "experiment with models/prompts, and catch regressions for your LLM system. Just run <span style=\"color: #008080; text-decoration-color: #008080\">'deepeval login'</span> in the CLI. \n",
       "\n",
       "</pre>\n"
      ],
      "text/plain": [
       "\n",
       "\u001b[38;2;5;245;141m✓\u001b[0m Tests finished 🎉! Run \u001b[1;32m'deepeval login'\u001b[0m to save and analyze evaluation results on Confident AI.\n",
       " \n",
       "✨👀 Looking for a place for your LLM test data to live 🏡❤️ ? Use \u001b[38;2;106;0;255mConfident AI\u001b[0m to get & share testing reports, \n",
       "experiment with models/prompts, and catch regressions for your LLM system. Just run \u001b[36m'deepeval login'\u001b[0m in the CLI. \n",
       "\n"
      ]
     },
     "metadata": {},
     "output_type": "display_data"
    },
    {
     "name": "stdout",
     "output_type": "stream",
     "text": [
      "MESSAGES\n",
      "[{'role': 'user', 'content': 'Твоя задача - определить, релевантны ли предоставленные документы запросу пользователя. Релевантым считай тот документ, в котором тема хотя бы смежно связана с запросом. Верни ровно один массив из строк \\'0\\' или \\'1\\', где \\'1\\' означает, что документ релевантен запросу, а \\'0\\' - что нерелевантен. Массив должен иметь ровно столько элементов, сколько документов в запросе.\\n\\nЗапрос: \\'почему в личном кабинете ничего нет\\'\\n\\nДокументы:\\nДокумент 0:\\nВопрос: в личном кабинете отсутвует список подчиненных\\nОтвет: если в \"команде\" нет подчиненных сотрудников просьба обратиться в поддержку для корректировки\\n\\nДокумент 1:\\nВопрос: нет руководителя в личном кабинете\\nОтвет: по данному вопросу вы можете обратиться в кадровую службу, создав заявку \"консультация по hr вопросам\"\\n\\nДокумент 2:\\nВопрос: личный кабинет нет доступа\\nОтвет: при проблемах со входом в личный кабинет, прежде чем создавать заявку в поддержку, убедитесь, что заходите в лк на сайте link указываете актуальные и верные логин и пароль. если вам неизвестен логин, обратитесь к руководителю (дм), он сможет посмотреть ваш логин и сбросить пароль в веб-табеле. для самостоятельного сброса пароля позвоните с вашего мобильного телефона на phone, наберите добавочный номер 10100, нажмите * и подтвердите сброс пароля, нажав #. обновленный пароль отправляется по sms.\\n\\nДокумент 3:\\nВопрос: в личном кабинете не отображаются задачи\\nОтвет: создайте, пожалуйста, обращение в ит поддержку на портале support\\n\\n\\n\\nОцени релевантность каждого документа к этому запросу и верни массив из 4 элементов, где каждый элемент - \\'0\\' или \\'1\\'.'}]\n",
      "MESSAGES\n",
      "[{'role': 'user', 'content': 'Ты помощник, который дает ответы в том же стиле, что и представленные примеры. Используй предоставленные вопросы и ответы как образец стиля и уровня детализации.\\n\\nПримеры вопросов и ответов:\\n\\nПример 1:\\nВопрос: в личном кабинете отсутвует список подчиненных\\nОтвет: если в \"команде\" нет подчиненных сотрудников просьба обратиться в поддержку для корректировки\\n\\nПример 2:\\nВопрос: нет руководителя в личном кабинете\\nОтвет: по данному вопросу вы можете обратиться в кадровую службу, создав заявку \"консультация по hr вопросам\"\\n\\nПример 3:\\nВопрос: личный кабинет нет доступа\\nОтвет: при проблемах со входом в личный кабинет, прежде чем создавать заявку в поддержку, убедитесь, что заходите в лк на сайте link указываете актуальные и верные логин и пароль. если вам неизвестен логин, обратитесь к руководителю (дм), он сможет посмотреть ваш логин и сбросить пароль в веб-табеле. для самостоятельного сброса пароля позвоните с вашего мобильного телефона на phone, наберите добавочный номер 10100, нажмите * и подтвердите сброс пароля, нажав #. обновленный пароль отправляется по sms.\\n\\nПример 4:\\nВопрос: в личном кабинете не отображаются задачи\\nОтвет: создайте, пожалуйста, обращение в ит поддержку на портале support\\n\\n\\n\\nЗапрос пользователя: почему в личном кабинете ничего нет\\n\\nОтветь на запрос пользователя в том же стиле, что и приведенные примеры.'}]\n"
     ]
    },
    {
     "data": {
      "text/html": [
       "<pre style=\"white-space:pre;overflow-x:auto;line-height:normal;font-family:Menlo,'DejaVu Sans Mono',consolas,'Courier New',monospace\">✨ You're running DeepEval's latest <span style=\"color: #6a00ff; text-decoration-color: #6a00ff\">Answer Relevancy Metric</span>! <span style=\"color: #374151; text-decoration-color: #374151; font-weight: bold\">(</span><span style=\"color: #374151; text-decoration-color: #374151\">using gpt-4o, </span><span style=\"color: #374151; text-decoration-color: #374151\">strict</span><span style=\"color: #374151; text-decoration-color: #374151\">=</span><span style=\"color: #374151; text-decoration-color: #374151; font-style: italic\">False</span><span style=\"color: #374151; text-decoration-color: #374151\">, </span><span style=\"color: #374151; text-decoration-color: #374151\">async_mode</span><span style=\"color: #374151; text-decoration-color: #374151\">=</span><span style=\"color: #374151; text-decoration-color: #374151; font-style: italic\">True</span><span style=\"color: #374151; text-decoration-color: #374151; font-weight: bold\">)</span><span style=\"color: #374151; text-decoration-color: #374151\">...</span>\n",
       "</pre>\n"
      ],
      "text/plain": [
       "✨ You're running DeepEval's latest \u001b[38;2;106;0;255mAnswer Relevancy Metric\u001b[0m! \u001b[1;38;2;55;65;81m(\u001b[0m\u001b[38;2;55;65;81musing gpt-4o, \u001b[0m\u001b[38;2;55;65;81mstrict\u001b[0m\u001b[38;2;55;65;81m=\u001b[0m\u001b[3;38;2;55;65;81mFalse\u001b[0m\u001b[38;2;55;65;81m, \u001b[0m\u001b[38;2;55;65;81masync_mode\u001b[0m\u001b[38;2;55;65;81m=\u001b[0m\u001b[3;38;2;55;65;81mTrue\u001b[0m\u001b[1;38;2;55;65;81m)\u001b[0m\u001b[38;2;55;65;81m...\u001b[0m\n"
      ]
     },
     "metadata": {},
     "output_type": "display_data"
    },
    {
     "name": "stdout",
     "output_type": "stream",
     "text": [
      "Event loop is already running. Applying nest_asyncio patch to allow async execution...\n"
     ]
    },
    {
     "name": "stderr",
     "output_type": "stream",
     "text": [
      "Evaluating 1 test case(s) in parallel: |██████████|100% (1/1) [Time Taken: 00:04,  4.96s/test case]\n"
     ]
    },
    {
     "data": {
      "text/html": [
       "<pre style=\"white-space:pre;overflow-x:auto;line-height:normal;font-family:Menlo,'DejaVu Sans Mono',consolas,'Courier New',monospace\">\n",
       "<span style=\"color: #05f58d; text-decoration-color: #05f58d\">✓</span> Tests finished 🎉! Run <span style=\"color: #008000; text-decoration-color: #008000; font-weight: bold\">'deepeval login'</span> to save and analyze evaluation results on Confident AI.\n",
       " \n",
       "✨👀 Looking for a place for your LLM test data to live 🏡❤️ ? Use <span style=\"color: #6a00ff; text-decoration-color: #6a00ff\">Confident AI</span> to get &amp; share testing reports, \n",
       "experiment with models/prompts, and catch regressions for your LLM system. Just run <span style=\"color: #008080; text-decoration-color: #008080\">'deepeval login'</span> in the CLI. \n",
       "\n",
       "</pre>\n"
      ],
      "text/plain": [
       "\n",
       "\u001b[38;2;5;245;141m✓\u001b[0m Tests finished 🎉! Run \u001b[1;32m'deepeval login'\u001b[0m to save and analyze evaluation results on Confident AI.\n",
       " \n",
       "✨👀 Looking for a place for your LLM test data to live 🏡❤️ ? Use \u001b[38;2;106;0;255mConfident AI\u001b[0m to get & share testing reports, \n",
       "experiment with models/prompts, and catch regressions for your LLM system. Just run \u001b[36m'deepeval login'\u001b[0m in the CLI. \n",
       "\n"
      ]
     },
     "metadata": {},
     "output_type": "display_data"
    },
    {
     "name": "stdout",
     "output_type": "stream",
     "text": [
      "MESSAGES\n",
      "[{'role': 'user', 'content': 'Твоя задача - определить, релевантны ли предоставленные документы запросу пользователя. Релевантым считай тот документ, в котором тема хотя бы смежно связана с запросом. Верни ровно один массив из строк \\'0\\' или \\'1\\', где \\'1\\' означает, что документ релевантен запросу, а \\'0\\' - что нерелевантен. Массив должен иметь ровно столько элементов, сколько документов в запросе.\\n\\nЗапрос: \\'не могу выбрать конечную дату срочного договора при подаче заявки\\'\\n\\nДокументы:\\nДокумент 0:\\nВопрос: в разделе заявка на прием не выбрать дату окончания срочного договора\\nОтвет: просьба уточнить наличие актуального приказа на прием сотрудников по срочному трудовому договору на вашем макрорегионе. для выпуска, при необходимости, просьба обратиться к hrbp.\\n\\nДокумент 1:\\nВопрос: не могу проставить дату окончания срочного трудового договора\\nОтвет: создайте, пожалуйста, обращение в ит поддержку на портале support\\n\\nДокумент 2:\\nВопрос: проблема со сроком заявки\\nОтвет: по вопросам, связанным с расчётом sla, необходимо обращатиться к руководителю, для создания заявки по процессу 4132-апелляции для расчета sla.\\n\\nДокумент 3:\\nВопрос: не могу изменить дату начала ур в отрудовой договорлоненной заявке\\nОтвет: после отклонения заявки на ур, возможность создать новую возникает не мгновенно. просьба перезайти в лк в конце рабочего дня, возможность создания заявки должна уже появиться\\n\\nДокумент 4:\\nВопрос: не могу создать заявку на корректировку табеля в закадровый резервытом периоде\\nОтвет: для внесения изменений в табель необходимо создать заявку в разделе \"заявки\" по теме \"табель/график/рабочее время\", выбрав подтему \"корректировка табеля в прошлом периоде\".\\n\\nДокумент 5:\\nВопрос: сроки заявки истекли, а справка не готова\\nОтвет: по данному вопросу вы можете обратиться в кадровую службу, создав заявку \"консультация по hr вопросам\"\\n\\nДокумент 6:\\nВопрос: не могу внести даты отпусков, не активна кнопка отправить на согласование\\nОтвет: есть причины, по которым сотрудник может не участвовать в планировании: 1) стоят неявки в промежутке от текущей даты до 01.09 следующего года. 2) есть мероприятие увольнение в будущем начиная от текущей даты. 3) имеется срочный трудовой договор, который оканчивается в середине следующего года 4) сотрудник является внутренним совместителем 5) сотрудник находится на 0% занятости от текущей даты и далее в будущем 6) работа по договору гпх для уточнения данного вопроса, а так же корректировки данных, вы можете обратиться в кадровую службу или же позвонить на горячую линию. *если процесс планирования отпусков на будущий год окончен, то возможности в лк запланировать отпуск нет ни самому сотруднику, ни руководителю за сотрудника. сотрудник сможет в следующем году оформить в лк \"отпуск по заявлению\".\\n\\n\\n\\nОцени релевантность каждого документа к этому запросу и верни массив из 7 элементов, где каждый элемент - \\'0\\' или \\'1\\'.'}]\n",
      "MESSAGES\n",
      "[{'role': 'user', 'content': 'Ты помощник, который дает ответы в том же стиле, что и представленные примеры. Используй предоставленные вопросы и ответы как образец стиля и уровня детализации.\\n\\nПримеры вопросов и ответов:\\n\\nПример 1:\\nВопрос: в разделе заявка на прием не выбрать дату окончания срочного договора\\nОтвет: просьба уточнить наличие актуального приказа на прием сотрудников по срочному трудовому договору на вашем макрорегионе. для выпуска, при необходимости, просьба обратиться к hrbp.\\n\\nПример 2:\\nВопрос: не могу проставить дату окончания срочного трудового договора\\nОтвет: создайте, пожалуйста, обращение в ит поддержку на портале support\\n\\nПример 3:\\nВопрос: не могу внести даты отпусков, не активна кнопка отправить на согласование\\nОтвет: есть причины, по которым сотрудник может не участвовать в планировании: 1) стоят неявки в промежутке от текущей даты до 01.09 следующего года. 2) есть мероприятие увольнение в будущем начиная от текущей даты. 3) имеется срочный трудовой договор, который оканчивается в середине следующего года 4) сотрудник является внутренним совместителем 5) сотрудник находится на 0% занятости от текущей даты и далее в будущем 6) работа по договору гпх для уточнения данного вопроса, а так же корректировки данных, вы можете обратиться в кадровую службу или же позвонить на горячую линию. *если процесс планирования отпусков на будущий год окончен, то возможности в лк запланировать отпуск нет ни самому сотруднику, ни руководителю за сотрудника. сотрудник сможет в следующем году оформить в лк \"отпуск по заявлению\".\\n\\n\\n\\nЗапрос пользователя: не могу выбрать конечную дату срочного договора при подаче заявки\\n\\nОтветь на запрос пользователя в том же стиле, что и приведенные примеры.'}]\n"
     ]
    },
    {
     "data": {
      "text/html": [
       "<pre style=\"white-space:pre;overflow-x:auto;line-height:normal;font-family:Menlo,'DejaVu Sans Mono',consolas,'Courier New',monospace\">✨ You're running DeepEval's latest <span style=\"color: #6a00ff; text-decoration-color: #6a00ff\">Answer Relevancy Metric</span>! <span style=\"color: #374151; text-decoration-color: #374151; font-weight: bold\">(</span><span style=\"color: #374151; text-decoration-color: #374151\">using gpt-4o, </span><span style=\"color: #374151; text-decoration-color: #374151\">strict</span><span style=\"color: #374151; text-decoration-color: #374151\">=</span><span style=\"color: #374151; text-decoration-color: #374151; font-style: italic\">False</span><span style=\"color: #374151; text-decoration-color: #374151\">, </span><span style=\"color: #374151; text-decoration-color: #374151\">async_mode</span><span style=\"color: #374151; text-decoration-color: #374151\">=</span><span style=\"color: #374151; text-decoration-color: #374151; font-style: italic\">True</span><span style=\"color: #374151; text-decoration-color: #374151; font-weight: bold\">)</span><span style=\"color: #374151; text-decoration-color: #374151\">...</span>\n",
       "</pre>\n"
      ],
      "text/plain": [
       "✨ You're running DeepEval's latest \u001b[38;2;106;0;255mAnswer Relevancy Metric\u001b[0m! \u001b[1;38;2;55;65;81m(\u001b[0m\u001b[38;2;55;65;81musing gpt-4o, \u001b[0m\u001b[38;2;55;65;81mstrict\u001b[0m\u001b[38;2;55;65;81m=\u001b[0m\u001b[3;38;2;55;65;81mFalse\u001b[0m\u001b[38;2;55;65;81m, \u001b[0m\u001b[38;2;55;65;81masync_mode\u001b[0m\u001b[38;2;55;65;81m=\u001b[0m\u001b[3;38;2;55;65;81mTrue\u001b[0m\u001b[1;38;2;55;65;81m)\u001b[0m\u001b[38;2;55;65;81m...\u001b[0m\n"
      ]
     },
     "metadata": {},
     "output_type": "display_data"
    },
    {
     "name": "stdout",
     "output_type": "stream",
     "text": [
      "Event loop is already running. Applying nest_asyncio patch to allow async execution...\n"
     ]
    },
    {
     "name": "stderr",
     "output_type": "stream",
     "text": [
      "Evaluating 1 test case(s) in parallel: |██████████|100% (1/1) [Time Taken: 00:04,  4.62s/test case]\n"
     ]
    },
    {
     "data": {
      "text/html": [
       "<pre style=\"white-space:pre;overflow-x:auto;line-height:normal;font-family:Menlo,'DejaVu Sans Mono',consolas,'Courier New',monospace\">\n",
       "<span style=\"color: #05f58d; text-decoration-color: #05f58d\">✓</span> Tests finished 🎉! Run <span style=\"color: #008000; text-decoration-color: #008000; font-weight: bold\">'deepeval login'</span> to save and analyze evaluation results on Confident AI.\n",
       " \n",
       "✨👀 Looking for a place for your LLM test data to live 🏡❤️ ? Use <span style=\"color: #6a00ff; text-decoration-color: #6a00ff\">Confident AI</span> to get &amp; share testing reports, \n",
       "experiment with models/prompts, and catch regressions for your LLM system. Just run <span style=\"color: #008080; text-decoration-color: #008080\">'deepeval login'</span> in the CLI. \n",
       "\n",
       "</pre>\n"
      ],
      "text/plain": [
       "\n",
       "\u001b[38;2;5;245;141m✓\u001b[0m Tests finished 🎉! Run \u001b[1;32m'deepeval login'\u001b[0m to save and analyze evaluation results on Confident AI.\n",
       " \n",
       "✨👀 Looking for a place for your LLM test data to live 🏡❤️ ? Use \u001b[38;2;106;0;255mConfident AI\u001b[0m to get & share testing reports, \n",
       "experiment with models/prompts, and catch regressions for your LLM system. Just run \u001b[36m'deepeval login'\u001b[0m in the CLI. \n",
       "\n"
      ]
     },
     "metadata": {},
     "output_type": "display_data"
    },
    {
     "name": "stdout",
     "output_type": "stream",
     "text": [
      "MESSAGES\n",
      "[{'role': 'user', 'content': 'Твоя задача - определить, релевантны ли предоставленные документы запросу пользователя. Релевантым считай тот документ, в котором тема хотя бы смежно связана с запросом. Верни ровно один массив из строк \\'0\\' или \\'1\\', где \\'1\\' означает, что документ релевантен запросу, а \\'0\\' - что нерелевантен. Массив должен иметь ровно столько элементов, сколько документов в запросе.\\n\\nЗапрос: \\'атгул\\'\\n\\nДокументы:\\nДокумент 0:\\nВопрос: как делается оформление отгула\\nОтвет: пожалуйста, создайте заявку по теме «отпуск», далее «отпуска и прочие отсутствия», подтема «отгул за ранее отработанный выходной или праздничный день». к заявке приложите, пожалуйста, заявление. шаблон заявления доступен в разделе «база знаний».\\n\\nДокумент 1:\\nВопрос: перенести отгул\\nОтвет: пожалуйста, обратитесь к непосредственному руководителю, чтобы он создал заявку в личном кабинете по теме «отмена/аннулирование мероприятия». после выполнения мероприятия вы сможете создать заявку в личном кабинете по теме «отпуска и прочие отсутствия», подтема «отгул за ранее отработанный выходной или праздничный день», указав новый период отсутствия.\\n\\nДокумент 2:\\nВопрос: уйди\\nОтвет: для оформления обращения в техническую поддержку вам необходимо нажать на кнопку \"выйти из чата\" или позвонить по номеру доб.10-100, прямой phone.\\n\\nДокумент 3:\\nВопрос: как провести отгул?\\nОтвет: оформление отгула возможно 2 способами: 1. в разделе \"отпуска\" в левом меню личного кабинета сотрудника (link ); 2. в разделе \"заявки\", группа \"отпуск\", плитка \"отгул (лк)\". (link\\n\\nДокумент 4:\\nВопрос: как перенести отгул?\\nОтвет: для проведения отгула сотрудник обращается к непосредственному руководителю, чтобы он создал заявку в личном кабинете по теме «отмена/аннулирование мероприятия». после выполнения мероприятия необходимо создать заявку в личном кабинете в разделе «отпуска» (link ), указав новый период отсутствия.\\n\\n\\n\\nОцени релевантность каждого документа к этому запросу и верни массив из 5 элементов, где каждый элемент - \\'0\\' или \\'1\\'.'}]\n",
      "MESSAGES\n",
      "[{'role': 'user', 'content': 'Ты помощник, который дает ответы в том же стиле, что и представленные примеры. Используй предоставленные вопросы и ответы как образец стиля и уровня детализации.\\n\\nПримеры вопросов и ответов:\\n\\nПример 1:\\nВопрос: как делается оформление отгула\\nОтвет: пожалуйста, создайте заявку по теме «отпуск», далее «отпуска и прочие отсутствия», подтема «отгул за ранее отработанный выходной или праздничный день». к заявке приложите, пожалуйста, заявление. шаблон заявления доступен в разделе «база знаний».\\n\\nПример 2:\\nВопрос: перенести отгул\\nОтвет: пожалуйста, обратитесь к непосредственному руководителю, чтобы он создал заявку в личном кабинете по теме «отмена/аннулирование мероприятия». после выполнения мероприятия вы сможете создать заявку в личном кабинете по теме «отпуска и прочие отсутствия», подтема «отгул за ранее отработанный выходной или праздничный день», указав новый период отсутствия.\\n\\nПример 3:\\nВопрос: как провести отгул?\\nОтвет: оформление отгула возможно 2 способами: 1. в разделе \"отпуска\" в левом меню личного кабинета сотрудника (link ); 2. в разделе \"заявки\", группа \"отпуск\", плитка \"отгул (лк)\". (link\\n\\nПример 4:\\nВопрос: как перенести отгул?\\nОтвет: для проведения отгула сотрудник обращается к непосредственному руководителю, чтобы он создал заявку в личном кабинете по теме «отмена/аннулирование мероприятия». после выполнения мероприятия необходимо создать заявку в личном кабинете в разделе «отпуска» (link ), указав новый период отсутствия.\\n\\n\\n\\nЗапрос пользователя: атгул\\n\\nОтветь на запрос пользователя в том же стиле, что и приведенные примеры.'}]\n"
     ]
    },
    {
     "data": {
      "text/html": [
       "<pre style=\"white-space:pre;overflow-x:auto;line-height:normal;font-family:Menlo,'DejaVu Sans Mono',consolas,'Courier New',monospace\">✨ You're running DeepEval's latest <span style=\"color: #6a00ff; text-decoration-color: #6a00ff\">Answer Relevancy Metric</span>! <span style=\"color: #374151; text-decoration-color: #374151; font-weight: bold\">(</span><span style=\"color: #374151; text-decoration-color: #374151\">using gpt-4o, </span><span style=\"color: #374151; text-decoration-color: #374151\">strict</span><span style=\"color: #374151; text-decoration-color: #374151\">=</span><span style=\"color: #374151; text-decoration-color: #374151; font-style: italic\">False</span><span style=\"color: #374151; text-decoration-color: #374151\">, </span><span style=\"color: #374151; text-decoration-color: #374151\">async_mode</span><span style=\"color: #374151; text-decoration-color: #374151\">=</span><span style=\"color: #374151; text-decoration-color: #374151; font-style: italic\">True</span><span style=\"color: #374151; text-decoration-color: #374151; font-weight: bold\">)</span><span style=\"color: #374151; text-decoration-color: #374151\">...</span>\n",
       "</pre>\n"
      ],
      "text/plain": [
       "✨ You're running DeepEval's latest \u001b[38;2;106;0;255mAnswer Relevancy Metric\u001b[0m! \u001b[1;38;2;55;65;81m(\u001b[0m\u001b[38;2;55;65;81musing gpt-4o, \u001b[0m\u001b[38;2;55;65;81mstrict\u001b[0m\u001b[38;2;55;65;81m=\u001b[0m\u001b[3;38;2;55;65;81mFalse\u001b[0m\u001b[38;2;55;65;81m, \u001b[0m\u001b[38;2;55;65;81masync_mode\u001b[0m\u001b[38;2;55;65;81m=\u001b[0m\u001b[3;38;2;55;65;81mTrue\u001b[0m\u001b[1;38;2;55;65;81m)\u001b[0m\u001b[38;2;55;65;81m...\u001b[0m\n"
      ]
     },
     "metadata": {},
     "output_type": "display_data"
    },
    {
     "name": "stdout",
     "output_type": "stream",
     "text": [
      "Event loop is already running. Applying nest_asyncio patch to allow async execution...\n"
     ]
    },
    {
     "name": "stderr",
     "output_type": "stream",
     "text": [
      "Evaluating 1 test case(s) in parallel: |██████████|100% (1/1) [Time Taken: 00:08,  8.59s/test case]\n"
     ]
    },
    {
     "data": {
      "text/html": [
       "<pre style=\"white-space:pre;overflow-x:auto;line-height:normal;font-family:Menlo,'DejaVu Sans Mono',consolas,'Courier New',monospace\">\n",
       "<span style=\"color: #05f58d; text-decoration-color: #05f58d\">✓</span> Tests finished 🎉! Run <span style=\"color: #008000; text-decoration-color: #008000; font-weight: bold\">'deepeval login'</span> to save and analyze evaluation results on Confident AI.\n",
       " \n",
       "✨👀 Looking for a place for your LLM test data to live 🏡❤️ ? Use <span style=\"color: #6a00ff; text-decoration-color: #6a00ff\">Confident AI</span> to get &amp; share testing reports, \n",
       "experiment with models/prompts, and catch regressions for your LLM system. Just run <span style=\"color: #008080; text-decoration-color: #008080\">'deepeval login'</span> in the CLI. \n",
       "\n",
       "</pre>\n"
      ],
      "text/plain": [
       "\n",
       "\u001b[38;2;5;245;141m✓\u001b[0m Tests finished 🎉! Run \u001b[1;32m'deepeval login'\u001b[0m to save and analyze evaluation results on Confident AI.\n",
       " \n",
       "✨👀 Looking for a place for your LLM test data to live 🏡❤️ ? Use \u001b[38;2;106;0;255mConfident AI\u001b[0m to get & share testing reports, \n",
       "experiment with models/prompts, and catch regressions for your LLM system. Just run \u001b[36m'deepeval login'\u001b[0m in the CLI. \n",
       "\n"
      ]
     },
     "metadata": {},
     "output_type": "display_data"
    },
    {
     "name": "stdout",
     "output_type": "stream",
     "text": [
      "MESSAGES\n",
      "[{'role': 'user', 'content': 'Твоя задача - определить, релевантны ли предоставленные документы запросу пользователя. Релевантым считай тот документ, в котором тема хотя бы смежно связана с запросом. Верни ровно один массив из строк \\'0\\' или \\'1\\', где \\'1\\' означает, что документ релевантен запросу, а \\'0\\' - что нерелевантен. Массив должен иметь ровно столько элементов, сколько документов в запросе.\\n\\nЗапрос: \\'рожаю скоро получить больничный\\'\\n\\nДокументы:\\nДокумент 0:\\nВопрос: взять больничный по уходу\\nОтвет: больничный с кодом 09 (уход за больным членом семьи) оплачивается полностью за счет средств сфр, работодатель в данном случае выплату не производит.\\n\\nДокумент 1:\\nВопрос: как оформить больничный по беременности и родам?\\nОтвет: сотруднику следует обратиться к непосредственному руководителю, чтобы он создал заявку в личном кабинете link или приложении \"моя работа\" в разделе \"декрет\", \"администрирование отпуска бир\".\\n\\nДокумент 2:\\nВопрос: как оформить больничный по беременности и родам\\nОтвет: пожалуйста, обратитесь к непосредственному руководителю, чтобы он создал заявку в личном кабинете link или приложении \"моя работа\" в разделе \"декрет\", \"администрирование отпуска бир\".\\n\\nДокумент 3:\\nВопрос: могу я продолжить работать в период больничного по беременности и родам и получать пособие\\nОтвет: вы можете продолжить работу во время больничного по беременности и родам, при этом вам будет выплачиваться заработная плата. пособие по беременности и родам будет рассчитано с фактической даты ухода в отпуск по беременности и родам (соответственно, будет оплачено меньшее кол-во дней бира).\\n\\nДокумент 4:\\nВопрос: могу я продолжить работать в период больничного по беременности и родам и получать пособие?\\nОтвет: сотрудник может продолжить работу во время больничного по беременности и родам, при этом ему будет выплачиваться заработная плата. пособие по беременности и родам будет рассчитано с фактической даты ухода в отпуск по беременности и родам (соответственно, будет оплачено меньшее кол-во дней бира).\\n\\nДокумент 5:\\nВопрос: есть ли сроки для предоставления документов после получения больничного по беременности и родам?\\nОтвет: информацию по больничному можно передать работодателю в течение 6 месяцев.\\n\\n\\n\\nОцени релевантность каждого документа к этому запросу и верни массив из 6 элементов, где каждый элемент - \\'0\\' или \\'1\\'.'}]\n",
      "MESSAGES\n",
      "[{'role': 'user', 'content': 'Ты помощник, который дает ответы в том же стиле, что и представленные примеры. Используй предоставленные вопросы и ответы как образец стиля и уровня детализации.\\n\\nПримеры вопросов и ответов:\\n\\nПример 1:\\nВопрос: как оформить больничный по беременности и родам?\\nОтвет: сотруднику следует обратиться к непосредственному руководителю, чтобы он создал заявку в личном кабинете link или приложении \"моя работа\" в разделе \"декрет\", \"администрирование отпуска бир\".\\n\\nПример 2:\\nВопрос: как оформить больничный по беременности и родам\\nОтвет: пожалуйста, обратитесь к непосредственному руководителю, чтобы он создал заявку в личном кабинете link или приложении \"моя работа\" в разделе \"декрет\", \"администрирование отпуска бир\".\\n\\nПример 3:\\nВопрос: есть ли сроки для предоставления документов после получения больничного по беременности и родам?\\nОтвет: информацию по больничному можно передать работодателю в течение 6 месяцев.\\n\\n\\n\\nЗапрос пользователя: рожаю скоро получить больничный\\n\\nОтветь на запрос пользователя в том же стиле, что и приведенные примеры.'}]\n"
     ]
    },
    {
     "data": {
      "text/html": [
       "<pre style=\"white-space:pre;overflow-x:auto;line-height:normal;font-family:Menlo,'DejaVu Sans Mono',consolas,'Courier New',monospace\">✨ You're running DeepEval's latest <span style=\"color: #6a00ff; text-decoration-color: #6a00ff\">Answer Relevancy Metric</span>! <span style=\"color: #374151; text-decoration-color: #374151; font-weight: bold\">(</span><span style=\"color: #374151; text-decoration-color: #374151\">using gpt-4o, </span><span style=\"color: #374151; text-decoration-color: #374151\">strict</span><span style=\"color: #374151; text-decoration-color: #374151\">=</span><span style=\"color: #374151; text-decoration-color: #374151; font-style: italic\">False</span><span style=\"color: #374151; text-decoration-color: #374151\">, </span><span style=\"color: #374151; text-decoration-color: #374151\">async_mode</span><span style=\"color: #374151; text-decoration-color: #374151\">=</span><span style=\"color: #374151; text-decoration-color: #374151; font-style: italic\">True</span><span style=\"color: #374151; text-decoration-color: #374151; font-weight: bold\">)</span><span style=\"color: #374151; text-decoration-color: #374151\">...</span>\n",
       "</pre>\n"
      ],
      "text/plain": [
       "✨ You're running DeepEval's latest \u001b[38;2;106;0;255mAnswer Relevancy Metric\u001b[0m! \u001b[1;38;2;55;65;81m(\u001b[0m\u001b[38;2;55;65;81musing gpt-4o, \u001b[0m\u001b[38;2;55;65;81mstrict\u001b[0m\u001b[38;2;55;65;81m=\u001b[0m\u001b[3;38;2;55;65;81mFalse\u001b[0m\u001b[38;2;55;65;81m, \u001b[0m\u001b[38;2;55;65;81masync_mode\u001b[0m\u001b[38;2;55;65;81m=\u001b[0m\u001b[3;38;2;55;65;81mTrue\u001b[0m\u001b[1;38;2;55;65;81m)\u001b[0m\u001b[38;2;55;65;81m...\u001b[0m\n"
      ]
     },
     "metadata": {},
     "output_type": "display_data"
    },
    {
     "name": "stdout",
     "output_type": "stream",
     "text": [
      "Event loop is already running. Applying nest_asyncio patch to allow async execution...\n"
     ]
    },
    {
     "name": "stderr",
     "output_type": "stream",
     "text": [
      "Evaluating 1 test case(s) in parallel: |██████████|100% (1/1) [Time Taken: 00:05,  5.26s/test case]\n"
     ]
    },
    {
     "data": {
      "text/html": [
       "<pre style=\"white-space:pre;overflow-x:auto;line-height:normal;font-family:Menlo,'DejaVu Sans Mono',consolas,'Courier New',monospace\">\n",
       "<span style=\"color: #05f58d; text-decoration-color: #05f58d\">✓</span> Tests finished 🎉! Run <span style=\"color: #008000; text-decoration-color: #008000; font-weight: bold\">'deepeval login'</span> to save and analyze evaluation results on Confident AI.\n",
       " \n",
       "✨👀 Looking for a place for your LLM test data to live 🏡❤️ ? Use <span style=\"color: #6a00ff; text-decoration-color: #6a00ff\">Confident AI</span> to get &amp; share testing reports, \n",
       "experiment with models/prompts, and catch regressions for your LLM system. Just run <span style=\"color: #008080; text-decoration-color: #008080\">'deepeval login'</span> in the CLI. \n",
       "\n",
       "</pre>\n"
      ],
      "text/plain": [
       "\n",
       "\u001b[38;2;5;245;141m✓\u001b[0m Tests finished 🎉! Run \u001b[1;32m'deepeval login'\u001b[0m to save and analyze evaluation results on Confident AI.\n",
       " \n",
       "✨👀 Looking for a place for your LLM test data to live 🏡❤️ ? Use \u001b[38;2;106;0;255mConfident AI\u001b[0m to get & share testing reports, \n",
       "experiment with models/prompts, and catch regressions for your LLM system. Just run \u001b[36m'deepeval login'\u001b[0m in the CLI. \n",
       "\n"
      ]
     },
     "metadata": {},
     "output_type": "display_data"
    },
    {
     "name": "stdout",
     "output_type": "stream",
     "text": [
      "MESSAGES\n",
      "[{'role': 'user', 'content': 'Твоя задача - определить, релевантны ли предоставленные документы запросу пользователя. Релевантым считай тот документ, в котором тема хотя бы смежно связана с запросом. Верни ровно один массив из строк \\'0\\' или \\'1\\', где \\'1\\' означает, что документ релевантен запросу, а \\'0\\' - что нерелевантен. Массив должен иметь ровно столько элементов, сколько документов в запросе.\\n\\nЗапрос: \\'у ребенок получить пособие\\'\\n\\nДокументы:\\nДокумент 0:\\nВопрос: родила ребенка, как оформить пособие?\\nОтвет: если ребенок зарегистрирован в загс 11.10.2023 или после 11.10.2023, и получателем пособия является мама ребенка, создавать заявку не нужно, необходимые данные работодателю будет направлять социальный фонд россии. если ребенок зарегистрирован в загс до 11.10.2023 или получателем пособия является отец ребенка (независимо от даты регистрации), требуется создать заявку для передачи сведений в социальный фонд россии в личном кабинете link или приложении \"моя работа\" в разделе \"декрет\", тема \"выплата единовременного пособия по рождению ребенка\".\\n\\nДокумент 1:\\nВопрос: когда будет произведена выплата пособия по рождению ребенка?\\nОтвет: выплата единовременного пособия при рождении производится в течение 10 рабочих дней. с дополнительными вопросами сотрудник может обратиться в сфр по номеру 8 (800) 100-00-01\\n\\nДокумент 2:\\nВопрос: могут ли оба родителя получить единовременное пособие при рождении ребенка?\\nОтвет: право на единовременное пособие при рождении ребенка имеет один из родителей или лицо, официально его заменяющее.\\n\\nДокумент 3:\\nВопрос: какие документы предоставить для получения материальной помощи\\nОтвет: для оформления материальной помощи, пожалуйста, создайте заявку \" в разделе \"льготы, выплаты, материальная помощь\", выбрав тему \"материальная помощь\". инструкция размещена в \"базе знаний \" личного кабинета.\\n\\nДокумент 4:\\nВопрос: какие документы нужно предоставить для оформления пособия по беременности и родам\\nОтвет: сотруднику следует написать заявление о предоставлении отпуска по беременности и родам и передать его непосредственному руководителю, он оформит соответствующее мероприятие.\\n\\nДокумент 5:\\nВопрос: хочу получить единовременную выплату на внука\\nОтвет: для оформления отпуска по уходу за ребенком (внучкой/внуком) сотруднику необходимо предоставить следующие документы: 1. заявление на отпуск до 3 лет; 2. заявление на пособие до 1,5 лет; 3. копия св-ва о браке родителей; 4. копии св-ва о рождении всех детей; 5. документ, подтверждающий степень родства бабушки и внучки (св-во о рождении сына или дочери, в зависимости от того, чья мама родителей оформляет отпуск); 6. справки от родителей: 1.1 если работают: справка с места работы отца и матери ребенка - в справке прописать корректно вид пособия и вид отпуска. (пример оформления справки – «выдана_____, в том, что работает с___по настоящее время в_____. отпуск по уходу за ребенком (фио, дата рождения ребенка) не оформлял. ежемесячное пособие по уходу за ребенком до 1,5 лет не назначалось и не выплачивалось. если у ребенка возраст до 3 месяцев – дополнительно справку с места работы мамы с указанием периода нахождения в отпуске по беременности и родам. 1.2 если родители не трудоустроены: 1. копии тк 2. справка с пенсионного фонда рф о неполучении ежемесячного пособия по уходу за ребенком 3. приложение к заявлению о назначении пособия до 1,5 лет. заявку следует создать по процессу 1091 – администрирование отпуска по уходу за ребенком.\\n\\nДокумент 6:\\nВопрос: что делать, если пособие по рождению ребенка оформлено, но не поступило?\\nОтвет: с данным вопросом сотруднику необходимо обратиться в сфр по номеру телефона 8 (800) 100-00-01. если требуется сделать перерасчет в связи с заменой лет по заявлению, сотрудник должен создать заявку в личном кабинете по теме \"больничный\", \"перерасчет пособий\".\\n\\n\\n\\nОцени релевантность каждого документа к этому запросу и верни массив из 7 элементов, где каждый элемент - \\'0\\' или \\'1\\'.'}]\n",
      "MESSAGES\n",
      "[{'role': 'user', 'content': 'Ты помощник, который дает ответы в том же стиле, что и представленные примеры. Используй предоставленные вопросы и ответы как образец стиля и уровня детализации.\\n\\nПримеры вопросов и ответов:\\n\\nПример 1:\\nВопрос: родила ребенка, как оформить пособие?\\nОтвет: если ребенок зарегистрирован в загс 11.10.2023 или после 11.10.2023, и получателем пособия является мама ребенка, создавать заявку не нужно, необходимые данные работодателю будет направлять социальный фонд россии. если ребенок зарегистрирован в загс до 11.10.2023 или получателем пособия является отец ребенка (независимо от даты регистрации), требуется создать заявку для передачи сведений в социальный фонд россии в личном кабинете link или приложении \"моя работа\" в разделе \"декрет\", тема \"выплата единовременного пособия по рождению ребенка\".\\n\\nПример 2:\\nВопрос: когда будет произведена выплата пособия по рождению ребенка?\\nОтвет: выплата единовременного пособия при рождении производится в течение 10 рабочих дней. с дополнительными вопросами сотрудник может обратиться в сфр по номеру 8 (800) 100-00-01\\n\\nПример 3:\\nВопрос: могут ли оба родителя получить единовременное пособие при рождении ребенка?\\nОтвет: право на единовременное пособие при рождении ребенка имеет один из родителей или лицо, официально его заменяющее.\\n\\n\\n\\nЗапрос пользователя: у ребенок получить пособие\\n\\nОтветь на запрос пользователя в том же стиле, что и приведенные примеры.'}]\n"
     ]
    },
    {
     "data": {
      "text/html": [
       "<pre style=\"white-space:pre;overflow-x:auto;line-height:normal;font-family:Menlo,'DejaVu Sans Mono',consolas,'Courier New',monospace\">✨ You're running DeepEval's latest <span style=\"color: #6a00ff; text-decoration-color: #6a00ff\">Answer Relevancy Metric</span>! <span style=\"color: #374151; text-decoration-color: #374151; font-weight: bold\">(</span><span style=\"color: #374151; text-decoration-color: #374151\">using gpt-4o, </span><span style=\"color: #374151; text-decoration-color: #374151\">strict</span><span style=\"color: #374151; text-decoration-color: #374151\">=</span><span style=\"color: #374151; text-decoration-color: #374151; font-style: italic\">False</span><span style=\"color: #374151; text-decoration-color: #374151\">, </span><span style=\"color: #374151; text-decoration-color: #374151\">async_mode</span><span style=\"color: #374151; text-decoration-color: #374151\">=</span><span style=\"color: #374151; text-decoration-color: #374151; font-style: italic\">True</span><span style=\"color: #374151; text-decoration-color: #374151; font-weight: bold\">)</span><span style=\"color: #374151; text-decoration-color: #374151\">...</span>\n",
       "</pre>\n"
      ],
      "text/plain": [
       "✨ You're running DeepEval's latest \u001b[38;2;106;0;255mAnswer Relevancy Metric\u001b[0m! \u001b[1;38;2;55;65;81m(\u001b[0m\u001b[38;2;55;65;81musing gpt-4o, \u001b[0m\u001b[38;2;55;65;81mstrict\u001b[0m\u001b[38;2;55;65;81m=\u001b[0m\u001b[3;38;2;55;65;81mFalse\u001b[0m\u001b[38;2;55;65;81m, \u001b[0m\u001b[38;2;55;65;81masync_mode\u001b[0m\u001b[38;2;55;65;81m=\u001b[0m\u001b[3;38;2;55;65;81mTrue\u001b[0m\u001b[1;38;2;55;65;81m)\u001b[0m\u001b[38;2;55;65;81m...\u001b[0m\n"
      ]
     },
     "metadata": {},
     "output_type": "display_data"
    },
    {
     "name": "stdout",
     "output_type": "stream",
     "text": [
      "Event loop is already running. Applying nest_asyncio patch to allow async execution...\n"
     ]
    },
    {
     "name": "stderr",
     "output_type": "stream",
     "text": [
      "Evaluating 1 test case(s) in parallel: |██████████|100% (1/1) [Time Taken: 00:05,  5.84s/test case]\n"
     ]
    },
    {
     "data": {
      "text/html": [
       "<pre style=\"white-space:pre;overflow-x:auto;line-height:normal;font-family:Menlo,'DejaVu Sans Mono',consolas,'Courier New',monospace\">\n",
       "<span style=\"color: #05f58d; text-decoration-color: #05f58d\">✓</span> Tests finished 🎉! Run <span style=\"color: #008000; text-decoration-color: #008000; font-weight: bold\">'deepeval login'</span> to save and analyze evaluation results on Confident AI.\n",
       " \n",
       "✨👀 Looking for a place for your LLM test data to live 🏡❤️ ? Use <span style=\"color: #6a00ff; text-decoration-color: #6a00ff\">Confident AI</span> to get &amp; share testing reports, \n",
       "experiment with models/prompts, and catch regressions for your LLM system. Just run <span style=\"color: #008080; text-decoration-color: #008080\">'deepeval login'</span> in the CLI. \n",
       "\n",
       "</pre>\n"
      ],
      "text/plain": [
       "\n",
       "\u001b[38;2;5;245;141m✓\u001b[0m Tests finished 🎉! Run \u001b[1;32m'deepeval login'\u001b[0m to save and analyze evaluation results on Confident AI.\n",
       " \n",
       "✨👀 Looking for a place for your LLM test data to live 🏡❤️ ? Use \u001b[38;2;106;0;255mConfident AI\u001b[0m to get & share testing reports, \n",
       "experiment with models/prompts, and catch regressions for your LLM system. Just run \u001b[36m'deepeval login'\u001b[0m in the CLI. \n",
       "\n"
      ]
     },
     "metadata": {},
     "output_type": "display_data"
    },
    {
     "name": "stdout",
     "output_type": "stream",
     "text": [
      "MESSAGES\n",
      "[{'role': 'user', 'content': 'Твоя задача - определить, релевантны ли предоставленные документы запросу пользователя. Релевантым считай тот документ, в котором тема хотя бы смежно связана с запросом. Верни ровно один массив из строк \\'0\\' или \\'1\\', где \\'1\\' означает, что документ релевантен запросу, а \\'0\\' - что нерелевантен. Массив должен иметь ровно столько элементов, сколько документов в запросе.\\n\\nЗапрос: \\'когда выплатят деньги за ребенка\\'\\n\\nДокументы:\\nДокумент 0:\\nВопрос: когда будет произведена выплата пособия по рождению ребенка?\\nОтвет: выплата единовременного пособия при рождении производится в течение 10 рабочих дней. с дополнительными вопросами сотрудник может обратиться в сфр по номеру 8 (800) 100-00-01\\n\\nДокумент 1:\\nВопрос: когда зарплата?\\nОтвет: заработная плата в нашей компании выплачивается двумя частями. 28-го числа месяца направляется аванс, 13-го числа месяца, следующего за расчетным, выплачивается основная заработная плата.\\n\\nДокумент 2:\\nВопрос: когда я получу деньги за отпуск\\nОтвет: отпускные начисляются не позднее чем за три рабочих дня до даты начала отпуска.\\n\\nДокумент 3:\\nВопрос: что делать, если пособие по рождению ребенка оформлено, но не поступило?\\nОтвет: с данным вопросом сотруднику необходимо обратиться в сфр по номеру телефона 8 (800) 100-00-01. если требуется сделать перерасчет в связи с заменой лет по заявлению, сотрудник должен создать заявку в личном кабинете по теме \"больничный\", \"перерасчет пособий\".\\n\\n\\n\\nОцени релевантность каждого документа к этому запросу и верни массив из 4 элементов, где каждый элемент - \\'0\\' или \\'1\\'.'}]\n",
      "MESSAGES\n",
      "[{'role': 'user', 'content': 'Ты помощник, который дает ответы в том же стиле, что и представленные примеры. Используй предоставленные вопросы и ответы как образец стиля и уровня детализации.\\n\\nПримеры вопросов и ответов:\\n\\nПример 1:\\nВопрос: когда будет произведена выплата пособия по рождению ребенка?\\nОтвет: выплата единовременного пособия при рождении производится в течение 10 рабочих дней. с дополнительными вопросами сотрудник может обратиться в сфр по номеру 8 (800) 100-00-01\\n\\nПример 2:\\nВопрос: что делать, если пособие по рождению ребенка оформлено, но не поступило?\\nОтвет: с данным вопросом сотруднику необходимо обратиться в сфр по номеру телефона 8 (800) 100-00-01. если требуется сделать перерасчет в связи с заменой лет по заявлению, сотрудник должен создать заявку в личном кабинете по теме \"больничный\", \"перерасчет пособий\".\\n\\n\\n\\nЗапрос пользователя: когда выплатят деньги за ребенка\\n\\nОтветь на запрос пользователя в том же стиле, что и приведенные примеры.'}]\n"
     ]
    },
    {
     "data": {
      "text/html": [
       "<pre style=\"white-space:pre;overflow-x:auto;line-height:normal;font-family:Menlo,'DejaVu Sans Mono',consolas,'Courier New',monospace\">✨ You're running DeepEval's latest <span style=\"color: #6a00ff; text-decoration-color: #6a00ff\">Answer Relevancy Metric</span>! <span style=\"color: #374151; text-decoration-color: #374151; font-weight: bold\">(</span><span style=\"color: #374151; text-decoration-color: #374151\">using gpt-4o, </span><span style=\"color: #374151; text-decoration-color: #374151\">strict</span><span style=\"color: #374151; text-decoration-color: #374151\">=</span><span style=\"color: #374151; text-decoration-color: #374151; font-style: italic\">False</span><span style=\"color: #374151; text-decoration-color: #374151\">, </span><span style=\"color: #374151; text-decoration-color: #374151\">async_mode</span><span style=\"color: #374151; text-decoration-color: #374151\">=</span><span style=\"color: #374151; text-decoration-color: #374151; font-style: italic\">True</span><span style=\"color: #374151; text-decoration-color: #374151; font-weight: bold\">)</span><span style=\"color: #374151; text-decoration-color: #374151\">...</span>\n",
       "</pre>\n"
      ],
      "text/plain": [
       "✨ You're running DeepEval's latest \u001b[38;2;106;0;255mAnswer Relevancy Metric\u001b[0m! \u001b[1;38;2;55;65;81m(\u001b[0m\u001b[38;2;55;65;81musing gpt-4o, \u001b[0m\u001b[38;2;55;65;81mstrict\u001b[0m\u001b[38;2;55;65;81m=\u001b[0m\u001b[3;38;2;55;65;81mFalse\u001b[0m\u001b[38;2;55;65;81m, \u001b[0m\u001b[38;2;55;65;81masync_mode\u001b[0m\u001b[38;2;55;65;81m=\u001b[0m\u001b[3;38;2;55;65;81mTrue\u001b[0m\u001b[1;38;2;55;65;81m)\u001b[0m\u001b[38;2;55;65;81m...\u001b[0m\n"
      ]
     },
     "metadata": {},
     "output_type": "display_data"
    },
    {
     "name": "stdout",
     "output_type": "stream",
     "text": [
      "Event loop is already running. Applying nest_asyncio patch to allow async execution...\n"
     ]
    },
    {
     "name": "stderr",
     "output_type": "stream",
     "text": [
      "Evaluating 1 test case(s) in parallel: |██████████|100% (1/1) [Time Taken: 00:02,  2.91s/test case]\n"
     ]
    },
    {
     "data": {
      "text/html": [
       "<pre style=\"white-space:pre;overflow-x:auto;line-height:normal;font-family:Menlo,'DejaVu Sans Mono',consolas,'Courier New',monospace\">\n",
       "<span style=\"color: #05f58d; text-decoration-color: #05f58d\">✓</span> Tests finished 🎉! Run <span style=\"color: #008000; text-decoration-color: #008000; font-weight: bold\">'deepeval login'</span> to save and analyze evaluation results on Confident AI.\n",
       " \n",
       "✨👀 Looking for a place for your LLM test data to live 🏡❤️ ? Use <span style=\"color: #6a00ff; text-decoration-color: #6a00ff\">Confident AI</span> to get &amp; share testing reports, \n",
       "experiment with models/prompts, and catch regressions for your LLM system. Just run <span style=\"color: #008080; text-decoration-color: #008080\">'deepeval login'</span> in the CLI. \n",
       "\n",
       "</pre>\n"
      ],
      "text/plain": [
       "\n",
       "\u001b[38;2;5;245;141m✓\u001b[0m Tests finished 🎉! Run \u001b[1;32m'deepeval login'\u001b[0m to save and analyze evaluation results on Confident AI.\n",
       " \n",
       "✨👀 Looking for a place for your LLM test data to live 🏡❤️ ? Use \u001b[38;2;106;0;255mConfident AI\u001b[0m to get & share testing reports, \n",
       "experiment with models/prompts, and catch regressions for your LLM system. Just run \u001b[36m'deepeval login'\u001b[0m in the CLI. \n",
       "\n"
      ]
     },
     "metadata": {},
     "output_type": "display_data"
    },
    {
     "name": "stdout",
     "output_type": "stream",
     "text": [
      "MESSAGES\n",
      "[{'role': 'user', 'content': 'Твоя задача - определить, релевантны ли предоставленные документы запросу пользователя. Релевантым считай тот документ, в котором тема хотя бы смежно связана с запросом. Верни ровно один массив из строк \\'0\\' или \\'1\\', где \\'1\\' означает, что документ релевантен запросу, а \\'0\\' - что нерелевантен. Массив должен иметь ровно столько элементов, сколько документов в запросе.\\n\\nЗапрос: \\'закончился отпуск по родам что делать дальше\\'\\n\\nДокументы:\\nДокумент 0:\\nВопрос: что делать после получения больничного по беременности и родам\\nОтвет: пожалуйста, обратитесь к непосредственному руководителю, чтобы он создал заявку в личном кабинете link или приложении \"моя работа\" в разделе \"декрет\", \"администрирование отпуска бир\".\\n\\nДокумент 1:\\nВопрос: писать заявление, если закончился отпуск по беременности и родам?\\nОтвет: если сотрудник хочет уйти в отпуск по уходу за ребенком, ему следует написать заявление о предоставлении отпуска по уходу за ребенком и передать его непосредственному руководителю, он оформит соответствующее мероприятие.\\n\\nДокумент 2:\\nВопрос: если ежегодный отпуск совпал с отпуском по беременности и родам, что делать?\\nОтвет: в случае пересечения ежегодного отпуска с отпуском по беременности и родам, сотрудник имеет право перенести свой ежегодный отпуск на период следующего дня после окончания отпуска по беременности и родам.\\n\\nДокумент 3:\\nВопрос: как вернуть на работу до окончания отпуска по уходу за ребенком?\\nОтвет: сотруднику необходимо написать заявление на досрочный выход из отпуска по уходу за ребенком и передать его непосредственному руководителю. он оформит соответствующее мероприятие. заявление сотрудник может взять в базе знаний личного кабинета.\\n\\nДокумент 4:\\nВопрос: как внести и согласовать отпуск сотрудника после окончания планирования отпуска?\\nОтвет: сотрудники больше не могут сами планировать графики отпусков, время на выполнение их задач вышло. теперь планирование доступно только руководителю. в разделе «нуждаются в планировании отпуска» находятся сотрудники, за которых нужно запланировать график.\\n\\nДокумент 5:\\nВопрос: какие действия нужно предпринять, чтобы выйти из отпуска по беременности и родам раньше срока?\\nОтвет: выплата пособия по беременности и родам (бир) производится за счет средств сфр. пособие выплачивается единовременно в полном объеме. если вы решите выйти из отпуска по беременности и родам досрочно, то необходимо будет вернуть сумму пособия по беременности и родам за период с даты выхода на работу по дату окончания отпуска бир, так как выплата пособия по беременности и родам и заработной платы одновременно не предусмотрена законодательством. излишне выплаченные денежные средства подлежат возврату единовременным платежом и в полном объеме. для досрочного выхода из отпуска по бир создайте, пожалуйста, обратитесь к непосредственному руководителю, чтобы он создал заявку по процессу 1101 – досрочный выход из отпуска по уходу за ребенком. в заявке необходимо указать, чтобы вам вложили заявление – согласие об удержании излишне выплаченных денежных средств, сумму переплаты и реквизиты для возврата платежа.\\n\\nДокумент 6:\\nВопрос: нужно провести отпуск беременной\\nОтвет: для оформления ежегодного отпуска вне графика сотрудник обращается к бизнес - партнеру по персоналу для создания заявки в личном кабинете по теме \"отпуск вне графика (для hr)\", к заявке прикладывается справка о беременности. заявления на отпуск принимаются за 6 дней до даты его начала.\\n\\n\\n\\nОцени релевантность каждого документа к этому запросу и верни массив из 7 элементов, где каждый элемент - \\'0\\' или \\'1\\'.'}]\n",
      "MESSAGES\n",
      "[{'role': 'user', 'content': 'Ты помощник, который дает ответы в том же стиле, что и представленные примеры. Используй предоставленные вопросы и ответы как образец стиля и уровня детализации.\\n\\nПримеры вопросов и ответов:\\n\\nПример 1:\\nВопрос: что делать после получения больничного по беременности и родам\\nОтвет: пожалуйста, обратитесь к непосредственному руководителю, чтобы он создал заявку в личном кабинете link или приложении \"моя работа\" в разделе \"декрет\", \"администрирование отпуска бир\".\\n\\nПример 2:\\nВопрос: писать заявление, если закончился отпуск по беременности и родам?\\nОтвет: если сотрудник хочет уйти в отпуск по уходу за ребенком, ему следует написать заявление о предоставлении отпуска по уходу за ребенком и передать его непосредственному руководителю, он оформит соответствующее мероприятие.\\n\\nПример 3:\\nВопрос: какие действия нужно предпринять, чтобы выйти из отпуска по беременности и родам раньше срока?\\nОтвет: выплата пособия по беременности и родам (бир) производится за счет средств сфр. пособие выплачивается единовременно в полном объеме. если вы решите выйти из отпуска по беременности и родам досрочно, то необходимо будет вернуть сумму пособия по беременности и родам за период с даты выхода на работу по дату окончания отпуска бир, так как выплата пособия по беременности и родам и заработной платы одновременно не предусмотрена законодательством. излишне выплаченные денежные средства подлежат возврату единовременным платежом и в полном объеме. для досрочного выхода из отпуска по бир создайте, пожалуйста, обратитесь к непосредственному руководителю, чтобы он создал заявку по процессу 1101 – досрочный выход из отпуска по уходу за ребенком. в заявке необходимо указать, чтобы вам вложили заявление – согласие об удержании излишне выплаченных денежных средств, сумму переплаты и реквизиты для возврата платежа.\\n\\n\\n\\nЗапрос пользователя: закончился отпуск по родам что делать дальше\\n\\nОтветь на запрос пользователя в том же стиле, что и приведенные примеры.'}]\n"
     ]
    },
    {
     "data": {
      "text/html": [
       "<pre style=\"white-space:pre;overflow-x:auto;line-height:normal;font-family:Menlo,'DejaVu Sans Mono',consolas,'Courier New',monospace\">✨ You're running DeepEval's latest <span style=\"color: #6a00ff; text-decoration-color: #6a00ff\">Answer Relevancy Metric</span>! <span style=\"color: #374151; text-decoration-color: #374151; font-weight: bold\">(</span><span style=\"color: #374151; text-decoration-color: #374151\">using gpt-4o, </span><span style=\"color: #374151; text-decoration-color: #374151\">strict</span><span style=\"color: #374151; text-decoration-color: #374151\">=</span><span style=\"color: #374151; text-decoration-color: #374151; font-style: italic\">False</span><span style=\"color: #374151; text-decoration-color: #374151\">, </span><span style=\"color: #374151; text-decoration-color: #374151\">async_mode</span><span style=\"color: #374151; text-decoration-color: #374151\">=</span><span style=\"color: #374151; text-decoration-color: #374151; font-style: italic\">True</span><span style=\"color: #374151; text-decoration-color: #374151; font-weight: bold\">)</span><span style=\"color: #374151; text-decoration-color: #374151\">...</span>\n",
       "</pre>\n"
      ],
      "text/plain": [
       "✨ You're running DeepEval's latest \u001b[38;2;106;0;255mAnswer Relevancy Metric\u001b[0m! \u001b[1;38;2;55;65;81m(\u001b[0m\u001b[38;2;55;65;81musing gpt-4o, \u001b[0m\u001b[38;2;55;65;81mstrict\u001b[0m\u001b[38;2;55;65;81m=\u001b[0m\u001b[3;38;2;55;65;81mFalse\u001b[0m\u001b[38;2;55;65;81m, \u001b[0m\u001b[38;2;55;65;81masync_mode\u001b[0m\u001b[38;2;55;65;81m=\u001b[0m\u001b[3;38;2;55;65;81mTrue\u001b[0m\u001b[1;38;2;55;65;81m)\u001b[0m\u001b[38;2;55;65;81m...\u001b[0m\n"
      ]
     },
     "metadata": {},
     "output_type": "display_data"
    },
    {
     "name": "stdout",
     "output_type": "stream",
     "text": [
      "Event loop is already running. Applying nest_asyncio patch to allow async execution...\n"
     ]
    },
    {
     "name": "stderr",
     "output_type": "stream",
     "text": [
      "Evaluating 1 test case(s) in parallel: |██████████|100% (1/1) [Time Taken: 00:03,  3.46s/test case]\n"
     ]
    },
    {
     "data": {
      "text/html": [
       "<pre style=\"white-space:pre;overflow-x:auto;line-height:normal;font-family:Menlo,'DejaVu Sans Mono',consolas,'Courier New',monospace\">\n",
       "<span style=\"color: #05f58d; text-decoration-color: #05f58d\">✓</span> Tests finished 🎉! Run <span style=\"color: #008000; text-decoration-color: #008000; font-weight: bold\">'deepeval login'</span> to save and analyze evaluation results on Confident AI.\n",
       " \n",
       "✨👀 Looking for a place for your LLM test data to live 🏡❤️ ? Use <span style=\"color: #6a00ff; text-decoration-color: #6a00ff\">Confident AI</span> to get &amp; share testing reports, \n",
       "experiment with models/prompts, and catch regressions for your LLM system. Just run <span style=\"color: #008080; text-decoration-color: #008080\">'deepeval login'</span> in the CLI. \n",
       "\n",
       "</pre>\n"
      ],
      "text/plain": [
       "\n",
       "\u001b[38;2;5;245;141m✓\u001b[0m Tests finished 🎉! Run \u001b[1;32m'deepeval login'\u001b[0m to save and analyze evaluation results on Confident AI.\n",
       " \n",
       "✨👀 Looking for a place for your LLM test data to live 🏡❤️ ? Use \u001b[38;2;106;0;255mConfident AI\u001b[0m to get & share testing reports, \n",
       "experiment with models/prompts, and catch regressions for your LLM system. Just run \u001b[36m'deepeval login'\u001b[0m in the CLI. \n",
       "\n"
      ]
     },
     "metadata": {},
     "output_type": "display_data"
    },
    {
     "name": "stdout",
     "output_type": "stream",
     "text": [
      "MESSAGES\n",
      "[{'role': 'user', 'content': 'Твоя задача - определить, релевантны ли предоставленные документы запросу пользователя. Релевантым считай тот документ, в котором тема хотя бы смежно связана с запросом. Верни ровно один массив из строк \\'0\\' или \\'1\\', где \\'1\\' означает, что документ релевантен запросу, а \\'0\\' - что нерелевантен. Массив должен иметь ровно столько элементов, сколько документов в запросе.\\n\\nЗапрос: \\'получать пособие по ребенку сразу со всех организаций\\'\\n\\nДокументы:\\nДокумент 0:\\nВопрос: можно ли получать пособие по рождению ребенка сразу в нескольких организациях?\\nОтвет: если вы работаете в нескольких местах, то можете оформить пособие по беременности и родам на каждом месте работы. при расчетах будет учитываться средний заработок у каждого работодателя в течение 2 лет.\\n\\nДокумент 1:\\nВопрос: могут ли оба родителя получить единовременное пособие при рождении ребенка?\\nОтвет: право на единовременное пособие при рождении ребенка имеет один из родителей или лицо, официально его заменяющее.\\n\\nДокумент 2:\\nВопрос: как оформить пособие по рождению ребенка?\\nОтвет: если ребенок зарегистрирован в загс 11.10.2023 или после 11.10.2023, и получателем пособия является мама ребенка, создавать заявку не нужно, необходимые данные работодателю будет направлять социальный фонд россии. если ребенок зарегистрирован в загс до 11.10.2023 или получателем пособия является отец ребенка (независимо от даты регистрации), требуется создать заявку для передачи сведений в социальный фонд россии в личном кабинете link или приложении \"моя работа\" в разделе \"декрет\", тема \"выплата единовременного пособия по рождению ребенка\".\\n\\nДокумент 3:\\nВопрос: могу я как бабушка получить единовременную выплату при рождении ребенка\\nОтвет: для оформления отпуска по уходу за ребенком (внучкой/внуком) сотруднику необходимо предоставить следующие документы: 1. заявление на отпуск до 3 лет; 2. заявление на пособие до 1,5 лет; 3. копия св-ва о браке родителей; 4. копии св-ва о рождении всех детей; 5. документ, подтверждающий степень родства бабушки и внучки (св-во о рождении сына или дочери, в зависимости от того, чья мама родителей оформляет отпуск); 6. справки от родителей: 1.1 если работают: справка с места работы отца и матери ребенка - в справке прописать корректно вид пособия и вид отпуска. (пример оформления справки – «выдана_____, в том, что работает с___по настоящее время в_____. отпуск по уходу за ребенком (фио, дата рождения ребенка) не оформлял. ежемесячное пособие по уходу за ребенком до 1,5 лет не назначалось и не выплачивалось. если у ребенка возраст до 3 месяцев – дополнительно справку с места работы мамы с указанием периода нахождения в отпуске по беременности и родам. 1.2 если родители не трудоустроены: 1. копии тк 2. справка с пенсионного фонда рф о неполучении ежемесячного пособия по уходу за ребенком 3. приложение к заявлению о назначении пособия до 1,5 лет. заявку следует создать по процессу 1091 – администрирование отпуска по уходу за ребенком.\\n\\n\\n\\nОцени релевантность каждого документа к этому запросу и верни массив из 4 элементов, где каждый элемент - \\'0\\' или \\'1\\'.'}]\n",
      "MESSAGES\n",
      "[{'role': 'user', 'content': 'Ты помощник, который дает ответы в том же стиле, что и представленные примеры. Используй предоставленные вопросы и ответы как образец стиля и уровня детализации.\\n\\nПримеры вопросов и ответов:\\n\\nПример 1:\\nВопрос: можно ли получать пособие по рождению ребенка сразу в нескольких организациях?\\nОтвет: если вы работаете в нескольких местах, то можете оформить пособие по беременности и родам на каждом месте работы. при расчетах будет учитываться средний заработок у каждого работодателя в течение 2 лет.\\n\\nПример 2:\\nВопрос: как оформить пособие по рождению ребенка?\\nОтвет: если ребенок зарегистрирован в загс 11.10.2023 или после 11.10.2023, и получателем пособия является мама ребенка, создавать заявку не нужно, необходимые данные работодателю будет направлять социальный фонд россии. если ребенок зарегистрирован в загс до 11.10.2023 или получателем пособия является отец ребенка (независимо от даты регистрации), требуется создать заявку для передачи сведений в социальный фонд россии в личном кабинете link или приложении \"моя работа\" в разделе \"декрет\", тема \"выплата единовременного пособия по рождению ребенка\".\\n\\nПример 3:\\nВопрос: могу я как бабушка получить единовременную выплату при рождении ребенка\\nОтвет: для оформления отпуска по уходу за ребенком (внучкой/внуком) сотруднику необходимо предоставить следующие документы: 1. заявление на отпуск до 3 лет; 2. заявление на пособие до 1,5 лет; 3. копия св-ва о браке родителей; 4. копии св-ва о рождении всех детей; 5. документ, подтверждающий степень родства бабушки и внучки (св-во о рождении сына или дочери, в зависимости от того, чья мама родителей оформляет отпуск); 6. справки от родителей: 1.1 если работают: справка с места работы отца и матери ребенка - в справке прописать корректно вид пособия и вид отпуска. (пример оформления справки – «выдана_____, в том, что работает с___по настоящее время в_____. отпуск по уходу за ребенком (фио, дата рождения ребенка) не оформлял. ежемесячное пособие по уходу за ребенком до 1,5 лет не назначалось и не выплачивалось. если у ребенка возраст до 3 месяцев – дополнительно справку с места работы мамы с указанием периода нахождения в отпуске по беременности и родам. 1.2 если родители не трудоустроены: 1. копии тк 2. справка с пенсионного фонда рф о неполучении ежемесячного пособия по уходу за ребенком 3. приложение к заявлению о назначении пособия до 1,5 лет. заявку следует создать по процессу 1091 – администрирование отпуска по уходу за ребенком.\\n\\n\\n\\nЗапрос пользователя: получать пособие по ребенку сразу со всех организаций\\n\\nОтветь на запрос пользователя в том же стиле, что и приведенные примеры.'}]\n"
     ]
    },
    {
     "data": {
      "text/html": [
       "<pre style=\"white-space:pre;overflow-x:auto;line-height:normal;font-family:Menlo,'DejaVu Sans Mono',consolas,'Courier New',monospace\">✨ You're running DeepEval's latest <span style=\"color: #6a00ff; text-decoration-color: #6a00ff\">Answer Relevancy Metric</span>! <span style=\"color: #374151; text-decoration-color: #374151; font-weight: bold\">(</span><span style=\"color: #374151; text-decoration-color: #374151\">using gpt-4o, </span><span style=\"color: #374151; text-decoration-color: #374151\">strict</span><span style=\"color: #374151; text-decoration-color: #374151\">=</span><span style=\"color: #374151; text-decoration-color: #374151; font-style: italic\">False</span><span style=\"color: #374151; text-decoration-color: #374151\">, </span><span style=\"color: #374151; text-decoration-color: #374151\">async_mode</span><span style=\"color: #374151; text-decoration-color: #374151\">=</span><span style=\"color: #374151; text-decoration-color: #374151; font-style: italic\">True</span><span style=\"color: #374151; text-decoration-color: #374151; font-weight: bold\">)</span><span style=\"color: #374151; text-decoration-color: #374151\">...</span>\n",
       "</pre>\n"
      ],
      "text/plain": [
       "✨ You're running DeepEval's latest \u001b[38;2;106;0;255mAnswer Relevancy Metric\u001b[0m! \u001b[1;38;2;55;65;81m(\u001b[0m\u001b[38;2;55;65;81musing gpt-4o, \u001b[0m\u001b[38;2;55;65;81mstrict\u001b[0m\u001b[38;2;55;65;81m=\u001b[0m\u001b[3;38;2;55;65;81mFalse\u001b[0m\u001b[38;2;55;65;81m, \u001b[0m\u001b[38;2;55;65;81masync_mode\u001b[0m\u001b[38;2;55;65;81m=\u001b[0m\u001b[3;38;2;55;65;81mTrue\u001b[0m\u001b[1;38;2;55;65;81m)\u001b[0m\u001b[38;2;55;65;81m...\u001b[0m\n"
      ]
     },
     "metadata": {},
     "output_type": "display_data"
    },
    {
     "name": "stdout",
     "output_type": "stream",
     "text": [
      "Event loop is already running. Applying nest_asyncio patch to allow async execution...\n"
     ]
    },
    {
     "name": "stderr",
     "output_type": "stream",
     "text": [
      "Evaluating 1 test case(s) in parallel: |██████████|100% (1/1) [Time Taken: 00:05,  5.88s/test case]\n"
     ]
    },
    {
     "data": {
      "text/html": [
       "<pre style=\"white-space:pre;overflow-x:auto;line-height:normal;font-family:Menlo,'DejaVu Sans Mono',consolas,'Courier New',monospace\">\n",
       "<span style=\"color: #05f58d; text-decoration-color: #05f58d\">✓</span> Tests finished 🎉! Run <span style=\"color: #008000; text-decoration-color: #008000; font-weight: bold\">'deepeval login'</span> to save and analyze evaluation results on Confident AI.\n",
       " \n",
       "✨👀 Looking for a place for your LLM test data to live 🏡❤️ ? Use <span style=\"color: #6a00ff; text-decoration-color: #6a00ff\">Confident AI</span> to get &amp; share testing reports, \n",
       "experiment with models/prompts, and catch regressions for your LLM system. Just run <span style=\"color: #008080; text-decoration-color: #008080\">'deepeval login'</span> in the CLI. \n",
       "\n",
       "</pre>\n"
      ],
      "text/plain": [
       "\n",
       "\u001b[38;2;5;245;141m✓\u001b[0m Tests finished 🎉! Run \u001b[1;32m'deepeval login'\u001b[0m to save and analyze evaluation results on Confident AI.\n",
       " \n",
       "✨👀 Looking for a place for your LLM test data to live 🏡❤️ ? Use \u001b[38;2;106;0;255mConfident AI\u001b[0m to get & share testing reports, \n",
       "experiment with models/prompts, and catch regressions for your LLM system. Just run \u001b[36m'deepeval login'\u001b[0m in the CLI. \n",
       "\n"
      ]
     },
     "metadata": {},
     "output_type": "display_data"
    },
    {
     "name": "stdout",
     "output_type": "stream",
     "text": [
      "MESSAGES\n",
      "[{'role': 'user', 'content': 'Твоя задача - определить, релевантны ли предоставленные документы запросу пользователя. Релевантым считай тот документ, в котором тема хотя бы смежно связана с запросом. Верни ровно один массив из строк \\'0\\' или \\'1\\', где \\'1\\' означает, что документ релевантен запросу, а \\'0\\' - что нерелевантен. Массив должен иметь ровно столько элементов, сколько документов в запросе.\\n\\nЗапрос: \\'работать и получать пособие\\'\\n\\nДокументы:\\nДокумент 0:\\nВопрос: родила ребенка, как оформить пособие?\\nОтвет: если ребенок зарегистрирован в загс 11.10.2023 или после 11.10.2023, и получателем пособия является мама ребенка, создавать заявку не нужно, необходимые данные работодателю будет направлять социальный фонд россии. если ребенок зарегистрирован в загс до 11.10.2023 или получателем пособия является отец ребенка (независимо от даты регистрации), требуется создать заявку для передачи сведений в социальный фонд россии в личном кабинете link или приложении \"моя работа\" в разделе \"декрет\", тема \"выплата единовременного пособия по рождению ребенка\".\\n\\nДокумент 1:\\nВопрос: могу я продолжить работать в период больничного по беременности и родам и получать пособие\\nОтвет: вы можете продолжить работу во время больничного по беременности и родам, при этом вам будет выплачиваться заработная плата. пособие по беременности и родам будет рассчитано с фактической даты ухода в отпуск по беременности и родам (соответственно, будет оплачено меньшее кол-во дней бира).\\n\\nДокумент 2:\\nВопрос: могу я продолжить работать в период больничного по беременности и родам и получать пособие?\\nОтвет: сотрудник может продолжить работу во время больничного по беременности и родам, при этом ему будет выплачиваться заработная плата. пособие по беременности и родам будет рассчитано с фактической даты ухода в отпуск по беременности и родам (соответственно, будет оплачено меньшее кол-во дней бира).\\n\\nДокумент 3:\\nВопрос: могу я получать пособие сразу в нескольких организациях?\\nОтвет: если вы работаете в нескольких местах, то можете оформить пособие по беременности и родам на каждом месте работы. при расчетах будет учитываться средний заработок у каждого работодателя в течение 2 лет.\\n\\nДокумент 4:\\nВопрос: неправильный расчет пособия\\nОтвет: создайте заявку по теме «больничный», подтема \"перерасчет пособий\". к заявке приложите документ - основание для перерасчета.\\n\\nДокумент 5:\\nВопрос: тяжелая болезнь получить материальную помощь\\nОтвет: для оформления материальной помощи, пожалуйста, создайте заявку \" в разделе \"льготы, выплаты, материальная помощь\", выбрав тему \"материальная помощь\". инструкция размещена в \"базе знаний \" личного кабинета.\\n\\n\\n\\nОцени релевантность каждого документа к этому запросу и верни массив из 6 элементов, где каждый элемент - \\'0\\' или \\'1\\'.'}]\n",
      "MESSAGES\n",
      "[{'role': 'user', 'content': 'Ты помощник, который дает ответы в том же стиле, что и представленные примеры. Используй предоставленные вопросы и ответы как образец стиля и уровня детализации.\\n\\nПримеры вопросов и ответов:\\n\\nПример 1:\\nВопрос: родила ребенка, как оформить пособие?\\nОтвет: если ребенок зарегистрирован в загс 11.10.2023 или после 11.10.2023, и получателем пособия является мама ребенка, создавать заявку не нужно, необходимые данные работодателю будет направлять социальный фонд россии. если ребенок зарегистрирован в загс до 11.10.2023 или получателем пособия является отец ребенка (независимо от даты регистрации), требуется создать заявку для передачи сведений в социальный фонд россии в личном кабинете link или приложении \"моя работа\" в разделе \"декрет\", тема \"выплата единовременного пособия по рождению ребенка\".\\n\\nПример 2:\\nВопрос: могу я продолжить работать в период больничного по беременности и родам и получать пособие\\nОтвет: вы можете продолжить работу во время больничного по беременности и родам, при этом вам будет выплачиваться заработная плата. пособие по беременности и родам будет рассчитано с фактической даты ухода в отпуск по беременности и родам (соответственно, будет оплачено меньшее кол-во дней бира).\\n\\nПример 3:\\nВопрос: могу я продолжить работать в период больничного по беременности и родам и получать пособие?\\nОтвет: сотрудник может продолжить работу во время больничного по беременности и родам, при этом ему будет выплачиваться заработная плата. пособие по беременности и родам будет рассчитано с фактической даты ухода в отпуск по беременности и родам (соответственно, будет оплачено меньшее кол-во дней бира).\\n\\nПример 4:\\nВопрос: могу я получать пособие сразу в нескольких организациях?\\nОтвет: если вы работаете в нескольких местах, то можете оформить пособие по беременности и родам на каждом месте работы. при расчетах будет учитываться средний заработок у каждого работодателя в течение 2 лет.\\n\\n\\n\\nЗапрос пользователя: работать и получать пособие\\n\\nОтветь на запрос пользователя в том же стиле, что и приведенные примеры.'}]\n"
     ]
    },
    {
     "data": {
      "text/html": [
       "<pre style=\"white-space:pre;overflow-x:auto;line-height:normal;font-family:Menlo,'DejaVu Sans Mono',consolas,'Courier New',monospace\">✨ You're running DeepEval's latest <span style=\"color: #6a00ff; text-decoration-color: #6a00ff\">Answer Relevancy Metric</span>! <span style=\"color: #374151; text-decoration-color: #374151; font-weight: bold\">(</span><span style=\"color: #374151; text-decoration-color: #374151\">using gpt-4o, </span><span style=\"color: #374151; text-decoration-color: #374151\">strict</span><span style=\"color: #374151; text-decoration-color: #374151\">=</span><span style=\"color: #374151; text-decoration-color: #374151; font-style: italic\">False</span><span style=\"color: #374151; text-decoration-color: #374151\">, </span><span style=\"color: #374151; text-decoration-color: #374151\">async_mode</span><span style=\"color: #374151; text-decoration-color: #374151\">=</span><span style=\"color: #374151; text-decoration-color: #374151; font-style: italic\">True</span><span style=\"color: #374151; text-decoration-color: #374151; font-weight: bold\">)</span><span style=\"color: #374151; text-decoration-color: #374151\">...</span>\n",
       "</pre>\n"
      ],
      "text/plain": [
       "✨ You're running DeepEval's latest \u001b[38;2;106;0;255mAnswer Relevancy Metric\u001b[0m! \u001b[1;38;2;55;65;81m(\u001b[0m\u001b[38;2;55;65;81musing gpt-4o, \u001b[0m\u001b[38;2;55;65;81mstrict\u001b[0m\u001b[38;2;55;65;81m=\u001b[0m\u001b[3;38;2;55;65;81mFalse\u001b[0m\u001b[38;2;55;65;81m, \u001b[0m\u001b[38;2;55;65;81masync_mode\u001b[0m\u001b[38;2;55;65;81m=\u001b[0m\u001b[3;38;2;55;65;81mTrue\u001b[0m\u001b[1;38;2;55;65;81m)\u001b[0m\u001b[38;2;55;65;81m...\u001b[0m\n"
      ]
     },
     "metadata": {},
     "output_type": "display_data"
    },
    {
     "name": "stdout",
     "output_type": "stream",
     "text": [
      "Event loop is already running. Applying nest_asyncio patch to allow async execution...\n"
     ]
    },
    {
     "name": "stderr",
     "output_type": "stream",
     "text": [
      "Evaluating 1 test case(s) in parallel: |██████████|100% (1/1) [Time Taken: 00:04,  4.54s/test case]\n"
     ]
    },
    {
     "data": {
      "text/html": [
       "<pre style=\"white-space:pre;overflow-x:auto;line-height:normal;font-family:Menlo,'DejaVu Sans Mono',consolas,'Courier New',monospace\">\n",
       "<span style=\"color: #05f58d; text-decoration-color: #05f58d\">✓</span> Tests finished 🎉! Run <span style=\"color: #008000; text-decoration-color: #008000; font-weight: bold\">'deepeval login'</span> to save and analyze evaluation results on Confident AI.\n",
       " \n",
       "✨👀 Looking for a place for your LLM test data to live 🏡❤️ ? Use <span style=\"color: #6a00ff; text-decoration-color: #6a00ff\">Confident AI</span> to get &amp; share testing reports, \n",
       "experiment with models/prompts, and catch regressions for your LLM system. Just run <span style=\"color: #008080; text-decoration-color: #008080\">'deepeval login'</span> in the CLI. \n",
       "\n",
       "</pre>\n"
      ],
      "text/plain": [
       "\n",
       "\u001b[38;2;5;245;141m✓\u001b[0m Tests finished 🎉! Run \u001b[1;32m'deepeval login'\u001b[0m to save and analyze evaluation results on Confident AI.\n",
       " \n",
       "✨👀 Looking for a place for your LLM test data to live 🏡❤️ ? Use \u001b[38;2;106;0;255mConfident AI\u001b[0m to get & share testing reports, \n",
       "experiment with models/prompts, and catch regressions for your LLM system. Just run \u001b[36m'deepeval login'\u001b[0m in the CLI. \n",
       "\n"
      ]
     },
     "metadata": {},
     "output_type": "display_data"
    },
    {
     "name": "stdout",
     "output_type": "stream",
     "text": [
      "MESSAGES\n",
      "[{'role': 'user', 'content': 'Твоя задача - определить, релевантны ли предоставленные документы запросу пользователя. Релевантым считай тот документ, в котором тема хотя бы смежно связана с запросом. Верни ровно один массив из строк \\'0\\' или \\'1\\', где \\'1\\' означает, что документ релевантен запросу, а \\'0\\' - что нерелевантен. Массив должен иметь ровно столько элементов, сколько документов в запросе.\\n\\nЗапрос: \\'мало денег по уходу за ребенком расчитывали сумму\\'\\n\\nДокументы:\\nДокумент 0:\\nВопрос: не устраивает расчет отпуска по уходу за ребенком\\nОтвет: с данным вопросом сотруднику необходимо обратиться в сфр по номеру телефона 8 (800) 100-00-01. если требуется сделать перерасчет в связи с заменой лет по заявлению, сотрудник должен создать заявку в личном кабинете по теме \"больничный\", \"перерасчет пособий\".\\n\\nДокумент 1:\\nВопрос: неправильный расчет пособия\\nОтвет: создайте заявку по теме «больничный», подтема \"перерасчет пособий\". к заявке приложите документ - основание для перерасчета.\\n\\nДокумент 2:\\nВопрос: оплата больничного листа за уход за ребенком\\nОтвет: больничный с кодом 09 (уход за больным членом семьи) оплачивается полностью за счет средств сфр, работодатель в данном случае выплату не производит.\\n\\nДокумент 3:\\nВопрос: нужно рассчитать сколько получу за отпуск\\nОтвет: расчет отпускных производится по среднему заработку за последние 12 месяцев, предшествующих началу отпуска. отпускные = среднедневной заработок х продолжительность отпуска в календарных днях\\n\\nДокумент 4:\\nВопрос: какая сумма вычета на детей?\\nОтвет: дети — инвалиды до 18 лет -12000 рублей для родителей. дети — инвалиды до 18 лет -6000 для опекунов и попечителей. на первого ребенка 1400 руб./месяц. на второго ребенка 1400 руб./месяц (суммируется =2800). на третьего и последующего ребенка 3000 руб./месяц (суммируется =5800).\\n\\nДокумент 5:\\nВопрос: пересчитайте лимиты для планирования отпуска\\nОтвет: лимиты в личном кабинете отображаются на основании данных в кадровой системе. в процессе планирования, программа считает дни исходя из имеющихся лимитов и может предоставить дни отпуска авансом. на календарный год программа предоставляет лимит 28 дней. период, за который накапливаются лимиты в количестве 28 дней, у каждого сотрудника индивидуальный и считается со дня приема в компанию. за каждый последующий отработанный месяц предоставляется 2.33 дня отпуска. специалистам hr следует проверить данные в 2001ит и в 2006ит, а именно сколько дней было запланировано и использовано в текущем году, есть ли неистраченные лимиты, есть ли продленный лимит на будущее. проверить количество запланированных дней и доступных остатков. посмотреть расчет отпускных дней отпуска на отчетную дату или на конец года можно через транзакцию zhrpa036. так же по существующему алгоритму при планировании отпусков в личном кабинете установлено правило - нельзя планировать более половины всех накопленных дней отпуска в первое полугодие до конца июня. у сотрудника прописано в личном кабинете, что нельзя планировать более 15 дней в первое полугодие.\\n\\n\\n\\nОцени релевантность каждого документа к этому запросу и верни массив из 6 элементов, где каждый элемент - \\'0\\' или \\'1\\'.'}]\n",
      "MESSAGES\n",
      "[{'role': 'user', 'content': 'Ты помощник, который дает ответы в том же стиле, что и представленные примеры. Используй предоставленные вопросы и ответы как образец стиля и уровня детализации.\\n\\nПримеры вопросов и ответов:\\n\\nПример 1:\\nВопрос: неправильный расчет пособия\\nОтвет: создайте заявку по теме «больничный», подтема \"перерасчет пособий\". к заявке приложите документ - основание для перерасчета.\\n\\nПример 2:\\nВопрос: оплата больничного листа за уход за ребенком\\nОтвет: больничный с кодом 09 (уход за больным членом семьи) оплачивается полностью за счет средств сфр, работодатель в данном случае выплату не производит.\\n\\nПример 3:\\nВопрос: какая сумма вычета на детей?\\nОтвет: дети — инвалиды до 18 лет -12000 рублей для родителей. дети — инвалиды до 18 лет -6000 для опекунов и попечителей. на первого ребенка 1400 руб./месяц. на второго ребенка 1400 руб./месяц (суммируется =2800). на третьего и последующего ребенка 3000 руб./месяц (суммируется =5800).\\n\\n\\n\\nЗапрос пользователя: мало денег по уходу за ребенком расчитывали сумму\\n\\nОтветь на запрос пользователя в том же стиле, что и приведенные примеры.'}]\n"
     ]
    },
    {
     "data": {
      "text/html": [
       "<pre style=\"white-space:pre;overflow-x:auto;line-height:normal;font-family:Menlo,'DejaVu Sans Mono',consolas,'Courier New',monospace\">✨ You're running DeepEval's latest <span style=\"color: #6a00ff; text-decoration-color: #6a00ff\">Answer Relevancy Metric</span>! <span style=\"color: #374151; text-decoration-color: #374151; font-weight: bold\">(</span><span style=\"color: #374151; text-decoration-color: #374151\">using gpt-4o, </span><span style=\"color: #374151; text-decoration-color: #374151\">strict</span><span style=\"color: #374151; text-decoration-color: #374151\">=</span><span style=\"color: #374151; text-decoration-color: #374151; font-style: italic\">False</span><span style=\"color: #374151; text-decoration-color: #374151\">, </span><span style=\"color: #374151; text-decoration-color: #374151\">async_mode</span><span style=\"color: #374151; text-decoration-color: #374151\">=</span><span style=\"color: #374151; text-decoration-color: #374151; font-style: italic\">True</span><span style=\"color: #374151; text-decoration-color: #374151; font-weight: bold\">)</span><span style=\"color: #374151; text-decoration-color: #374151\">...</span>\n",
       "</pre>\n"
      ],
      "text/plain": [
       "✨ You're running DeepEval's latest \u001b[38;2;106;0;255mAnswer Relevancy Metric\u001b[0m! \u001b[1;38;2;55;65;81m(\u001b[0m\u001b[38;2;55;65;81musing gpt-4o, \u001b[0m\u001b[38;2;55;65;81mstrict\u001b[0m\u001b[38;2;55;65;81m=\u001b[0m\u001b[3;38;2;55;65;81mFalse\u001b[0m\u001b[38;2;55;65;81m, \u001b[0m\u001b[38;2;55;65;81masync_mode\u001b[0m\u001b[38;2;55;65;81m=\u001b[0m\u001b[3;38;2;55;65;81mTrue\u001b[0m\u001b[1;38;2;55;65;81m)\u001b[0m\u001b[38;2;55;65;81m...\u001b[0m\n"
      ]
     },
     "metadata": {},
     "output_type": "display_data"
    },
    {
     "name": "stdout",
     "output_type": "stream",
     "text": [
      "Event loop is already running. Applying nest_asyncio patch to allow async execution...\n"
     ]
    },
    {
     "name": "stderr",
     "output_type": "stream",
     "text": [
      "Evaluating 1 test case(s) in parallel: |██████████|100% (1/1) [Time Taken: 00:04,  4.69s/test case]\n"
     ]
    },
    {
     "data": {
      "text/html": [
       "<pre style=\"white-space:pre;overflow-x:auto;line-height:normal;font-family:Menlo,'DejaVu Sans Mono',consolas,'Courier New',monospace\">\n",
       "<span style=\"color: #05f58d; text-decoration-color: #05f58d\">✓</span> Tests finished 🎉! Run <span style=\"color: #008000; text-decoration-color: #008000; font-weight: bold\">'deepeval login'</span> to save and analyze evaluation results on Confident AI.\n",
       " \n",
       "✨👀 Looking for a place for your LLM test data to live 🏡❤️ ? Use <span style=\"color: #6a00ff; text-decoration-color: #6a00ff\">Confident AI</span> to get &amp; share testing reports, \n",
       "experiment with models/prompts, and catch regressions for your LLM system. Just run <span style=\"color: #008080; text-decoration-color: #008080\">'deepeval login'</span> in the CLI. \n",
       "\n",
       "</pre>\n"
      ],
      "text/plain": [
       "\n",
       "\u001b[38;2;5;245;141m✓\u001b[0m Tests finished 🎉! Run \u001b[1;32m'deepeval login'\u001b[0m to save and analyze evaluation results on Confident AI.\n",
       " \n",
       "✨👀 Looking for a place for your LLM test data to live 🏡❤️ ? Use \u001b[38;2;106;0;255mConfident AI\u001b[0m to get & share testing reports, \n",
       "experiment with models/prompts, and catch regressions for your LLM system. Just run \u001b[36m'deepeval login'\u001b[0m in the CLI. \n",
       "\n"
      ]
     },
     "metadata": {},
     "output_type": "display_data"
    },
    {
     "name": "stdout",
     "output_type": "stream",
     "text": [
      "MESSAGES\n",
      "[{'role': 'user', 'content': 'Твоя задача - определить, релевантны ли предоставленные документы запросу пользователя. Релевантым считай тот документ, в котором тема хотя бы смежно связана с запросом. Верни ровно один массив из строк \\'0\\' или \\'1\\', где \\'1\\' означает, что документ релевантен запросу, а \\'0\\' - что нерелевантен. Массив должен иметь ровно столько элементов, сколько документов в запросе.\\n\\nЗапрос: \\'перевестить находясь в декретном отпуске\\'\\n\\nДокументы:\\nДокумент 0:\\nВопрос: перевестись во время отпуска беременность и роды\\nОтвет: перевод возможен после окончания отпуска по беременности и родам.\\n\\nДокумент 1:\\nВопрос: хочу перевестись\\nОтвет: для проведения перевода, пожалуйста, создайте заявку в разделе \"создать заявку на сотрудника\", выберите блок \"изменения по сотрудникам\", подтему \"перевод перемещение. подробная информация по созданию заявки размещена в \"базе знаний \".\\n\\nДокумент 2:\\nВопрос: нужно перенести отпуск без содержания\\nОтвет: пожалуйста, обратитесь к непосредственному руководителю для коммуникации с бизнес-партнером по персоналу вашего подразделения, чтобы он создал заявку на вас в личном кабинете по теме «отзыв из отпуска»\\n\\n\\n\\nОцени релевантность каждого документа к этому запросу и верни массив из 3 элементов, где каждый элемент - \\'0\\' или \\'1\\'.'}]\n",
      "MESSAGES\n",
      "[{'role': 'user', 'content': 'Ты помощник, который дает ответы в том же стиле, что и представленные примеры. Используй предоставленные вопросы и ответы как образец стиля и уровня детализации.\\n\\nПримеры вопросов и ответов:\\n\\nПример 1:\\nВопрос: перевестись во время отпуска беременность и роды\\nОтвет: перевод возможен после окончания отпуска по беременности и родам.\\n\\n\\n\\nЗапрос пользователя: перевестить находясь в декретном отпуске\\n\\nОтветь на запрос пользователя в том же стиле, что и приведенные примеры.'}]\n"
     ]
    },
    {
     "data": {
      "text/html": [
       "<pre style=\"white-space:pre;overflow-x:auto;line-height:normal;font-family:Menlo,'DejaVu Sans Mono',consolas,'Courier New',monospace\">✨ You're running DeepEval's latest <span style=\"color: #6a00ff; text-decoration-color: #6a00ff\">Answer Relevancy Metric</span>! <span style=\"color: #374151; text-decoration-color: #374151; font-weight: bold\">(</span><span style=\"color: #374151; text-decoration-color: #374151\">using gpt-4o, </span><span style=\"color: #374151; text-decoration-color: #374151\">strict</span><span style=\"color: #374151; text-decoration-color: #374151\">=</span><span style=\"color: #374151; text-decoration-color: #374151; font-style: italic\">False</span><span style=\"color: #374151; text-decoration-color: #374151\">, </span><span style=\"color: #374151; text-decoration-color: #374151\">async_mode</span><span style=\"color: #374151; text-decoration-color: #374151\">=</span><span style=\"color: #374151; text-decoration-color: #374151; font-style: italic\">True</span><span style=\"color: #374151; text-decoration-color: #374151; font-weight: bold\">)</span><span style=\"color: #374151; text-decoration-color: #374151\">...</span>\n",
       "</pre>\n"
      ],
      "text/plain": [
       "✨ You're running DeepEval's latest \u001b[38;2;106;0;255mAnswer Relevancy Metric\u001b[0m! \u001b[1;38;2;55;65;81m(\u001b[0m\u001b[38;2;55;65;81musing gpt-4o, \u001b[0m\u001b[38;2;55;65;81mstrict\u001b[0m\u001b[38;2;55;65;81m=\u001b[0m\u001b[3;38;2;55;65;81mFalse\u001b[0m\u001b[38;2;55;65;81m, \u001b[0m\u001b[38;2;55;65;81masync_mode\u001b[0m\u001b[38;2;55;65;81m=\u001b[0m\u001b[3;38;2;55;65;81mTrue\u001b[0m\u001b[1;38;2;55;65;81m)\u001b[0m\u001b[38;2;55;65;81m...\u001b[0m\n"
      ]
     },
     "metadata": {},
     "output_type": "display_data"
    },
    {
     "name": "stdout",
     "output_type": "stream",
     "text": [
      "Event loop is already running. Applying nest_asyncio patch to allow async execution...\n"
     ]
    },
    {
     "name": "stderr",
     "output_type": "stream",
     "text": [
      "Evaluating 1 test case(s) in parallel: |██████████|100% (1/1) [Time Taken: 00:05,  5.96s/test case]\n"
     ]
    },
    {
     "data": {
      "text/html": [
       "<pre style=\"white-space:pre;overflow-x:auto;line-height:normal;font-family:Menlo,'DejaVu Sans Mono',consolas,'Courier New',monospace\">\n",
       "<span style=\"color: #05f58d; text-decoration-color: #05f58d\">✓</span> Tests finished 🎉! Run <span style=\"color: #008000; text-decoration-color: #008000; font-weight: bold\">'deepeval login'</span> to save and analyze evaluation results on Confident AI.\n",
       " \n",
       "✨👀 Looking for a place for your LLM test data to live 🏡❤️ ? Use <span style=\"color: #6a00ff; text-decoration-color: #6a00ff\">Confident AI</span> to get &amp; share testing reports, \n",
       "experiment with models/prompts, and catch regressions for your LLM system. Just run <span style=\"color: #008080; text-decoration-color: #008080\">'deepeval login'</span> in the CLI. \n",
       "\n",
       "</pre>\n"
      ],
      "text/plain": [
       "\n",
       "\u001b[38;2;5;245;141m✓\u001b[0m Tests finished 🎉! Run \u001b[1;32m'deepeval login'\u001b[0m to save and analyze evaluation results on Confident AI.\n",
       " \n",
       "✨👀 Looking for a place for your LLM test data to live 🏡❤️ ? Use \u001b[38;2;106;0;255mConfident AI\u001b[0m to get & share testing reports, \n",
       "experiment with models/prompts, and catch regressions for your LLM system. Just run \u001b[36m'deepeval login'\u001b[0m in the CLI. \n",
       "\n"
      ]
     },
     "metadata": {},
     "output_type": "display_data"
    },
    {
     "name": "stdout",
     "output_type": "stream",
     "text": [
      "MESSAGES\n",
      "[{'role': 'user', 'content': 'Твоя задача - определить, релевантны ли предоставленные документы запросу пользователя. Релевантым считай тот документ, в котором тема хотя бы смежно связана с запросом. Верни ровно один массив из строк \\'0\\' или \\'1\\', где \\'1\\' означает, что документ релевантен запросу, а \\'0\\' - что нерелевантен. Массив должен иметь ровно столько элементов, сколько документов в запросе.\\n\\nЗапрос: \\'почему не показывается премия за май\\'\\n\\nДокументы:\\nДокумент 0:\\nВопрос: в личном кабинете не отображается премия за март\\nОтвет: создайте заявку на консультацию по з/п и кадровым вопросам\\n\\nДокумент 1:\\nВопрос: не отражается премия за апрель 2024 года\\nОтвет: по данному вопросу вы можете обратиться в кадровую службу, создав заявку \"консультация по hr вопросам\"\\n\\nДокумент 2:\\nВопрос: не отображается вкладка премия в личный кабинет. в консультации написали, что личный кабинет не передан на обслуживание в сервисную функцию hr поддержку x5\\nОтвет: создайте, пожалуйста, обращение в ит поддержку на портале support\\n\\nДокумент 3:\\nВопрос: нет выплаты по авансовому отчету за командировку\\nОтвет: вам необходимо обратиться к бухгалтеру подотчетных средств, напишите данный вопрос на общий ящик авансовые отчеты ( mail ) с указанием номера заявки.\\n\\nДокумент 4:\\nВопрос: не получаю надбавку\\nОтвет: доступ к программе \"карьера\" появляется спустя 4 месяца после трудоутстройства в компанию. если по прошествии 4х месяцев раздел по-прежнему недоступен, обратитесь в поддержку\\n\\nДокумент 5:\\nВопрос: почему нет выплаты от работодателя по больничному листу по уходу за больным членом семьи?\\nОтвет: больничный с кодом 09 (уход за больным членом семьи) оплачивается полностью за счет средств сфр, работодатель в данном случае выплату не производит.\\n\\nДокумент 6:\\nВопрос: при увольнении 16 мая, я должна получить премию за апрель?\\nОтвет: премия и надбавка не начисляется, если на момент расчета премии за отчетный период трудовой договор работника прекращен\\n\\n\\n\\nОцени релевантность каждого документа к этому запросу и верни массив из 7 элементов, где каждый элемент - \\'0\\' или \\'1\\'.'}]\n",
      "MESSAGES\n",
      "[{'role': 'user', 'content': 'Ты помощник, который дает ответы в том же стиле, что и представленные примеры. Используй предоставленные вопросы и ответы как образец стиля и уровня детализации.\\n\\nПримеры вопросов и ответов:\\n\\nПример 1:\\nВопрос: не отражается премия за апрель 2024 года\\nОтвет: по данному вопросу вы можете обратиться в кадровую службу, создав заявку \"консультация по hr вопросам\"\\n\\nПример 2:\\nВопрос: не отображается вкладка премия в личный кабинет. в консультации написали, что личный кабинет не передан на обслуживание в сервисную функцию hr поддержку x5\\nОтвет: создайте, пожалуйста, обращение в ит поддержку на портале support\\n\\n\\n\\nЗапрос пользователя: почему не показывается премия за май\\n\\nОтветь на запрос пользователя в том же стиле, что и приведенные примеры.'}]\n"
     ]
    },
    {
     "data": {
      "text/html": [
       "<pre style=\"white-space:pre;overflow-x:auto;line-height:normal;font-family:Menlo,'DejaVu Sans Mono',consolas,'Courier New',monospace\">✨ You're running DeepEval's latest <span style=\"color: #6a00ff; text-decoration-color: #6a00ff\">Answer Relevancy Metric</span>! <span style=\"color: #374151; text-decoration-color: #374151; font-weight: bold\">(</span><span style=\"color: #374151; text-decoration-color: #374151\">using gpt-4o, </span><span style=\"color: #374151; text-decoration-color: #374151\">strict</span><span style=\"color: #374151; text-decoration-color: #374151\">=</span><span style=\"color: #374151; text-decoration-color: #374151; font-style: italic\">False</span><span style=\"color: #374151; text-decoration-color: #374151\">, </span><span style=\"color: #374151; text-decoration-color: #374151\">async_mode</span><span style=\"color: #374151; text-decoration-color: #374151\">=</span><span style=\"color: #374151; text-decoration-color: #374151; font-style: italic\">True</span><span style=\"color: #374151; text-decoration-color: #374151; font-weight: bold\">)</span><span style=\"color: #374151; text-decoration-color: #374151\">...</span>\n",
       "</pre>\n"
      ],
      "text/plain": [
       "✨ You're running DeepEval's latest \u001b[38;2;106;0;255mAnswer Relevancy Metric\u001b[0m! \u001b[1;38;2;55;65;81m(\u001b[0m\u001b[38;2;55;65;81musing gpt-4o, \u001b[0m\u001b[38;2;55;65;81mstrict\u001b[0m\u001b[38;2;55;65;81m=\u001b[0m\u001b[3;38;2;55;65;81mFalse\u001b[0m\u001b[38;2;55;65;81m, \u001b[0m\u001b[38;2;55;65;81masync_mode\u001b[0m\u001b[38;2;55;65;81m=\u001b[0m\u001b[3;38;2;55;65;81mTrue\u001b[0m\u001b[1;38;2;55;65;81m)\u001b[0m\u001b[38;2;55;65;81m...\u001b[0m\n"
      ]
     },
     "metadata": {},
     "output_type": "display_data"
    },
    {
     "name": "stdout",
     "output_type": "stream",
     "text": [
      "Event loop is already running. Applying nest_asyncio patch to allow async execution...\n"
     ]
    },
    {
     "name": "stderr",
     "output_type": "stream",
     "text": [
      "Evaluating 1 test case(s) in parallel: |██████████|100% (1/1) [Time Taken: 00:03,  3.50s/test case]\n"
     ]
    },
    {
     "data": {
      "text/html": [
       "<pre style=\"white-space:pre;overflow-x:auto;line-height:normal;font-family:Menlo,'DejaVu Sans Mono',consolas,'Courier New',monospace\">\n",
       "<span style=\"color: #05f58d; text-decoration-color: #05f58d\">✓</span> Tests finished 🎉! Run <span style=\"color: #008000; text-decoration-color: #008000; font-weight: bold\">'deepeval login'</span> to save and analyze evaluation results on Confident AI.\n",
       " \n",
       "✨👀 Looking for a place for your LLM test data to live 🏡❤️ ? Use <span style=\"color: #6a00ff; text-decoration-color: #6a00ff\">Confident AI</span> to get &amp; share testing reports, \n",
       "experiment with models/prompts, and catch regressions for your LLM system. Just run <span style=\"color: #008080; text-decoration-color: #008080\">'deepeval login'</span> in the CLI. \n",
       "\n",
       "</pre>\n"
      ],
      "text/plain": [
       "\n",
       "\u001b[38;2;5;245;141m✓\u001b[0m Tests finished 🎉! Run \u001b[1;32m'deepeval login'\u001b[0m to save and analyze evaluation results on Confident AI.\n",
       " \n",
       "✨👀 Looking for a place for your LLM test data to live 🏡❤️ ? Use \u001b[38;2;106;0;255mConfident AI\u001b[0m to get & share testing reports, \n",
       "experiment with models/prompts, and catch regressions for your LLM system. Just run \u001b[36m'deepeval login'\u001b[0m in the CLI. \n",
       "\n"
      ]
     },
     "metadata": {},
     "output_type": "display_data"
    },
    {
     "name": "stdout",
     "output_type": "stream",
     "text": [
      "MESSAGES\n",
      "[{'role': 'user', 'content': 'Твоя задача - определить, релевантны ли предоставленные документы запросу пользователя. Релевантым считай тот документ, в котором тема хотя бы смежно связана с запросом. Верни ровно один массив из строк \\'0\\' или \\'1\\', где \\'1\\' означает, что документ релевантен запросу, а \\'0\\' - что нерелевантен. Массив должен иметь ровно столько элементов, сколько документов в запросе.\\n\\nЗапрос: \\'получить деньги за внука\\'\\n\\nДокументы:\\nДокумент 0:\\nВопрос: хочу получить единовременную выплату на внука\\nОтвет: для оформления отпуска по уходу за ребенком (внучкой/внуком) сотруднику необходимо предоставить следующие документы: 1. заявление на отпуск до 3 лет; 2. заявление на пособие до 1,5 лет; 3. копия св-ва о браке родителей; 4. копии св-ва о рождении всех детей; 5. документ, подтверждающий степень родства бабушки и внучки (св-во о рождении сына или дочери, в зависимости от того, чья мама родителей оформляет отпуск); 6. справки от родителей: 1.1 если работают: справка с места работы отца и матери ребенка - в справке прописать корректно вид пособия и вид отпуска. (пример оформления справки – «выдана_____, в том, что работает с___по настоящее время в_____. отпуск по уходу за ребенком (фио, дата рождения ребенка) не оформлял. ежемесячное пособие по уходу за ребенком до 1,5 лет не назначалось и не выплачивалось. если у ребенка возраст до 3 месяцев – дополнительно справку с места работы мамы с указанием периода нахождения в отпуске по беременности и родам. 1.2 если родители не трудоустроены: 1. копии тк 2. справка с пенсионного фонда рф о неполучении ежемесячного пособия по уходу за ребенком 3. приложение к заявлению о назначении пособия до 1,5 лет. заявку следует создать по процессу 1091 – администрирование отпуска по уходу за ребенком.\\n\\nДокумент 1:\\nВопрос: получать зарплату на карту родственника\\nОтвет: в трудовом договоре не предусматривается возможность зачисления заработной платы на реквизиты иных лиц. владельцем расчетного счета может выступать только сам сотрудник компании. если вы укажете реквизиты иного лица, то банк произведет возврат выплаты работодателю.\\n\\nДокумент 2:\\nВопрос: как получить выплату по уходу за больным родственником?\\nОтвет: больничный с кодом 09 (уход за больным членом семьи) оплачивается полностью за счет средств сфр, работодатель в данном случае выплату не производит.\\n\\nДокумент 3:\\nВопрос: выплата аванса\\nОтвет: заработная плата в нашей компании выплачивается двумя частями. 28-го числа месяца направляется аванс, 13-го числа месяца, следующего за расчетным, выплачивается основная заработная плата.\\n\\nДокумент 4:\\nВопрос: мне нужно получить вычет\\nОтвет: для получения вычета создайте, пожалуйста, заявку в разделе \"заявки\" по теме \"льготы, выплаты, материальная помощь\", подтема \"налоговые вычеты\".\\n\\nДокумент 5:\\nВопрос: хочу оформить единовременную выплату\\nОтвет: если ребенок зарегистрирован в загс 11.10.2023 или после 11.10.2023, и получателем пособия является мама ребенка, создавать заявку не нужно, необходимые данные работодателю будет направлять социальный фонд россии. если ребенок зарегистрирован в загс до 11.10.2023 или получателем пособия является отец ребенка (независимо от даты регистрации), требуется создать заявку для передачи сведений в социальный фонд россии в личном кабинете link или приложении \"моя работа\" в разделе \"декрет\", тема \"выплата единовременного пособия по рождению ребенка\".\\n\\n\\n\\nОцени релевантность каждого документа к этому запросу и верни массив из 6 элементов, где каждый элемент - \\'0\\' или \\'1\\'.'}]\n",
      "MESSAGES\n",
      "[{'role': 'user', 'content': 'Ты помощник, который дает ответы в том же стиле, что и представленные примеры. Используй предоставленные вопросы и ответы как образец стиля и уровня детализации.\\n\\nПримеры вопросов и ответов:\\n\\nПример 1:\\nВопрос: хочу получить единовременную выплату на внука\\nОтвет: для оформления отпуска по уходу за ребенком (внучкой/внуком) сотруднику необходимо предоставить следующие документы: 1. заявление на отпуск до 3 лет; 2. заявление на пособие до 1,5 лет; 3. копия св-ва о браке родителей; 4. копии св-ва о рождении всех детей; 5. документ, подтверждающий степень родства бабушки и внучки (св-во о рождении сына или дочери, в зависимости от того, чья мама родителей оформляет отпуск); 6. справки от родителей: 1.1 если работают: справка с места работы отца и матери ребенка - в справке прописать корректно вид пособия и вид отпуска. (пример оформления справки – «выдана_____, в том, что работает с___по настоящее время в_____. отпуск по уходу за ребенком (фио, дата рождения ребенка) не оформлял. ежемесячное пособие по уходу за ребенком до 1,5 лет не назначалось и не выплачивалось. если у ребенка возраст до 3 месяцев – дополнительно справку с места работы мамы с указанием периода нахождения в отпуске по беременности и родам. 1.2 если родители не трудоустроены: 1. копии тк 2. справка с пенсионного фонда рф о неполучении ежемесячного пособия по уходу за ребенком 3. приложение к заявлению о назначении пособия до 1,5 лет. заявку следует создать по процессу 1091 – администрирование отпуска по уходу за ребенком.\\n\\nПример 2:\\nВопрос: хочу оформить единовременную выплату\\nОтвет: если ребенок зарегистрирован в загс 11.10.2023 или после 11.10.2023, и получателем пособия является мама ребенка, создавать заявку не нужно, необходимые данные работодателю будет направлять социальный фонд россии. если ребенок зарегистрирован в загс до 11.10.2023 или получателем пособия является отец ребенка (независимо от даты регистрации), требуется создать заявку для передачи сведений в социальный фонд россии в личном кабинете link или приложении \"моя работа\" в разделе \"декрет\", тема \"выплата единовременного пособия по рождению ребенка\".\\n\\n\\n\\nЗапрос пользователя: получить деньги за внука\\n\\nОтветь на запрос пользователя в том же стиле, что и приведенные примеры.'}]\n"
     ]
    },
    {
     "data": {
      "text/html": [
       "<pre style=\"white-space:pre;overflow-x:auto;line-height:normal;font-family:Menlo,'DejaVu Sans Mono',consolas,'Courier New',monospace\">✨ You're running DeepEval's latest <span style=\"color: #6a00ff; text-decoration-color: #6a00ff\">Answer Relevancy Metric</span>! <span style=\"color: #374151; text-decoration-color: #374151; font-weight: bold\">(</span><span style=\"color: #374151; text-decoration-color: #374151\">using gpt-4o, </span><span style=\"color: #374151; text-decoration-color: #374151\">strict</span><span style=\"color: #374151; text-decoration-color: #374151\">=</span><span style=\"color: #374151; text-decoration-color: #374151; font-style: italic\">False</span><span style=\"color: #374151; text-decoration-color: #374151\">, </span><span style=\"color: #374151; text-decoration-color: #374151\">async_mode</span><span style=\"color: #374151; text-decoration-color: #374151\">=</span><span style=\"color: #374151; text-decoration-color: #374151; font-style: italic\">True</span><span style=\"color: #374151; text-decoration-color: #374151; font-weight: bold\">)</span><span style=\"color: #374151; text-decoration-color: #374151\">...</span>\n",
       "</pre>\n"
      ],
      "text/plain": [
       "✨ You're running DeepEval's latest \u001b[38;2;106;0;255mAnswer Relevancy Metric\u001b[0m! \u001b[1;38;2;55;65;81m(\u001b[0m\u001b[38;2;55;65;81musing gpt-4o, \u001b[0m\u001b[38;2;55;65;81mstrict\u001b[0m\u001b[38;2;55;65;81m=\u001b[0m\u001b[3;38;2;55;65;81mFalse\u001b[0m\u001b[38;2;55;65;81m, \u001b[0m\u001b[38;2;55;65;81masync_mode\u001b[0m\u001b[38;2;55;65;81m=\u001b[0m\u001b[3;38;2;55;65;81mTrue\u001b[0m\u001b[1;38;2;55;65;81m)\u001b[0m\u001b[38;2;55;65;81m...\u001b[0m\n"
      ]
     },
     "metadata": {},
     "output_type": "display_data"
    },
    {
     "name": "stdout",
     "output_type": "stream",
     "text": [
      "Event loop is already running. Applying nest_asyncio patch to allow async execution...\n"
     ]
    },
    {
     "name": "stderr",
     "output_type": "stream",
     "text": [
      "Evaluating 1 test case(s) in parallel: |██████████|100% (1/1) [Time Taken: 00:17, 17.12s/test case]\n"
     ]
    },
    {
     "data": {
      "text/html": [
       "<pre style=\"white-space:pre;overflow-x:auto;line-height:normal;font-family:Menlo,'DejaVu Sans Mono',consolas,'Courier New',monospace\">\n",
       "<span style=\"color: #05f58d; text-decoration-color: #05f58d\">✓</span> Tests finished 🎉! Run <span style=\"color: #008000; text-decoration-color: #008000; font-weight: bold\">'deepeval login'</span> to save and analyze evaluation results on Confident AI.\n",
       " \n",
       "✨👀 Looking for a place for your LLM test data to live 🏡❤️ ? Use <span style=\"color: #6a00ff; text-decoration-color: #6a00ff\">Confident AI</span> to get &amp; share testing reports, \n",
       "experiment with models/prompts, and catch regressions for your LLM system. Just run <span style=\"color: #008080; text-decoration-color: #008080\">'deepeval login'</span> in the CLI. \n",
       "\n",
       "</pre>\n"
      ],
      "text/plain": [
       "\n",
       "\u001b[38;2;5;245;141m✓\u001b[0m Tests finished 🎉! Run \u001b[1;32m'deepeval login'\u001b[0m to save and analyze evaluation results on Confident AI.\n",
       " \n",
       "✨👀 Looking for a place for your LLM test data to live 🏡❤️ ? Use \u001b[38;2;106;0;255mConfident AI\u001b[0m to get & share testing reports, \n",
       "experiment with models/prompts, and catch regressions for your LLM system. Just run \u001b[36m'deepeval login'\u001b[0m in the CLI. \n",
       "\n"
      ]
     },
     "metadata": {},
     "output_type": "display_data"
    },
    {
     "name": "stdout",
     "output_type": "stream",
     "text": [
      "MESSAGES\n",
      "[{'role': 'user', 'content': 'Твоя задача - определить, релевантны ли предоставленные документы запросу пользователя. Релевантым считай тот документ, в котором тема хотя бы смежно связана с запросом. Верни ровно один массив из строк \\'0\\' или \\'1\\', где \\'1\\' означает, что документ релевантен запросу, а \\'0\\' - что нерелевантен. Массив должен иметь ровно столько элементов, сколько документов в запросе.\\n\\nЗапрос: \\'куда грузить обольничный лист\\'\\n\\nДокументы:\\nДокумент 0:\\nВопрос: как загрузить больничный лист?\\nОтвет: на текущий момент данные по больничным листам поступают работодателю от сфр напрямую. если больничный лист не был подтвержден, а затем появилась необходимость в его проведении, то сотруднику следует создать заявку в личном кабинете по теме \"перерасчет пособий\" и указать номер элн.\\n\\nДокумент 1:\\nВопрос: получить роль табельщика\\nОтвет: для присвоения роли табельщика создайте, пожалуйста, заявку по теме «табельный учет. работа с табелем/графиком по собственному персоналу», подтема: «присвоение роли табельщика».\\n\\nДокумент 2:\\nВопрос: внести машину\\nОтвет: для внесения данных по личному автомобилю обратитесь, пожалуйста, к своему руководителю для создания заявки по теме \"изменение режима характера работы\", подтема \"установка рхр и топливной карты\". в комментариях опишите ситуацию и приложите птс, стс, страховой полис и водительское удостоверение.\\n\\nДокумент 3:\\nВопрос: при вложении документа выдает ошибку\\nОтвет: создайте, пожалуйста, обращение в ит поддержку на портале support\\n\\nДокумент 4:\\nВопрос: как оформить больничный по беременности и родам\\nОтвет: пожалуйста, обратитесь к непосредственному руководителю, чтобы он создал заявку в личном кабинете link или приложении \"моя работа\" в разделе \"декрет\", \"администрирование отпуска бир\".\\n\\nДокумент 5:\\nВопрос: как оформить больничный по беременности и родам?\\nОтвет: сотруднику следует обратиться к непосредственному руководителю, чтобы он создал заявку в личном кабинете link или приложении \"моя работа\" в разделе \"декрет\", \"администрирование отпуска бир\".\\n\\n\\n\\nОцени релевантность каждого документа к этому запросу и верни массив из 6 элементов, где каждый элемент - \\'0\\' или \\'1\\'.'}]\n",
      "MESSAGES\n",
      "[{'role': 'user', 'content': 'Ты помощник, который дает ответы в том же стиле, что и представленные примеры. Используй предоставленные вопросы и ответы как образец стиля и уровня детализации.\\n\\nПримеры вопросов и ответов:\\n\\nПример 1:\\nВопрос: как загрузить больничный лист?\\nОтвет: на текущий момент данные по больничным листам поступают работодателю от сфр напрямую. если больничный лист не был подтвержден, а затем появилась необходимость в его проведении, то сотруднику следует создать заявку в личном кабинете по теме \"перерасчет пособий\" и указать номер элн.\\n\\nПример 2:\\nВопрос: как оформить больничный по беременности и родам\\nОтвет: пожалуйста, обратитесь к непосредственному руководителю, чтобы он создал заявку в личном кабинете link или приложении \"моя работа\" в разделе \"декрет\", \"администрирование отпуска бир\".\\n\\nПример 3:\\nВопрос: как оформить больничный по беременности и родам?\\nОтвет: сотруднику следует обратиться к непосредственному руководителю, чтобы он создал заявку в личном кабинете link или приложении \"моя работа\" в разделе \"декрет\", \"администрирование отпуска бир\".\\n\\n\\n\\nЗапрос пользователя: куда грузить обольничный лист\\n\\nОтветь на запрос пользователя в том же стиле, что и приведенные примеры.'}]\n"
     ]
    },
    {
     "data": {
      "text/html": [
       "<pre style=\"white-space:pre;overflow-x:auto;line-height:normal;font-family:Menlo,'DejaVu Sans Mono',consolas,'Courier New',monospace\">✨ You're running DeepEval's latest <span style=\"color: #6a00ff; text-decoration-color: #6a00ff\">Answer Relevancy Metric</span>! <span style=\"color: #374151; text-decoration-color: #374151; font-weight: bold\">(</span><span style=\"color: #374151; text-decoration-color: #374151\">using gpt-4o, </span><span style=\"color: #374151; text-decoration-color: #374151\">strict</span><span style=\"color: #374151; text-decoration-color: #374151\">=</span><span style=\"color: #374151; text-decoration-color: #374151; font-style: italic\">False</span><span style=\"color: #374151; text-decoration-color: #374151\">, </span><span style=\"color: #374151; text-decoration-color: #374151\">async_mode</span><span style=\"color: #374151; text-decoration-color: #374151\">=</span><span style=\"color: #374151; text-decoration-color: #374151; font-style: italic\">True</span><span style=\"color: #374151; text-decoration-color: #374151; font-weight: bold\">)</span><span style=\"color: #374151; text-decoration-color: #374151\">...</span>\n",
       "</pre>\n"
      ],
      "text/plain": [
       "✨ You're running DeepEval's latest \u001b[38;2;106;0;255mAnswer Relevancy Metric\u001b[0m! \u001b[1;38;2;55;65;81m(\u001b[0m\u001b[38;2;55;65;81musing gpt-4o, \u001b[0m\u001b[38;2;55;65;81mstrict\u001b[0m\u001b[38;2;55;65;81m=\u001b[0m\u001b[3;38;2;55;65;81mFalse\u001b[0m\u001b[38;2;55;65;81m, \u001b[0m\u001b[38;2;55;65;81masync_mode\u001b[0m\u001b[38;2;55;65;81m=\u001b[0m\u001b[3;38;2;55;65;81mTrue\u001b[0m\u001b[1;38;2;55;65;81m)\u001b[0m\u001b[38;2;55;65;81m...\u001b[0m\n"
      ]
     },
     "metadata": {},
     "output_type": "display_data"
    },
    {
     "name": "stdout",
     "output_type": "stream",
     "text": [
      "Event loop is already running. Applying nest_asyncio patch to allow async execution...\n"
     ]
    },
    {
     "name": "stderr",
     "output_type": "stream",
     "text": [
      "Evaluating 1 test case(s) in parallel: |██████████|100% (1/1) [Time Taken: 00:06,  6.33s/test case]\n"
     ]
    },
    {
     "data": {
      "text/html": [
       "<pre style=\"white-space:pre;overflow-x:auto;line-height:normal;font-family:Menlo,'DejaVu Sans Mono',consolas,'Courier New',monospace\">\n",
       "<span style=\"color: #05f58d; text-decoration-color: #05f58d\">✓</span> Tests finished 🎉! Run <span style=\"color: #008000; text-decoration-color: #008000; font-weight: bold\">'deepeval login'</span> to save and analyze evaluation results on Confident AI.\n",
       " \n",
       "✨👀 Looking for a place for your LLM test data to live 🏡❤️ ? Use <span style=\"color: #6a00ff; text-decoration-color: #6a00ff\">Confident AI</span> to get &amp; share testing reports, \n",
       "experiment with models/prompts, and catch regressions for your LLM system. Just run <span style=\"color: #008080; text-decoration-color: #008080\">'deepeval login'</span> in the CLI. \n",
       "\n",
       "</pre>\n"
      ],
      "text/plain": [
       "\n",
       "\u001b[38;2;5;245;141m✓\u001b[0m Tests finished 🎉! Run \u001b[1;32m'deepeval login'\u001b[0m to save and analyze evaluation results on Confident AI.\n",
       " \n",
       "✨👀 Looking for a place for your LLM test data to live 🏡❤️ ? Use \u001b[38;2;106;0;255mConfident AI\u001b[0m to get & share testing reports, \n",
       "experiment with models/prompts, and catch regressions for your LLM system. Just run \u001b[36m'deepeval login'\u001b[0m in the CLI. \n",
       "\n"
      ]
     },
     "metadata": {},
     "output_type": "display_data"
    },
    {
     "name": "stdout",
     "output_type": "stream",
     "text": [
      "MESSAGES\n",
      "[{'role': 'user', 'content': 'Твоя задача - определить, релевантны ли предоставленные документы запросу пользователя. Релевантым считай тот документ, в котором тема хотя бы смежно связана с запросом. Верни ровно один массив из строк \\'0\\' или \\'1\\', где \\'1\\' означает, что документ релевантен запросу, а \\'0\\' - что нерелевантен. Массив должен иметь ровно столько элементов, сколько документов в запросе.\\n\\nЗапрос: \\'посмотреть электронный больничный\\'\\n\\nДокументы:\\nДокумент 0:\\nВопрос: где можно посмотреть электронный больничный\\nОтвет: личный кабинет - сервисы - больничные\\n\\nДокумент 1:\\nВопрос: как загрузить больничный лист?\\nОтвет: на текущий момент данные по больничным листам поступают работодателю от сфр напрямую. если больничный лист не был подтвержден, а затем появилась необходимость в его проведении, то сотруднику следует создать заявку в личном кабинете по теме \"перерасчет пособий\" и указать номер элн.\\n\\nДокумент 2:\\nВопрос: взять больничный по уходу\\nОтвет: больничный с кодом 09 (уход за больным членом семьи) оплачивается полностью за счет средств сфр, работодатель в данном случае выплату не производит.\\n\\nДокумент 3:\\nВопрос: где найти информацию о своих действующих электронных подписях?\\nОтвет: информацию о своих действующих сертификатах электронной подписи можно найти в личном кабинете link - раздел «электронные подписи». данный раздел можно найти в правом верхнем углу, в выпадающем списке под своими фио. инструкция доступна по ссылке link\\n\\n\\n\\nОцени релевантность каждого документа к этому запросу и верни массив из 4 элементов, где каждый элемент - \\'0\\' или \\'1\\'.'}]\n",
      "MESSAGES\n",
      "[{'role': 'user', 'content': 'Ты помощник, который дает ответы в том же стиле, что и представленные примеры. Используй предоставленные вопросы и ответы как образец стиля и уровня детализации.\\n\\nПримеры вопросов и ответов:\\n\\nПример 1:\\nВопрос: где можно посмотреть электронный больничный\\nОтвет: личный кабинет - сервисы - больничные\\n\\n\\n\\nЗапрос пользователя: посмотреть электронный больничный\\n\\nОтветь на запрос пользователя в том же стиле, что и приведенные примеры.'}]\n"
     ]
    },
    {
     "data": {
      "text/html": [
       "<pre style=\"white-space:pre;overflow-x:auto;line-height:normal;font-family:Menlo,'DejaVu Sans Mono',consolas,'Courier New',monospace\">✨ You're running DeepEval's latest <span style=\"color: #6a00ff; text-decoration-color: #6a00ff\">Answer Relevancy Metric</span>! <span style=\"color: #374151; text-decoration-color: #374151; font-weight: bold\">(</span><span style=\"color: #374151; text-decoration-color: #374151\">using gpt-4o, </span><span style=\"color: #374151; text-decoration-color: #374151\">strict</span><span style=\"color: #374151; text-decoration-color: #374151\">=</span><span style=\"color: #374151; text-decoration-color: #374151; font-style: italic\">False</span><span style=\"color: #374151; text-decoration-color: #374151\">, </span><span style=\"color: #374151; text-decoration-color: #374151\">async_mode</span><span style=\"color: #374151; text-decoration-color: #374151\">=</span><span style=\"color: #374151; text-decoration-color: #374151; font-style: italic\">True</span><span style=\"color: #374151; text-decoration-color: #374151; font-weight: bold\">)</span><span style=\"color: #374151; text-decoration-color: #374151\">...</span>\n",
       "</pre>\n"
      ],
      "text/plain": [
       "✨ You're running DeepEval's latest \u001b[38;2;106;0;255mAnswer Relevancy Metric\u001b[0m! \u001b[1;38;2;55;65;81m(\u001b[0m\u001b[38;2;55;65;81musing gpt-4o, \u001b[0m\u001b[38;2;55;65;81mstrict\u001b[0m\u001b[38;2;55;65;81m=\u001b[0m\u001b[3;38;2;55;65;81mFalse\u001b[0m\u001b[38;2;55;65;81m, \u001b[0m\u001b[38;2;55;65;81masync_mode\u001b[0m\u001b[38;2;55;65;81m=\u001b[0m\u001b[3;38;2;55;65;81mTrue\u001b[0m\u001b[1;38;2;55;65;81m)\u001b[0m\u001b[38;2;55;65;81m...\u001b[0m\n"
      ]
     },
     "metadata": {},
     "output_type": "display_data"
    },
    {
     "name": "stdout",
     "output_type": "stream",
     "text": [
      "Event loop is already running. Applying nest_asyncio patch to allow async execution...\n"
     ]
    },
    {
     "name": "stderr",
     "output_type": "stream",
     "text": [
      "Evaluating 1 test case(s) in parallel: |██████████|100% (1/1) [Time Taken: 00:03,  3.48s/test case]\n"
     ]
    },
    {
     "data": {
      "text/html": [
       "<pre style=\"white-space:pre;overflow-x:auto;line-height:normal;font-family:Menlo,'DejaVu Sans Mono',consolas,'Courier New',monospace\">\n",
       "<span style=\"color: #05f58d; text-decoration-color: #05f58d\">✓</span> Tests finished 🎉! Run <span style=\"color: #008000; text-decoration-color: #008000; font-weight: bold\">'deepeval login'</span> to save and analyze evaluation results on Confident AI.\n",
       " \n",
       "✨👀 Looking for a place for your LLM test data to live 🏡❤️ ? Use <span style=\"color: #6a00ff; text-decoration-color: #6a00ff\">Confident AI</span> to get &amp; share testing reports, \n",
       "experiment with models/prompts, and catch regressions for your LLM system. Just run <span style=\"color: #008080; text-decoration-color: #008080\">'deepeval login'</span> in the CLI. \n",
       "\n",
       "</pre>\n"
      ],
      "text/plain": [
       "\n",
       "\u001b[38;2;5;245;141m✓\u001b[0m Tests finished 🎉! Run \u001b[1;32m'deepeval login'\u001b[0m to save and analyze evaluation results on Confident AI.\n",
       " \n",
       "✨👀 Looking for a place for your LLM test data to live 🏡❤️ ? Use \u001b[38;2;106;0;255mConfident AI\u001b[0m to get & share testing reports, \n",
       "experiment with models/prompts, and catch regressions for your LLM system. Just run \u001b[36m'deepeval login'\u001b[0m in the CLI. \n",
       "\n"
      ]
     },
     "metadata": {},
     "output_type": "display_data"
    },
    {
     "name": "stdout",
     "output_type": "stream",
     "text": [
      "MESSAGES\n",
      "[{'role': 'user', 'content': 'Твоя задача - определить, релевантны ли предоставленные документы запросу пользователя. Релевантым считай тот документ, в котором тема хотя бы смежно связана с запросом. Верни ровно один массив из строк \\'0\\' или \\'1\\', где \\'1\\' означает, что документ релевантен запросу, а \\'0\\' - что нерелевантен. Массив должен иметь ровно столько элементов, сколько документов в запросе.\\n\\nЗапрос: \\'поменять графек работы\\'\\n\\nДокументы:\\nДокумент 0:\\nВопрос: сменить график\\nОтвет: для изменения графика работы сотрудника создайте заявку в разделе \"заявки\" по теме \"табель/график/рабочее время\", выбрав подтему \"изменение графика\".\\n\\nДокумент 1:\\nВопрос: поменять номер сотрудника\\nОтвет: кнопка \"изменить номер\" телефона находится в личном разделе в лк. если доступа к лк нет, для смены номера телефона, обратитесь в поддержку\\n\\nДокумент 2:\\nВопрос: изменить реквизиты зарплатной карты\\nОтвет: пожалуйста, создайте заявку в разделе \"зарплатная карта\", выбрав подтему \"изменение банковских реквизитов\"\\n\\nДокумент 3:\\nВопрос: переназначить задачу\\nОтвет: создайте, пожалуйста, обращение в ит поддержку на портале support\\n\\nДокумент 4:\\nВопрос: мне нужно изменить % занятости\\nОтвет: для изменения процента занятости сотруднику создайте, пожалуйста, заявку на сотрудника по теме \"изменение режима, характера работы\"\\n\\n\\n\\nОцени релевантность каждого документа к этому запросу и верни массив из 5 элементов, где каждый элемент - \\'0\\' или \\'1\\'.'}]\n",
      "MESSAGES\n",
      "[{'role': 'user', 'content': 'Ты помощник, который дает ответы в том же стиле, что и представленные примеры. Используй предоставленные вопросы и ответы как образец стиля и уровня детализации.\\n\\nПримеры вопросов и ответов:\\n\\nПример 1:\\nВопрос: сменить график\\nОтвет: для изменения графика работы сотрудника создайте заявку в разделе \"заявки\" по теме \"табель/график/рабочее время\", выбрав подтему \"изменение графика\".\\n\\nПример 2:\\nВопрос: мне нужно изменить % занятости\\nОтвет: для изменения процента занятости сотруднику создайте, пожалуйста, заявку на сотрудника по теме \"изменение режима, характера работы\"\\n\\n\\n\\nЗапрос пользователя: поменять графек работы\\n\\nОтветь на запрос пользователя в том же стиле, что и приведенные примеры.'}]\n"
     ]
    },
    {
     "data": {
      "text/html": [
       "<pre style=\"white-space:pre;overflow-x:auto;line-height:normal;font-family:Menlo,'DejaVu Sans Mono',consolas,'Courier New',monospace\">✨ You're running DeepEval's latest <span style=\"color: #6a00ff; text-decoration-color: #6a00ff\">Answer Relevancy Metric</span>! <span style=\"color: #374151; text-decoration-color: #374151; font-weight: bold\">(</span><span style=\"color: #374151; text-decoration-color: #374151\">using gpt-4o, </span><span style=\"color: #374151; text-decoration-color: #374151\">strict</span><span style=\"color: #374151; text-decoration-color: #374151\">=</span><span style=\"color: #374151; text-decoration-color: #374151; font-style: italic\">False</span><span style=\"color: #374151; text-decoration-color: #374151\">, </span><span style=\"color: #374151; text-decoration-color: #374151\">async_mode</span><span style=\"color: #374151; text-decoration-color: #374151\">=</span><span style=\"color: #374151; text-decoration-color: #374151; font-style: italic\">True</span><span style=\"color: #374151; text-decoration-color: #374151; font-weight: bold\">)</span><span style=\"color: #374151; text-decoration-color: #374151\">...</span>\n",
       "</pre>\n"
      ],
      "text/plain": [
       "✨ You're running DeepEval's latest \u001b[38;2;106;0;255mAnswer Relevancy Metric\u001b[0m! \u001b[1;38;2;55;65;81m(\u001b[0m\u001b[38;2;55;65;81musing gpt-4o, \u001b[0m\u001b[38;2;55;65;81mstrict\u001b[0m\u001b[38;2;55;65;81m=\u001b[0m\u001b[3;38;2;55;65;81mFalse\u001b[0m\u001b[38;2;55;65;81m, \u001b[0m\u001b[38;2;55;65;81masync_mode\u001b[0m\u001b[38;2;55;65;81m=\u001b[0m\u001b[3;38;2;55;65;81mTrue\u001b[0m\u001b[1;38;2;55;65;81m)\u001b[0m\u001b[38;2;55;65;81m...\u001b[0m\n"
      ]
     },
     "metadata": {},
     "output_type": "display_data"
    },
    {
     "name": "stdout",
     "output_type": "stream",
     "text": [
      "Event loop is already running. Applying nest_asyncio patch to allow async execution...\n"
     ]
    },
    {
     "name": "stderr",
     "output_type": "stream",
     "text": [
      "Evaluating 1 test case(s) in parallel: |██████████|100% (1/1) [Time Taken: 00:05,  5.33s/test case]\n"
     ]
    },
    {
     "data": {
      "text/html": [
       "<pre style=\"white-space:pre;overflow-x:auto;line-height:normal;font-family:Menlo,'DejaVu Sans Mono',consolas,'Courier New',monospace\">\n",
       "<span style=\"color: #05f58d; text-decoration-color: #05f58d\">✓</span> Tests finished 🎉! Run <span style=\"color: #008000; text-decoration-color: #008000; font-weight: bold\">'deepeval login'</span> to save and analyze evaluation results on Confident AI.\n",
       " \n",
       "✨👀 Looking for a place for your LLM test data to live 🏡❤️ ? Use <span style=\"color: #6a00ff; text-decoration-color: #6a00ff\">Confident AI</span> to get &amp; share testing reports, \n",
       "experiment with models/prompts, and catch regressions for your LLM system. Just run <span style=\"color: #008080; text-decoration-color: #008080\">'deepeval login'</span> in the CLI. \n",
       "\n",
       "</pre>\n"
      ],
      "text/plain": [
       "\n",
       "\u001b[38;2;5;245;141m✓\u001b[0m Tests finished 🎉! Run \u001b[1;32m'deepeval login'\u001b[0m to save and analyze evaluation results on Confident AI.\n",
       " \n",
       "✨👀 Looking for a place for your LLM test data to live 🏡❤️ ? Use \u001b[38;2;106;0;255mConfident AI\u001b[0m to get & share testing reports, \n",
       "experiment with models/prompts, and catch regressions for your LLM system. Just run \u001b[36m'deepeval login'\u001b[0m in the CLI. \n",
       "\n"
      ]
     },
     "metadata": {},
     "output_type": "display_data"
    },
    {
     "name": "stdout",
     "output_type": "stream",
     "text": [
      "MESSAGES\n",
      "[{'role': 'user', 'content': 'Твоя задача - определить, релевантны ли предоставленные документы запросу пользователя. Релевантым считай тот документ, в котором тема хотя бы смежно связана с запросом. Верни ровно один массив из строк \\'0\\' или \\'1\\', где \\'1\\' означает, что документ релевантен запросу, а \\'0\\' - что нерелевантен. Массив должен иметь ровно столько элементов, сколько документов в запросе.\\n\\nЗапрос: \\'изменить працент занятости\\'\\n\\nДокументы:\\nДокумент 0:\\nВопрос: изменить процент занятости\\nОтвет: для изменения процента занятости сотруднику создайте, пожалуйста, заявку на сотрудника по теме \"изменение режима, характера работы\"\\n\\nДокумент 1:\\nВопрос: изменить график работы\\nОтвет: для изменения графика работы сотрудника создайте заявку в разделе \"заявки\" по теме \"табель/график/рабочее время\", выбрав подтему \"изменение графика\".\\n\\nДокумент 2:\\nВопрос: поменять номер сотрудника\\nОтвет: кнопка \"изменить номер\" телефона находится в личном разделе в лк. если доступа к лк нет, для смены номера телефона, обратитесь в поддержку\\n\\nДокумент 3:\\nВопрос: изменить реквизиты зарплатной карты\\nОтвет: пожалуйста, создайте заявку в разделе \"зарплатная карта\", выбрав подтему \"изменение банковских реквизитов\"\\n\\n\\n\\nОцени релевантность каждого документа к этому запросу и верни массив из 4 элементов, где каждый элемент - \\'0\\' или \\'1\\'.'}]\n",
      "MESSAGES\n",
      "[{'role': 'user', 'content': 'Ты помощник, который дает ответы в том же стиле, что и представленные примеры. Используй предоставленные вопросы и ответы как образец стиля и уровня детализации.\\n\\nПримеры вопросов и ответов:\\n\\nПример 1:\\nВопрос: изменить процент занятости\\nОтвет: для изменения процента занятости сотруднику создайте, пожалуйста, заявку на сотрудника по теме \"изменение режима, характера работы\"\\n\\nПример 2:\\nВопрос: изменить реквизиты зарплатной карты\\nОтвет: пожалуйста, создайте заявку в разделе \"зарплатная карта\", выбрав подтему \"изменение банковских реквизитов\"\\n\\n\\n\\nЗапрос пользователя: изменить працент занятости\\n\\nОтветь на запрос пользователя в том же стиле, что и приведенные примеры.'}]\n"
     ]
    },
    {
     "data": {
      "text/html": [
       "<pre style=\"white-space:pre;overflow-x:auto;line-height:normal;font-family:Menlo,'DejaVu Sans Mono',consolas,'Courier New',monospace\">✨ You're running DeepEval's latest <span style=\"color: #6a00ff; text-decoration-color: #6a00ff\">Answer Relevancy Metric</span>! <span style=\"color: #374151; text-decoration-color: #374151; font-weight: bold\">(</span><span style=\"color: #374151; text-decoration-color: #374151\">using gpt-4o, </span><span style=\"color: #374151; text-decoration-color: #374151\">strict</span><span style=\"color: #374151; text-decoration-color: #374151\">=</span><span style=\"color: #374151; text-decoration-color: #374151; font-style: italic\">False</span><span style=\"color: #374151; text-decoration-color: #374151\">, </span><span style=\"color: #374151; text-decoration-color: #374151\">async_mode</span><span style=\"color: #374151; text-decoration-color: #374151\">=</span><span style=\"color: #374151; text-decoration-color: #374151; font-style: italic\">True</span><span style=\"color: #374151; text-decoration-color: #374151; font-weight: bold\">)</span><span style=\"color: #374151; text-decoration-color: #374151\">...</span>\n",
       "</pre>\n"
      ],
      "text/plain": [
       "✨ You're running DeepEval's latest \u001b[38;2;106;0;255mAnswer Relevancy Metric\u001b[0m! \u001b[1;38;2;55;65;81m(\u001b[0m\u001b[38;2;55;65;81musing gpt-4o, \u001b[0m\u001b[38;2;55;65;81mstrict\u001b[0m\u001b[38;2;55;65;81m=\u001b[0m\u001b[3;38;2;55;65;81mFalse\u001b[0m\u001b[38;2;55;65;81m, \u001b[0m\u001b[38;2;55;65;81masync_mode\u001b[0m\u001b[38;2;55;65;81m=\u001b[0m\u001b[3;38;2;55;65;81mTrue\u001b[0m\u001b[1;38;2;55;65;81m)\u001b[0m\u001b[38;2;55;65;81m...\u001b[0m\n"
      ]
     },
     "metadata": {},
     "output_type": "display_data"
    },
    {
     "name": "stdout",
     "output_type": "stream",
     "text": [
      "Event loop is already running. Applying nest_asyncio patch to allow async execution...\n"
     ]
    },
    {
     "name": "stderr",
     "output_type": "stream",
     "text": [
      "Evaluating 1 test case(s) in parallel: |██████████|100% (1/1) [Time Taken: 00:03,  3.59s/test case]\n"
     ]
    },
    {
     "data": {
      "text/html": [
       "<pre style=\"white-space:pre;overflow-x:auto;line-height:normal;font-family:Menlo,'DejaVu Sans Mono',consolas,'Courier New',monospace\">\n",
       "<span style=\"color: #05f58d; text-decoration-color: #05f58d\">✓</span> Tests finished 🎉! Run <span style=\"color: #008000; text-decoration-color: #008000; font-weight: bold\">'deepeval login'</span> to save and analyze evaluation results on Confident AI.\n",
       " \n",
       "✨👀 Looking for a place for your LLM test data to live 🏡❤️ ? Use <span style=\"color: #6a00ff; text-decoration-color: #6a00ff\">Confident AI</span> to get &amp; share testing reports, \n",
       "experiment with models/prompts, and catch regressions for your LLM system. Just run <span style=\"color: #008080; text-decoration-color: #008080\">'deepeval login'</span> in the CLI. \n",
       "\n",
       "</pre>\n"
      ],
      "text/plain": [
       "\n",
       "\u001b[38;2;5;245;141m✓\u001b[0m Tests finished 🎉! Run \u001b[1;32m'deepeval login'\u001b[0m to save and analyze evaluation results on Confident AI.\n",
       " \n",
       "✨👀 Looking for a place for your LLM test data to live 🏡❤️ ? Use \u001b[38;2;106;0;255mConfident AI\u001b[0m to get & share testing reports, \n",
       "experiment with models/prompts, and catch regressions for your LLM system. Just run \u001b[36m'deepeval login'\u001b[0m in the CLI. \n",
       "\n"
      ]
     },
     "metadata": {},
     "output_type": "display_data"
    },
    {
     "name": "stdout",
     "output_type": "stream",
     "text": [
      "MESSAGES\n",
      "[{'role': 'user', 'content': 'Твоя задача - определить, релевантны ли предоставленные документы запросу пользователя. Релевантым считай тот документ, в котором тема хотя бы смежно связана с запросом. Верни ровно один массив из строк \\'0\\' или \\'1\\', где \\'1\\' означает, что документ релевантен запросу, а \\'0\\' - что нерелевантен. Массив должен иметь ровно столько элементов, сколько документов в запросе.\\n\\nЗапрос: \\'почему не получается сделать заявку на перевод сотрудника\\'\\n\\nДокументы:\\nДокумент 0:\\nВопрос: не могу сделать заявку на перевод сотрудника.\\nОтвет: для проведения перевода, пожалуйста, создайте заявку в разделе \"создать заявку на сотрудника\", выберите блок \"изменения по сотрудникам\", подтему \"перевод перемещение. подробная информация по созданию заявки размещена в \"базе знаний \".\\n\\nДокумент 1:\\nВопрос: не могу создать заявку на перевод сотрудника\\nОтвет: если в \"команде\" нет подчиненных сотрудников просьба обратиться в поддержку для корректировки\\n\\nДокумент 2:\\nВопрос: надо сделать заявку на перевод с 50% ставки на 100%, но программа не даёт загрузить сотрудника.\\nОтвет: создайте, пожалуйста, обращение в ит поддержку на портале support\\n\\n\\n\\nОцени релевантность каждого документа к этому запросу и верни массив из 3 элементов, где каждый элемент - \\'0\\' или \\'1\\'.'}]\n",
      "MESSAGES\n",
      "[{'role': 'user', 'content': 'Ты помощник, который дает ответы в том же стиле, что и представленные примеры. Используй предоставленные вопросы и ответы как образец стиля и уровня детализации.\\n\\nПримеры вопросов и ответов:\\n\\nПример 1:\\nВопрос: не могу сделать заявку на перевод сотрудника.\\nОтвет: для проведения перевода, пожалуйста, создайте заявку в разделе \"создать заявку на сотрудника\", выберите блок \"изменения по сотрудникам\", подтему \"перевод перемещение. подробная информация по созданию заявки размещена в \"базе знаний \".\\n\\nПример 2:\\nВопрос: не могу создать заявку на перевод сотрудника\\nОтвет: если в \"команде\" нет подчиненных сотрудников просьба обратиться в поддержку для корректировки\\n\\n\\n\\nЗапрос пользователя: почему не получается сделать заявку на перевод сотрудника\\n\\nОтветь на запрос пользователя в том же стиле, что и приведенные примеры.'}]\n"
     ]
    },
    {
     "data": {
      "text/html": [
       "<pre style=\"white-space:pre;overflow-x:auto;line-height:normal;font-family:Menlo,'DejaVu Sans Mono',consolas,'Courier New',monospace\">✨ You're running DeepEval's latest <span style=\"color: #6a00ff; text-decoration-color: #6a00ff\">Answer Relevancy Metric</span>! <span style=\"color: #374151; text-decoration-color: #374151; font-weight: bold\">(</span><span style=\"color: #374151; text-decoration-color: #374151\">using gpt-4o, </span><span style=\"color: #374151; text-decoration-color: #374151\">strict</span><span style=\"color: #374151; text-decoration-color: #374151\">=</span><span style=\"color: #374151; text-decoration-color: #374151; font-style: italic\">False</span><span style=\"color: #374151; text-decoration-color: #374151\">, </span><span style=\"color: #374151; text-decoration-color: #374151\">async_mode</span><span style=\"color: #374151; text-decoration-color: #374151\">=</span><span style=\"color: #374151; text-decoration-color: #374151; font-style: italic\">True</span><span style=\"color: #374151; text-decoration-color: #374151; font-weight: bold\">)</span><span style=\"color: #374151; text-decoration-color: #374151\">...</span>\n",
       "</pre>\n"
      ],
      "text/plain": [
       "✨ You're running DeepEval's latest \u001b[38;2;106;0;255mAnswer Relevancy Metric\u001b[0m! \u001b[1;38;2;55;65;81m(\u001b[0m\u001b[38;2;55;65;81musing gpt-4o, \u001b[0m\u001b[38;2;55;65;81mstrict\u001b[0m\u001b[38;2;55;65;81m=\u001b[0m\u001b[3;38;2;55;65;81mFalse\u001b[0m\u001b[38;2;55;65;81m, \u001b[0m\u001b[38;2;55;65;81masync_mode\u001b[0m\u001b[38;2;55;65;81m=\u001b[0m\u001b[3;38;2;55;65;81mTrue\u001b[0m\u001b[1;38;2;55;65;81m)\u001b[0m\u001b[38;2;55;65;81m...\u001b[0m\n"
      ]
     },
     "metadata": {},
     "output_type": "display_data"
    },
    {
     "name": "stdout",
     "output_type": "stream",
     "text": [
      "Event loop is already running. Applying nest_asyncio patch to allow async execution...\n"
     ]
    },
    {
     "name": "stderr",
     "output_type": "stream",
     "text": [
      "Evaluating 1 test case(s) in parallel: |██████████|100% (1/1) [Time Taken: 00:04,  4.39s/test case]\n"
     ]
    },
    {
     "data": {
      "text/html": [
       "<pre style=\"white-space:pre;overflow-x:auto;line-height:normal;font-family:Menlo,'DejaVu Sans Mono',consolas,'Courier New',monospace\">\n",
       "<span style=\"color: #05f58d; text-decoration-color: #05f58d\">✓</span> Tests finished 🎉! Run <span style=\"color: #008000; text-decoration-color: #008000; font-weight: bold\">'deepeval login'</span> to save and analyze evaluation results on Confident AI.\n",
       " \n",
       "✨👀 Looking for a place for your LLM test data to live 🏡❤️ ? Use <span style=\"color: #6a00ff; text-decoration-color: #6a00ff\">Confident AI</span> to get &amp; share testing reports, \n",
       "experiment with models/prompts, and catch regressions for your LLM system. Just run <span style=\"color: #008080; text-decoration-color: #008080\">'deepeval login'</span> in the CLI. \n",
       "\n",
       "</pre>\n"
      ],
      "text/plain": [
       "\n",
       "\u001b[38;2;5;245;141m✓\u001b[0m Tests finished 🎉! Run \u001b[1;32m'deepeval login'\u001b[0m to save and analyze evaluation results on Confident AI.\n",
       " \n",
       "✨👀 Looking for a place for your LLM test data to live 🏡❤️ ? Use \u001b[38;2;106;0;255mConfident AI\u001b[0m to get & share testing reports, \n",
       "experiment with models/prompts, and catch regressions for your LLM system. Just run \u001b[36m'deepeval login'\u001b[0m in the CLI. \n",
       "\n"
      ]
     },
     "metadata": {},
     "output_type": "display_data"
    },
    {
     "name": "stdout",
     "output_type": "stream",
     "text": [
      "MESSAGES\n",
      "[{'role': 'user', 'content': 'Твоя задача - определить, релевантны ли предоставленные документы запросу пользователя. Релевантым считай тот документ, в котором тема хотя бы смежно связана с запросом. Верни ровно один массив из строк \\'0\\' или \\'1\\', где \\'1\\' означает, что документ релевантен запросу, а \\'0\\' - что нерелевантен. Массив должен иметь ровно столько элементов, сколько документов в запросе.\\n\\nЗапрос: \\'ставку сотруднику абнулить\\'\\n\\nДокументы:\\nДокумент 0:\\nВопрос: как обнулить ставку сотруднику?\\nОтвет: для обнуления ставки создайте заявку в личном кабинете по теме «табель/график/рабочее время», далее «обнуление ставок». обратите внимание, что обнуление ставок проводится в случае нахождения сотрудника на длительном больничном или в отпуске без сохранения заработной платы.\\n\\nДокумент 1:\\nВопрос: как отменить удержание с заработной платы?\\nОтвет: обратитесь, пожалуйста, к непосредственному руководителю для создания заявки на вас по теме «удержания», подтема \"исполнительный лист\". в рамках заявки передайте постановление о прекращении удержаний по исполнительному листу.\\n\\nДокумент 2:\\nВопрос: отменить трудоустройство\\nОтвет: если заявка не актуальна просьба создать заявку по процессу 5206 - отмена заявки или 5342-закрытие задач\\n\\nДокумент 3:\\nВопрос: увольнение\\nОтвет: напишите заявление на увольнение , шаблон есть в базе знаний личного кабинета и передайте его директору магазина. он подпишет заявление и передаст его в рамках заявки в личном кабинете по теме \"увольнение\". дату увольнения согласуйте, пожалуйста, с директором магазина. предупредить работодателя об увольнении необходимо за 14 дней до дня увольнения.\\n\\nДокумент 4:\\nВопрос: как уволиться со ставки внутреннего/внешнего совместителя?\\nОтвет: увольнение работника со ставки внешнего и внутреннего совместительства происходит в рамках процесса «1031c - увольнение совместителей» на основании заявления на увольнение по собственному желанию с внешнего/внутреннего совместительства, либо уведомления об истечение срока тд (в связи с выходом основного работника). инструкция и шаблоны доступны по ссылке link\\n\\nДокумент 5:\\nВопрос: как отменить отпуск без сохранения заработной платы?\\nОтвет: для отмены отпуска без сохранения заработной платы сотрудник обращается к непосредственному руководителю, чтобы он создал заявку в личном кабинете по теме «отмена/аннулирование мероприятия».\\n\\n\\n\\nОцени релевантность каждого документа к этому запросу и верни массив из 6 элементов, где каждый элемент - \\'0\\' или \\'1\\'.'}]\n",
      "MESSAGES\n",
      "[{'role': 'user', 'content': 'Ты помощник, который дает ответы в том же стиле, что и представленные примеры. Используй предоставленные вопросы и ответы как образец стиля и уровня детализации.\\n\\nПримеры вопросов и ответов:\\n\\nПример 1:\\nВопрос: как обнулить ставку сотруднику?\\nОтвет: для обнуления ставки создайте заявку в личном кабинете по теме «табель/график/рабочее время», далее «обнуление ставок». обратите внимание, что обнуление ставок проводится в случае нахождения сотрудника на длительном больничном или в отпуске без сохранения заработной платы.\\n\\nПример 2:\\nВопрос: как уволиться со ставки внутреннего/внешнего совместителя?\\nОтвет: увольнение работника со ставки внешнего и внутреннего совместительства происходит в рамках процесса «1031c - увольнение совместителей» на основании заявления на увольнение по собственному желанию с внешнего/внутреннего совместительства, либо уведомления об истечение срока тд (в связи с выходом основного работника). инструкция и шаблоны доступны по ссылке link\\n\\nПример 3:\\nВопрос: как отменить отпуск без сохранения заработной платы?\\nОтвет: для отмены отпуска без сохранения заработной платы сотрудник обращается к непосредственному руководителю, чтобы он создал заявку в личном кабинете по теме «отмена/аннулирование мероприятия».\\n\\n\\n\\nЗапрос пользователя: ставку сотруднику абнулить\\n\\nОтветь на запрос пользователя в том же стиле, что и приведенные примеры.'}]\n"
     ]
    },
    {
     "data": {
      "text/html": [
       "<pre style=\"white-space:pre;overflow-x:auto;line-height:normal;font-family:Menlo,'DejaVu Sans Mono',consolas,'Courier New',monospace\">✨ You're running DeepEval's latest <span style=\"color: #6a00ff; text-decoration-color: #6a00ff\">Answer Relevancy Metric</span>! <span style=\"color: #374151; text-decoration-color: #374151; font-weight: bold\">(</span><span style=\"color: #374151; text-decoration-color: #374151\">using gpt-4o, </span><span style=\"color: #374151; text-decoration-color: #374151\">strict</span><span style=\"color: #374151; text-decoration-color: #374151\">=</span><span style=\"color: #374151; text-decoration-color: #374151; font-style: italic\">False</span><span style=\"color: #374151; text-decoration-color: #374151\">, </span><span style=\"color: #374151; text-decoration-color: #374151\">async_mode</span><span style=\"color: #374151; text-decoration-color: #374151\">=</span><span style=\"color: #374151; text-decoration-color: #374151; font-style: italic\">True</span><span style=\"color: #374151; text-decoration-color: #374151; font-weight: bold\">)</span><span style=\"color: #374151; text-decoration-color: #374151\">...</span>\n",
       "</pre>\n"
      ],
      "text/plain": [
       "✨ You're running DeepEval's latest \u001b[38;2;106;0;255mAnswer Relevancy Metric\u001b[0m! \u001b[1;38;2;55;65;81m(\u001b[0m\u001b[38;2;55;65;81musing gpt-4o, \u001b[0m\u001b[38;2;55;65;81mstrict\u001b[0m\u001b[38;2;55;65;81m=\u001b[0m\u001b[3;38;2;55;65;81mFalse\u001b[0m\u001b[38;2;55;65;81m, \u001b[0m\u001b[38;2;55;65;81masync_mode\u001b[0m\u001b[38;2;55;65;81m=\u001b[0m\u001b[3;38;2;55;65;81mTrue\u001b[0m\u001b[1;38;2;55;65;81m)\u001b[0m\u001b[38;2;55;65;81m...\u001b[0m\n"
      ]
     },
     "metadata": {},
     "output_type": "display_data"
    },
    {
     "name": "stdout",
     "output_type": "stream",
     "text": [
      "Event loop is already running. Applying nest_asyncio patch to allow async execution...\n"
     ]
    },
    {
     "name": "stderr",
     "output_type": "stream",
     "text": [
      "Evaluating 1 test case(s) in parallel: |██████████|100% (1/1) [Time Taken: 00:04,  4.63s/test case]\n"
     ]
    },
    {
     "data": {
      "text/html": [
       "<pre style=\"white-space:pre;overflow-x:auto;line-height:normal;font-family:Menlo,'DejaVu Sans Mono',consolas,'Courier New',monospace\">\n",
       "<span style=\"color: #05f58d; text-decoration-color: #05f58d\">✓</span> Tests finished 🎉! Run <span style=\"color: #008000; text-decoration-color: #008000; font-weight: bold\">'deepeval login'</span> to save and analyze evaluation results on Confident AI.\n",
       " \n",
       "✨👀 Looking for a place for your LLM test data to live 🏡❤️ ? Use <span style=\"color: #6a00ff; text-decoration-color: #6a00ff\">Confident AI</span> to get &amp; share testing reports, \n",
       "experiment with models/prompts, and catch regressions for your LLM system. Just run <span style=\"color: #008080; text-decoration-color: #008080\">'deepeval login'</span> in the CLI. \n",
       "\n",
       "</pre>\n"
      ],
      "text/plain": [
       "\n",
       "\u001b[38;2;5;245;141m✓\u001b[0m Tests finished 🎉! Run \u001b[1;32m'deepeval login'\u001b[0m to save and analyze evaluation results on Confident AI.\n",
       " \n",
       "✨👀 Looking for a place for your LLM test data to live 🏡❤️ ? Use \u001b[38;2;106;0;255mConfident AI\u001b[0m to get & share testing reports, \n",
       "experiment with models/prompts, and catch regressions for your LLM system. Just run \u001b[36m'deepeval login'\u001b[0m in the CLI. \n",
       "\n"
      ]
     },
     "metadata": {},
     "output_type": "display_data"
    },
    {
     "name": "stdout",
     "output_type": "stream",
     "text": [
      "MESSAGES\n",
      "[{'role': 'user', 'content': 'Твоя задача - определить, релевантны ли предоставленные документы запросу пользователя. Релевантым считай тот документ, в котором тема хотя бы смежно связана с запросом. Верни ровно один массив из строк \\'0\\' или \\'1\\', где \\'1\\' означает, что документ релевантен запросу, а \\'0\\' - что нерелевантен. Массив должен иметь ровно столько элементов, сколько документов в запросе.\\n\\nЗапрос: \\'трудовой договор продлить а\\'\\n\\nДокументы:\\nДокумент 0:\\nВопрос: продлить срочный трудовой договор\\nОтвет: для продления срочного трудового договора создайте, пожалуйста, заявку на сотрудника по теме \"изменение режима характера работы\", выбрав подтему \"продление стд, перевод на время отсутствия основного работника/перевод на бессрочный тд\"\\n\\nДокумент 1:\\nВопрос: продлите заявку на ур\\nОтвет: данная заявка была завершена т.к истек срок на согласование, вам требуется оформить новую заявку, после чего она будет отправлена на согласование.\\n\\nДокумент 2:\\nВопрос: по удаленной работе должно быть подписано доп соглашение\\nОтвет: по процессу, после согласования заявки на ур, необходимо подписать доп. соглашение. сотрудникам кц необходимо подписать дополнительное соглашение: - удаленно с помощью обмена скан-копий или фото документа, а при невозможности – подтверждением по электронной почте. как только доп. соглашение любым образом подписывается, работник отдела кадров снимает блокировку в sap hr с доп. соглашения и вам представляется возможность создать график работы в лк.\\n\\nДокумент 3:\\nВопрос: не могу проставить дату окончания срочного трудового договора\\nОтвет: создайте, пожалуйста, обращение в ит поддержку на портале support\\n\\nДокумент 4:\\nВопрос: что делать, если я переезжаю и хочу работать в компании дальше\\nОтвет: рекомендуем уточнить наличие вакансий в регионе, куда планируется переезд. обратиться к руководителю для формирования заявки в рамках процесса «перевод» с заполнением атрибутов заявки.\\n\\n\\n\\nОцени релевантность каждого документа к этому запросу и верни массив из 5 элементов, где каждый элемент - \\'0\\' или \\'1\\'.'}]\n",
      "MESSAGES\n",
      "[{'role': 'user', 'content': 'Ты помощник, который дает ответы в том же стиле, что и представленные примеры. Используй предоставленные вопросы и ответы как образец стиля и уровня детализации.\\n\\nПримеры вопросов и ответов:\\n\\nПример 1:\\nВопрос: продлить срочный трудовой договор\\nОтвет: для продления срочного трудового договора создайте, пожалуйста, заявку на сотрудника по теме \"изменение режима характера работы\", выбрав подтему \"продление стд, перевод на время отсутствия основного работника/перевод на бессрочный тд\"\\n\\nПример 2:\\nВопрос: по удаленной работе должно быть подписано доп соглашение\\nОтвет: по процессу, после согласования заявки на ур, необходимо подписать доп. соглашение. сотрудникам кц необходимо подписать дополнительное соглашение: - удаленно с помощью обмена скан-копий или фото документа, а при невозможности – подтверждением по электронной почте. как только доп. соглашение любым образом подписывается, работник отдела кадров снимает блокировку в sap hr с доп. соглашения и вам представляется возможность создать график работы в лк.\\n\\n\\n\\nЗапрос пользователя: трудовой договор продлить а\\n\\nОтветь на запрос пользователя в том же стиле, что и приведенные примеры.'}]\n"
     ]
    },
    {
     "data": {
      "text/html": [
       "<pre style=\"white-space:pre;overflow-x:auto;line-height:normal;font-family:Menlo,'DejaVu Sans Mono',consolas,'Courier New',monospace\">✨ You're running DeepEval's latest <span style=\"color: #6a00ff; text-decoration-color: #6a00ff\">Answer Relevancy Metric</span>! <span style=\"color: #374151; text-decoration-color: #374151; font-weight: bold\">(</span><span style=\"color: #374151; text-decoration-color: #374151\">using gpt-4o, </span><span style=\"color: #374151; text-decoration-color: #374151\">strict</span><span style=\"color: #374151; text-decoration-color: #374151\">=</span><span style=\"color: #374151; text-decoration-color: #374151; font-style: italic\">False</span><span style=\"color: #374151; text-decoration-color: #374151\">, </span><span style=\"color: #374151; text-decoration-color: #374151\">async_mode</span><span style=\"color: #374151; text-decoration-color: #374151\">=</span><span style=\"color: #374151; text-decoration-color: #374151; font-style: italic\">True</span><span style=\"color: #374151; text-decoration-color: #374151; font-weight: bold\">)</span><span style=\"color: #374151; text-decoration-color: #374151\">...</span>\n",
       "</pre>\n"
      ],
      "text/plain": [
       "✨ You're running DeepEval's latest \u001b[38;2;106;0;255mAnswer Relevancy Metric\u001b[0m! \u001b[1;38;2;55;65;81m(\u001b[0m\u001b[38;2;55;65;81musing gpt-4o, \u001b[0m\u001b[38;2;55;65;81mstrict\u001b[0m\u001b[38;2;55;65;81m=\u001b[0m\u001b[3;38;2;55;65;81mFalse\u001b[0m\u001b[38;2;55;65;81m, \u001b[0m\u001b[38;2;55;65;81masync_mode\u001b[0m\u001b[38;2;55;65;81m=\u001b[0m\u001b[3;38;2;55;65;81mTrue\u001b[0m\u001b[1;38;2;55;65;81m)\u001b[0m\u001b[38;2;55;65;81m...\u001b[0m\n"
      ]
     },
     "metadata": {},
     "output_type": "display_data"
    },
    {
     "name": "stdout",
     "output_type": "stream",
     "text": [
      "Event loop is already running. Applying nest_asyncio patch to allow async execution...\n"
     ]
    },
    {
     "name": "stderr",
     "output_type": "stream",
     "text": [
      "Evaluating 1 test case(s) in parallel: |██████████|100% (1/1) [Time Taken: 00:04,  4.72s/test case]\n"
     ]
    },
    {
     "data": {
      "text/html": [
       "<pre style=\"white-space:pre;overflow-x:auto;line-height:normal;font-family:Menlo,'DejaVu Sans Mono',consolas,'Courier New',monospace\">\n",
       "<span style=\"color: #05f58d; text-decoration-color: #05f58d\">✓</span> Tests finished 🎉! Run <span style=\"color: #008000; text-decoration-color: #008000; font-weight: bold\">'deepeval login'</span> to save and analyze evaluation results on Confident AI.\n",
       " \n",
       "✨👀 Looking for a place for your LLM test data to live 🏡❤️ ? Use <span style=\"color: #6a00ff; text-decoration-color: #6a00ff\">Confident AI</span> to get &amp; share testing reports, \n",
       "experiment with models/prompts, and catch regressions for your LLM system. Just run <span style=\"color: #008080; text-decoration-color: #008080\">'deepeval login'</span> in the CLI. \n",
       "\n",
       "</pre>\n"
      ],
      "text/plain": [
       "\n",
       "\u001b[38;2;5;245;141m✓\u001b[0m Tests finished 🎉! Run \u001b[1;32m'deepeval login'\u001b[0m to save and analyze evaluation results on Confident AI.\n",
       " \n",
       "✨👀 Looking for a place for your LLM test data to live 🏡❤️ ? Use \u001b[38;2;106;0;255mConfident AI\u001b[0m to get & share testing reports, \n",
       "experiment with models/prompts, and catch regressions for your LLM system. Just run \u001b[36m'deepeval login'\u001b[0m in the CLI. \n",
       "\n"
      ]
     },
     "metadata": {},
     "output_type": "display_data"
    },
    {
     "name": "stdout",
     "output_type": "stream",
     "text": [
      "MESSAGES\n",
      "[{'role': 'user', 'content': \"Твоя задача - определить, релевантны ли предоставленные документы запросу пользователя. Релевантым считай тот документ, в котором тема хотя бы смежно связана с запросом. Верни ровно один массив из строк '0' или '1', где '1' означает, что документ релевантен запросу, а '0' - что нерелевантен. Массив должен иметь ровно столько элементов, сколько документов в запросе.\\n\\nЗапрос: 'доверенность юриста найти'\\n\\nДокументы:\\nДокумент 0:\\nВопрос: где взять подпись на доверенность юриста\\nОтвет: специалистами сф пб не производится подпись доверенностей на предоставление интересов сотрудника в суде\\n\\nДокумент 1:\\nВопрос: где можно найти оригинал доверенности?\\nОтвет: оригиналы доверенностей хранятся у директора кластера, поэтому при необходимости получения необходимо обратиться к директору кластера.\\n\\nДокумент 2:\\nВопрос: как получить копию доверенности?\\nОтвет: скан-копию доверенности можно выгрузить в личном кабинете в блоке профиль, раздел «доверенности», нажав кнопку отправить на почту.\\n\\nДокумент 3:\\nВопрос: где посмотреть номер и срок действия доверенности?\\nОтвет: номер и срок действия доверенности можно выгрузить в личном кабинете в блоке профиль, раздел «доверенности».\\n\\nДокумент 4:\\nВопрос: узнать про машиночитаемые доверенности\\nОтвет: информацию о своих действующих мчд (машиночитаемых доверенностях) можно найти в личном кабинете link - раздел «доверенности». данный раздел можно найти в правом верхнем углу, в выпадающем списке под своими фио. инструкция доступна по ссылке link\\n\\n\\n\\nОцени релевантность каждого документа к этому запросу и верни массив из 5 элементов, где каждый элемент - '0' или '1'.\"}]\n",
      "MESSAGES\n",
      "[{'role': 'user', 'content': 'Ты помощник, который дает ответы в том же стиле, что и представленные примеры. Используй предоставленные вопросы и ответы как образец стиля и уровня детализации.\\n\\nПримеры вопросов и ответов:\\n\\nПример 1:\\nВопрос: где можно найти оригинал доверенности?\\nОтвет: оригиналы доверенностей хранятся у директора кластера, поэтому при необходимости получения необходимо обратиться к директору кластера.\\n\\nПример 2:\\nВопрос: как получить копию доверенности?\\nОтвет: скан-копию доверенности можно выгрузить в личном кабинете в блоке профиль, раздел «доверенности», нажав кнопку отправить на почту.\\n\\nПример 3:\\nВопрос: где посмотреть номер и срок действия доверенности?\\nОтвет: номер и срок действия доверенности можно выгрузить в личном кабинете в блоке профиль, раздел «доверенности».\\n\\nПример 4:\\nВопрос: узнать про машиночитаемые доверенности\\nОтвет: информацию о своих действующих мчд (машиночитаемых доверенностях) можно найти в личном кабинете link - раздел «доверенности». данный раздел можно найти в правом верхнем углу, в выпадающем списке под своими фио. инструкция доступна по ссылке link\\n\\n\\n\\nЗапрос пользователя: доверенность юриста найти\\n\\nОтветь на запрос пользователя в том же стиле, что и приведенные примеры.'}]\n"
     ]
    },
    {
     "data": {
      "text/html": [
       "<pre style=\"white-space:pre;overflow-x:auto;line-height:normal;font-family:Menlo,'DejaVu Sans Mono',consolas,'Courier New',monospace\">✨ You're running DeepEval's latest <span style=\"color: #6a00ff; text-decoration-color: #6a00ff\">Answer Relevancy Metric</span>! <span style=\"color: #374151; text-decoration-color: #374151; font-weight: bold\">(</span><span style=\"color: #374151; text-decoration-color: #374151\">using gpt-4o, </span><span style=\"color: #374151; text-decoration-color: #374151\">strict</span><span style=\"color: #374151; text-decoration-color: #374151\">=</span><span style=\"color: #374151; text-decoration-color: #374151; font-style: italic\">False</span><span style=\"color: #374151; text-decoration-color: #374151\">, </span><span style=\"color: #374151; text-decoration-color: #374151\">async_mode</span><span style=\"color: #374151; text-decoration-color: #374151\">=</span><span style=\"color: #374151; text-decoration-color: #374151; font-style: italic\">True</span><span style=\"color: #374151; text-decoration-color: #374151; font-weight: bold\">)</span><span style=\"color: #374151; text-decoration-color: #374151\">...</span>\n",
       "</pre>\n"
      ],
      "text/plain": [
       "✨ You're running DeepEval's latest \u001b[38;2;106;0;255mAnswer Relevancy Metric\u001b[0m! \u001b[1;38;2;55;65;81m(\u001b[0m\u001b[38;2;55;65;81musing gpt-4o, \u001b[0m\u001b[38;2;55;65;81mstrict\u001b[0m\u001b[38;2;55;65;81m=\u001b[0m\u001b[3;38;2;55;65;81mFalse\u001b[0m\u001b[38;2;55;65;81m, \u001b[0m\u001b[38;2;55;65;81masync_mode\u001b[0m\u001b[38;2;55;65;81m=\u001b[0m\u001b[3;38;2;55;65;81mTrue\u001b[0m\u001b[1;38;2;55;65;81m)\u001b[0m\u001b[38;2;55;65;81m...\u001b[0m\n"
      ]
     },
     "metadata": {},
     "output_type": "display_data"
    },
    {
     "name": "stdout",
     "output_type": "stream",
     "text": [
      "Event loop is already running. Applying nest_asyncio patch to allow async execution...\n"
     ]
    },
    {
     "name": "stderr",
     "output_type": "stream",
     "text": [
      "Evaluating 1 test case(s) in parallel: |██████████|100% (1/1) [Time Taken: 00:04,  4.24s/test case]\n"
     ]
    },
    {
     "data": {
      "text/html": [
       "<pre style=\"white-space:pre;overflow-x:auto;line-height:normal;font-family:Menlo,'DejaVu Sans Mono',consolas,'Courier New',monospace\">\n",
       "<span style=\"color: #05f58d; text-decoration-color: #05f58d\">✓</span> Tests finished 🎉! Run <span style=\"color: #008000; text-decoration-color: #008000; font-weight: bold\">'deepeval login'</span> to save and analyze evaluation results on Confident AI.\n",
       " \n",
       "✨👀 Looking for a place for your LLM test data to live 🏡❤️ ? Use <span style=\"color: #6a00ff; text-decoration-color: #6a00ff\">Confident AI</span> to get &amp; share testing reports, \n",
       "experiment with models/prompts, and catch regressions for your LLM system. Just run <span style=\"color: #008080; text-decoration-color: #008080\">'deepeval login'</span> in the CLI. \n",
       "\n",
       "</pre>\n"
      ],
      "text/plain": [
       "\n",
       "\u001b[38;2;5;245;141m✓\u001b[0m Tests finished 🎉! Run \u001b[1;32m'deepeval login'\u001b[0m to save and analyze evaluation results on Confident AI.\n",
       " \n",
       "✨👀 Looking for a place for your LLM test data to live 🏡❤️ ? Use \u001b[38;2;106;0;255mConfident AI\u001b[0m to get & share testing reports, \n",
       "experiment with models/prompts, and catch regressions for your LLM system. Just run \u001b[36m'deepeval login'\u001b[0m in the CLI. \n",
       "\n"
      ]
     },
     "metadata": {},
     "output_type": "display_data"
    },
    {
     "name": "stdout",
     "output_type": "stream",
     "text": [
      "MESSAGES\n",
      "[{'role': 'user', 'content': 'Твоя задача - определить, релевантны ли предоставленные документы запросу пользователя. Релевантым считай тот документ, в котором тема хотя бы смежно связана с запросом. Верни ровно один массив из строк \\'0\\' или \\'1\\', где \\'1\\' означает, что документ релевантен запросу, а \\'0\\' - что нерелевантен. Массив должен иметь ровно столько элементов, сколько документов в запросе.\\n\\nЗапрос: \\'получить альфа карту\\'\\n\\nДокументы:\\nДокумент 0:\\nВопрос: оформить карту альфа\\nОтвет: пожалуйста, создайте заявку в разделе \"зарплатная карта\", выбрав подтему \"изменение банковских реквизитов\"\\n\\nДокумент 1:\\nВопрос: номер выручай карты\\nОтвет: установите мобильное приложение \"пятерочка\"\\n\\nДокумент 2:\\nВопрос: привязать другой номер к карте лояльности\\nОтвет: для изменения привязанного номера к карте лояльности вам необходимо в личном кабинете перейти в раздел \"личные данные\", далее перейти в раздел \"карта лояльности\".\\n\\n\\n\\nОцени релевантность каждого документа к этому запросу и верни массив из 3 элементов, где каждый элемент - \\'0\\' или \\'1\\'.'}]\n",
      "MESSAGES\n",
      "[{'role': 'user', 'content': 'Ты помощник, который дает ответы в том же стиле, что и представленные примеры. Используй предоставленные вопросы и ответы как образец стиля и уровня детализации.\\n\\nПримеры вопросов и ответов:\\n\\nПример 1:\\nВопрос: оформить карту альфа\\nОтвет: пожалуйста, создайте заявку в разделе \"зарплатная карта\", выбрав подтему \"изменение банковских реквизитов\"\\n\\n\\n\\nЗапрос пользователя: получить альфа карту\\n\\nОтветь на запрос пользователя в том же стиле, что и приведенные примеры.'}]\n"
     ]
    },
    {
     "data": {
      "text/html": [
       "<pre style=\"white-space:pre;overflow-x:auto;line-height:normal;font-family:Menlo,'DejaVu Sans Mono',consolas,'Courier New',monospace\">✨ You're running DeepEval's latest <span style=\"color: #6a00ff; text-decoration-color: #6a00ff\">Answer Relevancy Metric</span>! <span style=\"color: #374151; text-decoration-color: #374151; font-weight: bold\">(</span><span style=\"color: #374151; text-decoration-color: #374151\">using gpt-4o, </span><span style=\"color: #374151; text-decoration-color: #374151\">strict</span><span style=\"color: #374151; text-decoration-color: #374151\">=</span><span style=\"color: #374151; text-decoration-color: #374151; font-style: italic\">False</span><span style=\"color: #374151; text-decoration-color: #374151\">, </span><span style=\"color: #374151; text-decoration-color: #374151\">async_mode</span><span style=\"color: #374151; text-decoration-color: #374151\">=</span><span style=\"color: #374151; text-decoration-color: #374151; font-style: italic\">True</span><span style=\"color: #374151; text-decoration-color: #374151; font-weight: bold\">)</span><span style=\"color: #374151; text-decoration-color: #374151\">...</span>\n",
       "</pre>\n"
      ],
      "text/plain": [
       "✨ You're running DeepEval's latest \u001b[38;2;106;0;255mAnswer Relevancy Metric\u001b[0m! \u001b[1;38;2;55;65;81m(\u001b[0m\u001b[38;2;55;65;81musing gpt-4o, \u001b[0m\u001b[38;2;55;65;81mstrict\u001b[0m\u001b[38;2;55;65;81m=\u001b[0m\u001b[3;38;2;55;65;81mFalse\u001b[0m\u001b[38;2;55;65;81m, \u001b[0m\u001b[38;2;55;65;81masync_mode\u001b[0m\u001b[38;2;55;65;81m=\u001b[0m\u001b[3;38;2;55;65;81mTrue\u001b[0m\u001b[1;38;2;55;65;81m)\u001b[0m\u001b[38;2;55;65;81m...\u001b[0m\n"
      ]
     },
     "metadata": {},
     "output_type": "display_data"
    },
    {
     "name": "stdout",
     "output_type": "stream",
     "text": [
      "Event loop is already running. Applying nest_asyncio patch to allow async execution...\n"
     ]
    },
    {
     "name": "stderr",
     "output_type": "stream",
     "text": [
      "Evaluating 1 test case(s) in parallel: |██████████|100% (1/1) [Time Taken: 00:03,  3.73s/test case]\n"
     ]
    },
    {
     "data": {
      "text/html": [
       "<pre style=\"white-space:pre;overflow-x:auto;line-height:normal;font-family:Menlo,'DejaVu Sans Mono',consolas,'Courier New',monospace\">\n",
       "<span style=\"color: #05f58d; text-decoration-color: #05f58d\">✓</span> Tests finished 🎉! Run <span style=\"color: #008000; text-decoration-color: #008000; font-weight: bold\">'deepeval login'</span> to save and analyze evaluation results on Confident AI.\n",
       " \n",
       "✨👀 Looking for a place for your LLM test data to live 🏡❤️ ? Use <span style=\"color: #6a00ff; text-decoration-color: #6a00ff\">Confident AI</span> to get &amp; share testing reports, \n",
       "experiment with models/prompts, and catch regressions for your LLM system. Just run <span style=\"color: #008080; text-decoration-color: #008080\">'deepeval login'</span> in the CLI. \n",
       "\n",
       "</pre>\n"
      ],
      "text/plain": [
       "\n",
       "\u001b[38;2;5;245;141m✓\u001b[0m Tests finished 🎉! Run \u001b[1;32m'deepeval login'\u001b[0m to save and analyze evaluation results on Confident AI.\n",
       " \n",
       "✨👀 Looking for a place for your LLM test data to live 🏡❤️ ? Use \u001b[38;2;106;0;255mConfident AI\u001b[0m to get & share testing reports, \n",
       "experiment with models/prompts, and catch regressions for your LLM system. Just run \u001b[36m'deepeval login'\u001b[0m in the CLI. \n",
       "\n"
      ]
     },
     "metadata": {},
     "output_type": "display_data"
    },
    {
     "name": "stdout",
     "output_type": "stream",
     "text": [
      "MESSAGES\n",
      "[{'role': 'user', 'content': 'Твоя задача - определить, релевантны ли предоставленные документы запросу пользователя. Релевантым считай тот документ, в котором тема хотя бы смежно связана с запросом. Верни ровно один массив из строк \\'0\\' или \\'1\\', где \\'1\\' означает, что документ релевантен запросу, а \\'0\\' - что нерелевантен. Массив должен иметь ровно столько элементов, сколько документов в запросе.\\n\\nЗапрос: \\'нет аванса почему\\'\\n\\nДокументы:\\nДокумент 0:\\nВопрос: не оплатили авансовый отчет\\nОтвет: вам необходимо обратиться к бухгалтеру подотчетных средств, напишите данный вопрос на общий ящик авансовые отчеты ( mail ) с указанием номера заявки.\\n\\nДокумент 1:\\nВопрос: отсутствуют заявки\\nОтвет: первым делом, просьба очистить кэш/куки браузера (сочетание клавиш ctrl+shift+del, выбрать \"удалить: всё\", нажать ок). далее перезайти в лк. если это не помогло просьба подать заявку, нажав ниже кнопку \"создать заявку\" и выбрать соответствующую тему.\\n\\nДокумент 2:\\nВопрос: отсутствует график работы\\nОтвет: вкладка \"график работы\" недоступна сотрудникам с организационным присвоением \"офис\" и на данный момент доступна только сотрудникам розницы.\\n\\nДокумент 3:\\nВопрос: не получаю надбавку\\nОтвет: доступ к программе \"карьера\" появляется спустя 4 месяца после трудоутстройства в компанию. если по прошествии 4х месяцев раздел по-прежнему недоступен, обратитесь в поддержку\\n\\nДокумент 4:\\nВопрос: у заявки нет исполнителя\\nОтвет: создайте, пожалуйста, обращение в ит поддержку на портале support\\n\\n\\n\\nОцени релевантность каждого документа к этому запросу и верни массив из 5 элементов, где каждый элемент - \\'0\\' или \\'1\\'.'}]\n",
      "MESSAGES\n",
      "[{'role': 'user', 'content': 'Ты помощник, который дает ответы в том же стиле, что и представленные примеры. Используй предоставленные вопросы и ответы как образец стиля и уровня детализации.\\n\\nПримеры вопросов и ответов:\\n\\nПример 1:\\nВопрос: не оплатили авансовый отчет\\nОтвет: вам необходимо обратиться к бухгалтеру подотчетных средств, напишите данный вопрос на общий ящик авансовые отчеты ( mail ) с указанием номера заявки.\\n\\nПример 2:\\nВопрос: у заявки нет исполнителя\\nОтвет: создайте, пожалуйста, обращение в ит поддержку на портале support\\n\\n\\n\\nЗапрос пользователя: нет аванса почему\\n\\nОтветь на запрос пользователя в том же стиле, что и приведенные примеры.'}]\n"
     ]
    },
    {
     "data": {
      "text/html": [
       "<pre style=\"white-space:pre;overflow-x:auto;line-height:normal;font-family:Menlo,'DejaVu Sans Mono',consolas,'Courier New',monospace\">✨ You're running DeepEval's latest <span style=\"color: #6a00ff; text-decoration-color: #6a00ff\">Answer Relevancy Metric</span>! <span style=\"color: #374151; text-decoration-color: #374151; font-weight: bold\">(</span><span style=\"color: #374151; text-decoration-color: #374151\">using gpt-4o, </span><span style=\"color: #374151; text-decoration-color: #374151\">strict</span><span style=\"color: #374151; text-decoration-color: #374151\">=</span><span style=\"color: #374151; text-decoration-color: #374151; font-style: italic\">False</span><span style=\"color: #374151; text-decoration-color: #374151\">, </span><span style=\"color: #374151; text-decoration-color: #374151\">async_mode</span><span style=\"color: #374151; text-decoration-color: #374151\">=</span><span style=\"color: #374151; text-decoration-color: #374151; font-style: italic\">True</span><span style=\"color: #374151; text-decoration-color: #374151; font-weight: bold\">)</span><span style=\"color: #374151; text-decoration-color: #374151\">...</span>\n",
       "</pre>\n"
      ],
      "text/plain": [
       "✨ You're running DeepEval's latest \u001b[38;2;106;0;255mAnswer Relevancy Metric\u001b[0m! \u001b[1;38;2;55;65;81m(\u001b[0m\u001b[38;2;55;65;81musing gpt-4o, \u001b[0m\u001b[38;2;55;65;81mstrict\u001b[0m\u001b[38;2;55;65;81m=\u001b[0m\u001b[3;38;2;55;65;81mFalse\u001b[0m\u001b[38;2;55;65;81m, \u001b[0m\u001b[38;2;55;65;81masync_mode\u001b[0m\u001b[38;2;55;65;81m=\u001b[0m\u001b[3;38;2;55;65;81mTrue\u001b[0m\u001b[1;38;2;55;65;81m)\u001b[0m\u001b[38;2;55;65;81m...\u001b[0m\n"
      ]
     },
     "metadata": {},
     "output_type": "display_data"
    },
    {
     "name": "stdout",
     "output_type": "stream",
     "text": [
      "Event loop is already running. Applying nest_asyncio patch to allow async execution...\n"
     ]
    },
    {
     "name": "stderr",
     "output_type": "stream",
     "text": [
      "Evaluating 1 test case(s) in parallel: |██████████|100% (1/1) [Time Taken: 00:04,  4.89s/test case]\n"
     ]
    },
    {
     "data": {
      "text/html": [
       "<pre style=\"white-space:pre;overflow-x:auto;line-height:normal;font-family:Menlo,'DejaVu Sans Mono',consolas,'Courier New',monospace\">\n",
       "<span style=\"color: #05f58d; text-decoration-color: #05f58d\">✓</span> Tests finished 🎉! Run <span style=\"color: #008000; text-decoration-color: #008000; font-weight: bold\">'deepeval login'</span> to save and analyze evaluation results on Confident AI.\n",
       " \n",
       "✨👀 Looking for a place for your LLM test data to live 🏡❤️ ? Use <span style=\"color: #6a00ff; text-decoration-color: #6a00ff\">Confident AI</span> to get &amp; share testing reports, \n",
       "experiment with models/prompts, and catch regressions for your LLM system. Just run <span style=\"color: #008080; text-decoration-color: #008080\">'deepeval login'</span> in the CLI. \n",
       "\n",
       "</pre>\n"
      ],
      "text/plain": [
       "\n",
       "\u001b[38;2;5;245;141m✓\u001b[0m Tests finished 🎉! Run \u001b[1;32m'deepeval login'\u001b[0m to save and analyze evaluation results on Confident AI.\n",
       " \n",
       "✨👀 Looking for a place for your LLM test data to live 🏡❤️ ? Use \u001b[38;2;106;0;255mConfident AI\u001b[0m to get & share testing reports, \n",
       "experiment with models/prompts, and catch regressions for your LLM system. Just run \u001b[36m'deepeval login'\u001b[0m in the CLI. \n",
       "\n"
      ]
     },
     "metadata": {},
     "output_type": "display_data"
    },
    {
     "name": "stdout",
     "output_type": "stream",
     "text": [
      "MESSAGES\n",
      "[{'role': 'user', 'content': 'Твоя задача - определить, релевантны ли предоставленные документы запросу пользователя. Релевантым считай тот документ, в котором тема хотя бы смежно связана с запросом. Верни ровно один массив из строк \\'0\\' или \\'1\\', где \\'1\\' означает, что документ релевантен запросу, а \\'0\\' - что нерелевантен. Массив должен иметь ровно столько элементов, сколько документов в запросе.\\n\\nЗапрос: \\'моя зарплата\\'\\n\\nДокументы:\\nДокумент 0:\\nВопрос: можешь ответить по зарплате?\\nОтвет: по данному вопросу вы можете обратиться в кадровую службу, создав заявку \"консультация по hr вопросам\"\\n\\nДокумент 1:\\nВопрос: когда зарплата?\\nОтвет: заработная плата в нашей компании выплачивается двумя частями. 28-го числа месяца направляется аванс, 13-го числа месяца, следующего за расчетным, выплачивается основная заработная плата.\\n\\nДокумент 2:\\nВопрос: моя карьера\\nОтвет: доступ к программе \"карьера\" появляется спустя 4 месяца после трудоутстройства в компанию. если по прошествии 4х месяцев раздел по-прежнему недоступен, обратитесь в поддержку\\n\\nДокумент 3:\\nВопрос: я могу указать чужие реквизиты для выплаты зарплаты?\\nОтвет: в трудовом договоре не предусматривается возможность зачисления заработной платы на реквизиты иных лиц. владельцем расчетного счета может выступать только сам сотрудник компании. если вы укажете реквизиты иного лица, то банк произведет возврат выплаты работодателю.\\n\\nДокумент 4:\\nВопрос: в какую дату моя зарплата направляется приставам?\\nОтвет: обращаем внимание, что работодатель производит перечисление денежных средств приставам 1 раз в месяц, после выплаты заработной платы (13 числа). денежные средства отправляются в течение 3 рабочих дней.\\n\\n\\n\\nОцени релевантность каждого документа к этому запросу и верни массив из 5 элементов, где каждый элемент - \\'0\\' или \\'1\\'.'}]\n",
      "MESSAGES\n",
      "[{'role': 'user', 'content': 'Ты помощник, который дает ответы в том же стиле, что и представленные примеры. Используй предоставленные вопросы и ответы как образец стиля и уровня детализации.\\n\\nПримеры вопросов и ответов:\\n\\nПример 1:\\nВопрос: можешь ответить по зарплате?\\nОтвет: по данному вопросу вы можете обратиться в кадровую службу, создав заявку \"консультация по hr вопросам\"\\n\\nПример 2:\\nВопрос: когда зарплата?\\nОтвет: заработная плата в нашей компании выплачивается двумя частями. 28-го числа месяца направляется аванс, 13-го числа месяца, следующего за расчетным, выплачивается основная заработная плата.\\n\\nПример 3:\\nВопрос: я могу указать чужие реквизиты для выплаты зарплаты?\\nОтвет: в трудовом договоре не предусматривается возможность зачисления заработной платы на реквизиты иных лиц. владельцем расчетного счета может выступать только сам сотрудник компании. если вы укажете реквизиты иного лица, то банк произведет возврат выплаты работодателю.\\n\\nПример 4:\\nВопрос: в какую дату моя зарплата направляется приставам?\\nОтвет: обращаем внимание, что работодатель производит перечисление денежных средств приставам 1 раз в месяц, после выплаты заработной платы (13 числа). денежные средства отправляются в течение 3 рабочих дней.\\n\\n\\n\\nЗапрос пользователя: моя зарплата\\n\\nОтветь на запрос пользователя в том же стиле, что и приведенные примеры.'}]\n"
     ]
    },
    {
     "data": {
      "text/html": [
       "<pre style=\"white-space:pre;overflow-x:auto;line-height:normal;font-family:Menlo,'DejaVu Sans Mono',consolas,'Courier New',monospace\">✨ You're running DeepEval's latest <span style=\"color: #6a00ff; text-decoration-color: #6a00ff\">Answer Relevancy Metric</span>! <span style=\"color: #374151; text-decoration-color: #374151; font-weight: bold\">(</span><span style=\"color: #374151; text-decoration-color: #374151\">using gpt-4o, </span><span style=\"color: #374151; text-decoration-color: #374151\">strict</span><span style=\"color: #374151; text-decoration-color: #374151\">=</span><span style=\"color: #374151; text-decoration-color: #374151; font-style: italic\">False</span><span style=\"color: #374151; text-decoration-color: #374151\">, </span><span style=\"color: #374151; text-decoration-color: #374151\">async_mode</span><span style=\"color: #374151; text-decoration-color: #374151\">=</span><span style=\"color: #374151; text-decoration-color: #374151; font-style: italic\">True</span><span style=\"color: #374151; text-decoration-color: #374151; font-weight: bold\">)</span><span style=\"color: #374151; text-decoration-color: #374151\">...</span>\n",
       "</pre>\n"
      ],
      "text/plain": [
       "✨ You're running DeepEval's latest \u001b[38;2;106;0;255mAnswer Relevancy Metric\u001b[0m! \u001b[1;38;2;55;65;81m(\u001b[0m\u001b[38;2;55;65;81musing gpt-4o, \u001b[0m\u001b[38;2;55;65;81mstrict\u001b[0m\u001b[38;2;55;65;81m=\u001b[0m\u001b[3;38;2;55;65;81mFalse\u001b[0m\u001b[38;2;55;65;81m, \u001b[0m\u001b[38;2;55;65;81masync_mode\u001b[0m\u001b[38;2;55;65;81m=\u001b[0m\u001b[3;38;2;55;65;81mTrue\u001b[0m\u001b[1;38;2;55;65;81m)\u001b[0m\u001b[38;2;55;65;81m...\u001b[0m\n"
      ]
     },
     "metadata": {},
     "output_type": "display_data"
    },
    {
     "name": "stdout",
     "output_type": "stream",
     "text": [
      "Event loop is already running. Applying nest_asyncio patch to allow async execution...\n"
     ]
    },
    {
     "name": "stderr",
     "output_type": "stream",
     "text": [
      "Evaluating 1 test case(s) in parallel: |██████████|100% (1/1) [Time Taken: 00:06,  6.21s/test case]\n"
     ]
    },
    {
     "data": {
      "text/html": [
       "<pre style=\"white-space:pre;overflow-x:auto;line-height:normal;font-family:Menlo,'DejaVu Sans Mono',consolas,'Courier New',monospace\">\n",
       "<span style=\"color: #05f58d; text-decoration-color: #05f58d\">✓</span> Tests finished 🎉! Run <span style=\"color: #008000; text-decoration-color: #008000; font-weight: bold\">'deepeval login'</span> to save and analyze evaluation results on Confident AI.\n",
       " \n",
       "✨👀 Looking for a place for your LLM test data to live 🏡❤️ ? Use <span style=\"color: #6a00ff; text-decoration-color: #6a00ff\">Confident AI</span> to get &amp; share testing reports, \n",
       "experiment with models/prompts, and catch regressions for your LLM system. Just run <span style=\"color: #008080; text-decoration-color: #008080\">'deepeval login'</span> in the CLI. \n",
       "\n",
       "</pre>\n"
      ],
      "text/plain": [
       "\n",
       "\u001b[38;2;5;245;141m✓\u001b[0m Tests finished 🎉! Run \u001b[1;32m'deepeval login'\u001b[0m to save and analyze evaluation results on Confident AI.\n",
       " \n",
       "✨👀 Looking for a place for your LLM test data to live 🏡❤️ ? Use \u001b[38;2;106;0;255mConfident AI\u001b[0m to get & share testing reports, \n",
       "experiment with models/prompts, and catch regressions for your LLM system. Just run \u001b[36m'deepeval login'\u001b[0m in the CLI. \n",
       "\n"
      ]
     },
     "metadata": {},
     "output_type": "display_data"
    },
    {
     "name": "stdout",
     "output_type": "stream",
     "text": [
      "MESSAGES\n",
      "[{'role': 'user', 'content': 'Твоя задача - определить, релевантны ли предоставленные документы запросу пользователя. Релевантым считай тот документ, в котором тема хотя бы смежно связана с запросом. Верни ровно один массив из строк \\'0\\' или \\'1\\', где \\'1\\' означает, что документ релевантен запросу, а \\'0\\' - что нерелевантен. Массив должен иметь ровно столько элементов, сколько документов в запросе.\\n\\nЗапрос: \\'подал заявку на отпуск подать еще одну почему не получается\\'\\n\\nДокументы:\\nДокумент 0:\\nВопрос: не получается подать заявление на отпуск\\nОтвет: создайте, пожалуйста, обращение в ит поддержку на портале support\\n\\nДокумент 1:\\nВопрос: не могу создать заявку на отпуск во время планирования отпуска\\nОтвет: во время планирования отпусков, оформление заявок на перенос отпуска/отгулы и предоставление ежегодного отпуска по заявлению недоступно. для проведения отгула на конец года необходимо обратиться к специалистам hr вашей торговой сети или же позвонить на горячую линию.\\n\\nДокумент 2:\\nВопрос: после поданной заявки на отпуск не получается создать новую заявку, так как первая на согласовании.\\nОтвет: может одновременно существовать не более 1 заявки на тему отпуска\\n\\nДокумент 3:\\nВопрос: не могу воспользоваться отпуском по заявлению , так как не высвечиваются доступные дни отпуска\\nОтвет: лимиты в личном кабинете отображаются на основании данных в кадровой системе. в процессе планирования, программа считает дни исходя из имеющихся лимитов и может предоставить дни отпуска авансом. на календарный год программа предоставляет лимит 28 дней. период, за который накапливаются лимиты в количестве 28 дней, у каждого сотрудника индивидуальный и считается со дня приема в компанию. за каждый последующий отработанный месяц предоставляется 2.33 дня отпуска. специалистам hr следует проверить данные в 2001ит и в 2006ит, а именно сколько дней было запланировано и использовано в текущем году, есть ли неистраченные лимиты, есть ли продленный лимит на будущее. проверить количество запланированных дней и доступных остатков. посмотреть расчет отпускных дней отпуска на отчетную дату или на конец года можно через транзакцию zhrpa036. так же по существующему алгоритму при планировании отпусков в личном кабинете установлено правило - нельзя планировать более половины всех накопленных дней отпуска в первое полугодие до конца июня. у сотрудника прописано в личном кабинете, что нельзя планировать более 15 дней в первое полугодие.\\n\\nДокумент 4:\\nВопрос: не получается внести отпуск на следующий год\\nОтвет: есть причины, по которым сотрудник может не участвовать в планировании: 1) стоят неявки в промежутке от текущей даты до 01.09 следующего года. 2) есть мероприятие увольнение в будущем начиная от текущей даты. 3) имеется срочный трудовой договор, который оканчивается в середине следующего года 4) сотрудник является внутренним совместителем 5) сотрудник находится на 0% занятости от текущей даты и далее в будущем 6) работа по договору гпх для уточнения данного вопроса, а так же корректировки данных, вы можете обратиться в кадровую службу или же позвонить на горячую линию. *если процесс планирования отпусков на будущий год окончен, то возможности в лк запланировать отпуск нет ни самому сотруднику, ни руководителю за сотрудника. сотрудник сможет в следующем году оформить в лк \"отпуск по заявлению\".\\n\\nДокумент 5:\\nВопрос: добрый день! не могу создать заявку на отгул\\nОтвет: пожалуйста, создайте заявку по теме «отпуск», далее «отпуска и прочие отсутствия», подтема «отгул за ранее отработанный выходной или праздничный день». к заявке приложите, пожалуйста, заявление. шаблон заявления доступен в разделе «база знаний».\\n\\n\\n\\nОцени релевантность каждого документа к этому запросу и верни массив из 6 элементов, где каждый элемент - \\'0\\' или \\'1\\'.'}]\n",
      "MESSAGES\n",
      "[{'role': 'user', 'content': 'Ты помощник, который дает ответы в том же стиле, что и представленные примеры. Используй предоставленные вопросы и ответы как образец стиля и уровня детализации.\\n\\nПримеры вопросов и ответов:\\n\\nПример 1:\\nВопрос: не получается подать заявление на отпуск\\nОтвет: создайте, пожалуйста, обращение в ит поддержку на портале support\\n\\nПример 2:\\nВопрос: не могу создать заявку на отпуск во время планирования отпуска\\nОтвет: во время планирования отпусков, оформление заявок на перенос отпуска/отгулы и предоставление ежегодного отпуска по заявлению недоступно. для проведения отгула на конец года необходимо обратиться к специалистам hr вашей торговой сети или же позвонить на горячую линию.\\n\\nПример 3:\\nВопрос: после поданной заявки на отпуск не получается создать новую заявку, так как первая на согласовании.\\nОтвет: может одновременно существовать не более 1 заявки на тему отпуска\\n\\n\\n\\nЗапрос пользователя: подал заявку на отпуск подать еще одну почему не получается\\n\\nОтветь на запрос пользователя в том же стиле, что и приведенные примеры.'}]\n"
     ]
    },
    {
     "data": {
      "text/html": [
       "<pre style=\"white-space:pre;overflow-x:auto;line-height:normal;font-family:Menlo,'DejaVu Sans Mono',consolas,'Courier New',monospace\">✨ You're running DeepEval's latest <span style=\"color: #6a00ff; text-decoration-color: #6a00ff\">Answer Relevancy Metric</span>! <span style=\"color: #374151; text-decoration-color: #374151; font-weight: bold\">(</span><span style=\"color: #374151; text-decoration-color: #374151\">using gpt-4o, </span><span style=\"color: #374151; text-decoration-color: #374151\">strict</span><span style=\"color: #374151; text-decoration-color: #374151\">=</span><span style=\"color: #374151; text-decoration-color: #374151; font-style: italic\">False</span><span style=\"color: #374151; text-decoration-color: #374151\">, </span><span style=\"color: #374151; text-decoration-color: #374151\">async_mode</span><span style=\"color: #374151; text-decoration-color: #374151\">=</span><span style=\"color: #374151; text-decoration-color: #374151; font-style: italic\">True</span><span style=\"color: #374151; text-decoration-color: #374151; font-weight: bold\">)</span><span style=\"color: #374151; text-decoration-color: #374151\">...</span>\n",
       "</pre>\n"
      ],
      "text/plain": [
       "✨ You're running DeepEval's latest \u001b[38;2;106;0;255mAnswer Relevancy Metric\u001b[0m! \u001b[1;38;2;55;65;81m(\u001b[0m\u001b[38;2;55;65;81musing gpt-4o, \u001b[0m\u001b[38;2;55;65;81mstrict\u001b[0m\u001b[38;2;55;65;81m=\u001b[0m\u001b[3;38;2;55;65;81mFalse\u001b[0m\u001b[38;2;55;65;81m, \u001b[0m\u001b[38;2;55;65;81masync_mode\u001b[0m\u001b[38;2;55;65;81m=\u001b[0m\u001b[3;38;2;55;65;81mTrue\u001b[0m\u001b[1;38;2;55;65;81m)\u001b[0m\u001b[38;2;55;65;81m...\u001b[0m\n"
      ]
     },
     "metadata": {},
     "output_type": "display_data"
    },
    {
     "name": "stdout",
     "output_type": "stream",
     "text": [
      "Event loop is already running. Applying nest_asyncio patch to allow async execution...\n"
     ]
    },
    {
     "name": "stderr",
     "output_type": "stream",
     "text": [
      "Evaluating 1 test case(s) in parallel: |██████████|100% (1/1) [Time Taken: 00:04,  4.05s/test case]\n"
     ]
    },
    {
     "data": {
      "text/html": [
       "<pre style=\"white-space:pre;overflow-x:auto;line-height:normal;font-family:Menlo,'DejaVu Sans Mono',consolas,'Courier New',monospace\">\n",
       "<span style=\"color: #05f58d; text-decoration-color: #05f58d\">✓</span> Tests finished 🎉! Run <span style=\"color: #008000; text-decoration-color: #008000; font-weight: bold\">'deepeval login'</span> to save and analyze evaluation results on Confident AI.\n",
       " \n",
       "✨👀 Looking for a place for your LLM test data to live 🏡❤️ ? Use <span style=\"color: #6a00ff; text-decoration-color: #6a00ff\">Confident AI</span> to get &amp; share testing reports, \n",
       "experiment with models/prompts, and catch regressions for your LLM system. Just run <span style=\"color: #008080; text-decoration-color: #008080\">'deepeval login'</span> in the CLI. \n",
       "\n",
       "</pre>\n"
      ],
      "text/plain": [
       "\n",
       "\u001b[38;2;5;245;141m✓\u001b[0m Tests finished 🎉! Run \u001b[1;32m'deepeval login'\u001b[0m to save and analyze evaluation results on Confident AI.\n",
       " \n",
       "✨👀 Looking for a place for your LLM test data to live 🏡❤️ ? Use \u001b[38;2;106;0;255mConfident AI\u001b[0m to get & share testing reports, \n",
       "experiment with models/prompts, and catch regressions for your LLM system. Just run \u001b[36m'deepeval login'\u001b[0m in the CLI. \n",
       "\n"
      ]
     },
     "metadata": {},
     "output_type": "display_data"
    },
    {
     "name": "stdout",
     "output_type": "stream",
     "text": [
      "MESSAGES\n",
      "[{'role': 'user', 'content': 'Твоя задача - определить, релевантны ли предоставленные документы запросу пользователя. Релевантым считай тот документ, в котором тема хотя бы смежно связана с запросом. Верни ровно один массив из строк \\'0\\' или \\'1\\', где \\'1\\' означает, что документ релевантен запросу, а \\'0\\' - что нерелевантен. Массив должен иметь ровно столько элементов, сколько документов в запросе.\\n\\nЗапрос: \\'удержание заработная плата убрать\\'\\n\\nДокументы:\\nДокумент 0:\\nВопрос: как отменить удержание с заработной платы?\\nОтвет: обратитесь, пожалуйста, к непосредственному руководителю для создания заявки на вас по теме «удержания», подтема \"исполнительный лист\". в рамках заявки передайте постановление о прекращении удержаний по исполнительному листу.\\n\\nДокумент 1:\\nВопрос: отменить трудоустройство\\nОтвет: если заявка не актуальна просьба создать заявку по процессу 5206 - отмена заявки или 5342-закрытие задач\\n\\nДокумент 2:\\nВопрос: увольнение\\nОтвет: напишите заявление на увольнение , шаблон есть в базе знаний личного кабинета и передайте его директору магазина. он подпишет заявление и передаст его в рамках заявки в личном кабинете по теме \"увольнение\". дату увольнения согласуйте, пожалуйста, с директором магазина. предупредить работодателя об увольнении необходимо за 14 дней до дня увольнения.\\n\\nДокумент 3:\\nВопрос: как удалить отпуск без сохранения зарплаты?\\nОтвет: для отмены отпуска без сохранения заработной платы сотрудник обращается к непосредственному руководителю, чтобы он создал заявку в личном кабинете по теме «отмена/аннулирование мероприятия».\\n\\nДокумент 4:\\nВопрос: удалите запланированный годовой отпуск\\nОтвет: задача на планирование отпуска находится в разделе \"задачи\" у вашего руководителя в личном кабинете. отменить/аннулировать заявку на плановый отпуск нельзя, его можно скорректировать после утверждения через перенос на нужные даты. перенос будет доступен с начала следующего года. для отмены проведенного отпуска, необходимо обратиться в кадровые службы, создав заявку в лк.\\n\\nДокумент 5:\\nВопрос: нужно обнулить ставку сотруднику\\nОтвет: для обнуления ставки создайте заявку в личном кабинете по теме «табель/график/рабочее время», далее «обнуление ставок». обратите внимание, что обнуление ставок проводится в случае нахождения сотрудника на длительном больничном или в отпуске без сохранения заработной платы.\\n\\n\\n\\nОцени релевантность каждого документа к этому запросу и верни массив из 6 элементов, где каждый элемент - \\'0\\' или \\'1\\'.'}]\n",
      "MESSAGES\n",
      "[{'role': 'user', 'content': 'Ты помощник, который дает ответы в том же стиле, что и представленные примеры. Используй предоставленные вопросы и ответы как образец стиля и уровня детализации.\\n\\nПримеры вопросов и ответов:\\n\\nПример 1:\\nВопрос: как отменить удержание с заработной платы?\\nОтвет: обратитесь, пожалуйста, к непосредственному руководителю для создания заявки на вас по теме «удержания», подтема \"исполнительный лист\". в рамках заявки передайте постановление о прекращении удержаний по исполнительному листу.\\n\\nПример 2:\\nВопрос: как удалить отпуск без сохранения зарплаты?\\nОтвет: для отмены отпуска без сохранения заработной платы сотрудник обращается к непосредственному руководителю, чтобы он создал заявку в личном кабинете по теме «отмена/аннулирование мероприятия».\\n\\nПример 3:\\nВопрос: нужно обнулить ставку сотруднику\\nОтвет: для обнуления ставки создайте заявку в личном кабинете по теме «табель/график/рабочее время», далее «обнуление ставок». обратите внимание, что обнуление ставок проводится в случае нахождения сотрудника на длительном больничном или в отпуске без сохранения заработной платы.\\n\\n\\n\\nЗапрос пользователя: удержание заработная плата убрать\\n\\nОтветь на запрос пользователя в том же стиле, что и приведенные примеры.'}]\n"
     ]
    },
    {
     "data": {
      "text/html": [
       "<pre style=\"white-space:pre;overflow-x:auto;line-height:normal;font-family:Menlo,'DejaVu Sans Mono',consolas,'Courier New',monospace\">✨ You're running DeepEval's latest <span style=\"color: #6a00ff; text-decoration-color: #6a00ff\">Answer Relevancy Metric</span>! <span style=\"color: #374151; text-decoration-color: #374151; font-weight: bold\">(</span><span style=\"color: #374151; text-decoration-color: #374151\">using gpt-4o, </span><span style=\"color: #374151; text-decoration-color: #374151\">strict</span><span style=\"color: #374151; text-decoration-color: #374151\">=</span><span style=\"color: #374151; text-decoration-color: #374151; font-style: italic\">False</span><span style=\"color: #374151; text-decoration-color: #374151\">, </span><span style=\"color: #374151; text-decoration-color: #374151\">async_mode</span><span style=\"color: #374151; text-decoration-color: #374151\">=</span><span style=\"color: #374151; text-decoration-color: #374151; font-style: italic\">True</span><span style=\"color: #374151; text-decoration-color: #374151; font-weight: bold\">)</span><span style=\"color: #374151; text-decoration-color: #374151\">...</span>\n",
       "</pre>\n"
      ],
      "text/plain": [
       "✨ You're running DeepEval's latest \u001b[38;2;106;0;255mAnswer Relevancy Metric\u001b[0m! \u001b[1;38;2;55;65;81m(\u001b[0m\u001b[38;2;55;65;81musing gpt-4o, \u001b[0m\u001b[38;2;55;65;81mstrict\u001b[0m\u001b[38;2;55;65;81m=\u001b[0m\u001b[3;38;2;55;65;81mFalse\u001b[0m\u001b[38;2;55;65;81m, \u001b[0m\u001b[38;2;55;65;81masync_mode\u001b[0m\u001b[38;2;55;65;81m=\u001b[0m\u001b[3;38;2;55;65;81mTrue\u001b[0m\u001b[1;38;2;55;65;81m)\u001b[0m\u001b[38;2;55;65;81m...\u001b[0m\n"
      ]
     },
     "metadata": {},
     "output_type": "display_data"
    },
    {
     "name": "stdout",
     "output_type": "stream",
     "text": [
      "Event loop is already running. Applying nest_asyncio patch to allow async execution...\n"
     ]
    },
    {
     "name": "stderr",
     "output_type": "stream",
     "text": [
      "Evaluating 1 test case(s) in parallel: |██████████|100% (1/1) [Time Taken: 00:05,  5.25s/test case]\n"
     ]
    },
    {
     "data": {
      "text/html": [
       "<pre style=\"white-space:pre;overflow-x:auto;line-height:normal;font-family:Menlo,'DejaVu Sans Mono',consolas,'Courier New',monospace\">\n",
       "<span style=\"color: #05f58d; text-decoration-color: #05f58d\">✓</span> Tests finished 🎉! Run <span style=\"color: #008000; text-decoration-color: #008000; font-weight: bold\">'deepeval login'</span> to save and analyze evaluation results on Confident AI.\n",
       " \n",
       "✨👀 Looking for a place for your LLM test data to live 🏡❤️ ? Use <span style=\"color: #6a00ff; text-decoration-color: #6a00ff\">Confident AI</span> to get &amp; share testing reports, \n",
       "experiment with models/prompts, and catch regressions for your LLM system. Just run <span style=\"color: #008080; text-decoration-color: #008080\">'deepeval login'</span> in the CLI. \n",
       "\n",
       "</pre>\n"
      ],
      "text/plain": [
       "\n",
       "\u001b[38;2;5;245;141m✓\u001b[0m Tests finished 🎉! Run \u001b[1;32m'deepeval login'\u001b[0m to save and analyze evaluation results on Confident AI.\n",
       " \n",
       "✨👀 Looking for a place for your LLM test data to live 🏡❤️ ? Use \u001b[38;2;106;0;255mConfident AI\u001b[0m to get & share testing reports, \n",
       "experiment with models/prompts, and catch regressions for your LLM system. Just run \u001b[36m'deepeval login'\u001b[0m in the CLI. \n",
       "\n"
      ]
     },
     "metadata": {},
     "output_type": "display_data"
    },
    {
     "name": "stdout",
     "output_type": "stream",
     "text": [
      "MESSAGES\n",
      "[{'role': 'user', 'content': 'Твоя задача - определить, релевантны ли предоставленные документы запросу пользователя. Релевантым считай тот документ, в котором тема хотя бы смежно связана с запросом. Верни ровно один массив из строк \\'0\\' или \\'1\\', где \\'1\\' означает, что документ релевантен запросу, а \\'0\\' - что нерелевантен. Массив должен иметь ровно столько элементов, сколько документов в запросе.\\n\\nЗапрос: \\'вернуть заявку на работу\\'\\n\\nДокументы:\\nДокумент 0:\\nВопрос: не могу вернуть заявку в работу\\nОтвет: вернуть в работу закрыту или выполненную заявку невозможно технически\\n\\nДокумент 1:\\nВопрос: нужно вернуть заявку исполнителю\\nОтвет: создайте, пожалуйста, обращение в ит поддержку на портале support\\n\\nДокумент 2:\\nВопрос: отправьте заявку на удаленную работу повторно на согласование\\nОтвет: данная заявка была завершена т.к истек срок на согласование, вам требуется оформить новую заявку, после чего она будет отправлена на согласование.\\n\\nДокумент 3:\\nВопрос: как отменить заявку на прием работы сотрудника?\\nОтвет: если заявка не актуальна просьба создать заявку по процессу 5206 - отмена заявки или 5342-закрытие задач\\n\\nДокумент 4:\\nВопрос: не могу сделать заявку на сотрудника\\nОтвет: если в \"команде\" нет подчиненных сотрудников просьба обратиться в поддержку для корректировки\\n\\nДокумент 5:\\nВопрос: восстановить доступ сотруднику\\nОтвет: при проблемах со входом в личный кабинет, прежде чем создавать заявку в поддержку, убедитесь, что заходите в лк на сайте link указываете актуальные и верные логин и пароль. если вам неизвестен логин, обратитесь к руководителю (дм), он сможет посмотреть ваш логин и сбросить пароль в веб-табеле. для самостоятельного сброса пароля позвоните с вашего мобильного телефона на phone, наберите добавочный номер 10100, нажмите * и подтвердите сброс пароля, нажав #. обновленный пароль отправляется по sms.\\n\\nДокумент 6:\\nВопрос: вернуть сотрудника в штат\\nОтвет: для вывода сотрудника в штат создайте, пожалуйста, заявку в личном кабинете по теме «табель/график/рабочее время», далее «обнуление ставок» с подтемой «прекращение обнуления».\\n\\n\\n\\nОцени релевантность каждого документа к этому запросу и верни массив из 7 элементов, где каждый элемент - \\'0\\' или \\'1\\'.'}]\n",
      "MESSAGES\n",
      "[{'role': 'user', 'content': 'Ты помощник, который дает ответы в том же стиле, что и представленные примеры. Используй предоставленные вопросы и ответы как образец стиля и уровня детализации.\\n\\nПримеры вопросов и ответов:\\n\\nПример 1:\\nВопрос: не могу вернуть заявку в работу\\nОтвет: вернуть в работу закрыту или выполненную заявку невозможно технически\\n\\nПример 2:\\nВопрос: отправьте заявку на удаленную работу повторно на согласование\\nОтвет: данная заявка была завершена т.к истек срок на согласование, вам требуется оформить новую заявку, после чего она будет отправлена на согласование.\\n\\n\\n\\nЗапрос пользователя: вернуть заявку на работу\\n\\nОтветь на запрос пользователя в том же стиле, что и приведенные примеры.'}]\n"
     ]
    },
    {
     "data": {
      "text/html": [
       "<pre style=\"white-space:pre;overflow-x:auto;line-height:normal;font-family:Menlo,'DejaVu Sans Mono',consolas,'Courier New',monospace\">✨ You're running DeepEval's latest <span style=\"color: #6a00ff; text-decoration-color: #6a00ff\">Answer Relevancy Metric</span>! <span style=\"color: #374151; text-decoration-color: #374151; font-weight: bold\">(</span><span style=\"color: #374151; text-decoration-color: #374151\">using gpt-4o, </span><span style=\"color: #374151; text-decoration-color: #374151\">strict</span><span style=\"color: #374151; text-decoration-color: #374151\">=</span><span style=\"color: #374151; text-decoration-color: #374151; font-style: italic\">False</span><span style=\"color: #374151; text-decoration-color: #374151\">, </span><span style=\"color: #374151; text-decoration-color: #374151\">async_mode</span><span style=\"color: #374151; text-decoration-color: #374151\">=</span><span style=\"color: #374151; text-decoration-color: #374151; font-style: italic\">True</span><span style=\"color: #374151; text-decoration-color: #374151; font-weight: bold\">)</span><span style=\"color: #374151; text-decoration-color: #374151\">...</span>\n",
       "</pre>\n"
      ],
      "text/plain": [
       "✨ You're running DeepEval's latest \u001b[38;2;106;0;255mAnswer Relevancy Metric\u001b[0m! \u001b[1;38;2;55;65;81m(\u001b[0m\u001b[38;2;55;65;81musing gpt-4o, \u001b[0m\u001b[38;2;55;65;81mstrict\u001b[0m\u001b[38;2;55;65;81m=\u001b[0m\u001b[3;38;2;55;65;81mFalse\u001b[0m\u001b[38;2;55;65;81m, \u001b[0m\u001b[38;2;55;65;81masync_mode\u001b[0m\u001b[38;2;55;65;81m=\u001b[0m\u001b[3;38;2;55;65;81mTrue\u001b[0m\u001b[1;38;2;55;65;81m)\u001b[0m\u001b[38;2;55;65;81m...\u001b[0m\n"
      ]
     },
     "metadata": {},
     "output_type": "display_data"
    },
    {
     "name": "stdout",
     "output_type": "stream",
     "text": [
      "Event loop is already running. Applying nest_asyncio patch to allow async execution...\n"
     ]
    },
    {
     "name": "stderr",
     "output_type": "stream",
     "text": [
      "Evaluating 1 test case(s) in parallel: |██████████|100% (1/1) [Time Taken: 00:03,  3.58s/test case]\n"
     ]
    },
    {
     "data": {
      "text/html": [
       "<pre style=\"white-space:pre;overflow-x:auto;line-height:normal;font-family:Menlo,'DejaVu Sans Mono',consolas,'Courier New',monospace\">\n",
       "<span style=\"color: #05f58d; text-decoration-color: #05f58d\">✓</span> Tests finished 🎉! Run <span style=\"color: #008000; text-decoration-color: #008000; font-weight: bold\">'deepeval login'</span> to save and analyze evaluation results on Confident AI.\n",
       " \n",
       "✨👀 Looking for a place for your LLM test data to live 🏡❤️ ? Use <span style=\"color: #6a00ff; text-decoration-color: #6a00ff\">Confident AI</span> to get &amp; share testing reports, \n",
       "experiment with models/prompts, and catch regressions for your LLM system. Just run <span style=\"color: #008080; text-decoration-color: #008080\">'deepeval login'</span> in the CLI. \n",
       "\n",
       "</pre>\n"
      ],
      "text/plain": [
       "\n",
       "\u001b[38;2;5;245;141m✓\u001b[0m Tests finished 🎉! Run \u001b[1;32m'deepeval login'\u001b[0m to save and analyze evaluation results on Confident AI.\n",
       " \n",
       "✨👀 Looking for a place for your LLM test data to live 🏡❤️ ? Use \u001b[38;2;106;0;255mConfident AI\u001b[0m to get & share testing reports, \n",
       "experiment with models/prompts, and catch regressions for your LLM system. Just run \u001b[36m'deepeval login'\u001b[0m in the CLI. \n",
       "\n"
      ]
     },
     "metadata": {},
     "output_type": "display_data"
    },
    {
     "name": "stdout",
     "output_type": "stream",
     "text": [
      "MESSAGES\n",
      "[{'role': 'user', 'content': 'Твоя задача - определить, релевантны ли предоставленные документы запросу пользователя. Релевантым считай тот документ, в котором тема хотя бы смежно связана с запросом. Верни ровно один массив из строк \\'0\\' или \\'1\\', где \\'1\\' означает, что документ релевантен запросу, а \\'0\\' - что нерелевантен. Массив должен иметь ровно столько элементов, сколько документов в запросе.\\n\\nЗапрос: \\'удалить заявку\\'\\n\\nДокументы:\\nДокумент 0:\\nВопрос: удалить заявку\\nОтвет: если заявка не актуальна просьба создать заявку по процессу 5206 - отмена заявки или 5342-закрытие задач\\n\\nДокумент 1:\\nВопрос: удалите согласованню заявку по ур\\nОтвет: вам необходимо обратиться в специалистам hr для того, чтобы они удалили мероприятие \"работа на дому\" и доп.соглашение, тогда статус текущей заявки станет «не актуально» и появится возможность создать новую.\\n\\n\\n\\nОцени релевантность каждого документа к этому запросу и верни массив из 2 элементов, где каждый элемент - \\'0\\' или \\'1\\'.'}]\n",
      "MESSAGES\n",
      "[{'role': 'user', 'content': 'Ты помощник, который дает ответы в том же стиле, что и представленные примеры. Используй предоставленные вопросы и ответы как образец стиля и уровня детализации.\\n\\nПримеры вопросов и ответов:\\n\\nПример 1:\\nВопрос: удалить заявку\\nОтвет: если заявка не актуальна просьба создать заявку по процессу 5206 - отмена заявки или 5342-закрытие задач\\n\\nПример 2:\\nВопрос: удалите согласованню заявку по ур\\nОтвет: вам необходимо обратиться в специалистам hr для того, чтобы они удалили мероприятие \"работа на дому\" и доп.соглашение, тогда статус текущей заявки станет «не актуально» и появится возможность создать новую.\\n\\n\\n\\nЗапрос пользователя: удалить заявку\\n\\nОтветь на запрос пользователя в том же стиле, что и приведенные примеры.'}]\n"
     ]
    },
    {
     "data": {
      "text/html": [
       "<pre style=\"white-space:pre;overflow-x:auto;line-height:normal;font-family:Menlo,'DejaVu Sans Mono',consolas,'Courier New',monospace\">✨ You're running DeepEval's latest <span style=\"color: #6a00ff; text-decoration-color: #6a00ff\">Answer Relevancy Metric</span>! <span style=\"color: #374151; text-decoration-color: #374151; font-weight: bold\">(</span><span style=\"color: #374151; text-decoration-color: #374151\">using gpt-4o, </span><span style=\"color: #374151; text-decoration-color: #374151\">strict</span><span style=\"color: #374151; text-decoration-color: #374151\">=</span><span style=\"color: #374151; text-decoration-color: #374151; font-style: italic\">False</span><span style=\"color: #374151; text-decoration-color: #374151\">, </span><span style=\"color: #374151; text-decoration-color: #374151\">async_mode</span><span style=\"color: #374151; text-decoration-color: #374151\">=</span><span style=\"color: #374151; text-decoration-color: #374151; font-style: italic\">True</span><span style=\"color: #374151; text-decoration-color: #374151; font-weight: bold\">)</span><span style=\"color: #374151; text-decoration-color: #374151\">...</span>\n",
       "</pre>\n"
      ],
      "text/plain": [
       "✨ You're running DeepEval's latest \u001b[38;2;106;0;255mAnswer Relevancy Metric\u001b[0m! \u001b[1;38;2;55;65;81m(\u001b[0m\u001b[38;2;55;65;81musing gpt-4o, \u001b[0m\u001b[38;2;55;65;81mstrict\u001b[0m\u001b[38;2;55;65;81m=\u001b[0m\u001b[3;38;2;55;65;81mFalse\u001b[0m\u001b[38;2;55;65;81m, \u001b[0m\u001b[38;2;55;65;81masync_mode\u001b[0m\u001b[38;2;55;65;81m=\u001b[0m\u001b[3;38;2;55;65;81mTrue\u001b[0m\u001b[1;38;2;55;65;81m)\u001b[0m\u001b[38;2;55;65;81m...\u001b[0m\n"
      ]
     },
     "metadata": {},
     "output_type": "display_data"
    },
    {
     "name": "stdout",
     "output_type": "stream",
     "text": [
      "Event loop is already running. Applying nest_asyncio patch to allow async execution...\n"
     ]
    },
    {
     "name": "stderr",
     "output_type": "stream",
     "text": [
      "Evaluating 1 test case(s) in parallel: |██████████|100% (1/1) [Time Taken: 00:03,  3.56s/test case]\n"
     ]
    },
    {
     "data": {
      "text/html": [
       "<pre style=\"white-space:pre;overflow-x:auto;line-height:normal;font-family:Menlo,'DejaVu Sans Mono',consolas,'Courier New',monospace\">\n",
       "<span style=\"color: #05f58d; text-decoration-color: #05f58d\">✓</span> Tests finished 🎉! Run <span style=\"color: #008000; text-decoration-color: #008000; font-weight: bold\">'deepeval login'</span> to save and analyze evaluation results on Confident AI.\n",
       " \n",
       "✨👀 Looking for a place for your LLM test data to live 🏡❤️ ? Use <span style=\"color: #6a00ff; text-decoration-color: #6a00ff\">Confident AI</span> to get &amp; share testing reports, \n",
       "experiment with models/prompts, and catch regressions for your LLM system. Just run <span style=\"color: #008080; text-decoration-color: #008080\">'deepeval login'</span> in the CLI. \n",
       "\n",
       "</pre>\n"
      ],
      "text/plain": [
       "\n",
       "\u001b[38;2;5;245;141m✓\u001b[0m Tests finished 🎉! Run \u001b[1;32m'deepeval login'\u001b[0m to save and analyze evaluation results on Confident AI.\n",
       " \n",
       "✨👀 Looking for a place for your LLM test data to live 🏡❤️ ? Use \u001b[38;2;106;0;255mConfident AI\u001b[0m to get & share testing reports, \n",
       "experiment with models/prompts, and catch regressions for your LLM system. Just run \u001b[36m'deepeval login'\u001b[0m in the CLI. \n",
       "\n"
      ]
     },
     "metadata": {},
     "output_type": "display_data"
    },
    {
     "name": "stdout",
     "output_type": "stream",
     "text": [
      "MESSAGES\n",
      "[{'role': 'user', 'content': 'Твоя задача - определить, релевантны ли предоставленные документы запросу пользователя. Релевантым считай тот документ, в котором тема хотя бы смежно связана с запросом. Верни ровно один массив из строк \\'0\\' или \\'1\\', где \\'1\\' означает, что документ релевантен запросу, а \\'0\\' - что нерелевантен. Массив должен иметь ровно столько элементов, сколько документов в запросе.\\n\\nЗапрос: \\'перестала видеть магазины и сотрудников кластера исправьте ошибку привязки\\'\\n\\nДокументы:\\nДокумент 0:\\nВопрос: я как hr bp перестала видеть магазины и сотрудников кластера. не могу делать заявки. прошу исправить ошибку - видимо произошла отвязка от кластера.\\nОтвет: на портале директора кластеров должны самостоятельно следить за привязкой магазинов, входящих в их зону ответственности, в рамках кластера. дк необходимо зайти на портал link и привязать к себе магазины своего кластера.\\n\\nДокумент 1:\\nВопрос: у меня пропали вкладка \"сотрудники\" в моих сервисах.\\nОтвет: если в \"команде\" нет подчиненных сотрудников просьба обратиться в поддержку для корректировки\\n\\nДокумент 2:\\nВопрос: случайно была не верно отжата кнопка от участия в кадровый резерв на позицию директор магазина, как можно исправить проблему?\\nОтвет: создайте, пожалуйста, обращение в ит поддержку на портале support\\n\\n\\n\\nОцени релевантность каждого документа к этому запросу и верни массив из 3 элементов, где каждый элемент - \\'0\\' или \\'1\\'.'}]\n",
      "MESSAGES\n",
      "[{'role': 'user', 'content': 'Ты помощник, который дает ответы в том же стиле, что и представленные примеры. Используй предоставленные вопросы и ответы как образец стиля и уровня детализации.\\n\\nПримеры вопросов и ответов:\\n\\nПример 1:\\nВопрос: я как hr bp перестала видеть магазины и сотрудников кластера. не могу делать заявки. прошу исправить ошибку - видимо произошла отвязка от кластера.\\nОтвет: на портале директора кластеров должны самостоятельно следить за привязкой магазинов, входящих в их зону ответственности, в рамках кластера. дк необходимо зайти на портал link и привязать к себе магазины своего кластера.\\n\\nПример 2:\\nВопрос: у меня пропали вкладка \"сотрудники\" в моих сервисах.\\nОтвет: если в \"команде\" нет подчиненных сотрудников просьба обратиться в поддержку для корректировки\\n\\n\\n\\nЗапрос пользователя: перестала видеть магазины и сотрудников кластера исправьте ошибку привязки\\n\\nОтветь на запрос пользователя в том же стиле, что и приведенные примеры.'}]\n"
     ]
    },
    {
     "data": {
      "text/html": [
       "<pre style=\"white-space:pre;overflow-x:auto;line-height:normal;font-family:Menlo,'DejaVu Sans Mono',consolas,'Courier New',monospace\">✨ You're running DeepEval's latest <span style=\"color: #6a00ff; text-decoration-color: #6a00ff\">Answer Relevancy Metric</span>! <span style=\"color: #374151; text-decoration-color: #374151; font-weight: bold\">(</span><span style=\"color: #374151; text-decoration-color: #374151\">using gpt-4o, </span><span style=\"color: #374151; text-decoration-color: #374151\">strict</span><span style=\"color: #374151; text-decoration-color: #374151\">=</span><span style=\"color: #374151; text-decoration-color: #374151; font-style: italic\">False</span><span style=\"color: #374151; text-decoration-color: #374151\">, </span><span style=\"color: #374151; text-decoration-color: #374151\">async_mode</span><span style=\"color: #374151; text-decoration-color: #374151\">=</span><span style=\"color: #374151; text-decoration-color: #374151; font-style: italic\">True</span><span style=\"color: #374151; text-decoration-color: #374151; font-weight: bold\">)</span><span style=\"color: #374151; text-decoration-color: #374151\">...</span>\n",
       "</pre>\n"
      ],
      "text/plain": [
       "✨ You're running DeepEval's latest \u001b[38;2;106;0;255mAnswer Relevancy Metric\u001b[0m! \u001b[1;38;2;55;65;81m(\u001b[0m\u001b[38;2;55;65;81musing gpt-4o, \u001b[0m\u001b[38;2;55;65;81mstrict\u001b[0m\u001b[38;2;55;65;81m=\u001b[0m\u001b[3;38;2;55;65;81mFalse\u001b[0m\u001b[38;2;55;65;81m, \u001b[0m\u001b[38;2;55;65;81masync_mode\u001b[0m\u001b[38;2;55;65;81m=\u001b[0m\u001b[3;38;2;55;65;81mTrue\u001b[0m\u001b[1;38;2;55;65;81m)\u001b[0m\u001b[38;2;55;65;81m...\u001b[0m\n"
      ]
     },
     "metadata": {},
     "output_type": "display_data"
    },
    {
     "name": "stdout",
     "output_type": "stream",
     "text": [
      "Event loop is already running. Applying nest_asyncio patch to allow async execution...\n"
     ]
    },
    {
     "name": "stderr",
     "output_type": "stream",
     "text": [
      "Evaluating 1 test case(s) in parallel: |██████████|100% (1/1) [Time Taken: 00:06,  6.53s/test case]\n"
     ]
    },
    {
     "data": {
      "text/html": [
       "<pre style=\"white-space:pre;overflow-x:auto;line-height:normal;font-family:Menlo,'DejaVu Sans Mono',consolas,'Courier New',monospace\">\n",
       "<span style=\"color: #05f58d; text-decoration-color: #05f58d\">✓</span> Tests finished 🎉! Run <span style=\"color: #008000; text-decoration-color: #008000; font-weight: bold\">'deepeval login'</span> to save and analyze evaluation results on Confident AI.\n",
       " \n",
       "✨👀 Looking for a place for your LLM test data to live 🏡❤️ ? Use <span style=\"color: #6a00ff; text-decoration-color: #6a00ff\">Confident AI</span> to get &amp; share testing reports, \n",
       "experiment with models/prompts, and catch regressions for your LLM system. Just run <span style=\"color: #008080; text-decoration-color: #008080\">'deepeval login'</span> in the CLI. \n",
       "\n",
       "</pre>\n"
      ],
      "text/plain": [
       "\n",
       "\u001b[38;2;5;245;141m✓\u001b[0m Tests finished 🎉! Run \u001b[1;32m'deepeval login'\u001b[0m to save and analyze evaluation results on Confident AI.\n",
       " \n",
       "✨👀 Looking for a place for your LLM test data to live 🏡❤️ ? Use \u001b[38;2;106;0;255mConfident AI\u001b[0m to get & share testing reports, \n",
       "experiment with models/prompts, and catch regressions for your LLM system. Just run \u001b[36m'deepeval login'\u001b[0m in the CLI. \n",
       "\n"
      ]
     },
     "metadata": {},
     "output_type": "display_data"
    },
    {
     "name": "stdout",
     "output_type": "stream",
     "text": [
      "MESSAGES\n",
      "[{'role': 'user', 'content': \"Твоя задача - определить, релевантны ли предоставленные документы запросу пользователя. Релевантым считай тот документ, в котором тема хотя бы смежно связана с запросом. Верни ровно один массив из строк '0' или '1', где '1' означает, что документ релевантен запросу, а '0' - что нерелевантен. Массив должен иметь ровно столько элементов, сколько документов в запросе.\\n\\nЗапрос: 'оформить командировку'\\n\\nДокументы:\\nДокумент 0:\\nВопрос: оформить командировку\\nОтвет: в рамках нового сервисного подхода сотрудники оформляют командировку на едином портале trip.\\n\\n\\n\\nОцени релевантность каждого документа к этому запросу и верни массив из 1 элементов, где каждый элемент - '0' или '1'.\"}]\n",
      "MESSAGES\n",
      "[{'role': 'user', 'content': 'Ты помощник, который дает ответы в том же стиле, что и представленные примеры. Используй предоставленные вопросы и ответы как образец стиля и уровня детализации.\\n\\nПримеры вопросов и ответов:\\n\\nПример 1:\\nВопрос: оформить командировку\\nОтвет: в рамках нового сервисного подхода сотрудники оформляют командировку на едином портале trip.\\n\\n\\n\\nЗапрос пользователя: оформить командировку\\n\\nОтветь на запрос пользователя в том же стиле, что и приведенные примеры.'}]\n"
     ]
    },
    {
     "name": "stderr",
     "output_type": "stream",
     "text": [
      "Some tasks did not clean up within timeout\n"
     ]
    },
    {
     "data": {
      "text/html": [
       "<pre style=\"white-space:pre;overflow-x:auto;line-height:normal;font-family:Menlo,'DejaVu Sans Mono',consolas,'Courier New',monospace\">✨ You're running DeepEval's latest <span style=\"color: #6a00ff; text-decoration-color: #6a00ff\">Answer Relevancy Metric</span>! <span style=\"color: #374151; text-decoration-color: #374151; font-weight: bold\">(</span><span style=\"color: #374151; text-decoration-color: #374151\">using gpt-4o, </span><span style=\"color: #374151; text-decoration-color: #374151\">strict</span><span style=\"color: #374151; text-decoration-color: #374151\">=</span><span style=\"color: #374151; text-decoration-color: #374151; font-style: italic\">False</span><span style=\"color: #374151; text-decoration-color: #374151\">, </span><span style=\"color: #374151; text-decoration-color: #374151\">async_mode</span><span style=\"color: #374151; text-decoration-color: #374151\">=</span><span style=\"color: #374151; text-decoration-color: #374151; font-style: italic\">True</span><span style=\"color: #374151; text-decoration-color: #374151; font-weight: bold\">)</span><span style=\"color: #374151; text-decoration-color: #374151\">...</span>\n",
       "</pre>\n"
      ],
      "text/plain": [
       "✨ You're running DeepEval's latest \u001b[38;2;106;0;255mAnswer Relevancy Metric\u001b[0m! \u001b[1;38;2;55;65;81m(\u001b[0m\u001b[38;2;55;65;81musing gpt-4o, \u001b[0m\u001b[38;2;55;65;81mstrict\u001b[0m\u001b[38;2;55;65;81m=\u001b[0m\u001b[3;38;2;55;65;81mFalse\u001b[0m\u001b[38;2;55;65;81m, \u001b[0m\u001b[38;2;55;65;81masync_mode\u001b[0m\u001b[38;2;55;65;81m=\u001b[0m\u001b[3;38;2;55;65;81mTrue\u001b[0m\u001b[1;38;2;55;65;81m)\u001b[0m\u001b[38;2;55;65;81m...\u001b[0m\n"
      ]
     },
     "metadata": {},
     "output_type": "display_data"
    },
    {
     "name": "stdout",
     "output_type": "stream",
     "text": [
      "Event loop is already running. Applying nest_asyncio patch to allow async execution...\n"
     ]
    },
    {
     "name": "stderr",
     "output_type": "stream",
     "text": [
      "Evaluating 1 test case(s) in parallel: |██████████|100% (1/1) [Time Taken: 00:04,  4.66s/test case]\n"
     ]
    },
    {
     "data": {
      "text/html": [
       "<pre style=\"white-space:pre;overflow-x:auto;line-height:normal;font-family:Menlo,'DejaVu Sans Mono',consolas,'Courier New',monospace\">\n",
       "<span style=\"color: #05f58d; text-decoration-color: #05f58d\">✓</span> Tests finished 🎉! Run <span style=\"color: #008000; text-decoration-color: #008000; font-weight: bold\">'deepeval login'</span> to save and analyze evaluation results on Confident AI.\n",
       " \n",
       "✨👀 Looking for a place for your LLM test data to live 🏡❤️ ? Use <span style=\"color: #6a00ff; text-decoration-color: #6a00ff\">Confident AI</span> to get &amp; share testing reports, \n",
       "experiment with models/prompts, and catch regressions for your LLM system. Just run <span style=\"color: #008080; text-decoration-color: #008080\">'deepeval login'</span> in the CLI. \n",
       "\n",
       "</pre>\n"
      ],
      "text/plain": [
       "\n",
       "\u001b[38;2;5;245;141m✓\u001b[0m Tests finished 🎉! Run \u001b[1;32m'deepeval login'\u001b[0m to save and analyze evaluation results on Confident AI.\n",
       " \n",
       "✨👀 Looking for a place for your LLM test data to live 🏡❤️ ? Use \u001b[38;2;106;0;255mConfident AI\u001b[0m to get & share testing reports, \n",
       "experiment with models/prompts, and catch regressions for your LLM system. Just run \u001b[36m'deepeval login'\u001b[0m in the CLI. \n",
       "\n"
      ]
     },
     "metadata": {},
     "output_type": "display_data"
    },
    {
     "name": "stdout",
     "output_type": "stream",
     "text": [
      "MESSAGES\n",
      "[{'role': 'user', 'content': \"Твоя задача - определить, релевантны ли предоставленные документы запросу пользователя. Релевантым считай тот документ, в котором тема хотя бы смежно связана с запросом. Верни ровно один массив из строк '0' или '1', где '1' означает, что документ релевантен запросу, а '0' - что нерелевантен. Массив должен иметь ровно столько элементов, сколько документов в запросе.\\n\\nЗапрос: 'не работает личный кабинет'\\n\\nДокументы:\\nДокумент 0:\\nВопрос: не работает личный кабинет\\nОтвет: создайте, пожалуйста, обращение в ит поддержку на портале support\\n\\nДокумент 1:\\nВопрос: не работает личный кабинет сотрудника\\nОтвет: при проблемах со входом в личный кабинет, прежде чем создавать заявку в поддержку, убедитесь, что заходите в лк на сайте link указываете актуальные и верные логин и пароль. если вам неизвестен логин, обратитесь к руководителю (дм), он сможет посмотреть ваш логин и сбросить пароль в веб-табеле. для самостоятельного сброса пароля позвоните с вашего мобильного телефона на phone, наберите добавочный номер 10100, нажмите * и подтвердите сброс пароля, нажав #. обновленный пароль отправляется по sms.\\n\\n\\n\\nОцени релевантность каждого документа к этому запросу и верни массив из 2 элементов, где каждый элемент - '0' или '1'.\"}]\n",
      "MESSAGES\n",
      "[{'role': 'user', 'content': 'Ты помощник, который дает ответы в том же стиле, что и представленные примеры. Используй предоставленные вопросы и ответы как образец стиля и уровня детализации.\\n\\nПримеры вопросов и ответов:\\n\\nПример 1:\\nВопрос: не работает личный кабинет\\nОтвет: создайте, пожалуйста, обращение в ит поддержку на портале support\\n\\nПример 2:\\nВопрос: не работает личный кабинет сотрудника\\nОтвет: при проблемах со входом в личный кабинет, прежде чем создавать заявку в поддержку, убедитесь, что заходите в лк на сайте link указываете актуальные и верные логин и пароль. если вам неизвестен логин, обратитесь к руководителю (дм), он сможет посмотреть ваш логин и сбросить пароль в веб-табеле. для самостоятельного сброса пароля позвоните с вашего мобильного телефона на phone, наберите добавочный номер 10100, нажмите * и подтвердите сброс пароля, нажав #. обновленный пароль отправляется по sms.\\n\\n\\n\\nЗапрос пользователя: не работает личный кабинет\\n\\nОтветь на запрос пользователя в том же стиле, что и приведенные примеры.'}]\n"
     ]
    },
    {
     "data": {
      "text/html": [
       "<pre style=\"white-space:pre;overflow-x:auto;line-height:normal;font-family:Menlo,'DejaVu Sans Mono',consolas,'Courier New',monospace\">✨ You're running DeepEval's latest <span style=\"color: #6a00ff; text-decoration-color: #6a00ff\">Answer Relevancy Metric</span>! <span style=\"color: #374151; text-decoration-color: #374151; font-weight: bold\">(</span><span style=\"color: #374151; text-decoration-color: #374151\">using gpt-4o, </span><span style=\"color: #374151; text-decoration-color: #374151\">strict</span><span style=\"color: #374151; text-decoration-color: #374151\">=</span><span style=\"color: #374151; text-decoration-color: #374151; font-style: italic\">False</span><span style=\"color: #374151; text-decoration-color: #374151\">, </span><span style=\"color: #374151; text-decoration-color: #374151\">async_mode</span><span style=\"color: #374151; text-decoration-color: #374151\">=</span><span style=\"color: #374151; text-decoration-color: #374151; font-style: italic\">True</span><span style=\"color: #374151; text-decoration-color: #374151; font-weight: bold\">)</span><span style=\"color: #374151; text-decoration-color: #374151\">...</span>\n",
       "</pre>\n"
      ],
      "text/plain": [
       "✨ You're running DeepEval's latest \u001b[38;2;106;0;255mAnswer Relevancy Metric\u001b[0m! \u001b[1;38;2;55;65;81m(\u001b[0m\u001b[38;2;55;65;81musing gpt-4o, \u001b[0m\u001b[38;2;55;65;81mstrict\u001b[0m\u001b[38;2;55;65;81m=\u001b[0m\u001b[3;38;2;55;65;81mFalse\u001b[0m\u001b[38;2;55;65;81m, \u001b[0m\u001b[38;2;55;65;81masync_mode\u001b[0m\u001b[38;2;55;65;81m=\u001b[0m\u001b[3;38;2;55;65;81mTrue\u001b[0m\u001b[1;38;2;55;65;81m)\u001b[0m\u001b[38;2;55;65;81m...\u001b[0m\n"
      ]
     },
     "metadata": {},
     "output_type": "display_data"
    },
    {
     "name": "stdout",
     "output_type": "stream",
     "text": [
      "Event loop is already running. Applying nest_asyncio patch to allow async execution...\n"
     ]
    },
    {
     "name": "stderr",
     "output_type": "stream",
     "text": [
      "Evaluating 1 test case(s) in parallel: |██████████|100% (1/1) [Time Taken: 00:03,  3.88s/test case]\n"
     ]
    },
    {
     "data": {
      "text/html": [
       "<pre style=\"white-space:pre;overflow-x:auto;line-height:normal;font-family:Menlo,'DejaVu Sans Mono',consolas,'Courier New',monospace\">\n",
       "<span style=\"color: #05f58d; text-decoration-color: #05f58d\">✓</span> Tests finished 🎉! Run <span style=\"color: #008000; text-decoration-color: #008000; font-weight: bold\">'deepeval login'</span> to save and analyze evaluation results on Confident AI.\n",
       " \n",
       "✨👀 Looking for a place for your LLM test data to live 🏡❤️ ? Use <span style=\"color: #6a00ff; text-decoration-color: #6a00ff\">Confident AI</span> to get &amp; share testing reports, \n",
       "experiment with models/prompts, and catch regressions for your LLM system. Just run <span style=\"color: #008080; text-decoration-color: #008080\">'deepeval login'</span> in the CLI. \n",
       "\n",
       "</pre>\n"
      ],
      "text/plain": [
       "\n",
       "\u001b[38;2;5;245;141m✓\u001b[0m Tests finished 🎉! Run \u001b[1;32m'deepeval login'\u001b[0m to save and analyze evaluation results on Confident AI.\n",
       " \n",
       "✨👀 Looking for a place for your LLM test data to live 🏡❤️ ? Use \u001b[38;2;106;0;255mConfident AI\u001b[0m to get & share testing reports, \n",
       "experiment with models/prompts, and catch regressions for your LLM system. Just run \u001b[36m'deepeval login'\u001b[0m in the CLI. \n",
       "\n"
      ]
     },
     "metadata": {},
     "output_type": "display_data"
    },
    {
     "name": "stdout",
     "output_type": "stream",
     "text": [
      "MESSAGES\n",
      "[{'role': 'user', 'content': 'Твоя задача - определить, релевантны ли предоставленные документы запросу пользователя. Релевантым считай тот документ, в котором тема хотя бы смежно связана с запросом. Верни ровно один массив из строк \\'0\\' или \\'1\\', где \\'1\\' означает, что документ релевантен запросу, а \\'0\\' - что нерелевантен. Массив должен иметь ровно столько элементов, сколько документов в запросе.\\n\\nЗапрос: \\'посмотреть отпускные\\'\\n\\nДокументы:\\nДокумент 0:\\nВопрос: как мне узнать дни отпуска\\nОтвет: ознакомиться с графиком отпусков и воспользоваться доступным для планирования лимитом вы можете разделе «отпуска». обращаем внимание, что в личном кабинете отображаются доступные лимиты за вычетом уже запланированных дней.\\n\\nДокумент 1:\\nВопрос: когда поступят отпускные\\nОтвет: отпускные начисляются не позднее чем за три рабочих дня до даты начала отпуска.\\n\\nДокумент 2:\\nВопрос: как расчитывается отпуск?\\nОтвет: расчет отпускных производится по среднему заработку за последние 12 месяцев, предшествующих началу отпуска. отпускные = среднедневной заработок х продолжительность отпуска в календарных днях\\n\\nДокумент 3:\\nВопрос: как оформить отпуск\\nОтвет: создать заявку на отпуск можно в разделе \"сервис\", подразделе \"отпуск\". требования к запрашиваемому отпуску вы сможете видеть левой части экрана\\n\\nДокумент 4:\\nВопрос: можно узнать, сколько дней отпуска у меня есть?\\nОтвет: ознакомиться с графиком отпусков и воспользоваться доступным для планирования лимитом сотрудник может в разделе «отпуска» link . обращаем внимание, что в личном кабинете отображаются доступные лимиты за вычетом уже запланированных дней.\\n\\nДокумент 5:\\nВопрос: некорректно отображаются отпускные дни\\nОтвет: лимиты в личном кабинете отображаются на основании данных в кадровой системе. в процессе планирования, программа считает дни исходя из имеющихся лимитов и может предоставить дни отпуска авансом. на календарный год программа предоставляет лимит 28 дней. период, за который накапливаются лимиты в количестве 28 дней, у каждого сотрудника индивидуальный и считается со дня приема в компанию. за каждый последующий отработанный месяц предоставляется 2.33 дня отпуска. специалистам hr следует проверить данные в 2001ит и в 2006ит, а именно сколько дней было запланировано и использовано в текущем году, есть ли неистраченные лимиты, есть ли продленный лимит на будущее. проверить количество запланированных дней и доступных остатков. посмотреть расчет отпускных дней отпуска на отчетную дату или на конец года можно через транзакцию zhrpa036. так же по существующему алгоритму при планировании отпусков в личном кабинете установлено правило - нельзя планировать более половины всех накопленных дней отпуска в первое полугодие до конца июня. у сотрудника прописано в личном кабинете, что нельзя планировать более 15 дней в первое полугодие.\\n\\n\\n\\nОцени релевантность каждого документа к этому запросу и верни массив из 6 элементов, где каждый элемент - \\'0\\' или \\'1\\'.'}]\n",
      "MESSAGES\n",
      "[{'role': 'user', 'content': 'Ты помощник, который дает ответы в том же стиле, что и представленные примеры. Используй предоставленные вопросы и ответы как образец стиля и уровня детализации.\\n\\nПримеры вопросов и ответов:\\n\\nПример 1:\\nВопрос: как мне узнать дни отпуска\\nОтвет: ознакомиться с графиком отпусков и воспользоваться доступным для планирования лимитом вы можете разделе «отпуска». обращаем внимание, что в личном кабинете отображаются доступные лимиты за вычетом уже запланированных дней.\\n\\nПример 2:\\nВопрос: когда поступят отпускные\\nОтвет: отпускные начисляются не позднее чем за три рабочих дня до даты начала отпуска.\\n\\nПример 3:\\nВопрос: как оформить отпуск\\nОтвет: создать заявку на отпуск можно в разделе \"сервис\", подразделе \"отпуск\". требования к запрашиваемому отпуску вы сможете видеть левой части экрана\\n\\nПример 4:\\nВопрос: можно узнать, сколько дней отпуска у меня есть?\\nОтвет: ознакомиться с графиком отпусков и воспользоваться доступным для планирования лимитом сотрудник может в разделе «отпуска» link . обращаем внимание, что в личном кабинете отображаются доступные лимиты за вычетом уже запланированных дней.\\n\\nПример 5:\\nВопрос: некорректно отображаются отпускные дни\\nОтвет: лимиты в личном кабинете отображаются на основании данных в кадровой системе. в процессе планирования, программа считает дни исходя из имеющихся лимитов и может предоставить дни отпуска авансом. на календарный год программа предоставляет лимит 28 дней. период, за который накапливаются лимиты в количестве 28 дней, у каждого сотрудника индивидуальный и считается со дня приема в компанию. за каждый последующий отработанный месяц предоставляется 2.33 дня отпуска. специалистам hr следует проверить данные в 2001ит и в 2006ит, а именно сколько дней было запланировано и использовано в текущем году, есть ли неистраченные лимиты, есть ли продленный лимит на будущее. проверить количество запланированных дней и доступных остатков. посмотреть расчет отпускных дней отпуска на отчетную дату или на конец года можно через транзакцию zhrpa036. так же по существующему алгоритму при планировании отпусков в личном кабинете установлено правило - нельзя планировать более половины всех накопленных дней отпуска в первое полугодие до конца июня. у сотрудника прописано в личном кабинете, что нельзя планировать более 15 дней в первое полугодие.\\n\\n\\n\\nЗапрос пользователя: посмотреть отпускные\\n\\nОтветь на запрос пользователя в том же стиле, что и приведенные примеры.'}]\n"
     ]
    },
    {
     "data": {
      "text/html": [
       "<pre style=\"white-space:pre;overflow-x:auto;line-height:normal;font-family:Menlo,'DejaVu Sans Mono',consolas,'Courier New',monospace\">✨ You're running DeepEval's latest <span style=\"color: #6a00ff; text-decoration-color: #6a00ff\">Answer Relevancy Metric</span>! <span style=\"color: #374151; text-decoration-color: #374151; font-weight: bold\">(</span><span style=\"color: #374151; text-decoration-color: #374151\">using gpt-4o, </span><span style=\"color: #374151; text-decoration-color: #374151\">strict</span><span style=\"color: #374151; text-decoration-color: #374151\">=</span><span style=\"color: #374151; text-decoration-color: #374151; font-style: italic\">False</span><span style=\"color: #374151; text-decoration-color: #374151\">, </span><span style=\"color: #374151; text-decoration-color: #374151\">async_mode</span><span style=\"color: #374151; text-decoration-color: #374151\">=</span><span style=\"color: #374151; text-decoration-color: #374151; font-style: italic\">True</span><span style=\"color: #374151; text-decoration-color: #374151; font-weight: bold\">)</span><span style=\"color: #374151; text-decoration-color: #374151\">...</span>\n",
       "</pre>\n"
      ],
      "text/plain": [
       "✨ You're running DeepEval's latest \u001b[38;2;106;0;255mAnswer Relevancy Metric\u001b[0m! \u001b[1;38;2;55;65;81m(\u001b[0m\u001b[38;2;55;65;81musing gpt-4o, \u001b[0m\u001b[38;2;55;65;81mstrict\u001b[0m\u001b[38;2;55;65;81m=\u001b[0m\u001b[3;38;2;55;65;81mFalse\u001b[0m\u001b[38;2;55;65;81m, \u001b[0m\u001b[38;2;55;65;81masync_mode\u001b[0m\u001b[38;2;55;65;81m=\u001b[0m\u001b[3;38;2;55;65;81mTrue\u001b[0m\u001b[1;38;2;55;65;81m)\u001b[0m\u001b[38;2;55;65;81m...\u001b[0m\n"
      ]
     },
     "metadata": {},
     "output_type": "display_data"
    },
    {
     "name": "stdout",
     "output_type": "stream",
     "text": [
      "Event loop is already running. Applying nest_asyncio patch to allow async execution...\n"
     ]
    },
    {
     "name": "stderr",
     "output_type": "stream",
     "text": [
      "Evaluating 1 test case(s) in parallel: |██████████|100% (1/1) [Time Taken: 00:06,  6.07s/test case]\n"
     ]
    },
    {
     "data": {
      "text/html": [
       "<pre style=\"white-space:pre;overflow-x:auto;line-height:normal;font-family:Menlo,'DejaVu Sans Mono',consolas,'Courier New',monospace\">\n",
       "<span style=\"color: #05f58d; text-decoration-color: #05f58d\">✓</span> Tests finished 🎉! Run <span style=\"color: #008000; text-decoration-color: #008000; font-weight: bold\">'deepeval login'</span> to save and analyze evaluation results on Confident AI.\n",
       " \n",
       "✨👀 Looking for a place for your LLM test data to live 🏡❤️ ? Use <span style=\"color: #6a00ff; text-decoration-color: #6a00ff\">Confident AI</span> to get &amp; share testing reports, \n",
       "experiment with models/prompts, and catch regressions for your LLM system. Just run <span style=\"color: #008080; text-decoration-color: #008080\">'deepeval login'</span> in the CLI. \n",
       "\n",
       "</pre>\n"
      ],
      "text/plain": [
       "\n",
       "\u001b[38;2;5;245;141m✓\u001b[0m Tests finished 🎉! Run \u001b[1;32m'deepeval login'\u001b[0m to save and analyze evaluation results on Confident AI.\n",
       " \n",
       "✨👀 Looking for a place for your LLM test data to live 🏡❤️ ? Use \u001b[38;2;106;0;255mConfident AI\u001b[0m to get & share testing reports, \n",
       "experiment with models/prompts, and catch regressions for your LLM system. Just run \u001b[36m'deepeval login'\u001b[0m in the CLI. \n",
       "\n"
      ]
     },
     "metadata": {},
     "output_type": "display_data"
    },
    {
     "name": "stdout",
     "output_type": "stream",
     "text": [
      "MESSAGES\n",
      "[{'role': 'user', 'content': 'Твоя задача - определить, релевантны ли предоставленные документы запросу пользователя. Релевантым считай тот документ, в котором тема хотя бы смежно связана с запросом. Верни ровно один массив из строк \\'0\\' или \\'1\\', где \\'1\\' означает, что документ релевантен запросу, а \\'0\\' - что нерелевантен. Массив должен иметь ровно столько элементов, сколько документов в запросе.\\n\\nЗапрос: \\'почему вернулась задача из архива\\'\\n\\nДокументы:\\nДокумент 0:\\nВопрос: архивная задача вернулась\\nОтвет: если сотрудник архива не выполнил задача \"подтвердить получение документов\", заявка возвращается на шаг фронт-офиса, при этом создается новая задача. такая логика процесса утверждена и согласована с представителями от бизнеса\\n\\nДокумент 1:\\nВопрос: прошу вас вернуть задачу в работу\\nОтвет: создайте, пожалуйста, обращение в ит поддержку на портале support\\n\\nДокумент 2:\\nВопрос: задачи архив не отображаются\\nОтвет: первым делом, просьба очистить кэш/куки браузера (сочетание клавиш ctrl+shift+del, выбрать \"удалить: всё\", нажать ок). далее перезайти в лк. если это не помогло просьба подать заявку, нажав ниже кнопку \"создать заявку\" и выбрать соответствующую тему.\\n\\nДокумент 3:\\nВопрос: вернуть обратно в работу закадровый резервытую задачу\\nОтвет: вернуть в работу закрыту или выполненную заявку невозможно технически\\n\\n\\n\\nОцени релевантность каждого документа к этому запросу и верни массив из 4 элементов, где каждый элемент - \\'0\\' или \\'1\\'.'}]\n",
      "MESSAGES\n",
      "[{'role': 'user', 'content': 'Ты помощник, который дает ответы в том же стиле, что и представленные примеры. Используй предоставленные вопросы и ответы как образец стиля и уровня детализации.\\n\\nПримеры вопросов и ответов:\\n\\nПример 1:\\nВопрос: архивная задача вернулась\\nОтвет: если сотрудник архива не выполнил задача \"подтвердить получение документов\", заявка возвращается на шаг фронт-офиса, при этом создается новая задача. такая логика процесса утверждена и согласована с представителями от бизнеса\\n\\nПример 2:\\nВопрос: вернуть обратно в работу закадровый резервытую задачу\\nОтвет: вернуть в работу закрыту или выполненную заявку невозможно технически\\n\\n\\n\\nЗапрос пользователя: почему вернулась задача из архива\\n\\nОтветь на запрос пользователя в том же стиле, что и приведенные примеры.'}]\n"
     ]
    },
    {
     "data": {
      "text/html": [
       "<pre style=\"white-space:pre;overflow-x:auto;line-height:normal;font-family:Menlo,'DejaVu Sans Mono',consolas,'Courier New',monospace\">✨ You're running DeepEval's latest <span style=\"color: #6a00ff; text-decoration-color: #6a00ff\">Answer Relevancy Metric</span>! <span style=\"color: #374151; text-decoration-color: #374151; font-weight: bold\">(</span><span style=\"color: #374151; text-decoration-color: #374151\">using gpt-4o, </span><span style=\"color: #374151; text-decoration-color: #374151\">strict</span><span style=\"color: #374151; text-decoration-color: #374151\">=</span><span style=\"color: #374151; text-decoration-color: #374151; font-style: italic\">False</span><span style=\"color: #374151; text-decoration-color: #374151\">, </span><span style=\"color: #374151; text-decoration-color: #374151\">async_mode</span><span style=\"color: #374151; text-decoration-color: #374151\">=</span><span style=\"color: #374151; text-decoration-color: #374151; font-style: italic\">True</span><span style=\"color: #374151; text-decoration-color: #374151; font-weight: bold\">)</span><span style=\"color: #374151; text-decoration-color: #374151\">...</span>\n",
       "</pre>\n"
      ],
      "text/plain": [
       "✨ You're running DeepEval's latest \u001b[38;2;106;0;255mAnswer Relevancy Metric\u001b[0m! \u001b[1;38;2;55;65;81m(\u001b[0m\u001b[38;2;55;65;81musing gpt-4o, \u001b[0m\u001b[38;2;55;65;81mstrict\u001b[0m\u001b[38;2;55;65;81m=\u001b[0m\u001b[3;38;2;55;65;81mFalse\u001b[0m\u001b[38;2;55;65;81m, \u001b[0m\u001b[38;2;55;65;81masync_mode\u001b[0m\u001b[38;2;55;65;81m=\u001b[0m\u001b[3;38;2;55;65;81mTrue\u001b[0m\u001b[1;38;2;55;65;81m)\u001b[0m\u001b[38;2;55;65;81m...\u001b[0m\n"
      ]
     },
     "metadata": {},
     "output_type": "display_data"
    },
    {
     "name": "stdout",
     "output_type": "stream",
     "text": [
      "Event loop is already running. Applying nest_asyncio patch to allow async execution...\n"
     ]
    },
    {
     "name": "stderr",
     "output_type": "stream",
     "text": [
      "Evaluating 1 test case(s) in parallel: |██████████|100% (1/1) [Time Taken: 00:04,  4.65s/test case]\n"
     ]
    },
    {
     "data": {
      "text/html": [
       "<pre style=\"white-space:pre;overflow-x:auto;line-height:normal;font-family:Menlo,'DejaVu Sans Mono',consolas,'Courier New',monospace\">\n",
       "<span style=\"color: #05f58d; text-decoration-color: #05f58d\">✓</span> Tests finished 🎉! Run <span style=\"color: #008000; text-decoration-color: #008000; font-weight: bold\">'deepeval login'</span> to save and analyze evaluation results on Confident AI.\n",
       " \n",
       "✨👀 Looking for a place for your LLM test data to live 🏡❤️ ? Use <span style=\"color: #6a00ff; text-decoration-color: #6a00ff\">Confident AI</span> to get &amp; share testing reports, \n",
       "experiment with models/prompts, and catch regressions for your LLM system. Just run <span style=\"color: #008080; text-decoration-color: #008080\">'deepeval login'</span> in the CLI. \n",
       "\n",
       "</pre>\n"
      ],
      "text/plain": [
       "\n",
       "\u001b[38;2;5;245;141m✓\u001b[0m Tests finished 🎉! Run \u001b[1;32m'deepeval login'\u001b[0m to save and analyze evaluation results on Confident AI.\n",
       " \n",
       "✨👀 Looking for a place for your LLM test data to live 🏡❤️ ? Use \u001b[38;2;106;0;255mConfident AI\u001b[0m to get & share testing reports, \n",
       "experiment with models/prompts, and catch regressions for your LLM system. Just run \u001b[36m'deepeval login'\u001b[0m in the CLI. \n",
       "\n"
      ]
     },
     "metadata": {},
     "output_type": "display_data"
    },
    {
     "name": "stdout",
     "output_type": "stream",
     "text": [
      "MESSAGES\n",
      "[{'role': 'user', 'content': 'Твоя задача - определить, релевантны ли предоставленные документы запросу пользователя. Релевантым считай тот документ, в котором тема хотя бы смежно связана с запросом. Верни ровно один массив из строк \\'0\\' или \\'1\\', где \\'1\\' означает, что документ релевантен запросу, а \\'0\\' - что нерелевантен. Массив должен иметь ровно столько элементов, сколько документов в запросе.\\n\\nЗапрос: \\'почему нет передачи документов в архив\\'\\n\\nДокументы:\\nДокумент 0:\\nВопрос: отсутствует передать документы в архив\\nОтвет: первым делом, просьба очистить кэш/куки браузера (сочетание клавиш ctrl+shift+del, выбрать \"удалить: всё\", нажать ок). далее перезайти в лк. если это не помогло просьба подать заявку, нажав ниже кнопку \"создать заявку\" и выбрать соответствующую тему.\\n\\nДокумент 1:\\nВопрос: в личный кабинет отсутствует кнопка , передача в архив документов\\nОтвет: если в \"команде\" нет подчиненных сотрудников просьба обратиться в поддержку для корректировки\\n\\nДокумент 2:\\nВопрос: не удаётся отправлять реестр документов в архив.\\nОтвет: создайте, пожалуйста, обращение в ит поддержку на портале support\\n\\n\\n\\nОцени релевантность каждого документа к этому запросу и верни массив из 3 элементов, где каждый элемент - \\'0\\' или \\'1\\'.'}]\n",
      "MESSAGES\n",
      "[{'role': 'user', 'content': 'Ты помощник, который дает ответы в том же стиле, что и представленные примеры. Используй предоставленные вопросы и ответы как образец стиля и уровня детализации.\\n\\nПримеры вопросов и ответов:\\n\\nПример 1:\\nВопрос: отсутствует передать документы в архив\\nОтвет: первым делом, просьба очистить кэш/куки браузера (сочетание клавиш ctrl+shift+del, выбрать \"удалить: всё\", нажать ок). далее перезайти в лк. если это не помогло просьба подать заявку, нажав ниже кнопку \"создать заявку\" и выбрать соответствующую тему.\\n\\nПример 2:\\nВопрос: в личный кабинет отсутствует кнопка , передача в архив документов\\nОтвет: если в \"команде\" нет подчиненных сотрудников просьба обратиться в поддержку для корректировки\\n\\nПример 3:\\nВопрос: не удаётся отправлять реестр документов в архив.\\nОтвет: создайте, пожалуйста, обращение в ит поддержку на портале support\\n\\n\\n\\nЗапрос пользователя: почему нет передачи документов в архив\\n\\nОтветь на запрос пользователя в том же стиле, что и приведенные примеры.'}]\n"
     ]
    },
    {
     "data": {
      "text/html": [
       "<pre style=\"white-space:pre;overflow-x:auto;line-height:normal;font-family:Menlo,'DejaVu Sans Mono',consolas,'Courier New',monospace\">✨ You're running DeepEval's latest <span style=\"color: #6a00ff; text-decoration-color: #6a00ff\">Answer Relevancy Metric</span>! <span style=\"color: #374151; text-decoration-color: #374151; font-weight: bold\">(</span><span style=\"color: #374151; text-decoration-color: #374151\">using gpt-4o, </span><span style=\"color: #374151; text-decoration-color: #374151\">strict</span><span style=\"color: #374151; text-decoration-color: #374151\">=</span><span style=\"color: #374151; text-decoration-color: #374151; font-style: italic\">False</span><span style=\"color: #374151; text-decoration-color: #374151\">, </span><span style=\"color: #374151; text-decoration-color: #374151\">async_mode</span><span style=\"color: #374151; text-decoration-color: #374151\">=</span><span style=\"color: #374151; text-decoration-color: #374151; font-style: italic\">True</span><span style=\"color: #374151; text-decoration-color: #374151; font-weight: bold\">)</span><span style=\"color: #374151; text-decoration-color: #374151\">...</span>\n",
       "</pre>\n"
      ],
      "text/plain": [
       "✨ You're running DeepEval's latest \u001b[38;2;106;0;255mAnswer Relevancy Metric\u001b[0m! \u001b[1;38;2;55;65;81m(\u001b[0m\u001b[38;2;55;65;81musing gpt-4o, \u001b[0m\u001b[38;2;55;65;81mstrict\u001b[0m\u001b[38;2;55;65;81m=\u001b[0m\u001b[3;38;2;55;65;81mFalse\u001b[0m\u001b[38;2;55;65;81m, \u001b[0m\u001b[38;2;55;65;81masync_mode\u001b[0m\u001b[38;2;55;65;81m=\u001b[0m\u001b[3;38;2;55;65;81mTrue\u001b[0m\u001b[1;38;2;55;65;81m)\u001b[0m\u001b[38;2;55;65;81m...\u001b[0m\n"
      ]
     },
     "metadata": {},
     "output_type": "display_data"
    },
    {
     "name": "stdout",
     "output_type": "stream",
     "text": [
      "Event loop is already running. Applying nest_asyncio patch to allow async execution...\n"
     ]
    },
    {
     "name": "stderr",
     "output_type": "stream",
     "text": [
      "Evaluating 1 test case(s) in parallel: |██████████|100% (1/1) [Time Taken: 00:11, 11.18s/test case]\n"
     ]
    },
    {
     "data": {
      "text/html": [
       "<pre style=\"white-space:pre;overflow-x:auto;line-height:normal;font-family:Menlo,'DejaVu Sans Mono',consolas,'Courier New',monospace\">\n",
       "<span style=\"color: #05f58d; text-decoration-color: #05f58d\">✓</span> Tests finished 🎉! Run <span style=\"color: #008000; text-decoration-color: #008000; font-weight: bold\">'deepeval login'</span> to save and analyze evaluation results on Confident AI.\n",
       " \n",
       "✨👀 Looking for a place for your LLM test data to live 🏡❤️ ? Use <span style=\"color: #6a00ff; text-decoration-color: #6a00ff\">Confident AI</span> to get &amp; share testing reports, \n",
       "experiment with models/prompts, and catch regressions for your LLM system. Just run <span style=\"color: #008080; text-decoration-color: #008080\">'deepeval login'</span> in the CLI. \n",
       "\n",
       "</pre>\n"
      ],
      "text/plain": [
       "\n",
       "\u001b[38;2;5;245;141m✓\u001b[0m Tests finished 🎉! Run \u001b[1;32m'deepeval login'\u001b[0m to save and analyze evaluation results on Confident AI.\n",
       " \n",
       "✨👀 Looking for a place for your LLM test data to live 🏡❤️ ? Use \u001b[38;2;106;0;255mConfident AI\u001b[0m to get & share testing reports, \n",
       "experiment with models/prompts, and catch regressions for your LLM system. Just run \u001b[36m'deepeval login'\u001b[0m in the CLI. \n",
       "\n"
      ]
     },
     "metadata": {},
     "output_type": "display_data"
    },
    {
     "name": "stdout",
     "output_type": "stream",
     "text": [
      "MESSAGES\n",
      "[{'role': 'user', 'content': 'Твоя задача - определить, релевантны ли предоставленные документы запросу пользователя. Релевантым считай тот документ, в котором тема хотя бы смежно связана с запросом. Верни ровно один массив из строк \\'0\\' или \\'1\\', где \\'1\\' означает, что документ релевантен запросу, а \\'0\\' - что нерелевантен. Массив должен иметь ровно столько элементов, сколько документов в запросе.\\n\\nЗапрос: \\'куда делся календарь\\'\\n\\nДокументы:\\nДокумент 0:\\nВопрос: пропал календарь\\nОтвет: вкладка \"график работы\" недоступна сотрудникам с организационным присвоением \"офис\" и на данный момент доступна только сотрудникам розницы.\\n\\nДокумент 1:\\nВопрос: у меня из личного кабинета пропала строка \"график работы\"\\nОтвет: создайте, пожалуйста, обращение в ит поддержку на портале support\\n\\nДокумент 2:\\nВопрос: нет календаря на следующий месяц в разделе удаленной работы\\nОтвет: в системе стоит порог создания заявок по удаленной работе, 25 число. это дата, при наступлении которой, нельзя создавать или изменять график на следующий месяц.\\n\\nДокумент 3:\\nВопрос: в личном кабинете исчезла графа, о передачи документов в архив\\nОтвет: если в \"команде\" нет подчиненных сотрудников просьба обратиться в поддержку для корректировки\\n\\nДокумент 4:\\nВопрос: пропала вкладка передать в архив\\nОтвет: первым делом, просьба очистить кэш/куки браузера (сочетание клавиш ctrl+shift+del, выбрать \"удалить: всё\", нажать ок). далее перезайти в лк. если это не помогло просьба подать заявку, нажав ниже кнопку \"создать заявку\" и выбрать соответствующую тему.\\n\\n\\n\\nОцени релевантность каждого документа к этому запросу и верни массив из 5 элементов, где каждый элемент - \\'0\\' или \\'1\\'.'}]\n",
      "MESSAGES\n",
      "[{'role': 'user', 'content': 'Ты помощник, который дает ответы в том же стиле, что и представленные примеры. Используй предоставленные вопросы и ответы как образец стиля и уровня детализации.\\n\\nПримеры вопросов и ответов:\\n\\nПример 1:\\nВопрос: пропал календарь\\nОтвет: вкладка \"график работы\" недоступна сотрудникам с организационным присвоением \"офис\" и на данный момент доступна только сотрудникам розницы.\\n\\nПример 2:\\nВопрос: у меня из личного кабинета пропала строка \"график работы\"\\nОтвет: создайте, пожалуйста, обращение в ит поддержку на портале support\\n\\nПример 3:\\nВопрос: нет календаря на следующий месяц в разделе удаленной работы\\nОтвет: в системе стоит порог создания заявок по удаленной работе, 25 число. это дата, при наступлении которой, нельзя создавать или изменять график на следующий месяц.\\n\\nПример 4:\\nВопрос: пропала вкладка передать в архив\\nОтвет: первым делом, просьба очистить кэш/куки браузера (сочетание клавиш ctrl+shift+del, выбрать \"удалить: всё\", нажать ок). далее перезайти в лк. если это не помогло просьба подать заявку, нажав ниже кнопку \"создать заявку\" и выбрать соответствующую тему.\\n\\n\\n\\nЗапрос пользователя: куда делся календарь\\n\\nОтветь на запрос пользователя в том же стиле, что и приведенные примеры.'}]\n"
     ]
    },
    {
     "data": {
      "text/html": [
       "<pre style=\"white-space:pre;overflow-x:auto;line-height:normal;font-family:Menlo,'DejaVu Sans Mono',consolas,'Courier New',monospace\">✨ You're running DeepEval's latest <span style=\"color: #6a00ff; text-decoration-color: #6a00ff\">Answer Relevancy Metric</span>! <span style=\"color: #374151; text-decoration-color: #374151; font-weight: bold\">(</span><span style=\"color: #374151; text-decoration-color: #374151\">using gpt-4o, </span><span style=\"color: #374151; text-decoration-color: #374151\">strict</span><span style=\"color: #374151; text-decoration-color: #374151\">=</span><span style=\"color: #374151; text-decoration-color: #374151; font-style: italic\">False</span><span style=\"color: #374151; text-decoration-color: #374151\">, </span><span style=\"color: #374151; text-decoration-color: #374151\">async_mode</span><span style=\"color: #374151; text-decoration-color: #374151\">=</span><span style=\"color: #374151; text-decoration-color: #374151; font-style: italic\">True</span><span style=\"color: #374151; text-decoration-color: #374151; font-weight: bold\">)</span><span style=\"color: #374151; text-decoration-color: #374151\">...</span>\n",
       "</pre>\n"
      ],
      "text/plain": [
       "✨ You're running DeepEval's latest \u001b[38;2;106;0;255mAnswer Relevancy Metric\u001b[0m! \u001b[1;38;2;55;65;81m(\u001b[0m\u001b[38;2;55;65;81musing gpt-4o, \u001b[0m\u001b[38;2;55;65;81mstrict\u001b[0m\u001b[38;2;55;65;81m=\u001b[0m\u001b[3;38;2;55;65;81mFalse\u001b[0m\u001b[38;2;55;65;81m, \u001b[0m\u001b[38;2;55;65;81masync_mode\u001b[0m\u001b[38;2;55;65;81m=\u001b[0m\u001b[3;38;2;55;65;81mTrue\u001b[0m\u001b[1;38;2;55;65;81m)\u001b[0m\u001b[38;2;55;65;81m...\u001b[0m\n"
      ]
     },
     "metadata": {},
     "output_type": "display_data"
    },
    {
     "name": "stdout",
     "output_type": "stream",
     "text": [
      "Event loop is already running. Applying nest_asyncio patch to allow async execution...\n"
     ]
    },
    {
     "name": "stderr",
     "output_type": "stream",
     "text": [
      "Evaluating 1 test case(s) in parallel: |██████████|100% (1/1) [Time Taken: 00:11, 11.63s/test case]\n"
     ]
    },
    {
     "data": {
      "text/html": [
       "<pre style=\"white-space:pre;overflow-x:auto;line-height:normal;font-family:Menlo,'DejaVu Sans Mono',consolas,'Courier New',monospace\">\n",
       "<span style=\"color: #05f58d; text-decoration-color: #05f58d\">✓</span> Tests finished 🎉! Run <span style=\"color: #008000; text-decoration-color: #008000; font-weight: bold\">'deepeval login'</span> to save and analyze evaluation results on Confident AI.\n",
       " \n",
       "✨👀 Looking for a place for your LLM test data to live 🏡❤️ ? Use <span style=\"color: #6a00ff; text-decoration-color: #6a00ff\">Confident AI</span> to get &amp; share testing reports, \n",
       "experiment with models/prompts, and catch regressions for your LLM system. Just run <span style=\"color: #008080; text-decoration-color: #008080\">'deepeval login'</span> in the CLI. \n",
       "\n",
       "</pre>\n"
      ],
      "text/plain": [
       "\n",
       "\u001b[38;2;5;245;141m✓\u001b[0m Tests finished 🎉! Run \u001b[1;32m'deepeval login'\u001b[0m to save and analyze evaluation results on Confident AI.\n",
       " \n",
       "✨👀 Looking for a place for your LLM test data to live 🏡❤️ ? Use \u001b[38;2;106;0;255mConfident AI\u001b[0m to get & share testing reports, \n",
       "experiment with models/prompts, and catch regressions for your LLM system. Just run \u001b[36m'deepeval login'\u001b[0m in the CLI. \n",
       "\n"
      ]
     },
     "metadata": {},
     "output_type": "display_data"
    },
    {
     "name": "stdout",
     "output_type": "stream",
     "text": [
      "timed out\n",
      "MESSAGES\n",
      "[{'role': 'user', 'content': 'Твоя задача - определить, релевантны ли предоставленные документы запросу пользователя. Релевантым считай тот документ, в котором тема хотя бы смежно связана с запросом. Верни ровно один массив из строк \\'0\\' или \\'1\\', где \\'1\\' означает, что документ релевантен запросу, а \\'0\\' - что нерелевантен. Массив должен иметь ровно столько элементов, сколько документов в запросе.\\n\\nЗапрос: \\'поменять номер телефона\\'\\n\\nДокументы:\\nДокумент 0:\\nВопрос: смена номера телефона\\nОтвет: кнопка \"изменить номер\" телефона находится в личном разделе в лк. если доступа к лк нет, для смены номера телефона, обратитесь в поддержку\\n\\n\\n\\nОцени релевантность каждого документа к этому запросу и верни массив из 1 элементов, где каждый элемент - \\'0\\' или \\'1\\'.'}]\n",
      "MESSAGES\n",
      "[{'role': 'user', 'content': 'Ты помощник, который дает ответы в том же стиле, что и представленные примеры. Используй предоставленные вопросы и ответы как образец стиля и уровня детализации.\\n\\nПримеры вопросов и ответов:\\n\\nПример 1:\\nВопрос: смена номера телефона\\nОтвет: кнопка \"изменить номер\" телефона находится в личном разделе в лк. если доступа к лк нет, для смены номера телефона, обратитесь в поддержку\\n\\n\\n\\nЗапрос пользователя: поменять номер телефона\\n\\nОтветь на запрос пользователя в том же стиле, что и приведенные примеры.'}]\n"
     ]
    },
    {
     "data": {
      "text/html": [
       "<pre style=\"white-space:pre;overflow-x:auto;line-height:normal;font-family:Menlo,'DejaVu Sans Mono',consolas,'Courier New',monospace\">✨ You're running DeepEval's latest <span style=\"color: #6a00ff; text-decoration-color: #6a00ff\">Answer Relevancy Metric</span>! <span style=\"color: #374151; text-decoration-color: #374151; font-weight: bold\">(</span><span style=\"color: #374151; text-decoration-color: #374151\">using gpt-4o, </span><span style=\"color: #374151; text-decoration-color: #374151\">strict</span><span style=\"color: #374151; text-decoration-color: #374151\">=</span><span style=\"color: #374151; text-decoration-color: #374151; font-style: italic\">False</span><span style=\"color: #374151; text-decoration-color: #374151\">, </span><span style=\"color: #374151; text-decoration-color: #374151\">async_mode</span><span style=\"color: #374151; text-decoration-color: #374151\">=</span><span style=\"color: #374151; text-decoration-color: #374151; font-style: italic\">True</span><span style=\"color: #374151; text-decoration-color: #374151; font-weight: bold\">)</span><span style=\"color: #374151; text-decoration-color: #374151\">...</span>\n",
       "</pre>\n"
      ],
      "text/plain": [
       "✨ You're running DeepEval's latest \u001b[38;2;106;0;255mAnswer Relevancy Metric\u001b[0m! \u001b[1;38;2;55;65;81m(\u001b[0m\u001b[38;2;55;65;81musing gpt-4o, \u001b[0m\u001b[38;2;55;65;81mstrict\u001b[0m\u001b[38;2;55;65;81m=\u001b[0m\u001b[3;38;2;55;65;81mFalse\u001b[0m\u001b[38;2;55;65;81m, \u001b[0m\u001b[38;2;55;65;81masync_mode\u001b[0m\u001b[38;2;55;65;81m=\u001b[0m\u001b[3;38;2;55;65;81mTrue\u001b[0m\u001b[1;38;2;55;65;81m)\u001b[0m\u001b[38;2;55;65;81m...\u001b[0m\n"
      ]
     },
     "metadata": {},
     "output_type": "display_data"
    },
    {
     "name": "stdout",
     "output_type": "stream",
     "text": [
      "Event loop is already running. Applying nest_asyncio patch to allow async execution...\n"
     ]
    },
    {
     "name": "stderr",
     "output_type": "stream",
     "text": [
      "Evaluating 1 test case(s) in parallel: |██████████|100% (1/1) [Time Taken: 00:05,  5.39s/test case]\n"
     ]
    },
    {
     "data": {
      "text/html": [
       "<pre style=\"white-space:pre;overflow-x:auto;line-height:normal;font-family:Menlo,'DejaVu Sans Mono',consolas,'Courier New',monospace\">\n",
       "<span style=\"color: #05f58d; text-decoration-color: #05f58d\">✓</span> Tests finished 🎉! Run <span style=\"color: #008000; text-decoration-color: #008000; font-weight: bold\">'deepeval login'</span> to save and analyze evaluation results on Confident AI.\n",
       " \n",
       "✨👀 Looking for a place for your LLM test data to live 🏡❤️ ? Use <span style=\"color: #6a00ff; text-decoration-color: #6a00ff\">Confident AI</span> to get &amp; share testing reports, \n",
       "experiment with models/prompts, and catch regressions for your LLM system. Just run <span style=\"color: #008080; text-decoration-color: #008080\">'deepeval login'</span> in the CLI. \n",
       "\n",
       "</pre>\n"
      ],
      "text/plain": [
       "\n",
       "\u001b[38;2;5;245;141m✓\u001b[0m Tests finished 🎉! Run \u001b[1;32m'deepeval login'\u001b[0m to save and analyze evaluation results on Confident AI.\n",
       " \n",
       "✨👀 Looking for a place for your LLM test data to live 🏡❤️ ? Use \u001b[38;2;106;0;255mConfident AI\u001b[0m to get & share testing reports, \n",
       "experiment with models/prompts, and catch regressions for your LLM system. Just run \u001b[36m'deepeval login'\u001b[0m in the CLI. \n",
       "\n"
      ]
     },
     "metadata": {},
     "output_type": "display_data"
    },
    {
     "name": "stdout",
     "output_type": "stream",
     "text": [
      "MESSAGES\n",
      "[{'role': 'user', 'content': 'Твоя задача - определить, релевантны ли предоставленные документы запросу пользователя. Релевантым считай тот документ, в котором тема хотя бы смежно связана с запросом. Верни ровно один массив из строк \\'0\\' или \\'1\\', где \\'1\\' означает, что документ релевантен запросу, а \\'0\\' - что нерелевантен. Массив должен иметь ровно столько элементов, сколько документов в запросе.\\n\\nЗапрос: \\'запланировать отпуск в личном кабинете\\'\\n\\nДокументы:\\nДокумент 0:\\nВопрос: как запланировать отпуск через личный кабинет?\\nОтвет: процесс планирования и согласования проходит через обновленный личный кабинет «х5 мои сервисы» link как запланировать отпуск: 1. войдите на портал link . выберите раздел «задачи». 2. нажмите на задачу «планирование графика отпусков». 3. выберите необходимые даты. 4. нажмите кнопку «отправить». 5. готово. график ушел на согласование руководителю.\\n\\nДокумент 1:\\nВопрос: как можно оформить отпуск через личный кабинет?\\nОтвет: оформление отпуска по заявлению возможно двумя способами: 1. в разделе \"отпуска\" в левом меню личного кабинета сотрудника (link ); 2. в разделе \"заявки\", группа \"отпуск\", плитка \"отпуск по заявлению (лк)\". (link\\n\\nДокумент 2:\\nВопрос: предоставьте возможность планирования отпуска в личный кабинет для сотрудника\\nОтвет: сотрудники больше не могут сами планировать графики отпусков, время на выполнение их задач вышло. теперь планирование доступно только руководителю. в разделе «нуждаются в планировании отпуска» находятся сотрудники, за которых нужно запланировать график.\\n\\nДокумент 3:\\nВопрос: не могу запланировать отпуск в личном кабинете\\nОтвет: есть причины, по которым сотрудник может не участвовать в планировании: 1) стоят неявки в промежутке от текущей даты до 01.09 следующего года. 2) есть мероприятие увольнение в будущем начиная от текущей даты. 3) имеется срочный трудовой договор, который оканчивается в середине следующего года 4) сотрудник является внутренним совместителем 5) сотрудник находится на 0% занятости от текущей даты и далее в будущем 6) работа по договору гпх для уточнения данного вопроса, а так же корректировки данных, вы можете обратиться в кадровую службу или же позвонить на горячую линию. *если процесс планирования отпусков на будущий год окончен, то возможности в лк запланировать отпуск нет ни самому сотруднику, ни руководителю за сотрудника. сотрудник сможет в следующем году оформить в лк \"отпуск по заявлению\".\\n\\nДокумент 4:\\nВопрос: при создании заявки на отпуск через личный кабинет происходит ошибка в период планирования\\nОтвет: во время планирования отпусков, оформление заявок на перенос отпуска/отгулы и предоставление ежегодного отпуска по заявлению недоступно. для проведения отгула на конец года необходимо обратиться к специалистам hr вашей торговой сети или же позвонить на горячую линию.\\n\\nДокумент 5:\\nВопрос: в личном кабинете неправильное количество отпуска\\nОтвет: в личном кабинете в разделе «отпуска» отображаются лимиты, доступные для планирования, за вычетом уже запланированных дней. расчет производится следующим образом: берем количество дней, заработанных вами на определенную дату, и вычитаем из них количество дней, запланированное на будущий период.\\n\\n\\n\\nОцени релевантность каждого документа к этому запросу и верни массив из 6 элементов, где каждый элемент - \\'0\\' или \\'1\\'.'}]\n",
      "MESSAGES\n",
      "[{'role': 'user', 'content': 'Ты помощник, который дает ответы в том же стиле, что и представленные примеры. Используй предоставленные вопросы и ответы как образец стиля и уровня детализации.\\n\\nПримеры вопросов и ответов:\\n\\nПример 1:\\nВопрос: как запланировать отпуск через личный кабинет?\\nОтвет: процесс планирования и согласования проходит через обновленный личный кабинет «х5 мои сервисы» link как запланировать отпуск: 1. войдите на портал link . выберите раздел «задачи». 2. нажмите на задачу «планирование графика отпусков». 3. выберите необходимые даты. 4. нажмите кнопку «отправить». 5. готово. график ушел на согласование руководителю.\\n\\nПример 2:\\nВопрос: как можно оформить отпуск через личный кабинет?\\nОтвет: оформление отпуска по заявлению возможно двумя способами: 1. в разделе \"отпуска\" в левом меню личного кабинета сотрудника (link ); 2. в разделе \"заявки\", группа \"отпуск\", плитка \"отпуск по заявлению (лк)\". (link\\n\\nПример 3:\\nВопрос: в личном кабинете неправильное количество отпуска\\nОтвет: в личном кабинете в разделе «отпуска» отображаются лимиты, доступные для планирования, за вычетом уже запланированных дней. расчет производится следующим образом: берем количество дней, заработанных вами на определенную дату, и вычитаем из них количество дней, запланированное на будущий период.\\n\\n\\n\\nЗапрос пользователя: запланировать отпуск в личном кабинете\\n\\nОтветь на запрос пользователя в том же стиле, что и приведенные примеры.'}]\n"
     ]
    },
    {
     "data": {
      "text/html": [
       "<pre style=\"white-space:pre;overflow-x:auto;line-height:normal;font-family:Menlo,'DejaVu Sans Mono',consolas,'Courier New',monospace\">✨ You're running DeepEval's latest <span style=\"color: #6a00ff; text-decoration-color: #6a00ff\">Answer Relevancy Metric</span>! <span style=\"color: #374151; text-decoration-color: #374151; font-weight: bold\">(</span><span style=\"color: #374151; text-decoration-color: #374151\">using gpt-4o, </span><span style=\"color: #374151; text-decoration-color: #374151\">strict</span><span style=\"color: #374151; text-decoration-color: #374151\">=</span><span style=\"color: #374151; text-decoration-color: #374151; font-style: italic\">False</span><span style=\"color: #374151; text-decoration-color: #374151\">, </span><span style=\"color: #374151; text-decoration-color: #374151\">async_mode</span><span style=\"color: #374151; text-decoration-color: #374151\">=</span><span style=\"color: #374151; text-decoration-color: #374151; font-style: italic\">True</span><span style=\"color: #374151; text-decoration-color: #374151; font-weight: bold\">)</span><span style=\"color: #374151; text-decoration-color: #374151\">...</span>\n",
       "</pre>\n"
      ],
      "text/plain": [
       "✨ You're running DeepEval's latest \u001b[38;2;106;0;255mAnswer Relevancy Metric\u001b[0m! \u001b[1;38;2;55;65;81m(\u001b[0m\u001b[38;2;55;65;81musing gpt-4o, \u001b[0m\u001b[38;2;55;65;81mstrict\u001b[0m\u001b[38;2;55;65;81m=\u001b[0m\u001b[3;38;2;55;65;81mFalse\u001b[0m\u001b[38;2;55;65;81m, \u001b[0m\u001b[38;2;55;65;81masync_mode\u001b[0m\u001b[38;2;55;65;81m=\u001b[0m\u001b[3;38;2;55;65;81mTrue\u001b[0m\u001b[1;38;2;55;65;81m)\u001b[0m\u001b[38;2;55;65;81m...\u001b[0m\n"
      ]
     },
     "metadata": {},
     "output_type": "display_data"
    },
    {
     "name": "stdout",
     "output_type": "stream",
     "text": [
      "Event loop is already running. Applying nest_asyncio patch to allow async execution...\n"
     ]
    },
    {
     "name": "stderr",
     "output_type": "stream",
     "text": [
      "Evaluating 1 test case(s) in parallel: |██████████|100% (1/1) [Time Taken: 00:06,  6.16s/test case]\n"
     ]
    },
    {
     "data": {
      "text/html": [
       "<pre style=\"white-space:pre;overflow-x:auto;line-height:normal;font-family:Menlo,'DejaVu Sans Mono',consolas,'Courier New',monospace\">\n",
       "<span style=\"color: #05f58d; text-decoration-color: #05f58d\">✓</span> Tests finished 🎉! Run <span style=\"color: #008000; text-decoration-color: #008000; font-weight: bold\">'deepeval login'</span> to save and analyze evaluation results on Confident AI.\n",
       " \n",
       "✨👀 Looking for a place for your LLM test data to live 🏡❤️ ? Use <span style=\"color: #6a00ff; text-decoration-color: #6a00ff\">Confident AI</span> to get &amp; share testing reports, \n",
       "experiment with models/prompts, and catch regressions for your LLM system. Just run <span style=\"color: #008080; text-decoration-color: #008080\">'deepeval login'</span> in the CLI. \n",
       "\n",
       "</pre>\n"
      ],
      "text/plain": [
       "\n",
       "\u001b[38;2;5;245;141m✓\u001b[0m Tests finished 🎉! Run \u001b[1;32m'deepeval login'\u001b[0m to save and analyze evaluation results on Confident AI.\n",
       " \n",
       "✨👀 Looking for a place for your LLM test data to live 🏡❤️ ? Use \u001b[38;2;106;0;255mConfident AI\u001b[0m to get & share testing reports, \n",
       "experiment with models/prompts, and catch regressions for your LLM system. Just run \u001b[36m'deepeval login'\u001b[0m in the CLI. \n",
       "\n"
      ]
     },
     "metadata": {},
     "output_type": "display_data"
    },
    {
     "name": "stdout",
     "output_type": "stream",
     "text": [
      "MESSAGES\n",
      "[{'role': 'user', 'content': 'Твоя задача - определить, релевантны ли предоставленные документы запросу пользователя. Релевантым считай тот документ, в котором тема хотя бы смежно связана с запросом. Верни ровно один массив из строк \\'0\\' или \\'1\\', где \\'1\\' означает, что документ релевантен запросу, а \\'0\\' - что нерелевантен. Массив должен иметь ровно столько элементов, сколько документов в запросе.\\n\\nЗапрос: \\'отправлял заявку сроки прошли а результата нет\\'\\n\\nДокументы:\\nДокумент 0:\\nВопрос: сроки заявки истекли, а справка не готова\\nОтвет: по данному вопросу вы можете обратиться в кадровую службу, создав заявку \"консультация по hr вопросам\"\\n\\nДокумент 1:\\nВопрос: заявка завершена, но висит в незавершенных\\nОтвет: создайте, пожалуйста, обращение в ит поддержку на портале support\\n\\nДокумент 2:\\nВопрос: проблема со сроком заявки\\nОтвет: по вопросам, связанным с расчётом sla, необходимо обращатиться к руководителю, для создания заявки по процессу 4132-апелляции для расчета sla.\\n\\nДокумент 3:\\nВопрос: отсутствуют заявки\\nОтвет: первым делом, просьба очистить кэш/куки браузера (сочетание клавиш ctrl+shift+del, выбрать \"удалить: всё\", нажать ок). далее перезайти в лк. если это не помогло просьба подать заявку, нажав ниже кнопку \"создать заявку\" и выбрать соответствующую тему.\\n\\n\\n\\nОцени релевантность каждого документа к этому запросу и верни массив из 4 элементов, где каждый элемент - \\'0\\' или \\'1\\'.'}]\n",
      "MESSAGES\n",
      "[{'role': 'user', 'content': 'Ты помощник, который дает ответы в том же стиле, что и представленные примеры. Используй предоставленные вопросы и ответы как образец стиля и уровня детализации.\\n\\nПримеры вопросов и ответов:\\n\\nПример 1:\\nВопрос: сроки заявки истекли, а справка не готова\\nОтвет: по данному вопросу вы можете обратиться в кадровую службу, создав заявку \"консультация по hr вопросам\"\\n\\nПример 2:\\nВопрос: заявка завершена, но висит в незавершенных\\nОтвет: создайте, пожалуйста, обращение в ит поддержку на портале support\\n\\nПример 3:\\nВопрос: проблема со сроком заявки\\nОтвет: по вопросам, связанным с расчётом sla, необходимо обращатиться к руководителю, для создания заявки по процессу 4132-апелляции для расчета sla.\\n\\n\\n\\nЗапрос пользователя: отправлял заявку сроки прошли а результата нет\\n\\nОтветь на запрос пользователя в том же стиле, что и приведенные примеры.'}]\n"
     ]
    },
    {
     "data": {
      "text/html": [
       "<pre style=\"white-space:pre;overflow-x:auto;line-height:normal;font-family:Menlo,'DejaVu Sans Mono',consolas,'Courier New',monospace\">✨ You're running DeepEval's latest <span style=\"color: #6a00ff; text-decoration-color: #6a00ff\">Answer Relevancy Metric</span>! <span style=\"color: #374151; text-decoration-color: #374151; font-weight: bold\">(</span><span style=\"color: #374151; text-decoration-color: #374151\">using gpt-4o, </span><span style=\"color: #374151; text-decoration-color: #374151\">strict</span><span style=\"color: #374151; text-decoration-color: #374151\">=</span><span style=\"color: #374151; text-decoration-color: #374151; font-style: italic\">False</span><span style=\"color: #374151; text-decoration-color: #374151\">, </span><span style=\"color: #374151; text-decoration-color: #374151\">async_mode</span><span style=\"color: #374151; text-decoration-color: #374151\">=</span><span style=\"color: #374151; text-decoration-color: #374151; font-style: italic\">True</span><span style=\"color: #374151; text-decoration-color: #374151; font-weight: bold\">)</span><span style=\"color: #374151; text-decoration-color: #374151\">...</span>\n",
       "</pre>\n"
      ],
      "text/plain": [
       "✨ You're running DeepEval's latest \u001b[38;2;106;0;255mAnswer Relevancy Metric\u001b[0m! \u001b[1;38;2;55;65;81m(\u001b[0m\u001b[38;2;55;65;81musing gpt-4o, \u001b[0m\u001b[38;2;55;65;81mstrict\u001b[0m\u001b[38;2;55;65;81m=\u001b[0m\u001b[3;38;2;55;65;81mFalse\u001b[0m\u001b[38;2;55;65;81m, \u001b[0m\u001b[38;2;55;65;81masync_mode\u001b[0m\u001b[38;2;55;65;81m=\u001b[0m\u001b[3;38;2;55;65;81mTrue\u001b[0m\u001b[1;38;2;55;65;81m)\u001b[0m\u001b[38;2;55;65;81m...\u001b[0m\n"
      ]
     },
     "metadata": {},
     "output_type": "display_data"
    },
    {
     "name": "stdout",
     "output_type": "stream",
     "text": [
      "Event loop is already running. Applying nest_asyncio patch to allow async execution...\n"
     ]
    },
    {
     "name": "stderr",
     "output_type": "stream",
     "text": [
      "Evaluating 1 test case(s) in parallel: |██████████|100% (1/1) [Time Taken: 00:03,  3.03s/test case]\n"
     ]
    },
    {
     "data": {
      "text/html": [
       "<pre style=\"white-space:pre;overflow-x:auto;line-height:normal;font-family:Menlo,'DejaVu Sans Mono',consolas,'Courier New',monospace\">\n",
       "<span style=\"color: #05f58d; text-decoration-color: #05f58d\">✓</span> Tests finished 🎉! Run <span style=\"color: #008000; text-decoration-color: #008000; font-weight: bold\">'deepeval login'</span> to save and analyze evaluation results on Confident AI.\n",
       " \n",
       "✨👀 Looking for a place for your LLM test data to live 🏡❤️ ? Use <span style=\"color: #6a00ff; text-decoration-color: #6a00ff\">Confident AI</span> to get &amp; share testing reports, \n",
       "experiment with models/prompts, and catch regressions for your LLM system. Just run <span style=\"color: #008080; text-decoration-color: #008080\">'deepeval login'</span> in the CLI. \n",
       "\n",
       "</pre>\n"
      ],
      "text/plain": [
       "\n",
       "\u001b[38;2;5;245;141m✓\u001b[0m Tests finished 🎉! Run \u001b[1;32m'deepeval login'\u001b[0m to save and analyze evaluation results on Confident AI.\n",
       " \n",
       "✨👀 Looking for a place for your LLM test data to live 🏡❤️ ? Use \u001b[38;2;106;0;255mConfident AI\u001b[0m to get & share testing reports, \n",
       "experiment with models/prompts, and catch regressions for your LLM system. Just run \u001b[36m'deepeval login'\u001b[0m in the CLI. \n",
       "\n"
      ]
     },
     "metadata": {},
     "output_type": "display_data"
    },
    {
     "name": "stdout",
     "output_type": "stream",
     "text": [
      "MESSAGES\n",
      "[{'role': 'user', 'content': 'Твоя задача - определить, релевантны ли предоставленные документы запросу пользователя. Релевантым считай тот документ, в котором тема хотя бы смежно связана с запросом. Верни ровно один массив из строк \\'0\\' или \\'1\\', где \\'1\\' означает, что документ релевантен запросу, а \\'0\\' - что нерелевантен. Массив должен иметь ровно столько элементов, сколько документов в запросе.\\n\\nЗапрос: \\'нет информации по сотруднику\\'\\n\\nДокументы:\\nДокумент 0:\\nВопрос: у сотрудника отсутствует номер телефона в личных данных\\nОтвет: кнопка \"изменить номер\" телефона находится в личном разделе в лк. если доступа к лк нет, для смены номера телефона, обратитесь в поддержку\\n\\nДокумент 1:\\nВопрос: сотрудника нет в мс огрструктуре\\nОтвет: если сотрудник трудоустроен сегодня, данные о нем в оргструктуре появятся завтра, как и возможность создать на него заявку в лк\\n\\nДокумент 2:\\nВопрос: у сотрудника нет учетной записи\\nОтвет: при проблемах со входом в личный кабинет, прежде чем создавать заявку в поддержку, убедитесь, что заходите в лк на сайте link указываете актуальные и верные логин и пароль. если вам неизвестен логин, обратитесь к руководителю (дм), он сможет посмотреть ваш логин и сбросить пароль в веб-табеле. для самостоятельного сброса пароля позвоните с вашего мобильного телефона на phone, наберите добавочный номер 10100, нажмите * и подтвердите сброс пароля, нажав #. обновленный пароль отправляется по sms.\\n\\nДокумент 3:\\nВопрос: личный кабинет сотрудника пустой\\nОтвет: для изменения персональных данных (адрес/образование/дети/фио/снилс/семейный статус/инн) создается заявка в лк2 по теме изменение персональных данных link к заявке прикладывается документ, подтверждающий изменение. инструкция доступна по ссылке link\\n\\nДокумент 4:\\nВопрос: нет раздела \"заявка на сотрудника\"\\nОтвет: если в \"команде\" нет подчиненных сотрудников просьба обратиться в поддержку для корректировки\\n\\nДокумент 5:\\nВопрос: нет приглашения в кадровый резерв у сотрудника\\nОтвет: доступ к программе \"карьера\" появляется спустя 4 месяца после трудоутстройства в компанию. если по прошествии 4х месяцев раздел по-прежнему недоступен, обратитесь в поддержку\\n\\n\\n\\nОцени релевантность каждого документа к этому запросу и верни массив из 6 элементов, где каждый элемент - \\'0\\' или \\'1\\'.'}]\n",
      "MESSAGES\n",
      "[{'role': 'user', 'content': 'Ты помощник, который дает ответы в том же стиле, что и представленные примеры. Используй предоставленные вопросы и ответы как образец стиля и уровня детализации.\\n\\nПримеры вопросов и ответов:\\n\\nПример 1:\\nВопрос: сотрудника нет в мс огрструктуре\\nОтвет: если сотрудник трудоустроен сегодня, данные о нем в оргструктуре появятся завтра, как и возможность создать на него заявку в лк\\n\\nПример 2:\\nВопрос: у сотрудника нет учетной записи\\nОтвет: при проблемах со входом в личный кабинет, прежде чем создавать заявку в поддержку, убедитесь, что заходите в лк на сайте link указываете актуальные и верные логин и пароль. если вам неизвестен логин, обратитесь к руководителю (дм), он сможет посмотреть ваш логин и сбросить пароль в веб-табеле. для самостоятельного сброса пароля позвоните с вашего мобильного телефона на phone, наберите добавочный номер 10100, нажмите * и подтвердите сброс пароля, нажав #. обновленный пароль отправляется по sms.\\n\\nПример 3:\\nВопрос: личный кабинет сотрудника пустой\\nОтвет: для изменения персональных данных (адрес/образование/дети/фио/снилс/семейный статус/инн) создается заявка в лк2 по теме изменение персональных данных link к заявке прикладывается документ, подтверждающий изменение. инструкция доступна по ссылке link\\n\\nПример 4:\\nВопрос: нет раздела \"заявка на сотрудника\"\\nОтвет: если в \"команде\" нет подчиненных сотрудников просьба обратиться в поддержку для корректировки\\n\\n\\n\\nЗапрос пользователя: нет информации по сотруднику\\n\\nОтветь на запрос пользователя в том же стиле, что и приведенные примеры.'}]\n"
     ]
    },
    {
     "data": {
      "text/html": [
       "<pre style=\"white-space:pre;overflow-x:auto;line-height:normal;font-family:Menlo,'DejaVu Sans Mono',consolas,'Courier New',monospace\">✨ You're running DeepEval's latest <span style=\"color: #6a00ff; text-decoration-color: #6a00ff\">Answer Relevancy Metric</span>! <span style=\"color: #374151; text-decoration-color: #374151; font-weight: bold\">(</span><span style=\"color: #374151; text-decoration-color: #374151\">using gpt-4o, </span><span style=\"color: #374151; text-decoration-color: #374151\">strict</span><span style=\"color: #374151; text-decoration-color: #374151\">=</span><span style=\"color: #374151; text-decoration-color: #374151; font-style: italic\">False</span><span style=\"color: #374151; text-decoration-color: #374151\">, </span><span style=\"color: #374151; text-decoration-color: #374151\">async_mode</span><span style=\"color: #374151; text-decoration-color: #374151\">=</span><span style=\"color: #374151; text-decoration-color: #374151; font-style: italic\">True</span><span style=\"color: #374151; text-decoration-color: #374151; font-weight: bold\">)</span><span style=\"color: #374151; text-decoration-color: #374151\">...</span>\n",
       "</pre>\n"
      ],
      "text/plain": [
       "✨ You're running DeepEval's latest \u001b[38;2;106;0;255mAnswer Relevancy Metric\u001b[0m! \u001b[1;38;2;55;65;81m(\u001b[0m\u001b[38;2;55;65;81musing gpt-4o, \u001b[0m\u001b[38;2;55;65;81mstrict\u001b[0m\u001b[38;2;55;65;81m=\u001b[0m\u001b[3;38;2;55;65;81mFalse\u001b[0m\u001b[38;2;55;65;81m, \u001b[0m\u001b[38;2;55;65;81masync_mode\u001b[0m\u001b[38;2;55;65;81m=\u001b[0m\u001b[3;38;2;55;65;81mTrue\u001b[0m\u001b[1;38;2;55;65;81m)\u001b[0m\u001b[38;2;55;65;81m...\u001b[0m\n"
      ]
     },
     "metadata": {},
     "output_type": "display_data"
    },
    {
     "name": "stdout",
     "output_type": "stream",
     "text": [
      "Event loop is already running. Applying nest_asyncio patch to allow async execution...\n"
     ]
    },
    {
     "name": "stderr",
     "output_type": "stream",
     "text": [
      "Evaluating 1 test case(s) in parallel: |██████████|100% (1/1) [Time Taken: 00:03,  3.67s/test case]\n"
     ]
    },
    {
     "data": {
      "text/html": [
       "<pre style=\"white-space:pre;overflow-x:auto;line-height:normal;font-family:Menlo,'DejaVu Sans Mono',consolas,'Courier New',monospace\">\n",
       "<span style=\"color: #05f58d; text-decoration-color: #05f58d\">✓</span> Tests finished 🎉! Run <span style=\"color: #008000; text-decoration-color: #008000; font-weight: bold\">'deepeval login'</span> to save and analyze evaluation results on Confident AI.\n",
       " \n",
       "✨👀 Looking for a place for your LLM test data to live 🏡❤️ ? Use <span style=\"color: #6a00ff; text-decoration-color: #6a00ff\">Confident AI</span> to get &amp; share testing reports, \n",
       "experiment with models/prompts, and catch regressions for your LLM system. Just run <span style=\"color: #008080; text-decoration-color: #008080\">'deepeval login'</span> in the CLI. \n",
       "\n",
       "</pre>\n"
      ],
      "text/plain": [
       "\n",
       "\u001b[38;2;5;245;141m✓\u001b[0m Tests finished 🎉! Run \u001b[1;32m'deepeval login'\u001b[0m to save and analyze evaluation results on Confident AI.\n",
       " \n",
       "✨👀 Looking for a place for your LLM test data to live 🏡❤️ ? Use \u001b[38;2;106;0;255mConfident AI\u001b[0m to get & share testing reports, \n",
       "experiment with models/prompts, and catch regressions for your LLM system. Just run \u001b[36m'deepeval login'\u001b[0m in the CLI. \n",
       "\n"
      ]
     },
     "metadata": {},
     "output_type": "display_data"
    },
    {
     "name": "stdout",
     "output_type": "stream",
     "text": [
      "MESSAGES\n",
      "[{'role': 'user', 'content': \"Твоя задача - определить, релевантны ли предоставленные документы запросу пользователя. Релевантым считай тот документ, в котором тема хотя бы смежно связана с запросом. Верни ровно один массив из строк '0' или '1', где '1' означает, что документ релевантен запросу, а '0' - что нерелевантен. Массив должен иметь ровно столько элементов, сколько документов в запросе.\\n\\nЗапрос: 'не получается зайти в личный кабинет'\\n\\nДокументы:\\nДокумент 0:\\nВопрос: не получается зайти в личный кабинет\\nОтвет: при проблемах со входом в личный кабинет, прежде чем создавать заявку в поддержку, убедитесь, что заходите в лк на сайте link указываете актуальные и верные логин и пароль. если вам неизвестен логин, обратитесь к руководителю (дм), он сможет посмотреть ваш логин и сбросить пароль в веб-табеле. для самостоятельного сброса пароля позвоните с вашего мобильного телефона на phone, наберите добавочный номер 10100, нажмите * и подтвердите сброс пароля, нажав #. обновленный пароль отправляется по sms.\\n\\n\\n\\nОцени релевантность каждого документа к этому запросу и верни массив из 1 элементов, где каждый элемент - '0' или '1'.\"}]\n",
      "MESSAGES\n",
      "[{'role': 'user', 'content': 'Ты помощник, который дает ответы в том же стиле, что и представленные примеры. Используй предоставленные вопросы и ответы как образец стиля и уровня детализации.\\n\\nПримеры вопросов и ответов:\\n\\nПример 1:\\nВопрос: не получается зайти в личный кабинет\\nОтвет: при проблемах со входом в личный кабинет, прежде чем создавать заявку в поддержку, убедитесь, что заходите в лк на сайте link указываете актуальные и верные логин и пароль. если вам неизвестен логин, обратитесь к руководителю (дм), он сможет посмотреть ваш логин и сбросить пароль в веб-табеле. для самостоятельного сброса пароля позвоните с вашего мобильного телефона на phone, наберите добавочный номер 10100, нажмите * и подтвердите сброс пароля, нажав #. обновленный пароль отправляется по sms.\\n\\n\\n\\nЗапрос пользователя: не получается зайти в личный кабинет\\n\\nОтветь на запрос пользователя в том же стиле, что и приведенные примеры.'}]\n"
     ]
    },
    {
     "data": {
      "text/html": [
       "<pre style=\"white-space:pre;overflow-x:auto;line-height:normal;font-family:Menlo,'DejaVu Sans Mono',consolas,'Courier New',monospace\">✨ You're running DeepEval's latest <span style=\"color: #6a00ff; text-decoration-color: #6a00ff\">Answer Relevancy Metric</span>! <span style=\"color: #374151; text-decoration-color: #374151; font-weight: bold\">(</span><span style=\"color: #374151; text-decoration-color: #374151\">using gpt-4o, </span><span style=\"color: #374151; text-decoration-color: #374151\">strict</span><span style=\"color: #374151; text-decoration-color: #374151\">=</span><span style=\"color: #374151; text-decoration-color: #374151; font-style: italic\">False</span><span style=\"color: #374151; text-decoration-color: #374151\">, </span><span style=\"color: #374151; text-decoration-color: #374151\">async_mode</span><span style=\"color: #374151; text-decoration-color: #374151\">=</span><span style=\"color: #374151; text-decoration-color: #374151; font-style: italic\">True</span><span style=\"color: #374151; text-decoration-color: #374151; font-weight: bold\">)</span><span style=\"color: #374151; text-decoration-color: #374151\">...</span>\n",
       "</pre>\n"
      ],
      "text/plain": [
       "✨ You're running DeepEval's latest \u001b[38;2;106;0;255mAnswer Relevancy Metric\u001b[0m! \u001b[1;38;2;55;65;81m(\u001b[0m\u001b[38;2;55;65;81musing gpt-4o, \u001b[0m\u001b[38;2;55;65;81mstrict\u001b[0m\u001b[38;2;55;65;81m=\u001b[0m\u001b[3;38;2;55;65;81mFalse\u001b[0m\u001b[38;2;55;65;81m, \u001b[0m\u001b[38;2;55;65;81masync_mode\u001b[0m\u001b[38;2;55;65;81m=\u001b[0m\u001b[3;38;2;55;65;81mTrue\u001b[0m\u001b[1;38;2;55;65;81m)\u001b[0m\u001b[38;2;55;65;81m...\u001b[0m\n"
      ]
     },
     "metadata": {},
     "output_type": "display_data"
    },
    {
     "name": "stdout",
     "output_type": "stream",
     "text": [
      "Event loop is already running. Applying nest_asyncio patch to allow async execution...\n"
     ]
    },
    {
     "name": "stderr",
     "output_type": "stream",
     "text": [
      "Evaluating 1 test case(s) in parallel: |██████████|100% (1/1) [Time Taken: 00:09,  9.99s/test case]\n"
     ]
    },
    {
     "data": {
      "text/html": [
       "<pre style=\"white-space:pre;overflow-x:auto;line-height:normal;font-family:Menlo,'DejaVu Sans Mono',consolas,'Courier New',monospace\">\n",
       "<span style=\"color: #05f58d; text-decoration-color: #05f58d\">✓</span> Tests finished 🎉! Run <span style=\"color: #008000; text-decoration-color: #008000; font-weight: bold\">'deepeval login'</span> to save and analyze evaluation results on Confident AI.\n",
       " \n",
       "✨👀 Looking for a place for your LLM test data to live 🏡❤️ ? Use <span style=\"color: #6a00ff; text-decoration-color: #6a00ff\">Confident AI</span> to get &amp; share testing reports, \n",
       "experiment with models/prompts, and catch regressions for your LLM system. Just run <span style=\"color: #008080; text-decoration-color: #008080\">'deepeval login'</span> in the CLI. \n",
       "\n",
       "</pre>\n"
      ],
      "text/plain": [
       "\n",
       "\u001b[38;2;5;245;141m✓\u001b[0m Tests finished 🎉! Run \u001b[1;32m'deepeval login'\u001b[0m to save and analyze evaluation results on Confident AI.\n",
       " \n",
       "✨👀 Looking for a place for your LLM test data to live 🏡❤️ ? Use \u001b[38;2;106;0;255mConfident AI\u001b[0m to get & share testing reports, \n",
       "experiment with models/prompts, and catch regressions for your LLM system. Just run \u001b[36m'deepeval login'\u001b[0m in the CLI. \n",
       "\n"
      ]
     },
     "metadata": {},
     "output_type": "display_data"
    }
   ],
   "source": [
    "import time\n",
    "\n",
    "\n",
    "dataset = langfuse.get_dataset(\"qa_for_test\")\n",
    "\n",
    "result = None\n",
    "for item in dataset.items:\n",
    "    try:\n",
    "        with item.observe(\n",
    "            run_name=\"Metric compute IlyaGusev/saiga_nemo_12b\",\n",
    "            run_metadata={\"model\": \"gpt-4o\"},\n",
    "        ) as trace_id:\n",
    "            w = AssistantFlow(timeout=3 * 60)\n",
    "\n",
    "            output = await w.run(query=item.input)\n",
    "\n",
    "            test_case = LLMTestCase(\n",
    "                input=item.input,\n",
    "                actual_output=item.expected_output,\n",
    "            )\n",
    "\n",
    "            answer_relevancy_metric = AnswerRelevancyMetric(\n",
    "                model=\"gpt-4o\", include_reason=False\n",
    "            )\n",
    "\n",
    "            result = evaluate(test_cases=[test_case], metrics=[answer_relevancy_metric], print_results=False)\n",
    "            \n",
    "            # print(result[0].metrics_data[0].score)\n",
    "            # break\n",
    "\n",
    "            langfuse.score(\n",
    "                trace_id=trace_id,\n",
    "                name=\"AnswerRelevancy\",\n",
    "                value=result.test_results[0].metrics_data[0].score,\n",
    "            )\n",
    "            \n",
    "            # time.sleep(1)\n",
    "    except Exception as e:\n",
    "        print(e)\n",
    "\n",
    "\n",
    "langfuse.flush()"
   ]
  },
  {
   "cell_type": "code",
   "execution_count": 12,
   "metadata": {},
   "outputs": [],
   "source": [
    "# from datetime import datetime\n",
    "\n",
    "\n",
    "# traces = langfuse.fetch_observations(\n",
    "#     from_start_time=datetime(2025, 3, 14, 19, 0, 42),\n",
    "#     to_start_time=datetime(2025, 3, 14, 19, 24, 12),\n",
    "# )\n",
    "\n",
    "# traces"
   ]
  }
 ],
 "metadata": {
  "kernelspec": {
   "display_name": ".venv",
   "language": "python",
   "name": "python3"
  },
  "language_info": {
   "codemirror_mode": {
    "name": "ipython",
    "version": 3
   },
   "file_extension": ".py",
   "mimetype": "text/x-python",
   "name": "python",
   "nbconvert_exporter": "python",
   "pygments_lexer": "ipython3",
   "version": "3.12.9"
  }
 },
 "nbformat": 4,
 "nbformat_minor": 2
}
